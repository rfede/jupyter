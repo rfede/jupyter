{
 "cells": [
  {
   "cell_type": "markdown",
   "metadata": {},
   "source": []
  },
  {
   "cell_type": "code",
   "execution_count": 1,
   "metadata": {},
   "outputs": [
    {
     "name": "stdout",
     "output_type": "stream",
     "text": [
      "IPython console for SymPy 1.9 (Python 3.9.7-64-bit) (ground types: python)\n",
      "\n",
      "These commands were executed:\n",
      ">>> from __future__ import division\n",
      ">>> from sympy import *\n",
      ">>> x, y, z, t = symbols('x y z t')\n",
      ">>> k, m, n = symbols('k m n', integer=True)\n",
      ">>> f, g, h = symbols('f g h', cls=Function)\n",
      ">>> init_printing()\n",
      "\n",
      "Documentation can be found at https://docs.sympy.org/1.9/\n",
      "\n"
     ]
    }
   ],
   "source": [
    "from sympy import *\n",
    "from IPython.display import display, Markdown, Math\n",
    "from math import comb, prod\n",
    "import itertools\n",
    "import random\n",
    "init_session(use_latex=True)"
   ]
  },
  {
   "cell_type": "code",
   "execution_count": 4,
   "metadata": {},
   "outputs": [],
   "source": [
    "def Vertices(*args):\n",
    "    return 2 + sum([args[i] * (i+1) for i in range(len(args))])\n",
    "\n",
    "def Faces(*args):\n",
    "    return sum(args)\n",
    "\n",
    "def Edges(*args):\n",
    "    return Vertices(*args) + Faces(*args) - 1\n",
    "\n",
    "def R(*args): # args =[m_2, m_3, ...]\n",
    "    # (Edges-1)!/((Edges-(m_2+m_3+m_4))! m_2! m_3! ...)\n",
    "    vertices = Vertices(*args) # (2+m_2+2m_3+3m_4+...+(n-1)m_n)\n",
    "    faces = Faces(*args) # (m_2+m_3+m_4+...+m_n)\n",
    "    edges = vertices + faces - 1 # (1+2m_2+3m_3+4m_4+...+n m_n)\n",
    "    r = factorial(edges-1)//factorial(edges-faces) # binomial(edges, faces) * (vertices-1)!/edges\n",
    "    for m in args:\n",
    "        r //= factorial(m)\n",
    "    return r\n",
    "\n",
    "\n",
    "def Binom(*args): # args =[m2, m3, ...]\n",
    "    vertices = Vertices(*args)\n",
    "    faces = Faces(*args)\n",
    "    edges = vertices + faces - 1\n",
    "    n = edges - 1\n",
    "    r = 1\n",
    "    for m in args: \n",
    "        r *= comb(n, m)\n",
    "        n -= m\n",
    "    r //= vertices - 1\n",
    "    return r\n",
    "\n",
    "\n",
    "def powers(n, k, c, terms = []):\n",
    "    if not terms:\n",
    "        terms = [0 for i in range(c+1)]\n",
    "    if (k == n):\n",
    "        terms[1] = -(-1)**k\n",
    "        return [tuple(terms)]\n",
    "    if c == 1:\n",
    "        return []\n",
    "    valids = powers(n, k, c-1, terms[::])\n",
    "    while (c <= n) and (k > 0):\n",
    "        terms[c] += 1\n",
    "        n -= c\n",
    "        k -= 1\n",
    "        valids += powers(n, k, c-1, terms[::])\n",
    "    return valids + powers(n, k, c-1, terms[::])\n",
    "        \n",
    "def diagonal(n, c, formulas):\n",
    "    q = 0\n",
    "    if not (2*n, n, len(c)-1) in formulas:\n",
    "        formulas[(2*n, n, len(c)-1)] = set(powers(2*n, n, len(c)-1))\n",
    "    p = formulas[(2*n, n, len(c)-1)]\n",
    "    for el in p:\n",
    "        term = el[1] * Binom(*el[2:]) * c[1]**(n-sum(el[2:]))\n",
    "        term *= prod([c[k]**el[k] for k in range(2,len(el))])\n",
    "        q += term\n",
    "    return q\n",
    "\n",
    "def sol(n, c, formulas):\n",
    "    return sum([c[0]**(i+1)/c[1]**(2*i+1)*diagonal(i,c, formulas) for i in range(n+1)])\n",
    "\n",
    "def algForm(n, c, formulas):\n",
    "    q = 0\n",
    "    if not (2*n, n, len(c)-1) in formulas:\n",
    "        formulas[(2*n, n, len(c)-1)] = set(powers(2*n, n, len(c)-1))\n",
    "    p = formulas[(2*n, n, len(c)-1)]\n",
    "    for el in p:\n",
    "        term = el[1] * Binom(*el[2:]) * Symbol('c_1')**(n-sum(el[2:]))\n",
    "        tmp = 1\n",
    "        for k in range(2,len(el)):\n",
    "            c_ = 'c_'+str(k)\n",
    "            Symbol(c_)\n",
    "            tmp *= Symbol(c_)**el[k]\n",
    "        q += term * tmp\n",
    "    return q\n",
    "\n",
    "def solForm(n,c, formulas):\n",
    "    return sum([Symbol('c_0')**(i+1)/Symbol('c_1')**(2*i+1)*algForm(i,c, formulas) for i in range(n+1)]).expand()\n",
    "        \n",
    "def run():\n",
    "    while True:\n",
    "        steps = 0\n",
    "        inp = input('Insert an expression with explicit math symbols (example: \"x^5-10*x^3+.02*x^4+x**7\"):\\n')\n",
    "        try:\n",
    "            pol = Poly(sympify(inp), Symbol('x'))\n",
    "            d = dict(pol.all_terms())\n",
    "        except:\n",
    "            print('Invalid expression. Turning off.')\n",
    "            break\n",
    "        values = [d[key] for key in sorted( d.keys())]\n",
    "        if values[1] == 0:\n",
    "            print('Invalid expression. Turn off.')\n",
    "            break\n",
    "        try:\n",
    "            order = int(input('Insert the depth for the formula:\\n'))\n",
    "            assert(order >= 0)\n",
    "        except:\n",
    "            print('Invalid input (must be a natural number).')\n",
    "            break\n",
    "        try:\n",
    "            guess = float(input('Please, insert your guess (or 0 otherwise):\\n'))\n",
    "        except:\n",
    "            print('Invalid input (must be a decimal number).')\n",
    "            break\n",
    "        formulas = {}\n",
    "        formula = solForm(order, values, formulas)\n",
    "        display(\n",
    "            Markdown(\n",
    "                    \"Using the formula \"+\\\n",
    "                    '{}'.format(latex(formula, mode='inline')))\n",
    "            )\n",
    "        tmp = 0\n",
    "        e = 0\n",
    "        prv = .0 if guess else .1\n",
    "        while abs(guess - prv) > .000000000000001:\n",
    "            prv = guess\n",
    "            steps += 1\n",
    "            tmp = pol.as_expr()\n",
    "            print('\\n\\n')\n",
    "            display(\n",
    "                Markdown(\n",
    "                    'Bootstrapping from previous guess {}'.format(latex(guess, mode='inline'))\n",
    "                )\n",
    "            )\n",
    "            print('Solving for', str(tmp).replace('x', '(x + '+str(guess)+')'), '= ', end = '')\n",
    "            tmp = Poly(tmp, Symbol('x'))\n",
    "            npol = Poly(pol.as_expr().replace(Symbol('x'), Symbol('x')+guess), Symbol('x'))\n",
    "            d = dict(npol.all_terms())\n",
    "            values = [d[key] for key in sorted( d.keys())]\n",
    "            guess = float(guess+sol(order, values, formulas))\n",
    "            e = tmp.eval(guess)\n",
    "            display(\n",
    "                Markdown(\n",
    "                    '{}'.format(latex(npol.as_expr(), mode='inline'))\n",
    "                ),\n",
    "                Markdown(\n",
    "                    'My new guess is p({})'.format(latex(guess, mode='inline'))+\\\n",
    "                    '= {}'.format(latex(e, mode='inline'))\n",
    "                )\n",
    "            )\n",
    "            \n",
    "        display(\n",
    "            Markdown(\n",
    "                    \"Found a good approximation for p(x) = \"+\\\n",
    "                    '{}'.format(latex(sympify(pol.as_expr()), mode='inline')))\n",
    "            )\n",
    "        display(N(guess))\n",
    "        display(\n",
    "            Markdown(\n",
    "                'p({}) = '.format(latex(guess, mode='inline'))+\\\n",
    "                '{}'.format(latex(Float(e,30), mode='inline'))))\n",
    "        print('Recursion:', steps, '\\n\\n\\n\\n\\n')\n",
    "            \n",
    "# 3-4*x + x^2-2*x^3+x^4+3*x^5\n",
    "#10.1+3.7*x+3*x**2-4*x^3-20.5*x**4+x**5+6.1*x**6-2.2*x**7-x**8+2.5*x^9-x**10\n",
    "# x**5 + 0.6*x**4 - 7.16*x**3 + 1.8*x**2 + 4.72*x - 0.96"
   ]
  },
  {
   "cell_type": "code",
   "execution_count": 5,
   "metadata": {},
   "outputs": [
    {
     "name": "stdout",
     "output_type": "stream",
     "text": [
      "Insert an expression with explicit math symbols (example: \"x^5-10*x^3+.02*x^4+x**7\"):\n",
      "3-4*x + x^2-2*x^3+x^4+3*x^5\n",
      "Insert the depth for the formula:\n",
      "10\n",
      "Please, insert your guess (or 0 otherwise):\n",
      "9999\n"
     ]
    },
    {
     "data": {
      "text/markdown": [
       "Using the formula $\\frac{78 c_{0}^{11} c_{3} c_{5}^{2}}{c_{1}^{14}} + \\frac{78 c_{0}^{11} c_{4}^{2} c_{5}}{c_{1}^{14}} - \\frac{546 c_{0}^{11} c_{2}^{2} c_{5}^{2}}{c_{1}^{15}} - \\frac{2184 c_{0}^{11} c_{2} c_{3} c_{4} c_{5}}{c_{1}^{15}} - \\frac{364 c_{0}^{11} c_{2} c_{4}^{3}}{c_{1}^{15}} - \\frac{364 c_{0}^{11} c_{3}^{3} c_{5}}{c_{1}^{15}} - \\frac{546 c_{0}^{11} c_{3}^{2} c_{4}^{2}}{c_{1}^{15}} + \\frac{5460 c_{0}^{11} c_{2}^{3} c_{4} c_{5}}{c_{1}^{16}} + \\frac{8190 c_{0}^{11} c_{2}^{2} c_{3}^{2} c_{5}}{c_{1}^{16}} + \\frac{8190 c_{0}^{11} c_{2}^{2} c_{3} c_{4}^{2}}{c_{1}^{16}} + \\frac{5460 c_{0}^{11} c_{2} c_{3}^{3} c_{4}}{c_{1}^{16}} + \\frac{273 c_{0}^{11} c_{3}^{5}}{c_{1}^{16}} - \\frac{21840 c_{0}^{11} c_{2}^{4} c_{3} c_{5}}{c_{1}^{17}} - \\frac{10920 c_{0}^{11} c_{2}^{4} c_{4}^{2}}{c_{1}^{17}} - \\frac{43680 c_{0}^{11} c_{2}^{3} c_{3}^{2} c_{4}}{c_{1}^{17}} - \\frac{10920 c_{0}^{11} c_{2}^{2} c_{3}^{4}}{c_{1}^{17}} + \\frac{12376 c_{0}^{11} c_{2}^{6} c_{5}}{c_{1}^{18}} + \\frac{74256 c_{0}^{11} c_{2}^{5} c_{3} c_{4}}{c_{1}^{18}} + \\frac{61880 c_{0}^{11} c_{2}^{4} c_{3}^{3}}{c_{1}^{18}} - \\frac{31824 c_{0}^{11} c_{2}^{7} c_{4}}{c_{1}^{19}} - \\frac{111384 c_{0}^{11} c_{2}^{6} c_{3}^{2}}{c_{1}^{19}} + \\frac{75582 c_{0}^{11} c_{2}^{8} c_{3}}{c_{1}^{20}} - \\frac{16796 c_{0}^{11} c_{2}^{10}}{c_{1}^{21}} - \\frac{66 c_{0}^{10} c_{2} c_{5}^{2}}{c_{1}^{13}} - \\frac{132 c_{0}^{10} c_{3} c_{4} c_{5}}{c_{1}^{13}} - \\frac{22 c_{0}^{10} c_{4}^{3}}{c_{1}^{13}} + \\frac{858 c_{0}^{10} c_{2}^{2} c_{4} c_{5}}{c_{1}^{14}} + \\frac{858 c_{0}^{10} c_{2} c_{3}^{2} c_{5}}{c_{1}^{14}} + \\frac{858 c_{0}^{10} c_{2} c_{3} c_{4}^{2}}{c_{1}^{14}} + \\frac{286 c_{0}^{10} c_{3}^{3} c_{4}}{c_{1}^{14}} - \\frac{4004 c_{0}^{10} c_{2}^{3} c_{3} c_{5}}{c_{1}^{15}} - \\frac{2002 c_{0}^{10} c_{2}^{3} c_{4}^{2}}{c_{1}^{15}} - \\frac{6006 c_{0}^{10} c_{2}^{2} c_{3}^{2} c_{4}}{c_{1}^{15}} - \\frac{1001 c_{0}^{10} c_{2} c_{3}^{4}}{c_{1}^{15}} + \\frac{3003 c_{0}^{10} c_{2}^{5} c_{5}}{c_{1}^{16}} + \\frac{15015 c_{0}^{10} c_{2}^{4} c_{3} c_{4}}{c_{1}^{16}} + \\frac{10010 c_{0}^{10} c_{2}^{3} c_{3}^{3}}{c_{1}^{16}} - \\frac{8008 c_{0}^{10} c_{2}^{6} c_{4}}{c_{1}^{17}} - \\frac{24024 c_{0}^{10} c_{2}^{5} c_{3}^{2}}{c_{1}^{17}} + \\frac{19448 c_{0}^{10} c_{2}^{7} c_{3}}{c_{1}^{18}} - \\frac{4862 c_{0}^{10} c_{2}^{9}}{c_{1}^{19}} - \\frac{5 c_{0}^{9} c_{5}^{2}}{c_{1}^{11}} + \\frac{110 c_{0}^{9} c_{2} c_{4} c_{5}}{c_{1}^{12}} + \\frac{55 c_{0}^{9} c_{3}^{2} c_{5}}{c_{1}^{12}} + \\frac{55 c_{0}^{9} c_{3} c_{4}^{2}}{c_{1}^{12}} - \\frac{660 c_{0}^{9} c_{2}^{2} c_{3} c_{5}}{c_{1}^{13}} - \\frac{330 c_{0}^{9} c_{2}^{2} c_{4}^{2}}{c_{1}^{13}} - \\frac{660 c_{0}^{9} c_{2} c_{3}^{2} c_{4}}{c_{1}^{13}} - \\frac{55 c_{0}^{9} c_{3}^{4}}{c_{1}^{13}} + \\frac{715 c_{0}^{9} c_{2}^{4} c_{5}}{c_{1}^{14}} + \\frac{2860 c_{0}^{9} c_{2}^{3} c_{3} c_{4}}{c_{1}^{14}} + \\frac{1430 c_{0}^{9} c_{2}^{2} c_{3}^{3}}{c_{1}^{14}} - \\frac{2002 c_{0}^{9} c_{2}^{5} c_{4}}{c_{1}^{15}} - \\frac{5005 c_{0}^{9} c_{2}^{4} c_{3}^{2}}{c_{1}^{15}} + \\frac{5005 c_{0}^{9} c_{2}^{6} c_{3}}{c_{1}^{16}} - \\frac{1430 c_{0}^{9} c_{2}^{8}}{c_{1}^{17}} + \\frac{9 c_{0}^{8} c_{4} c_{5}}{c_{1}^{10}} - \\frac{90 c_{0}^{8} c_{2} c_{3} c_{5}}{c_{1}^{11}} - \\frac{45 c_{0}^{8} c_{2} c_{4}^{2}}{c_{1}^{11}} - \\frac{45 c_{0}^{8} c_{3}^{2} c_{4}}{c_{1}^{11}} + \\frac{165 c_{0}^{8} c_{2}^{3} c_{5}}{c_{1}^{12}} + \\frac{495 c_{0}^{8} c_{2}^{2} c_{3} c_{4}}{c_{1}^{12}} + \\frac{165 c_{0}^{8} c_{2} c_{3}^{3}}{c_{1}^{12}} - \\frac{495 c_{0}^{8} c_{2}^{4} c_{4}}{c_{1}^{13}} - \\frac{990 c_{0}^{8} c_{2}^{3} c_{3}^{2}}{c_{1}^{13}} + \\frac{1287 c_{0}^{8} c_{2}^{5} c_{3}}{c_{1}^{14}} - \\frac{429 c_{0}^{8} c_{2}^{7}}{c_{1}^{15}} - \\frac{8 c_{0}^{7} c_{3} c_{5}}{c_{1}^{9}} - \\frac{4 c_{0}^{7} c_{4}^{2}}{c_{1}^{9}} + \\frac{36 c_{0}^{7} c_{2}^{2} c_{5}}{c_{1}^{10}} + \\frac{72 c_{0}^{7} c_{2} c_{3} c_{4}}{c_{1}^{10}} + \\frac{12 c_{0}^{7} c_{3}^{3}}{c_{1}^{10}} - \\frac{120 c_{0}^{7} c_{2}^{3} c_{4}}{c_{1}^{11}} - \\frac{180 c_{0}^{7} c_{2}^{2} c_{3}^{2}}{c_{1}^{11}} + \\frac{330 c_{0}^{7} c_{2}^{4} c_{3}}{c_{1}^{12}} - \\frac{132 c_{0}^{7} c_{2}^{6}}{c_{1}^{13}} + \\frac{7 c_{0}^{6} c_{2} c_{5}}{c_{1}^{8}} + \\frac{7 c_{0}^{6} c_{3} c_{4}}{c_{1}^{8}} - \\frac{28 c_{0}^{6} c_{2}^{2} c_{4}}{c_{1}^{9}} - \\frac{28 c_{0}^{6} c_{2} c_{3}^{2}}{c_{1}^{9}} + \\frac{84 c_{0}^{6} c_{2}^{3} c_{3}}{c_{1}^{10}} - \\frac{42 c_{0}^{6} c_{2}^{5}}{c_{1}^{11}} + \\frac{c_{0}^{5} c_{5}}{c_{1}^{6}} - \\frac{6 c_{0}^{5} c_{2} c_{4}}{c_{1}^{7}} - \\frac{3 c_{0}^{5} c_{3}^{2}}{c_{1}^{7}} + \\frac{21 c_{0}^{5} c_{2}^{2} c_{3}}{c_{1}^{8}} - \\frac{14 c_{0}^{5} c_{2}^{4}}{c_{1}^{9}} - \\frac{c_{0}^{4} c_{4}}{c_{1}^{5}} + \\frac{5 c_{0}^{4} c_{2} c_{3}}{c_{1}^{6}} - \\frac{5 c_{0}^{4} c_{2}^{3}}{c_{1}^{7}} + \\frac{c_{0}^{3} c_{3}}{c_{1}^{4}} - \\frac{2 c_{0}^{3} c_{2}^{2}}{c_{1}^{5}} - \\frac{c_{0}^{2} c_{2}}{c_{1}^{3}} - c_{0} / c_{1}$"
      ],
      "text/plain": [
       "<IPython.core.display.Markdown object>"
      ]
     },
     "metadata": {},
     "output_type": "display_data"
    },
    {
     "name": "stdout",
     "output_type": "stream",
     "text": [
      "\n",
      "\n",
      "\n"
     ]
    },
    {
     "data": {
      "text/markdown": [
       "Bootstrapping from previous guess $9999.0$"
      ],
      "text/plain": [
       "<IPython.core.display.Markdown object>"
      ]
     },
     "metadata": {},
     "output_type": "display_data"
    },
    {
     "name": "stdout",
     "output_type": "stream",
     "text": [
      "Solving for 3*(x + 9999.0)**5 + (x + 9999.0)**4 - 2*(x + 9999.0)**3 + (x + 9999.0)**2 - 4*(x + 9999.0) + 3 = "
     ]
    },
    {
     "data": {
      "text/markdown": [
       "$3.0 x^{5} + 149986.0 x^{4} + 2999440024.0 x^{3} + 29991600719983.0 x^{2} + 1.4994400719966 \\cdot 10^{17} x + 2.998600239983 \\cdot 10^{20}$"
      ],
      "text/plain": [
       "<IPython.core.display.Markdown object>"
      ]
     },
     "metadata": {},
     "output_type": "display_data"
    },
    {
     "data": {
      "text/markdown": [
       "My new guess is p($5278.46482753553$)= $1.22938194069155 \\cdot 10^{19}$"
      ],
      "text/plain": [
       "<IPython.core.display.Markdown object>"
      ]
     },
     "metadata": {},
     "output_type": "display_data"
    },
    {
     "name": "stdout",
     "output_type": "stream",
     "text": [
      "\n",
      "\n",
      "\n"
     ]
    },
    {
     "data": {
      "text/markdown": [
       "Bootstrapping from previous guess $5278.46482753553$"
      ],
      "text/plain": [
       "<IPython.core.display.Markdown object>"
      ]
     },
     "metadata": {},
     "output_type": "display_data"
    },
    {
     "name": "stdout",
     "output_type": "stream",
     "text": [
      "Solving for 3*(x + 5278.464827535527)**5 + (x + 5278.464827535527)**4 - 2*(x + 5278.464827535527)**3 + (x + 5278.464827535527)**2 - 4*(x + 5278.464827535527) + 3 = "
     ]
    },
    {
     "data": {
      "text/markdown": [
       "$3.0 x^{5} + 79177.9724130329 x^{4} + 835886839.9252 x^{3} + 4412254987614.0 x^{2} + 1.16451133671356 \\cdot 10^{16} x + 1.22938194069155 \\cdot 10^{19}$"
      ],
      "text/plain": [
       "<IPython.core.display.Markdown object>"
      ]
     },
     "metadata": {},
     "output_type": "display_data"
    },
    {
     "data": {
      "text/markdown": [
       "My new guess is p($2786.48290911324$)= $5.04028489638242 \\cdot 10^{17}$"
      ],
      "text/plain": [
       "<IPython.core.display.Markdown object>"
      ]
     },
     "metadata": {},
     "output_type": "display_data"
    },
    {
     "name": "stdout",
     "output_type": "stream",
     "text": [
      "\n",
      "\n",
      "\n"
     ]
    },
    {
     "data": {
      "text/markdown": [
       "Bootstrapping from previous guess $2786.48290911324$"
      ],
      "text/plain": [
       "<IPython.core.display.Markdown object>"
      ]
     },
     "metadata": {},
     "output_type": "display_data"
    },
    {
     "name": "stdout",
     "output_type": "stream",
     "text": [
      "Solving for 3*(x + 2786.4829091132383)**5 + (x + 2786.4829091132383)**4 - 2*(x + 2786.4829091132383)**3 + (x + 2786.4829091132383)**2 - 4*(x + 2786.4829091132383) + 3 = "
     ]
    },
    {
     "data": {
      "text/markdown": [
       "$3.0 x^{5} + 41798.2436366986 x^{4} + 232945754.015042 x^{3} + 649114880142.484 x^{2} + 904395372105106.0 x + 5.04028489638242 \\cdot 10^{17}$"
      ],
      "text/plain": [
       "<IPython.core.display.Markdown object>"
      ]
     },
     "metadata": {},
     "output_type": "display_data"
    },
    {
     "data": {
      "text/markdown": [
       "My new guess is p($1470.95965754005$)= $2.06644254543562 \\cdot 10^{16}$"
      ],
      "text/plain": [
       "<IPython.core.display.Markdown object>"
      ]
     },
     "metadata": {},
     "output_type": "display_data"
    },
    {
     "name": "stdout",
     "output_type": "stream",
     "text": [
      "\n",
      "\n",
      "\n"
     ]
    },
    {
     "data": {
      "text/markdown": [
       "Bootstrapping from previous guess $1470.95965754005$"
      ],
      "text/plain": [
       "<IPython.core.display.Markdown object>"
      ]
     },
     "metadata": {},
     "output_type": "display_data"
    },
    {
     "name": "stdout",
     "output_type": "stream",
     "text": [
      "Solving for 3*(x + 1470.959657540046)**5 + (x + 1470.959657540046)**4 - 2*(x + 1470.959657540046)**3 + (x + 1470.959657540046)**2 - 4*(x + 1470.959657540046) + 3 = "
     ]
    },
    {
     "data": {
      "text/markdown": [
       "$3.0 x^{5} + 22065.3948631007 x^{4} + 64917551.2619401 x^{3} + 95495420534.3913 x^{2} + 70238131802225.1 x + 2.06644254543562 \\cdot 10^{16}$"
      ],
      "text/plain": [
       "<IPython.core.display.Markdown object>"
      ]
     },
     "metadata": {},
     "output_type": "display_data"
    },
    {
     "data": {
      "text/markdown": [
       "My new guess is p($776.491808388924$)= $847210953244739.0$"
      ],
      "text/plain": [
       "<IPython.core.display.Markdown object>"
      ]
     },
     "metadata": {},
     "output_type": "display_data"
    },
    {
     "name": "stdout",
     "output_type": "stream",
     "text": [
      "\n",
      "\n",
      "\n"
     ]
    },
    {
     "data": {
      "text/markdown": [
       "Bootstrapping from previous guess $776.491808388924$"
      ],
      "text/plain": [
       "<IPython.core.display.Markdown object>"
      ]
     },
     "metadata": {},
     "output_type": "display_data"
    },
    {
     "name": "stdout",
     "output_type": "stream",
     "text": [
      "Solving for 3*(x + 776.4918083889243)**5 + (x + 776.4918083889243)**4 - 2*(x + 776.4918083889243)**3 + (x + 776.4918083889243)**2 - 4*(x + 776.4918083889243) + 3 = "
     ]
    },
    {
     "data": {
      "text/markdown": [
       "$3.0 x^{5} + 11648.3771258339 x^{4} + 18091289.8220866 x^{3} + 14048941124.1299 x^{2} + 5454910219659.57 x + 847210953244739.0$"
      ],
      "text/plain": [
       "<IPython.core.display.Markdown object>"
      ]
     },
     "metadata": {},
     "output_type": "display_data"
    },
    {
     "data": {
      "text/markdown": [
       "My new guess is p($409.880659057134$)= $34734392560518.4$"
      ],
      "text/plain": [
       "<IPython.core.display.Markdown object>"
      ]
     },
     "metadata": {},
     "output_type": "display_data"
    },
    {
     "name": "stdout",
     "output_type": "stream",
     "text": [
      "\n",
      "\n",
      "\n"
     ]
    },
    {
     "data": {
      "text/markdown": [
       "Bootstrapping from previous guess $409.880659057134$"
      ],
      "text/plain": [
       "<IPython.core.display.Markdown object>"
      ]
     },
     "metadata": {},
     "output_type": "display_data"
    },
    {
     "name": "stdout",
     "output_type": "stream",
     "text": [
      "Solving for 3*(x + 409.88065905713415)**5 + (x + 409.88065905713415)**4 - 2*(x + 409.88065905713415)**3 + (x + 409.88065905713415)**2 - 4*(x + 409.88065905713415) + 3 = "
     ]
    },
    {
     "data": {
      "text/markdown": [
       "$3.0 x^{5} + 6149.20988585701 x^{4} + 5041702.16270955 x^{3} + 2066830571.00787 x^{2} + 423645295740.305 x + 34734392560518.4$"
      ],
      "text/plain": [
       "<IPython.core.display.Markdown object>"
      ]
     },
     "metadata": {},
     "output_type": "display_data"
    },
    {
     "data": {
      "text/markdown": [
       "My new guess is p($216.345950458778$)= $1424057632884.64$"
      ],
      "text/plain": [
       "<IPython.core.display.Markdown object>"
      ]
     },
     "metadata": {},
     "output_type": "display_data"
    },
    {
     "name": "stdout",
     "output_type": "stream",
     "text": [
      "\n",
      "\n",
      "\n"
     ]
    },
    {
     "data": {
      "text/markdown": [
       "Bootstrapping from previous guess $216.345950458778$"
      ],
      "text/plain": [
       "<IPython.core.display.Markdown object>"
      ]
     },
     "metadata": {},
     "output_type": "display_data"
    },
    {
     "name": "stdout",
     "output_type": "stream",
     "text": [
      "Solving for 3*(x + 216.3459504587783)**5 + (x + 216.3459504587783)**4 - 2*(x + 216.3459504587783)**3 + (x + 216.3459504587783)**2 - 4*(x + 216.3459504587783) + 3 = "
     ]
    },
    {
     "data": {
      "text/markdown": [
       "$3.0 x^{5} + 3246.18925688167 x^{4} + 1405030.4921992 x^{3} + 304065404.015159 x^{2} + 32901645516.0431 x + 1424057632884.64$"
      ],
      "text/plain": [
       "<IPython.core.display.Markdown object>"
      ]
     },
     "metadata": {},
     "output_type": "display_data"
    },
    {
     "data": {
      "text/markdown": [
       "My new guess is p($114.178894136905$)= $58384073927.5636$"
      ],
      "text/plain": [
       "<IPython.core.display.Markdown object>"
      ]
     },
     "metadata": {},
     "output_type": "display_data"
    },
    {
     "name": "stdout",
     "output_type": "stream",
     "text": [
      "\n",
      "\n",
      "\n"
     ]
    },
    {
     "data": {
      "text/markdown": [
       "Bootstrapping from previous guess $114.178894136905$"
      ],
      "text/plain": [
       "<IPython.core.display.Markdown object>"
      ]
     },
     "metadata": {},
     "output_type": "display_data"
    },
    {
     "name": "stdout",
     "output_type": "stream",
     "text": [
      "Solving for 3*(x + 114.17889413690511)**5 + (x + 114.17889413690511)**4 - 2*(x + 114.17889413690511)**3 + (x + 114.17889413690511)**2 - 4*(x + 114.17889413690511) + 3 = "
     ]
    },
    {
     "data": {
      "text/markdown": [
       "$3.0 x^{5} + 1713.68341205358 x^{4} + 391559.311566345 x^{3} + 44733427.1078093 x^{2} + 2555256205.5459 x + 58384073927.5636$"
      ],
      "text/plain": [
       "<IPython.core.display.Markdown object>"
      ]
     },
     "metadata": {},
     "output_type": "display_data"
    },
    {
     "data": {
      "text/markdown": [
       "My new guess is p($60.2453806077315$)= $2393633143.09167$"
      ],
      "text/plain": [
       "<IPython.core.display.Markdown object>"
      ]
     },
     "metadata": {},
     "output_type": "display_data"
    },
    {
     "name": "stdout",
     "output_type": "stream",
     "text": [
      "\n",
      "\n",
      "\n"
     ]
    },
    {
     "data": {
      "text/markdown": [
       "Bootstrapping from previous guess $60.2453806077315$"
      ],
      "text/plain": [
       "<IPython.core.display.Markdown object>"
      ]
     },
     "metadata": {},
     "output_type": "display_data"
    },
    {
     "name": "stdout",
     "output_type": "stream",
     "text": [
      "Solving for 3*(x + 60.2453806077315)**5 + (x + 60.2453806077315)**4 - 2*(x + 60.2453806077315)**3 + (x + 60.2453806077315)**2 - 4*(x + 60.2453806077315) + 3 = "
     ]
    },
    {
     "data": {
      "text/markdown": [
       "$3.0 x^{5} + 904.680709115973 x^{4} + 109124.158059544 x^{3} + 6581245.46604218 x^{2} + 198452677.80116 x + 2393633143.09167$"
      ],
      "text/plain": [
       "<IPython.core.display.Markdown object>"
      ]
     },
     "metadata": {},
     "output_type": "display_data"
    },
    {
     "data": {
      "text/markdown": [
       "My new guess is p($31.7750987502214$)= $98131408.4171281$"
      ],
      "text/plain": [
       "<IPython.core.display.Markdown object>"
      ]
     },
     "metadata": {},
     "output_type": "display_data"
    },
    {
     "name": "stdout",
     "output_type": "stream",
     "text": [
      "\n",
      "\n",
      "\n"
     ]
    },
    {
     "data": {
      "text/markdown": [
       "Bootstrapping from previous guess $31.7750987502214$"
      ],
      "text/plain": [
       "<IPython.core.display.Markdown object>"
      ]
     },
     "metadata": {},
     "output_type": "display_data"
    },
    {
     "name": "stdout",
     "output_type": "stream",
     "text": [
      "Solving for 3*(x + 31.775098750221424)**5 + (x + 31.775098750221424)**4 - 2*(x + 31.775098750221424)**3 + (x + 31.775098750221424)**2 - 4*(x + 31.775098750221424) + 3 = "
     ]
    },
    {
     "data": {
      "text/markdown": [
       "$3.0 x^{5} + 477.626481253321 x^{4} + 30414.8074125906 x^{3} + 968326.722410204 x^{2} + 15413435.2531976 x + 98131408.4171281$"
      ],
      "text/plain": [
       "<IPython.core.display.Markdown object>"
      ]
     },
     "metadata": {},
     "output_type": "display_data"
    },
    {
     "data": {
      "text/markdown": [
       "My new guess is p($16.7480708081666$)= $4022667.28722421$"
      ],
      "text/plain": [
       "<IPython.core.display.Markdown object>"
      ]
     },
     "metadata": {},
     "output_type": "display_data"
    },
    {
     "name": "stdout",
     "output_type": "stream",
     "text": [
      "\n",
      "\n",
      "\n"
     ]
    },
    {
     "data": {
      "text/markdown": [
       "Bootstrapping from previous guess $16.7480708081666$"
      ],
      "text/plain": [
       "<IPython.core.display.Markdown object>"
      ]
     },
     "metadata": {},
     "output_type": "display_data"
    },
    {
     "name": "stdout",
     "output_type": "stream",
     "text": [
      "Solving for 3*(x + 16.748070808166645)**5 + (x + 16.748070808166645)**4 - 2*(x + 16.748070808166645)**3 + (x + 16.748070808166645)**2 - 4*(x + 16.748070808166645) + 3 = "
     ]
    },
    {
     "data": {
      "text/markdown": [
       "$3.0 x^{5} + 252.2210621225 x^{4} + 8479.92855709358 x^{3} + 142517.447390756 x^{2} + 1197323.57691396 x + 4022667.28722421$"
      ],
      "text/plain": [
       "<IPython.core.display.Markdown object>"
      ]
     },
     "metadata": {},
     "output_type": "display_data"
    },
    {
     "data": {
      "text/markdown": [
       "My new guess is p($8.81987702461519$)= $164840.324810427$"
      ],
      "text/plain": [
       "<IPython.core.display.Markdown object>"
      ]
     },
     "metadata": {},
     "output_type": "display_data"
    },
    {
     "name": "stdout",
     "output_type": "stream",
     "text": [
      "\n",
      "\n",
      "\n"
     ]
    },
    {
     "data": {
      "text/markdown": [
       "Bootstrapping from previous guess $8.81987702461519$"
      ],
      "text/plain": [
       "<IPython.core.display.Markdown object>"
      ]
     },
     "metadata": {},
     "output_type": "display_data"
    },
    {
     "name": "stdout",
     "output_type": "stream",
     "text": [
      "Solving for 3*(x + 8.819877024615192)**5 + (x + 8.819877024615192)**4 - 2*(x + 8.819877024615192)**3 + (x + 8.819877024615192)**2 - 4*(x + 8.819877024615192) + 3 = "
     ]
    },
    {
     "data": {
      "text/markdown": [
       "$3.0 x^{5} + 133.298155369228 x^{4} + 2366.98642997851 x^{3} + 20997.8301847036 x^{2} + 93061.0993985174 x + 164840.324810427$"
      ],
      "text/plain": [
       "<IPython.core.display.Markdown object>"
      ]
     },
     "metadata": {},
     "output_type": "display_data"
    },
    {
     "data": {
      "text/markdown": [
       "My new guess is p($4.64322273332768$)= $6745.27605047653$"
      ],
      "text/plain": [
       "<IPython.core.display.Markdown object>"
      ]
     },
     "metadata": {},
     "output_type": "display_data"
    },
    {
     "name": "stdout",
     "output_type": "stream",
     "text": [
      "\n",
      "\n",
      "\n"
     ]
    },
    {
     "data": {
      "text/markdown": [
       "Bootstrapping from previous guess $4.64322273332768$"
      ],
      "text/plain": [
       "<IPython.core.display.Markdown object>"
      ]
     },
     "metadata": {},
     "output_type": "display_data"
    },
    {
     "name": "stdout",
     "output_type": "stream",
     "text": [
      "Solving for 3*(x + 4.64322273332768)**5 + (x + 4.64322273332768)**4 - 2*(x + 4.64322273332768)**3 + (x + 4.64322273332768)**2 - 4*(x + 4.64322273332768) + 3 = "
     ]
    },
    {
     "data": {
      "text/markdown": [
       "$3.0 x^{5} + 70.6483409999152 x^{4} + 663.35841147204 x^{3} + 3105.66700026038 x^{2} + 7248.5437320085 x + 6745.27605047653$"
      ],
      "text/plain": [
       "<IPython.core.display.Markdown object>"
      ]
     },
     "metadata": {},
     "output_type": "display_data"
    },
    {
     "data": {
      "text/markdown": [
       "My new guess is p($2.45625816274104$)= $274.189603586467$"
      ],
      "text/plain": [
       "<IPython.core.display.Markdown object>"
      ]
     },
     "metadata": {},
     "output_type": "display_data"
    },
    {
     "name": "stdout",
     "output_type": "stream",
     "text": [
      "\n",
      "\n",
      "\n"
     ]
    },
    {
     "data": {
      "text/markdown": [
       "Bootstrapping from previous guess $2.45625816274104$"
      ],
      "text/plain": [
       "<IPython.core.display.Markdown object>"
      ]
     },
     "metadata": {},
     "output_type": "display_data"
    },
    {
     "name": "stdout",
     "output_type": "stream",
     "text": [
      "Solving for 3*(x + 2.4562581627410385)**5 + (x + 2.4562581627410385)**4 - 2*(x + 2.4562581627410385)**3 + (x + 2.4562581627410385)**2 - 4*(x + 2.4562581627410385) + 3 = "
     ]
    },
    {
     "data": {
      "text/markdown": [
       "$3.0 x^{5} + 37.8438724411156 x^{4} + 188.821157511924 x^{3} + 467.034885109973 x^{2} + 569.983006146588 x + 274.189603586467$"
      ],
      "text/plain": [
       "<IPython.core.display.Markdown object>"
      ]
     },
     "metadata": {},
     "output_type": "display_data"
    },
    {
     "data": {
      "text/markdown": [
       "My new guess is p($1.34261069001523$)= $10.9291045511674$"
      ],
      "text/plain": [
       "<IPython.core.display.Markdown object>"
      ]
     },
     "metadata": {},
     "output_type": "display_data"
    },
    {
     "name": "stdout",
     "output_type": "stream",
     "text": [
      "\n",
      "\n",
      "\n"
     ]
    },
    {
     "data": {
      "text/markdown": [
       "Bootstrapping from previous guess $1.34261069001523$"
      ],
      "text/plain": [
       "<IPython.core.display.Markdown object>"
      ]
     },
     "metadata": {},
     "output_type": "display_data"
    },
    {
     "name": "stdout",
     "output_type": "stream",
     "text": [
      "Solving for 3*(x + 1.3426106900152317)**5 + (x + 1.3426106900152317)**4 - 2*(x + 1.3426106900152317)**3 + (x + 1.3426106900152317)**2 - 4*(x + 1.3426106900152317) + 3 = "
     ]
    },
    {
     "data": {
      "text/markdown": [
       "$3.0 x^{5} + 21.1391603502285 x^{4} + 57.4485467083562 x^{3} + 76.3657971063038 x^{2} + 46.2910680953134 x + 10.9291045511674$"
      ],
      "text/plain": [
       "<IPython.core.display.Markdown object>"
      ]
     },
     "metadata": {},
     "output_type": "display_data"
    },
    {
     "data": {
      "text/markdown": [
       "My new guess is p($0.774306642423922$)= $0.768312473306745$"
      ],
      "text/plain": [
       "<IPython.core.display.Markdown object>"
      ]
     },
     "metadata": {},
     "output_type": "display_data"
    },
    {
     "name": "stdout",
     "output_type": "stream",
     "text": [
      "\n",
      "\n",
      "\n"
     ]
    },
    {
     "data": {
      "text/markdown": [
       "Bootstrapping from previous guess $0.774306642423922$"
      ],
      "text/plain": [
       "<IPython.core.display.Markdown object>"
      ]
     },
     "metadata": {},
     "output_type": "display_data"
    },
    {
     "name": "stdout",
     "output_type": "stream",
     "text": [
      "Solving for 3*(x + 0.7743066424239218)**5 + (x + 0.7743066424239218)**4 - 2*(x + 0.7743066424239218)**3 + (x + 0.7743066424239218)**2 - 4*(x + 0.7743066424239218) + 3 = "
     ]
    },
    {
     "data": {
      "text/markdown": [
       "$3.0 x^{5} + 12.6145996363588 x^{4} + 19.0837498647499 x^{3} + 13.8785492659404 x^{2} + 1.20017022475888 x + 0.768312473306745$"
      ],
      "text/plain": [
       "<IPython.core.display.Markdown object>"
      ]
     },
     "metadata": {},
     "output_type": "display_data"
    },
    {
     "data": {
      "text/markdown": [
       "My new guess is p($-3117429587089.88$)= $-8.83292452065534 \\cdot 10^{62}$"
      ],
      "text/plain": [
       "<IPython.core.display.Markdown object>"
      ]
     },
     "metadata": {},
     "output_type": "display_data"
    },
    {
     "name": "stdout",
     "output_type": "stream",
     "text": [
      "\n",
      "\n",
      "\n"
     ]
    },
    {
     "data": {
      "text/markdown": [
       "Bootstrapping from previous guess $-3117429587089.88$"
      ],
      "text/plain": [
       "<IPython.core.display.Markdown object>"
      ]
     },
     "metadata": {},
     "output_type": "display_data"
    },
    {
     "name": "stdout",
     "output_type": "stream",
     "text": [
      "Solving for 3*(x + -3117429587089.881)**5 + (x + -3117429587089.881)**4 - 2*(x + -3117429587089.881)**3 + (x + -3117429587089.881)**2 - 4*(x + -3117429587089.881) + 3 = "
     ]
    },
    {
     "data": {
      "text/markdown": [
       "$3.0 x^{5} - 46761443806347.2 x^{4} + 2.91551016913889 \\cdot 10^{26} x^{3} - 9.08889766273481 \\cdot 10^{38} x^{2} + 1.41669992439205 \\cdot 10^{51} x - 8.83292452065534 \\cdot 10^{62}$"
      ],
      "text/plain": [
       "<IPython.core.display.Markdown object>"
      ]
     },
     "metadata": {},
     "output_type": "display_data"
    },
    {
     "data": {
      "text/markdown": [
       "My new guess is p($-1645698618635.47$)= $-3.6213689845556 \\cdot 10^{61}$"
      ],
      "text/plain": [
       "<IPython.core.display.Markdown object>"
      ]
     },
     "metadata": {},
     "output_type": "display_data"
    },
    {
     "name": "stdout",
     "output_type": "stream",
     "text": [
      "\n",
      "\n",
      "\n"
     ]
    },
    {
     "data": {
      "text/markdown": [
       "Bootstrapping from previous guess $-1645698618635.47$"
      ],
      "text/plain": [
       "<IPython.core.display.Markdown object>"
      ]
     },
     "metadata": {},
     "output_type": "display_data"
    },
    {
     "name": "stdout",
     "output_type": "stream",
     "text": [
      "Solving for 3*(x + -1645698618635.4749)**5 + (x + -1645698618635.4749)**4 - 2*(x + -1645698618635.4749)**3 + (x + -1645698618635.4749)**2 - 4*(x + -1645698618635.4749) + 3 = "
     ]
    },
    {
     "data": {
      "text/markdown": [
       "$3.0 x^{5} - 24685479279531.1 x^{4} + 8.12497183013547 \\cdot 10^{25} x^{3} - 1.33712549173055 \\cdot 10^{38} x^{2} + 1.10025278734158 \\cdot 10^{50} x - 3.6213689845556 \\cdot 10^{61}$"
      ],
      "text/plain": [
       "<IPython.core.display.Markdown object>"
      ]
     },
     "metadata": {},
     "output_type": "display_data"
    },
    {
     "data": {
      "text/markdown": [
       "My new guess is p($-868768280956.42$)= $-1.48470795732876 \\cdot 10^{60}$"
      ],
      "text/plain": [
       "<IPython.core.display.Markdown object>"
      ]
     },
     "metadata": {},
     "output_type": "display_data"
    },
    {
     "name": "stdout",
     "output_type": "stream",
     "text": [
      "\n",
      "\n",
      "\n"
     ]
    },
    {
     "data": {
      "text/markdown": [
       "Bootstrapping from previous guess $-868768280956.42$"
      ],
      "text/plain": [
       "<IPython.core.display.Markdown object>"
      ]
     },
     "metadata": {},
     "output_type": "display_data"
    },
    {
     "name": "stdout",
     "output_type": "stream",
     "text": [
      "Solving for 3*(x + -868768280956.4203)**5 + (x + -868768280956.4203)**4 - 2*(x + -868768280956.4203)**3 + (x + -868768280956.4203)**2 - 4*(x + -868768280956.4203) + 3 = "
     ]
    },
    {
     "data": {
      "text/markdown": [
       "$3.0 x^{5} - 13031524214345.3 x^{4} + 2.26427497798757 \\cdot 10^{25} x^{3} - 1.96713028023875 \\cdot 10^{37} x^{2} + 8.54490195990104 \\cdot 10^{48} x - 1.48470795732876 \\cdot 10^{60}$"
      ],
      "text/plain": [
       "<IPython.core.display.Markdown object>"
      ]
     },
     "metadata": {},
     "output_type": "display_data"
    },
    {
     "data": {
      "text/markdown": [
       "My new guess is p($-458624876662.898$)= $-6.08708399491038 \\cdot 10^{58}$"
      ],
      "text/plain": [
       "<IPython.core.display.Markdown object>"
      ]
     },
     "metadata": {},
     "output_type": "display_data"
    },
    {
     "name": "stdout",
     "output_type": "stream",
     "text": [
      "\n",
      "\n",
      "\n"
     ]
    },
    {
     "data": {
      "text/markdown": [
       "Bootstrapping from previous guess $-458624876662.898$"
      ],
      "text/plain": [
       "<IPython.core.display.Markdown object>"
      ]
     },
     "metadata": {},
     "output_type": "display_data"
    },
    {
     "name": "stdout",
     "output_type": "stream",
     "text": [
      "Solving for 3*(x + -458624876662.8984)**5 + (x + -458624876662.8984)**4 - 2*(x + -458624876662.8984)**3 + (x + -458624876662.8984)**2 - 4*(x + -458624876662.8984) + 3 = "
     ]
    },
    {
     "data": {
      "text/markdown": [
       "$3.0 x^{5} - 6879373149942.48 x^{4} + 6.31010332481993 \\cdot 10^{24} x^{3} - 2.89397035907526 \\cdot 10^{36} x^{2} + 6.63623399498392 \\cdot 10^{47} x - 6.08708399491038 \\cdot 10^{58}$"
      ],
      "text/plain": [
       "<IPython.core.display.Markdown object>"
      ]
     },
     "metadata": {},
     "output_type": "display_data"
    },
    {
     "data": {
      "text/markdown": [
       "My new guess is p($-242109181590.416$)= $-2.49561480277631 \\cdot 10^{57}$"
      ],
      "text/plain": [
       "<IPython.core.display.Markdown object>"
      ]
     },
     "metadata": {},
     "output_type": "display_data"
    },
    {
     "name": "stdout",
     "output_type": "stream",
     "text": [
      "\n",
      "\n",
      "\n"
     ]
    },
    {
     "data": {
      "text/markdown": [
       "Bootstrapping from previous guess $-242109181590.416$"
      ],
      "text/plain": [
       "<IPython.core.display.Markdown object>"
      ]
     },
     "metadata": {},
     "output_type": "display_data"
    },
    {
     "name": "stdout",
     "output_type": "stream",
     "text": [
      "Solving for 3*(x + -242109181590.4164)**5 + (x + -242109181590.4164)**4 - 2*(x + -242109181590.4164)**3 + (x + -242109181590.4164)**2 - 4*(x + -242109181590.4164) + 3 = "
     ]
    },
    {
     "data": {
      "text/markdown": [
       "$3.0 x^{5} - 3631637723855.25 x^{4} + 1.75850567431047 \\cdot 10^{24} x^{3} - 4.25750369629294 \\cdot 10^{35} x^{2} + 5.15390367763686 \\cdot 10^{46} x - 2.49561480277631 \\cdot 10^{57}$"
      ],
      "text/plain": [
       "<IPython.core.display.Markdown object>"
      ]
     },
     "metadata": {},
     "output_type": "display_data"
    },
    {
     "data": {
      "text/markdown": [
       "My new guess is p($-127810022510.996$)= $-1.02316532005205 \\cdot 10^{56}$"
      ],
      "text/plain": [
       "<IPython.core.display.Markdown object>"
      ]
     },
     "metadata": {},
     "output_type": "display_data"
    },
    {
     "name": "stdout",
     "output_type": "stream",
     "text": [
      "\n",
      "\n",
      "\n"
     ]
    },
    {
     "data": {
      "text/markdown": [
       "Bootstrapping from previous guess $-127810022510.996$"
      ],
      "text/plain": [
       "<IPython.core.display.Markdown object>"
      ]
     },
     "metadata": {},
     "output_type": "display_data"
    },
    {
     "name": "stdout",
     "output_type": "stream",
     "text": [
      "Solving for 3*(x + -127810022510.99643)**5 + (x + -127810022510.99643)**4 - 2*(x + -127810022510.99643)**3 + (x + -127810022510.99643)**2 - 4*(x + -127810022510.99643) + 3 = "
     ]
    },
    {
     "data": {
      "text/markdown": [
       "$3.0 x^{5} - 1917150337663.95 x^{4} + 4.90062055627331 \\cdot 10^{23} x^{3} - 6.26348423614817 \\cdot 10^{34} x^{2} + 4.00268030609476 \\cdot 10^{45} x - 1.02316532005205 \\cdot 10^{56}$"
      ],
      "text/plain": [
       "<IPython.core.display.Markdown object>"
      ]
     },
     "metadata": {},
     "output_type": "display_data"
    },
    {
     "data": {
      "text/markdown": [
       "My new guess is p($-67471219996.5226$)= $-4.19482714637134 \\cdot 10^{54}$"
      ],
      "text/plain": [
       "<IPython.core.display.Markdown object>"
      ]
     },
     "metadata": {},
     "output_type": "display_data"
    },
    {
     "name": "stdout",
     "output_type": "stream",
     "text": [
      "\n",
      "\n",
      "\n"
     ]
    },
    {
     "data": {
      "text/markdown": [
       "Bootstrapping from previous guess $-67471219996.5226$"
      ],
      "text/plain": [
       "<IPython.core.display.Markdown object>"
      ]
     },
     "metadata": {},
     "output_type": "display_data"
    },
    {
     "name": "stdout",
     "output_type": "stream",
     "text": [
      "Solving for 3*(x + -67471219996.52256)**5 + (x + -67471219996.52256)**4 - 2*(x + -67471219996.52256)**3 + (x + -67471219996.52256)**2 - 4*(x + -67471219996.52256) + 3 = "
     ]
    },
    {
     "data": {
      "text/markdown": [
       "$3.0 x^{5} - 1012068299946.84 x^{4} + 1.36570965834304 \\cdot 10^{23} x^{3} - 9.21460968093482 \\cdot 10^{33} x^{2} + 3.10860478481913 \\cdot 10^{44} x - 4.19482714637134 \\cdot 10^{54}$"
      ],
      "text/plain": [
       "<IPython.core.display.Markdown object>"
      ]
     },
     "metadata": {},
     "output_type": "display_data"
    },
    {
     "data": {
      "text/markdown": [
       "My new guess is p($-35618220217.6623$)= $-1.71981735923562 \\cdot 10^{53}$"
      ],
      "text/plain": [
       "<IPython.core.display.Markdown object>"
      ]
     },
     "metadata": {},
     "output_type": "display_data"
    },
    {
     "name": "stdout",
     "output_type": "stream",
     "text": [
      "\n",
      "\n",
      "\n"
     ]
    },
    {
     "data": {
      "text/markdown": [
       "Bootstrapping from previous guess $-35618220217.6623$"
      ],
      "text/plain": [
       "<IPython.core.display.Markdown object>"
      ]
     },
     "metadata": {},
     "output_type": "display_data"
    },
    {
     "name": "stdout",
     "output_type": "stream",
     "text": [
      "Solving for 3*(x + -35618220217.66228)**5 + (x + -35618220217.66228)**4 - 2*(x + -35618220217.66228)**3 + (x + -35618220217.66228)**2 - 4*(x + -35618220217.66228) + 3 = "
     ]
    },
    {
     "data": {
      "text/markdown": [
       "$3.0 x^{5} - 534273303263.934 x^{4} + 3.80597283440741 \\cdot 10^{22} x^{3} - 1.3556197855811 \\cdot 10^{33} x^{2} + 2.41423820270786 \\cdot 10^{43} x - 1.71981735923562 \\cdot 10^{53}$"
      ],
      "text/plain": [
       "<IPython.core.display.Markdown object>"
      ]
     },
     "metadata": {},
     "output_type": "display_data"
    },
    {
     "data": {
      "text/markdown": [
       "My new guess is p($-18802944596.8262$)= $-7.05099792177789 \\cdot 10^{51}$"
      ],
      "text/plain": [
       "<IPython.core.display.Markdown object>"
      ]
     },
     "metadata": {},
     "output_type": "display_data"
    },
    {
     "name": "stdout",
     "output_type": "stream",
     "text": [
      "\n",
      "\n",
      "\n"
     ]
    },
    {
     "data": {
      "text/markdown": [
       "Bootstrapping from previous guess $-18802944596.8262$"
      ],
      "text/plain": [
       "<IPython.core.display.Markdown object>"
      ]
     },
     "metadata": {},
     "output_type": "display_data"
    },
    {
     "name": "stdout",
     "output_type": "stream",
     "text": [
      "Solving for 3*(x + -18802944596.82624)**5 + (x + -18802944596.82624)**4 - 2*(x + -18802944596.82624)**3 + (x + -18802944596.82624)**2 - 4*(x + -18802944596.82624) + 3 = "
     ]
    },
    {
     "data": {
      "text/markdown": [
       "$3.0 x^{5} - 282044168951.394 x^{4} + 1.06065217652643 \\cdot 10^{22} x^{3} - 1.99433841116589 \\cdot 10^{32} x^{2} + 1.87497173261709 \\cdot 10^{42} x - 7.05099792177789 \\cdot 10^{51}$"
      ],
      "text/plain": [
       "<IPython.core.display.Markdown object>"
      ]
     },
     "metadata": {},
     "output_type": "display_data"
    },
    {
     "data": {
      "text/markdown": [
       "My new guess is p($-9926119928.26437$)= $-2.89080531871204 \\cdot 10^{50}$"
      ],
      "text/plain": [
       "<IPython.core.display.Markdown object>"
      ]
     },
     "metadata": {},
     "output_type": "display_data"
    },
    {
     "name": "stdout",
     "output_type": "stream",
     "text": [
      "\n",
      "\n",
      "\n"
     ]
    },
    {
     "data": {
      "text/markdown": [
       "Bootstrapping from previous guess $-9926119928.26437$"
      ],
      "text/plain": [
       "<IPython.core.display.Markdown object>"
      ]
     },
     "metadata": {},
     "output_type": "display_data"
    },
    {
     "name": "stdout",
     "output_type": "stream",
     "text": [
      "Solving for 3*(x + -9926119928.264372)**5 + (x + -9926119928.264372)**4 - 2*(x + -9926119928.264372)**3 + (x + -9926119928.264372)**2 - 4*(x + -9926119928.264372) + 3 = "
     ]
    },
    {
     "data": {
      "text/markdown": [
       "$3.0 x^{5} - 148891798922.966 x^{4} + 2.95583570486891 \\cdot 10^{21} x^{3} - 2.93399796945776 \\cdot 10^{31} x^{2} + 1.45616078569631 \\cdot 10^{41} x - 2.89080531871204 \\cdot 10^{50}$"
      ],
      "text/plain": [
       "<IPython.core.display.Markdown object>"
      ]
     },
     "metadata": {},
     "output_type": "display_data"
    },
    {
     "data": {
      "text/markdown": [
       "My new guess is p($-5240022716.82474$)= $-1.18518761222194 \\cdot 10^{49}$"
      ],
      "text/plain": [
       "<IPython.core.display.Markdown object>"
      ]
     },
     "metadata": {},
     "output_type": "display_data"
    },
    {
     "name": "stdout",
     "output_type": "stream",
     "text": [
      "\n",
      "\n",
      "\n"
     ]
    },
    {
     "data": {
      "text/markdown": [
       "Bootstrapping from previous guess $-5240022716.82474$"
      ],
      "text/plain": [
       "<IPython.core.display.Markdown object>"
      ]
     },
     "metadata": {},
     "output_type": "display_data"
    },
    {
     "name": "stdout",
     "output_type": "stream",
     "text": [
      "Solving for 3*(x + -5240022716.8247385)**5 + (x + -5240022716.8247385)**4 - 2*(x + -5240022716.8247385)**3 + (x + -5240022716.8247385)**2 - 4*(x + -5240022716.8247385) + 3 = "
     ]
    },
    {
     "data": {
      "text/markdown": [
       "$3.0 x^{5} - 78600340751.3711 x^{4} + 8.23735142164219 \\cdot 10^{20} x^{3} - 4.31639085753245 \\cdot 10^{30} x^{2} + 1.13089930739384 \\cdot 10^{40} x - 1.18518761222194 \\cdot 10^{49}$"
      ],
      "text/plain": [
       "<IPython.core.display.Markdown object>"
      ]
     },
     "metadata": {},
     "output_type": "display_data"
    },
    {
     "data": {
      "text/markdown": [
       "My new guess is p($-2766220665.41845$)= $-4.85909468573341 \\cdot 10^{47}$"
      ],
      "text/plain": [
       "<IPython.core.display.Markdown object>"
      ]
     },
     "metadata": {},
     "output_type": "display_data"
    },
    {
     "name": "stdout",
     "output_type": "stream",
     "text": [
      "\n",
      "\n",
      "\n"
     ]
    },
    {
     "data": {
      "text/markdown": [
       "Bootstrapping from previous guess $-2766220665.41845$"
      ],
      "text/plain": [
       "<IPython.core.display.Markdown object>"
      ]
     },
     "metadata": {},
     "output_type": "display_data"
    },
    {
     "name": "stdout",
     "output_type": "stream",
     "text": [
      "Solving for 3*(x + -2766220665.418451)**5 + (x + -2766220665.418451)**4 - 2*(x + -2766220665.418451)**3 + (x + -2766220665.418451)**2 - 4*(x + -2766220665.418451) + 3 = "
     ]
    },
    {
     "data": {
      "text/markdown": [
       "$3.0 x^{5} - 41493309980.2768 x^{4} + 2.29559303082578 \\cdot 10^{20} x^{3} - 6.35011688110781 \\cdot 10^{29} x^{2} + 8.78291227195982 \\cdot 10^{38} x - 4.85909468573341 \\cdot 10^{47}$"
      ],
      "text/plain": [
       "<IPython.core.display.Markdown object>"
      ]
     },
     "metadata": {},
     "output_type": "display_data"
    },
    {
     "data": {
      "text/markdown": [
       "My new guess is p($-1460294579.50571$)= $-1.99215726872626 \\cdot 10^{46}$"
      ],
      "text/plain": [
       "<IPython.core.display.Markdown object>"
      ]
     },
     "metadata": {},
     "output_type": "display_data"
    },
    {
     "name": "stdout",
     "output_type": "stream",
     "text": [
      "\n",
      "\n",
      "\n"
     ]
    },
    {
     "data": {
      "text/markdown": [
       "Bootstrapping from previous guess $-1460294579.50571$"
      ],
      "text/plain": [
       "<IPython.core.display.Markdown object>"
      ]
     },
     "metadata": {},
     "output_type": "display_data"
    },
    {
     "name": "stdout",
     "output_type": "stream",
     "text": [
      "Solving for 3*(x + -1460294579.5057108)**5 + (x + -1460294579.5057108)**4 - 2*(x + -1460294579.5057108)**3 + (x + -1460294579.5057108)**2 - 4*(x + -1460294579.5057108) + 3 = "
     ]
    },
    {
     "data": {
      "text/markdown": [
       "$3.0 x^{5} - 21904418691.5857 x^{4} + 6.39738077621717 \\cdot 10^{19} x^{3} - 9.34206047011747 \\cdot 10^{28} x^{2} + 6.82108013265216 \\cdot 10^{37} x - 1.99215726872626 \\cdot 10^{46}$"
      ],
      "text/plain": [
       "<IPython.core.display.Markdown object>"
      ]
     },
     "metadata": {},
     "output_type": "display_data"
    },
    {
     "data": {
      "text/markdown": [
       "My new guess is p($-770893040.325212$)= $-8.16755144737389 \\cdot 10^{44}$"
      ],
      "text/plain": [
       "<IPython.core.display.Markdown object>"
      ]
     },
     "metadata": {},
     "output_type": "display_data"
    },
    {
     "name": "stdout",
     "output_type": "stream",
     "text": [
      "\n",
      "\n",
      "\n"
     ]
    },
    {
     "data": {
      "text/markdown": [
       "Bootstrapping from previous guess $-770893040.325212$"
      ],
      "text/plain": [
       "<IPython.core.display.Markdown object>"
      ]
     },
     "metadata": {},
     "output_type": "display_data"
    },
    {
     "name": "stdout",
     "output_type": "stream",
     "text": [
      "Solving for 3*(x + -770893040.3252125)**5 + (x + -770893040.3252125)**4 - 2*(x + -770893040.3252125)**3 + (x + -770893040.3252125)**2 - 4*(x + -770893040.3252125) + 3 = "
     ]
    },
    {
     "data": {
      "text/markdown": [
       "$3.0 x^{5} - 11563395603.8782 x^{4} + 1.78282823855719 \\cdot 10^{19} x^{3} - 1.37436988108014 \\cdot 10^{28} x^{2} + 5.29746088032823 \\cdot 10^{36} x - 8.16755144737389 \\cdot 10^{44}$"
      ],
      "text/plain": [
       "<IPython.core.display.Markdown object>"
      ]
     },
     "metadata": {},
     "output_type": "display_data"
    },
    {
     "data": {
      "text/markdown": [
       "My new guess is p($-406956300.45049$)= $-3.34857582243756 \\cdot 10^{43}$"
      ],
      "text/plain": [
       "<IPython.core.display.Markdown object>"
      ]
     },
     "metadata": {},
     "output_type": "display_data"
    },
    {
     "name": "stdout",
     "output_type": "stream",
     "text": [
      "\n",
      "\n",
      "\n"
     ]
    },
    {
     "data": {
      "text/markdown": [
       "Bootstrapping from previous guess $-406956300.45049$"
      ],
      "text/plain": [
       "<IPython.core.display.Markdown object>"
      ]
     },
     "metadata": {},
     "output_type": "display_data"
    },
    {
     "name": "stdout",
     "output_type": "stream",
     "text": [
      "Solving for 3*(x + -406956300.4504903)**5 + (x + -406956300.4504903)**4 - 2*(x + -406956300.4504903)**3 + (x + -406956300.4504903)**2 - 4*(x + -406956300.4504903) + 3 = "
     ]
    },
    {
     "data": {
      "text/markdown": [
       "$3.0 x^{5} - 6104344505.75735 x^{4} + 4.96840291266267 \\cdot 10^{18} x^{3} - 2.02192286815341 \\cdot 10^{27} x^{2} + 4.11417125042581 \\cdot 10^{35} x - 3.34857582243756 \\cdot 10^{43}$"
      ],
      "text/plain": [
       "<IPython.core.display.Markdown object>"
      ]
     },
     "metadata": {},
     "output_type": "display_data"
    },
    {
     "data": {
      "text/markdown": [
       "My new guess is p($-214833215.277099$)= $-1.37286677786627 \\cdot 10^{42}$"
      ],
      "text/plain": [
       "<IPython.core.display.Markdown object>"
      ]
     },
     "metadata": {},
     "output_type": "display_data"
    },
    {
     "name": "stdout",
     "output_type": "stream",
     "text": [
      "\n",
      "\n",
      "\n"
     ]
    },
    {
     "data": {
      "text/markdown": [
       "Bootstrapping from previous guess $-214833215.277099$"
      ],
      "text/plain": [
       "<IPython.core.display.Markdown object>"
      ]
     },
     "metadata": {},
     "output_type": "display_data"
    },
    {
     "name": "stdout",
     "output_type": "stream",
     "text": [
      "Solving for 3*(x + -214833215.27709877)**5 + (x + -214833215.27709877)**4 - 2*(x + -214833215.27709877)**3 + (x + -214833215.27709877)**2 - 4*(x + -214833215.27709877) + 3 = "
     ]
    },
    {
     "data": {
      "text/markdown": [
       "$3.0 x^{5} - 3222498228.15648 x^{4} + 1.38459931072956 \\cdot 10^{18} x^{3} - 2.97457921702178 \\cdot 10^{26} x^{2} + 3.1951920854546 \\cdot 10^{34} x - 1.37286677786627 \\cdot 10^{42}$"
      ],
      "text/plain": [
       "<IPython.core.display.Markdown object>"
      ]
     },
     "metadata": {},
     "output_type": "display_data"
    },
    {
     "data": {
      "text/markdown": [
       "My new guess is p($-113410973.957775$)= $-5.62855162824696 \\cdot 10^{40}$"
      ],
      "text/plain": [
       "<IPython.core.display.Markdown object>"
      ]
     },
     "metadata": {},
     "output_type": "display_data"
    },
    {
     "name": "stdout",
     "output_type": "stream",
     "text": [
      "\n",
      "\n",
      "\n"
     ]
    },
    {
     "data": {
      "text/markdown": [
       "Bootstrapping from previous guess $-113410973.957775$"
      ],
      "text/plain": [
       "<IPython.core.display.Markdown object>"
      ]
     },
     "metadata": {},
     "output_type": "display_data"
    },
    {
     "name": "stdout",
     "output_type": "stream",
     "text": [
      "Solving for 3*(x + -113410973.957775)**5 + (x + -113410973.957775)**4 - 2*(x + -113410973.957775)**3 + (x + -113410973.957775)**2 - 4*(x + -113410973.957775) + 3 = "
     ]
    },
    {
     "data": {
      "text/markdown": [
       "$3.0 x^{5} - 1701164608.36663 x^{4} + 3.8586146996789 \\cdot 10^{17} x^{3} - 4.3760925096113 \\cdot 10^{25} x^{2} + 2.48148456676301 \\cdot 10^{33} x - 5.62855162824696 \\cdot 10^{40}$"
      ],
      "text/plain": [
       "<IPython.core.display.Markdown object>"
      ]
     },
     "metadata": {},
     "output_type": "display_data"
    },
    {
     "data": {
      "text/markdown": [
       "My new guess is p($-59869927.4721245$)= $-2.30762328454622 \\cdot 10^{39}$"
      ],
      "text/plain": [
       "<IPython.core.display.Markdown object>"
      ]
     },
     "metadata": {},
     "output_type": "display_data"
    },
    {
     "name": "stdout",
     "output_type": "stream",
     "text": [
      "\n",
      "\n",
      "\n"
     ]
    },
    {
     "data": {
      "text/markdown": [
       "Bootstrapping from previous guess $-59869927.4721245$"
      ],
      "text/plain": [
       "<IPython.core.display.Markdown object>"
      ]
     },
     "metadata": {},
     "output_type": "display_data"
    },
    {
     "name": "stdout",
     "output_type": "stream",
     "text": [
      "Solving for 3*(x + -59869927.472124465)**5 + (x + -59869927.472124465)**4 - 2*(x + -59869927.472124465)**3 + (x + -59869927.472124465)**2 - 4*(x + -59869927.472124465) + 3 = "
     ]
    },
    {
     "data": {
      "text/markdown": [
       "$3.0 x^{5} - 898048911.081867 x^{4} + 1.07532246226044 \\cdot 10^{17} x^{3} - 6.43794777529904 \\cdot 10^{24} x^{2} + 1.92719732973641 \\cdot 10^{32} x - 2.30762328454622 \\cdot 10^{39}$"
      ],
      "text/plain": [
       "<IPython.core.display.Markdown object>"
      ]
     },
     "metadata": {},
     "output_type": "display_data"
    },
    {
     "data": {
      "text/markdown": [
       "My new guess is p($-31605479.5414868$)= $-9.46091565840076 \\cdot 10^{37}$"
      ],
      "text/plain": [
       "<IPython.core.display.Markdown object>"
      ]
     },
     "metadata": {},
     "output_type": "display_data"
    },
    {
     "name": "stdout",
     "output_type": "stream",
     "text": [
      "\n",
      "\n",
      "\n"
     ]
    },
    {
     "data": {
      "text/markdown": [
       "Bootstrapping from previous guess $-31605479.5414868$"
      ],
      "text/plain": [
       "<IPython.core.display.Markdown object>"
      ]
     },
     "metadata": {},
     "output_type": "display_data"
    },
    {
     "name": "stdout",
     "output_type": "stream",
     "text": [
      "Solving for 3*(x + -31605479.54148679)**5 + (x + -31605479.54148679)**4 - 2*(x + -31605479.54148679)**3 + (x + -31605479.54148679)**2 - 4*(x + -31605479.54148679) + 3 = "
     ]
    },
    {
     "data": {
      "text/markdown": [
       "$3.0 x^{5} - 474082192.122302 x^{4} + 2.99671899849983 \\cdot 10^{16} x^{3} - 9.47127407988898 \\cdot 10^{23} x^{2} + 1.49672079266163 \\cdot 10^{31} x - 9.46091565840076 \\cdot 10^{37}$"
      ],
      "text/plain": [
       "<IPython.core.display.Markdown object>"
      ]
     },
     "metadata": {},
     "output_type": "display_data"
    },
    {
     "data": {
      "text/markdown": [
       "My new guess is p($-16684609.1203635$)= $-3.87883610357023 \\cdot 10^{36}$"
      ],
      "text/plain": [
       "<IPython.core.display.Markdown object>"
      ]
     },
     "metadata": {},
     "output_type": "display_data"
    },
    {
     "name": "stdout",
     "output_type": "stream",
     "text": [
      "\n",
      "\n",
      "\n"
     ]
    },
    {
     "data": {
      "text/markdown": [
       "Bootstrapping from previous guess $-16684609.1203635$"
      ],
      "text/plain": [
       "<IPython.core.display.Markdown object>"
      ]
     },
     "metadata": {},
     "output_type": "display_data"
    },
    {
     "name": "stdout",
     "output_type": "stream",
     "text": [
      "Solving for 3*(x + -16684609.120363522)**5 + (x + -16684609.120363522)**4 - 2*(x + -16684609.120363522)**3 + (x + -16684609.120363522)**2 - 4*(x + -16684609.120363522) + 3 = "
     ]
    },
    {
     "data": {
      "text/markdown": [
       "$3.0 x^{5} - 250269135.805453 x^{4} + 8.35128537824109 \\cdot 10^{15} x^{3} - 1.39337931631807 \\cdot 10^{23} x^{2} + 1.16239945781372 \\cdot 10^{30} x - 3.87883610357023 \\cdot 10^{36}$"
      ],
      "text/plain": [
       "<IPython.core.display.Markdown object>"
      ]
     },
     "metadata": {},
     "output_type": "display_data"
    },
    {
     "data": {
      "text/markdown": [
       "My new guess is p($-8807845.5384142$)= $-1.59026568480193 \\cdot 10^{35}$"
      ],
      "text/plain": [
       "<IPython.core.display.Markdown object>"
      ]
     },
     "metadata": {},
     "output_type": "display_data"
    },
    {
     "name": "stdout",
     "output_type": "stream",
     "text": [
      "\n",
      "\n",
      "\n"
     ]
    },
    {
     "data": {
      "text/markdown": [
       "Bootstrapping from previous guess $-8807845.5384142$"
      ],
      "text/plain": [
       "<IPython.core.display.Markdown object>"
      ]
     },
     "metadata": {},
     "output_type": "display_data"
    },
    {
     "name": "stdout",
     "output_type": "stream",
     "text": [
      "Solving for 3*(x + -8807845.538414195)**5 + (x + -8807845.538414195)**4 - 2*(x + -8807845.538414195)**3 + (x + -8807845.538414195)**2 - 4*(x + -8807845.538414195) + 3 = "
     ]
    },
    {
     "data": {
      "text/markdown": [
       "$3.0 x^{5} - 132117682.076213 x^{4} + 2.3273442556255 \\cdot 10^{15} x^{3} - 2.04988885631087 \\cdot 10^{22} x^{2} + 9.02755214032167 \\cdot 10^{28} x - 1.59026568480193 \\cdot 10^{35}$"
      ],
      "text/plain": [
       "<IPython.core.display.Markdown object>"
      ]
     },
     "metadata": {},
     "output_type": "display_data"
    },
    {
     "data": {
      "text/markdown": [
       "My new guess is p($-4649682.99327948$)= $-6.51985513368518 \\cdot 10^{33}$"
      ],
      "text/plain": [
       "<IPython.core.display.Markdown object>"
      ]
     },
     "metadata": {},
     "output_type": "display_data"
    },
    {
     "name": "stdout",
     "output_type": "stream",
     "text": [
      "\n",
      "\n",
      "\n"
     ]
    },
    {
     "data": {
      "text/markdown": [
       "Bootstrapping from previous guess $-4649682.99327948$"
      ],
      "text/plain": [
       "<IPython.core.display.Markdown object>"
      ]
     },
     "metadata": {},
     "output_type": "display_data"
    },
    {
     "name": "stdout",
     "output_type": "stream",
     "text": [
      "Solving for 3*(x + -4649682.993279479)**5 + (x + -4649682.993279479)**4 - 2*(x + -4649682.993279479)**3 + (x + -4649682.993279479)**2 - 4*(x + -4649682.993279479) + 3 = "
     ]
    },
    {
     "data": {
      "text/markdown": [
       "$3.0 x^{5} - 69745243.8991922 x^{4} + 648586539541039.0 x^{3} - 3.01572175933483 \\cdot 10^{21} x^{2} + 7.0110749878969 \\cdot 10^{27} x - 6.51985513368518 \\cdot 10^{33}$"
      ],
      "text/plain": [
       "<IPython.core.display.Markdown object>"
      ]
     },
     "metadata": {},
     "output_type": "display_data"
    },
    {
     "data": {
      "text/markdown": [
       "My new guess is p($-2454578.92904372$)= $-2.67304459691808 \\cdot 10^{32}$"
      ],
      "text/plain": [
       "<IPython.core.display.Markdown object>"
      ]
     },
     "metadata": {},
     "output_type": "display_data"
    },
    {
     "name": "stdout",
     "output_type": "stream",
     "text": [
      "\n",
      "\n",
      "\n"
     ]
    },
    {
     "data": {
      "text/markdown": [
       "Bootstrapping from previous guess $-2454578.92904372$"
      ],
      "text/plain": [
       "<IPython.core.display.Markdown object>"
      ]
     },
     "metadata": {},
     "output_type": "display_data"
    },
    {
     "name": "stdout",
     "output_type": "stream",
     "text": [
      "Solving for 3*(x + -2454578.9290437154)**5 + (x + -2454578.9290437154)**4 - 2*(x + -2454578.9290437154)**3 + (x + -2454578.9290437154)**2 - 4*(x + -2454578.9290437154) + 3 = "
     ]
    },
    {
     "data": {
      "text/markdown": [
       "$3.0 x^{5} - 36818682.9356557 x^{4} + 180748721748844.0 x^{3} - 4.43661991806373 \\cdot 10^{20} x^{2} + 5.44501673563992 \\cdot 10^{26} x - 2.67304459691808 \\cdot 10^{32}$"
      ],
      "text/plain": [
       "<IPython.core.display.Markdown object>"
      ]
     },
     "metadata": {},
     "output_type": "display_data"
    },
    {
     "data": {
      "text/markdown": [
       "My new guess is p($-1295778.184599$)= $-1.09590892291408 \\cdot 10^{31}$"
      ],
      "text/plain": [
       "<IPython.core.display.Markdown object>"
      ]
     },
     "metadata": {},
     "output_type": "display_data"
    },
    {
     "name": "stdout",
     "output_type": "stream",
     "text": [
      "\n",
      "\n",
      "\n"
     ]
    },
    {
     "data": {
      "text/markdown": [
       "Bootstrapping from previous guess $-1295778.184599$"
      ],
      "text/plain": [
       "<IPython.core.display.Markdown object>"
      ]
     },
     "metadata": {},
     "output_type": "display_data"
    },
    {
     "name": "stdout",
     "output_type": "stream",
     "text": [
      "Solving for 3*(x + -1295778.1845989984)**5 + (x + -1295778.1845989984)**4 - 2*(x + -1295778.1845989984)**3 + (x + -1295778.1845989984)**2 - 4*(x + -1295778.1845989984) + 3 = "
     ]
    },
    {
     "data": {
      "text/markdown": [
       "$3.0 x^{5} - 19436671.768985 x^{4} + 50371227927365.5 x^{3} - 6.52699349216567 \\cdot 10^{19} x^{2} + 4.22876767151697 \\cdot 10^{25} x - 1.09590892291408 \\cdot 10^{31}$"
      ],
      "text/plain": [
       "<IPython.core.display.Markdown object>"
      ]
     },
     "metadata": {},
     "output_type": "display_data"
    },
    {
     "data": {
      "text/markdown": [
       "My new guess is p($-684044.469007234$)= $-4.49306520627209 \\cdot 10^{29}$"
      ],
      "text/plain": [
       "<IPython.core.display.Markdown object>"
      ]
     },
     "metadata": {},
     "output_type": "display_data"
    },
    {
     "name": "stdout",
     "output_type": "stream",
     "text": [
      "\n",
      "\n",
      "\n"
     ]
    },
    {
     "data": {
      "text/markdown": [
       "Bootstrapping from previous guess $-684044.469007234$"
      ],
      "text/plain": [
       "<IPython.core.display.Markdown object>"
      ]
     },
     "metadata": {},
     "output_type": "display_data"
    },
    {
     "name": "stdout",
     "output_type": "stream",
     "text": [
      "Solving for 3*(x + -684044.4690072341)**5 + (x + -684044.4690072341)**4 - 2*(x + -684044.4690072341)**3 + (x + -684044.4690072341)**2 - 4*(x + -684044.4690072341) + 3 = "
     ]
    },
    {
     "data": {
      "text/markdown": [
       "$3.0 x^{5} - 10260666.0351085 x^{4} + 14037502331201.8 x^{3} - 9.60227489249833 \\cdot 10^{18} x^{2} + 3.28419119497293 \\cdot 10^{24} x - 4.49306520627209 \\cdot 10^{29}$"
      ],
      "text/plain": [
       "<IPython.core.display.Markdown object>"
      ]
     },
     "metadata": {},
     "output_type": "display_data"
    },
    {
     "data": {
      "text/markdown": [
       "My new guess is p($-361108.761047431$)= $-1.84209057210048 \\cdot 10^{28}$"
      ],
      "text/plain": [
       "<IPython.core.display.Markdown object>"
      ]
     },
     "metadata": {},
     "output_type": "display_data"
    },
    {
     "name": "stdout",
     "output_type": "stream",
     "text": [
      "\n",
      "\n",
      "\n"
     ]
    },
    {
     "data": {
      "text/markdown": [
       "Bootstrapping from previous guess $-361108.761047431$"
      ],
      "text/plain": [
       "<IPython.core.display.Markdown object>"
      ]
     },
     "metadata": {},
     "output_type": "display_data"
    },
    {
     "name": "stdout",
     "output_type": "stream",
     "text": [
      "Solving for 3*(x + -361108.7610474307)**5 + (x + -361108.7610474307)**4 - 2*(x + -361108.7610474307)**3 + (x + -361108.7610474307)**2 - 4*(x + -361108.7610474307) + 3 = "
     ]
    },
    {
     "data": {
      "text/markdown": [
       "$3.0 x^{5} - 5416630.41571146 x^{4} + 3911984674719.27 x^{3} - 1.41265167832389 \\cdot 10^{18} x^{2} + 2.5506040158675 \\cdot 10^{23} x - 1.84209057210048 \\cdot 10^{28}$"
      ],
      "text/plain": [
       "<IPython.core.display.Markdown object>"
      ]
     },
     "metadata": {},
     "output_type": "display_data"
    },
    {
     "data": {
      "text/markdown": [
       "My new guess is p($-190630.219784564$)= $-7.55230008921667 \\cdot 10^{26}$"
      ],
      "text/plain": [
       "<IPython.core.display.Markdown object>"
      ]
     },
     "metadata": {},
     "output_type": "display_data"
    },
    {
     "name": "stdout",
     "output_type": "stream",
     "text": [
      "\n",
      "\n",
      "\n"
     ]
    },
    {
     "data": {
      "text/markdown": [
       "Bootstrapping from previous guess $-190630.219784564$"
      ],
      "text/plain": [
       "<IPython.core.display.Markdown object>"
      ]
     },
     "metadata": {},
     "output_type": "display_data"
    },
    {
     "name": "stdout",
     "output_type": "stream",
     "text": [
      "Solving for 3*(x + -190630.2197845638)**5 + (x + -190630.2197845638)**4 - 2*(x + -190630.2197845638)**3 + (x + -190630.2197845638)**2 - 4*(x + -190630.2197845638) + 3 = "
     ]
    },
    {
     "data": {
      "text/markdown": [
       "$3.0 x^{5} - 2859452.29676846 x^{4} + 1090195658330.45 x^{3} - 2.07824165275188 \\cdot 10^{17} x^{2} + 1.98087762238878 \\cdot 10^{22} x - 7.55230008921667 \\cdot 10^{26}$"
      ],
      "text/plain": [
       "<IPython.core.display.Markdown object>"
      ]
     },
     "metadata": {},
     "output_type": "display_data"
    },
    {
     "data": {
      "text/markdown": [
       "My new guess is p($-100634.18554412$)= $-3.09633182544154 \\cdot 10^{25}$"
      ],
      "text/plain": [
       "<IPython.core.display.Markdown object>"
      ]
     },
     "metadata": {},
     "output_type": "display_data"
    },
    {
     "name": "stdout",
     "output_type": "stream",
     "text": [
      "\n",
      "\n",
      "\n"
     ]
    },
    {
     "data": {
      "text/markdown": [
       "Bootstrapping from previous guess $-100634.18554412$"
      ],
      "text/plain": [
       "<IPython.core.display.Markdown object>"
      ]
     },
     "metadata": {},
     "output_type": "display_data"
    },
    {
     "name": "stdout",
     "output_type": "stream",
     "text": [
      "Solving for 3*(x + -100634.18554412037)**5 + (x + -100634.18554412037)**4 - 2*(x + -100634.18554412037)**3 + (x + -100634.18554412037)**2 - 4*(x + -100634.18554412037) + 3 = "
     ]
    },
    {
     "data": {
      "text/markdown": [
       "$3.0 x^{5} - 1509511.7831618 x^{4} + 303816776465.111 x^{3} - 3.05743335993254 \\cdot 10^{16} x^{2} + 1.53841056098431 \\cdot 10^{21} x - 3.09633182544154 \\cdot 10^{25}$"
      ],
      "text/plain": [
       "<IPython.core.display.Markdown object>"
      ]
     },
     "metadata": {},
     "output_type": "display_data"
    },
    {
     "data": {
      "text/markdown": [
       "My new guess is p($-53125.0614109198$)= $-1.26945045348824 \\cdot 10^{24}$"
      ],
      "text/plain": [
       "<IPython.core.display.Markdown object>"
      ]
     },
     "metadata": {},
     "output_type": "display_data"
    },
    {
     "name": "stdout",
     "output_type": "stream",
     "text": [
      "\n",
      "\n",
      "\n"
     ]
    },
    {
     "data": {
      "text/markdown": [
       "Bootstrapping from previous guess $-53125.0614109198$"
      ],
      "text/plain": [
       "<IPython.core.display.Markdown object>"
      ]
     },
     "metadata": {},
     "output_type": "display_data"
    },
    {
     "name": "stdout",
     "output_type": "stream",
     "text": [
      "Solving for 3*(x + -53125.06141091984)**5 + (x + -53125.06141091984)**4 - 2*(x + -53125.06141091984)**3 + (x + -53125.06141091984)**2 - 4*(x + -53125.06141091984) + 3 = "
     ]
    },
    {
     "data": {
      "text/markdown": [
       "$3.0 x^{5} - 796874.921163798 x^{4} + 84667951995.1745 x^{3} - 4.49798450452366 \\cdot 10^{15} x^{2} + 1.19477701572244 \\cdot 10^{20} x - 1.26945045348824 \\cdot 10^{24}$"
      ],
      "text/plain": [
       "<IPython.core.display.Markdown object>"
      ]
     },
     "metadata": {},
     "output_type": "display_data"
    },
    {
     "data": {
      "text/markdown": [
       "My new guess is p($-28044.8798801327$)= $-5.20455992654256 \\cdot 10^{22}$"
      ],
      "text/plain": [
       "<IPython.core.display.Markdown object>"
      ]
     },
     "metadata": {},
     "output_type": "display_data"
    },
    {
     "name": "stdout",
     "output_type": "stream",
     "text": [
      "\n",
      "\n",
      "\n"
     ]
    },
    {
     "data": {
      "text/markdown": [
       "Bootstrapping from previous guess $-28044.8798801327$"
      ],
      "text/plain": [
       "<IPython.core.display.Markdown object>"
      ]
     },
     "metadata": {},
     "output_type": "display_data"
    },
    {
     "name": "stdout",
     "output_type": "stream",
     "text": [
      "Solving for 3*(x + -28044.87988013269)**5 + (x + -28044.87988013269)**4 - 2*(x + -28044.87988013269)**3 + (x + -28044.87988013269)**2 - 4*(x + -28044.87988013269) + 3 = "
     ]
    },
    {
     "data": {
      "text/markdown": [
       "$3.0 x^{5} - 420672.19820199 x^{4} + 23595346443.2126 x^{3} - 661727083587258.0 x^{2} + 9.27900622623124 \\cdot 10^{18} x - 5.20455992654256 \\cdot 10^{22}$"
      ],
      "text/plain": [
       "<IPython.core.display.Markdown object>"
      ]
     },
     "metadata": {},
     "output_type": "display_data"
    },
    {
     "data": {
      "text/markdown": [
       "My new guess is p($-14804.991395742$)= $-2.13379292989791 \\cdot 10^{21}$"
      ],
      "text/plain": [
       "<IPython.core.display.Markdown object>"
      ]
     },
     "metadata": {},
     "output_type": "display_data"
    },
    {
     "name": "stdout",
     "output_type": "stream",
     "text": [
      "\n",
      "\n",
      "\n"
     ]
    },
    {
     "data": {
      "text/markdown": [
       "Bootstrapping from previous guess $-14804.991395742$"
      ],
      "text/plain": [
       "<IPython.core.display.Markdown object>"
      ]
     },
     "metadata": {},
     "output_type": "display_data"
    },
    {
     "name": "stdout",
     "output_type": "stream",
     "text": [
      "Solving for 3*(x + -14804.991395742038)**5 + (x + -14804.991395742038)**4 - 2*(x + -14804.991395742038)**3 + (x + -14804.991395742038)**2 - 4*(x + -14804.991395742038) + 3 = "
     ]
    },
    {
     "data": {
      "text/markdown": [
       "$3.0 x^{5} - 222073.870936131 x^{4} + 6575573884.87429 x^{3} - 97350876352868.5 x^{2} + 7.20636197655445 \\cdot 10^{17} x - 2.13379292989791 \\cdot 10^{21}$"
      ],
      "text/plain": [
       "<IPython.core.display.Markdown object>"
      ]
     },
     "metadata": {},
     "output_type": "display_data"
    },
    {
     "data": {
      "text/markdown": [
       "My new guess is p($-7815.62224937781$)= $-8.74823679542953 \\cdot 10^{19}$"
      ],
      "text/plain": [
       "<IPython.core.display.Markdown object>"
      ]
     },
     "metadata": {},
     "output_type": "display_data"
    },
    {
     "name": "stdout",
     "output_type": "stream",
     "text": [
      "\n",
      "\n",
      "\n"
     ]
    },
    {
     "data": {
      "text/markdown": [
       "Bootstrapping from previous guess $-7815.62224937781$"
      ],
      "text/plain": [
       "<IPython.core.display.Markdown object>"
      ]
     },
     "metadata": {},
     "output_type": "display_data"
    },
    {
     "name": "stdout",
     "output_type": "stream",
     "text": [
      "Solving for 3*(x + -7815.622249377814)**5 + (x + -7815.622249377814)**4 - 2*(x + -7815.622249377814)**3 + (x + -7815.622249377814)**2 - 4*(x + -7815.622249377814) + 3 = "
     ]
    },
    {
     "data": {
      "text/markdown": [
       "$3.0 x^{5} - 117233.333740667 x^{4} + 1832487269.86009 x^{3} - 14321906078854.3 x^{2} + 5.59668263093454 \\cdot 10^{16} x - 8.74823679542953 \\cdot 10^{19}$"
      ],
      "text/plain": [
       "<IPython.core.display.Markdown object>"
      ]
     },
     "metadata": {},
     "output_type": "display_data"
    },
    {
     "data": {
      "text/markdown": [
       "My new guess is p($-4125.91738372691$)= $-3.58664825509768 \\cdot 10^{18}$"
      ],
      "text/plain": [
       "<IPython.core.display.Markdown object>"
      ]
     },
     "metadata": {},
     "output_type": "display_data"
    },
    {
     "name": "stdout",
     "output_type": "stream",
     "text": [
      "\n",
      "\n",
      "\n"
     ]
    },
    {
     "data": {
      "text/markdown": [
       "Bootstrapping from previous guess $-4125.91738372691$"
      ],
      "text/plain": [
       "<IPython.core.display.Markdown object>"
      ]
     },
     "metadata": {},
     "output_type": "display_data"
    },
    {
     "name": "stdout",
     "output_type": "stream",
     "text": [
      "Solving for 3*(x + -4125.917383726906)**5 + (x + -4125.917383726906)**4 - 2*(x + -4125.917383726906)**3 + (x + -4125.917383726906)**2 - 4*(x + -4125.917383726906) + 3 = "
     ]
    },
    {
     "data": {
      "text/markdown": [
       "$3.0 x^{5} - 61887.7607559036 x^{4} + 510679322.050662 x^{3} - 2106986629465.51 x^{2} + 4.34655609352707 \\cdot 10^{15} x - 3.58664825509768 \\cdot 10^{18}$"
      ],
      "text/plain": [
       "<IPython.core.display.Markdown object>"
      ]
     },
     "metadata": {},
     "output_type": "display_data"
    },
    {
     "data": {
      "text/markdown": [
       "My new guess is p($-2178.11328182951$)= $-1.4704729560174 \\cdot 10^{17}$"
      ],
      "text/plain": [
       "<IPython.core.display.Markdown object>"
      ]
     },
     "metadata": {},
     "output_type": "display_data"
    },
    {
     "name": "stdout",
     "output_type": "stream",
     "text": [
      "\n",
      "\n",
      "\n"
     ]
    },
    {
     "data": {
      "text/markdown": [
       "Bootstrapping from previous guess $-2178.11328182951$"
      ],
      "text/plain": [
       "<IPython.core.display.Markdown object>"
      ]
     },
     "metadata": {},
     "output_type": "display_data"
    },
    {
     "name": "stdout",
     "output_type": "stream",
     "text": [
      "Solving for 3*(x + -2178.1132818295114)**5 + (x + -2178.1132818295114)**4 - 2*(x + -2178.1132818295114)**3 + (x + -2178.1132818295114)**2 - 4*(x + -2178.1132818295114) + 3 = "
     ]
    },
    {
     "data": {
      "text/markdown": [
       "$3.0 x^{5} - 32670.6992274427 x^{4} + 142316609.601336 x^{3} - 309972200529.226 x^{2} + 337566935893555.0 x - 1.4704729560174 \\cdot 10^{17}$"
      ],
      "text/plain": [
       "<IPython.core.display.Markdown object>"
      ]
     },
     "metadata": {},
     "output_type": "display_data"
    },
    {
     "data": {
      "text/markdown": [
       "My new guess is p($-1149.8628241873$)= $-6.02872238677096 \\cdot 10^{15}$"
      ],
      "text/plain": [
       "<IPython.core.display.Markdown object>"
      ]
     },
     "metadata": {},
     "output_type": "display_data"
    },
    {
     "name": "stdout",
     "output_type": "stream",
     "text": [
      "\n",
      "\n",
      "\n"
     ]
    },
    {
     "data": {
      "text/markdown": [
       "Bootstrapping from previous guess $-1149.8628241873$"
      ],
      "text/plain": [
       "<IPython.core.display.Markdown object>"
      ]
     },
     "metadata": {},
     "output_type": "display_data"
    },
    {
     "name": "stdout",
     "output_type": "stream",
     "text": [
      "Solving for 3*(x + -1149.8628241873007)**5 + (x + -1149.8628241873007)**4 - 2*(x + -1149.8628241873007)**3 + (x + -1149.8628241873007)**2 - 4*(x + -1149.8628241873007) + 3 = "
     ]
    },
    {
     "data": {
      "text/markdown": [
       "$3.0 x^{5} - 17246.9423628095 x^{4} + 39660933.9821431 x^{3} - 45601984589.133 x^{2} + 26216489095000.9 x - 6.02872238677096 \\cdot 10^{15}$"
      ],
      "text/plain": [
       "<IPython.core.display.Markdown object>"
      ]
     },
     "metadata": {},
     "output_type": "display_data"
    },
    {
     "data": {
      "text/markdown": [
       "My new guess is p($-607.046993882869$)= $-247168710977854.0$"
      ],
      "text/plain": [
       "<IPython.core.display.Markdown object>"
      ]
     },
     "metadata": {},
     "output_type": "display_data"
    },
    {
     "name": "stdout",
     "output_type": "stream",
     "text": [
      "\n",
      "\n",
      "\n"
     ]
    },
    {
     "data": {
      "text/markdown": [
       "Bootstrapping from previous guess $-607.046993882869$"
      ],
      "text/plain": [
       "<IPython.core.display.Markdown object>"
      ]
     },
     "metadata": {},
     "output_type": "display_data"
    },
    {
     "name": "stdout",
     "output_type": "stream",
     "text": [
      "Solving for 3*(x + -607.046993882869)**5 + (x + -607.046993882869)**4 - 2*(x + -607.046993882869)**3 + (x + -607.046993882869)**2 - 4*(x + -607.046993882869) + 3 = "
     ]
    },
    {
     "data": {
      "text/markdown": [
       "$3.0 x^{5} - 9104.70490824303 x^{4} + 11052751.3954913 x^{3} - 6708800067.47414 x^{2} + 2036053649836.39 x - 247168710977854.0$"
      ],
      "text/plain": [
       "<IPython.core.display.Markdown object>"
      ]
     },
     "metadata": {},
     "output_type": "display_data"
    },
    {
     "data": {
      "text/markdown": [
       "My new guess is p($-320.49334302318$)= $-10133548859994.3$"
      ],
      "text/plain": [
       "<IPython.core.display.Markdown object>"
      ]
     },
     "metadata": {},
     "output_type": "display_data"
    },
    {
     "name": "stdout",
     "output_type": "stream",
     "text": [
      "\n",
      "\n",
      "\n"
     ]
    },
    {
     "data": {
      "text/markdown": [
       "Bootstrapping from previous guess $-320.49334302318$"
      ],
      "text/plain": [
       "<IPython.core.display.Markdown object>"
      ]
     },
     "metadata": {},
     "output_type": "display_data"
    },
    {
     "name": "stdout",
     "output_type": "stream",
     "text": [
      "Solving for 3*(x + -320.49334302318)**5 + (x + -320.49334302318)**4 - 2*(x + -320.49334302318)**3 + (x + -320.49334302318)**2 - 4*(x + -320.49334302318) + 3 = "
     ]
    },
    {
     "data": {
      "text/markdown": [
       "$3.0 x^{5} - 4806.4001453477 x^{4} + 3080195.51429312 x^{3} - 986975442.601588 x^{2} + 158126301119.145 x - 10133548859994.3$"
      ],
      "text/plain": [
       "<IPython.core.display.Markdown object>"
      ]
     },
     "metadata": {},
     "output_type": "display_data"
    },
    {
     "data": {
      "text/markdown": [
       "My new guess is p($-169.221241382126$)= $-415459941984.849$"
      ],
      "text/plain": [
       "<IPython.core.display.Markdown object>"
      ]
     },
     "metadata": {},
     "output_type": "display_data"
    },
    {
     "name": "stdout",
     "output_type": "stream",
     "text": [
      "\n",
      "\n",
      "\n"
     ]
    },
    {
     "data": {
      "text/markdown": [
       "Bootstrapping from previous guess $-169.221241382126$"
      ],
      "text/plain": [
       "<IPython.core.display.Markdown object>"
      ]
     },
     "metadata": {},
     "output_type": "display_data"
    },
    {
     "name": "stdout",
     "output_type": "stream",
     "text": [
      "Solving for 3*(x + -169.22124138212564)**5 + (x + -169.22124138212564)**4 - 2*(x + -169.22124138212564)**3 + (x + -169.22124138212564)**2 - 4*(x + -169.22124138212564) + 3 = "
     ]
    },
    {
     "data": {
      "text/markdown": [
       "$3.0 x^{5} - 2537.31862073189 x^{4} + 858395.971081701 x^{3} - 145200882.281825 x^{2} + 12280604818.985 x - 415459941984.849$"
      ],
      "text/plain": [
       "<IPython.core.display.Markdown object>"
      ]
     },
     "metadata": {},
     "output_type": "display_data"
    },
    {
     "data": {
      "text/markdown": [
       "My new guess is p($-89.3648355354071$)= $-17033150872.8192$"
      ],
      "text/plain": [
       "<IPython.core.display.Markdown object>"
      ]
     },
     "metadata": {},
     "output_type": "display_data"
    },
    {
     "name": "stdout",
     "output_type": "stream",
     "text": [
      "\n",
      "\n",
      "\n"
     ]
    },
    {
     "data": {
      "text/markdown": [
       "Bootstrapping from previous guess $-89.3648355354071$"
      ],
      "text/plain": [
       "<IPython.core.display.Markdown object>"
      ]
     },
     "metadata": {},
     "output_type": "display_data"
    },
    {
     "name": "stdout",
     "output_type": "stream",
     "text": [
      "Solving for 3*(x + -89.36483553540708)**5 + (x + -89.36483553540708)**4 - 2*(x + -89.36483553540708)**3 + (x + -89.36483553540708)**2 - 4*(x + -89.36483553540708) + 3 = "
     ]
    },
    {
     "data": {
      "text/markdown": [
       "$3.0 x^{5} - 1339.47253303111 x^{4} + 239222.755565969 x^{3} - 21361771.600477 x^{2} + 953757832.46762 x - 17033150872.8192$"
      ],
      "text/plain": [
       "<IPython.core.display.Markdown object>"
      ]
     },
     "metadata": {},
     "output_type": "display_data"
    },
    {
     "data": {
      "text/markdown": [
       "My new guess is p($-47.209408761295$)= $-698319851.516623$"
      ],
      "text/plain": [
       "<IPython.core.display.Markdown object>"
      ]
     },
     "metadata": {},
     "output_type": "display_data"
    },
    {
     "name": "stdout",
     "output_type": "stream",
     "text": [
      "\n",
      "\n",
      "\n"
     ]
    },
    {
     "data": {
      "text/markdown": [
       "Bootstrapping from previous guess $-47.209408761295$"
      ],
      "text/plain": [
       "<IPython.core.display.Markdown object>"
      ]
     },
     "metadata": {},
     "output_type": "display_data"
    },
    {
     "name": "stdout",
     "output_type": "stream",
     "text": [
      "Solving for 3*(x + -47.20940876129504)**5 + (x + -47.20940876129504)**4 - 2*(x + -47.20940876129504)**3 + (x + -47.20940876129504)**2 - 4*(x + -47.20940876129504) + 3 = "
     ]
    },
    {
     "data": {
      "text/markdown": [
       "$3.0 x^{5} - 707.141131419426 x^{4} + 66671.010632686 x^{3} - 3142851.6993009 x^{2} + 74074107.3310932 x - 698319851.516623$"
      ],
      "text/plain": [
       "<IPython.core.display.Markdown object>"
      ]
     },
     "metadata": {},
     "output_type": "display_data"
    },
    {
     "data": {
      "text/markdown": [
       "My new guess is p($-24.957325211306$)= $-28627899.0251527$"
      ],
      "text/plain": [
       "<IPython.core.display.Markdown object>"
      ]
     },
     "metadata": {},
     "output_type": "display_data"
    },
    {
     "name": "stdout",
     "output_type": "stream",
     "text": [
      "\n",
      "\n",
      "\n"
     ]
    },
    {
     "data": {
      "text/markdown": [
       "Bootstrapping from previous guess $-24.957325211306$"
      ],
      "text/plain": [
       "<IPython.core.display.Markdown object>"
      ]
     },
     "metadata": {},
     "output_type": "display_data"
    },
    {
     "name": "stdout",
     "output_type": "stream",
     "text": [
      "Solving for 3*(x + -24.957325211305967)**5 + (x + -24.957325211305967)**4 - 2*(x + -24.957325211305967)**3 + (x + -24.957325211305967)**2 - 4*(x + -24.957325211305967) + 3 = "
     ]
    },
    {
     "data": {
      "text/markdown": [
       "$3.0 x^{5} - 373.35987816959 x^{4} + 18584.2131502414 x^{3} - 462465.685922553 x^{2} + 5753498.0998077 x - 28627899.0251527$"
      ],
      "text/plain": [
       "<IPython.core.display.Markdown object>"
      ]
     },
     "metadata": {},
     "output_type": "display_data"
    },
    {
     "data": {
      "text/markdown": [
       "My new guess is p($-13.2141204059769$)= $-1173348.51311667$"
      ],
      "text/plain": [
       "<IPython.core.display.Markdown object>"
      ]
     },
     "metadata": {},
     "output_type": "display_data"
    },
    {
     "name": "stdout",
     "output_type": "stream",
     "text": [
      "\n",
      "\n",
      "\n"
     ]
    },
    {
     "data": {
      "text/markdown": [
       "Bootstrapping from previous guess $-13.2141204059769$"
      ],
      "text/plain": [
       "<IPython.core.display.Markdown object>"
      ]
     },
     "metadata": {},
     "output_type": "display_data"
    },
    {
     "name": "stdout",
     "output_type": "stream",
     "text": [
      "Solving for 3*(x + -13.214120405976907)**5 + (x + -13.214120405976907)**4 - 2*(x + -13.214120405976907)**3 + (x + -13.214120405976907)**2 - 4*(x + -13.214120405976907) + 3 = "
     ]
    },
    {
     "data": {
      "text/markdown": [
       "$3.0 x^{5} - 197.211806089654 x^{4} + 5183.53286148575 x^{3} - 68092.7449221795 x^{2} + 447037.848055549 x - 1173348.51311667$"
      ],
      "text/plain": [
       "<IPython.core.display.Markdown object>"
      ]
     },
     "metadata": {},
     "output_type": "display_data"
    },
    {
     "data": {
      "text/markdown": [
       "My new guess is p($-7.02277215047531$)= $-48040.969066418$"
      ],
      "text/plain": [
       "<IPython.core.display.Markdown object>"
      ]
     },
     "metadata": {},
     "output_type": "display_data"
    },
    {
     "name": "stdout",
     "output_type": "stream",
     "text": [
      "\n",
      "\n",
      "\n"
     ]
    },
    {
     "data": {
      "text/markdown": [
       "Bootstrapping from previous guess $-7.02277215047531$"
      ],
      "text/plain": [
       "<IPython.core.display.Markdown object>"
      ]
     },
     "metadata": {},
     "output_type": "display_data"
    },
    {
     "name": "stdout",
     "output_type": "stream",
     "text": [
      "Solving for 3*(x + -7.022772150475308)**5 + (x + -7.022772150475308)**4 - 2*(x + -7.022772150475308)**3 + (x + -7.022772150475308)**2 - 4*(x + -7.022772150475308) + 3 = "
     ]
    },
    {
     "data": {
      "text/markdown": [
       "$3.0 x^{5} - 104.34158225713 x^{4} + 1449.48877172285 x^{3} - 10051.699632525 x^{2} + 34786.547569945 x - 48040.9690664181$"
      ],
      "text/plain": [
       "<IPython.core.display.Markdown object>"
      ]
     },
     "metadata": {},
     "output_type": "display_data"
    },
    {
     "data": {
      "text/markdown": [
       "My new guess is p($-3.77398918780645$)= $-1954.0993971853$"
      ],
      "text/plain": [
       "<IPython.core.display.Markdown object>"
      ]
     },
     "metadata": {},
     "output_type": "display_data"
    },
    {
     "name": "stdout",
     "output_type": "stream",
     "text": [
      "\n",
      "\n",
      "\n"
     ]
    },
    {
     "data": {
      "text/markdown": [
       "Bootstrapping from previous guess $-3.77398918780645$"
      ],
      "text/plain": [
       "<IPython.core.display.Markdown object>"
      ]
     },
     "metadata": {},
     "output_type": "display_data"
    },
    {
     "name": "stdout",
     "output_type": "stream",
     "text": [
      "Solving for 3*(x + -3.7739891878064493)**5 + (x + -3.7739891878064493)**4 - 2*(x + -3.7739891878064493)**3 + (x + -3.7739891878064493)**2 - 4*(x + -3.7739891878064493) + 3 = "
     ]
    },
    {
     "data": {
      "text/markdown": [
       "$3.0 x^{5} - 55.6098378170967 x^{4} + 410.193874939174 x^{3} - 1503.48530339429 x^{2} + 2730.92576573858 x - 1954.0993971853$"
      ],
      "text/plain": [
       "<IPython.core.display.Markdown object>"
      ]
     },
     "metadata": {},
     "output_type": "display_data"
    },
    {
     "data": {
      "text/markdown": [
       "My new guess is p($-2.12508943995521$)= $-74.4146546329378$"
      ],
      "text/plain": [
       "<IPython.core.display.Markdown object>"
      ]
     },
     "metadata": {},
     "output_type": "display_data"
    },
    {
     "name": "stdout",
     "output_type": "stream",
     "text": [
      "\n",
      "\n",
      "\n"
     ]
    },
    {
     "data": {
      "text/markdown": [
       "Bootstrapping from previous guess $-2.12508943995521$"
      ],
      "text/plain": [
       "<IPython.core.display.Markdown object>"
      ]
     },
     "metadata": {},
     "output_type": "display_data"
    },
    {
     "name": "stdout",
     "output_type": "stream",
     "text": [
      "Solving for 3*(x + -2.125089439955213)**5 + (x + -2.125089439955213)**4 - 2*(x + -2.125089439955213)**3 + (x + -2.125089439955213)**2 - 4*(x + -2.125089439955213) + 3 = "
     ]
    },
    {
     "data": {
      "text/markdown": [
       "$3.0 x^{5} - 30.8763415993282 x^{4} + 124.979796074454 x^{3} - 247.060876830139 x^{2} + 232.180665837651 x - 74.4146546329378$"
      ],
      "text/plain": [
       "<IPython.core.display.Markdown object>"
      ]
     },
     "metadata": {},
     "output_type": "display_data"
    },
    {
     "data": {
      "text/markdown": [
       "My new guess is p($-1.52666831669474$)= $-0.893587683612054$"
      ],
      "text/plain": [
       "<IPython.core.display.Markdown object>"
      ]
     },
     "metadata": {},
     "output_type": "display_data"
    },
    {
     "name": "stdout",
     "output_type": "stream",
     "text": [
      "\n",
      "\n",
      "\n"
     ]
    },
    {
     "data": {
      "text/markdown": [
       "Bootstrapping from previous guess $-1.52666831669474$"
      ],
      "text/plain": [
       "<IPython.core.display.Markdown object>"
      ]
     },
     "metadata": {},
     "output_type": "display_data"
    },
    {
     "name": "stdout",
     "output_type": "stream",
     "text": [
      "Solving for 3*(x + -1.5266683166947368)**5 + (x + -1.5266683166947368)**4 - 2*(x + -1.5266683166947368)**3 + (x + -1.5266683166947368)**2 - 4*(x + -1.5266683166947368) + 3 = "
     ]
    },
    {
     "data": {
      "text/markdown": [
       "$3.0 x^{5} - 21.9000247504211 x^{4} + 61.8148112092073 x^{3} - 82.6026082103854 x^{2} + 46.2130109927395 x - 0.893587683612052$"
      ],
      "text/plain": [
       "<IPython.core.display.Markdown object>"
      ]
     },
     "metadata": {},
     "output_type": "display_data"
    },
    {
     "data": {
      "text/markdown": [
       "My new guess is p($-1.50662463290297$)= $-2.26041407813682 \\cdot 10^{-13}$"
      ],
      "text/plain": [
       "<IPython.core.display.Markdown object>"
      ]
     },
     "metadata": {},
     "output_type": "display_data"
    },
    {
     "name": "stdout",
     "output_type": "stream",
     "text": [
      "\n",
      "\n",
      "\n"
     ]
    },
    {
     "data": {
      "text/markdown": [
       "Bootstrapping from previous guess $-1.50662463290297$"
      ],
      "text/plain": [
       "<IPython.core.display.Markdown object>"
      ]
     },
     "metadata": {},
     "output_type": "display_data"
    },
    {
     "name": "stdout",
     "output_type": "stream",
     "text": [
      "Solving for 3*(x + -1.5066246329029738)**5 + (x + -1.5066246329029738)**4 - 2*(x + -1.5066246329029738)**3 + (x + -1.5066246329029738)**2 - 4*(x + -1.5066246329029738) + 3 = "
     ]
    },
    {
     "data": {
      "text/markdown": [
       "$3.0 x^{5} - 21.5993694935446 x^{4} + 60.0710350024887 x^{3} - 78.9381669581743 x^{2} + 42.9754890561849 x - 2.24709140184132 \\cdot 10^{-13}$"
      ],
      "text/plain": [
       "<IPython.core.display.Markdown object>"
      ]
     },
     "metadata": {},
     "output_type": "display_data"
    },
    {
     "data": {
      "text/markdown": [
       "My new guess is p($-1.50662463290297$)= $2.66453525910038 \\cdot 10^{-15}$"
      ],
      "text/plain": [
       "<IPython.core.display.Markdown object>"
      ]
     },
     "metadata": {},
     "output_type": "display_data"
    },
    {
     "name": "stdout",
     "output_type": "stream",
     "text": [
      "\n",
      "\n",
      "\n"
     ]
    },
    {
     "data": {
      "text/markdown": [
       "Bootstrapping from previous guess $-1.50662463290297$"
      ],
      "text/plain": [
       "<IPython.core.display.Markdown object>"
      ]
     },
     "metadata": {},
     "output_type": "display_data"
    },
    {
     "name": "stdout",
     "output_type": "stream",
     "text": [
      "Solving for 3*(x + -1.5066246329029684)**5 + (x + -1.5066246329029684)**4 - 2*(x + -1.5066246329029684)**3 + (x + -1.5066246329029684)**2 - 4*(x + -1.5066246329029684) + 3 = "
     ]
    },
    {
     "data": {
      "text/markdown": [
       "$3.0 x^{5} - 21.5993694935445 x^{4} + 60.0710350024883 x^{3} - 78.9381669581734 x^{2} + 42.9754890561841 x + 1.77635683940025 \\cdot 10^{-15}$"
      ],
      "text/plain": [
       "<IPython.core.display.Markdown object>"
      ]
     },
     "metadata": {},
     "output_type": "display_data"
    },
    {
     "data": {
      "text/markdown": [
       "My new guess is p($-1.50662463290297$)= $2.66453525910038 \\cdot 10^{-15}$"
      ],
      "text/plain": [
       "<IPython.core.display.Markdown object>"
      ]
     },
     "metadata": {},
     "output_type": "display_data"
    },
    {
     "data": {
      "text/markdown": [
       "Found a good approximation for p(x) = $3 x^{5} + x^{4} - 2 x^{3} + x^{2} - 4 x + 3$"
      ],
      "text/plain": [
       "<IPython.core.display.Markdown object>"
      ]
     },
     "metadata": {},
     "output_type": "display_data"
    },
    {
     "data": {
      "image/png": "[encoded data removed]",
      "text/latex": [
       "$\\displaystyle -1.50662463290297$"
      ],
      "text/plain": [
       "-1.50662463290297"
      ]
     },
     "metadata": {},
     "output_type": "display_data"
    },
    {
     "data": {
      "text/markdown": [
       "p($-1.50662463290297$) = $2.66453525910037569701671600342 \\cdot 10^{-15}$"
      ],
      "text/plain": [
       "<IPython.core.display.Markdown object>"
      ]
     },
     "metadata": {},
     "output_type": "display_data"
    },
    {
     "name": "stdout",
     "output_type": "stream",
     "text": [
      "Recursion: 64 \n",
      "\n",
      "\n",
      "\n",
      "\n",
      "\n",
      "Insert an expression with explicit math symbols (example: \"x^5-10*x^3+.02*x^4+x**7\"):\n",
      "3-4*x + x^2-2*x^3+x^4+3*x^5\n",
      "Insert the depth for the formula:\n",
      "0\n",
      "Please, insert your guess (or 0 otherwise):\n",
      "9999\n"
     ]
    },
    {
     "data": {
      "text/markdown": [
       "Using the formula $- c_{0} / c_{1}$"
      ],
      "text/plain": [
       "<IPython.core.display.Markdown object>"
      ]
     },
     "metadata": {},
     "output_type": "display_data"
    },
    {
     "name": "stdout",
     "output_type": "stream",
     "text": [
      "\n",
      "\n",
      "\n"
     ]
    },
    {
     "data": {
      "text/markdown": [
       "Bootstrapping from previous guess $9999.0$"
      ],
      "text/plain": [
       "<IPython.core.display.Markdown object>"
      ]
     },
     "metadata": {},
     "output_type": "display_data"
    },
    {
     "name": "stdout",
     "output_type": "stream",
     "text": [
      "Solving for 3*(x + 9999.0)**5 + (x + 9999.0)**4 - 2*(x + 9999.0)**3 + (x + 9999.0)**2 - 4*(x + 9999.0) + 3 = "
     ]
    },
    {
     "data": {
      "text/markdown": [
       "$3.0 x^{5} + 149986.0 x^{4} + 2999440024.0 x^{3} + 29991600719983.0 x^{2} + 1.4994400719966 \\cdot 10^{17} x + 2.998600239983 \\cdot 10^{20}$"
      ],
      "text/plain": [
       "<IPython.core.display.Markdown object>"
      ]
     },
     "metadata": {},
     "output_type": "display_data"
    },
    {
     "data": {
      "text/markdown": [
       "My new guess is p($7999.18667235552$)= $9.8258132620094 \\cdot 10^{19}$"
      ],
      "text/plain": [
       "<IPython.core.display.Markdown object>"
      ]
     },
     "metadata": {},
     "output_type": "display_data"
    },
    {
     "name": "stdout",
     "output_type": "stream",
     "text": [
      "\n",
      "\n",
      "\n"
     ]
    },
    {
     "data": {
      "text/markdown": [
       "Bootstrapping from previous guess $7999.18667235552$"
      ],
      "text/plain": [
       "<IPython.core.display.Markdown object>"
      ]
     },
     "metadata": {},
     "output_type": "display_data"
    },
    {
     "name": "stdout",
     "output_type": "stream",
     "text": [
      "Solving for 3*(x + 7999.18667235552)**5 + (x + 7999.18667235552)**4 - 2*(x + 7999.18667235552)**3 + (x + 7999.18667235552)**2 - 4*(x + 7999.18667235552) + 3 = "
     ]
    },
    {
     "data": {
      "text/markdown": [
       "$3.0 x^{5} + 119988.800085333 x^{4} + 1919641617.3224 x^{3} + 15355699582963.4 x^{2} + 6.1417065376276 \\cdot 10^{16} x + 9.8258132620094 \\cdot 10^{19}$"
      ],
      "text/plain": [
       "<IPython.core.display.Markdown object>"
      ]
     },
     "metadata": {},
     "output_type": "display_data"
    },
    {
     "data": {
      "text/markdown": [
       "My new guess is p($6399.33601166197$)= $3.21972248745951 \\cdot 10^{19}$"
      ],
      "text/plain": [
       "<IPython.core.display.Markdown object>"
      ]
     },
     "metadata": {},
     "output_type": "display_data"
    },
    {
     "name": "stdout",
     "output_type": "stream",
     "text": [
      "\n",
      "\n",
      "\n"
     ]
    },
    {
     "data": {
      "text/markdown": [
       "Bootstrapping from previous guess $6399.33601166197$"
      ],
      "text/plain": [
       "<IPython.core.display.Markdown object>"
      ]
     },
     "metadata": {},
     "output_type": "display_data"
    },
    {
     "name": "stdout",
     "output_type": "stream",
     "text": [
      "Solving for 3*(x + 6399.336011661972)**5 + (x + 6399.336011661972)**4 - 2*(x + 6399.336011661972)**3 + (x + 6399.336011661972)**2 - 4*(x + 6399.336011661972) + 3 = "
     ]
    },
    {
     "data": {
      "text/markdown": [
       "$3.0 x^{5} + 95991.0401749296 x^{4} + 1228570637.04866 x^{3} + 7862118197942.41 x^{2} + 2.51564299955906 \\cdot 10^{16} x + 3.21972248745951 \\cdot 10^{19}$"
      ],
      "text/plain": [
       "<IPython.core.display.Markdown object>"
      ]
     },
     "metadata": {},
     "output_type": "display_data"
    },
    {
     "data": {
      "text/markdown": [
       "My new guess is p($5119.45548488458$)= $1.05503866354611 \\cdot 10^{19}$"
      ],
      "text/plain": [
       "<IPython.core.display.Markdown object>"
      ]
     },
     "metadata": {},
     "output_type": "display_data"
    },
    {
     "name": "stdout",
     "output_type": "stream",
     "text": [
      "\n",
      "\n",
      "\n"
     ]
    },
    {
     "data": {
      "text/markdown": [
       "Bootstrapping from previous guess $5119.45548488458$"
      ],
      "text/plain": [
       "<IPython.core.display.Markdown object>"
      ]
     },
     "metadata": {},
     "output_type": "display_data"
    },
    {
     "name": "stdout",
     "output_type": "stream",
     "text": [
      "Solving for 3*(x + 5119.45548488458)**5 + (x + 5119.45548488458)**4 - 2*(x + 5119.45548488458)**3 + (x + 5119.45548488458)**2 - 4*(x + 5119.45548488458) + 3 = "
     ]
    },
    {
     "data": {
      "text/markdown": [
       "$3.0 x^{5} + 76792.8322732687 x^{4} + 786285209.673384 x^{3} + 4025404526518.13 x^{2} + 1.03040737373726 \\cdot 10^{16} x + 1.05503866354611 \\cdot 10^{19}$"
      ],
      "text/plain": [
       "<IPython.core.display.Markdown object>"
      ]
     },
     "metadata": {},
     "output_type": "display_data"
    },
    {
     "data": {
      "text/markdown": [
       "My new guess is p($4095.55106568432$)= $3.45715068684796 \\cdot 10^{18}$"
      ],
      "text/plain": [
       "<IPython.core.display.Markdown object>"
      ]
     },
     "metadata": {},
     "output_type": "display_data"
    },
    {
     "name": "stdout",
     "output_type": "stream",
     "text": [
      "\n",
      "\n",
      "\n"
     ]
    },
    {
     "data": {
      "text/markdown": [
       "Bootstrapping from previous guess $4095.55106568432$"
      ],
      "text/plain": [
       "<IPython.core.display.Markdown object>"
      ]
     },
     "metadata": {},
     "output_type": "display_data"
    },
    {
     "name": "stdout",
     "output_type": "stream",
     "text": [
      "Solving for 3*(x + 4095.551065684317)**5 + (x + 4095.551065684317)**4 - 2*(x + 4095.551065684317)**3 + (x + 4095.551065684317)**2 - 4*(x + 4095.551065684317) + 3 = "
     ]
    },
    {
     "data": {
      "text/markdown": [
       "$3.0 x^{5} + 61434.2659852647 x^{4} + 503222536.153101 x^{3} + 2061007124914.06 x^{2} + 4.2205486099815 \\cdot 10^{15} x + 3.45715068684796 \\cdot 10^{18}$"
      ],
      "text/plain": [
       "<IPython.core.display.Markdown object>"
      ]
     },
     "metadata": {},
     "output_type": "display_data"
    },
    {
     "data": {
      "text/markdown": [
       "My new guess is p($3276.42753310093$)= $1.13283913406636 \\cdot 10^{18}$"
      ],
      "text/plain": [
       "<IPython.core.display.Markdown object>"
      ]
     },
     "metadata": {},
     "output_type": "display_data"
    },
    {
     "name": "stdout",
     "output_type": "stream",
     "text": [
      "\n",
      "\n",
      "\n"
     ]
    },
    {
     "data": {
      "text/markdown": [
       "Bootstrapping from previous guess $3276.42753310093$"
      ],
      "text/plain": [
       "<IPython.core.display.Markdown object>"
      ]
     },
     "metadata": {},
     "output_type": "display_data"
    },
    {
     "name": "stdout",
     "output_type": "stream",
     "text": [
      "Solving for 3*(x + 3276.4275331009285)**5 + (x + 3276.4275331009285)**4 - 2*(x + 3276.4275331009285)**3 + (x + 3276.4275331009285)**2 - 4*(x + 3276.4275331009285) + 3 = "
     ]
    },
    {
     "data": {
      "text/markdown": [
       "$3.0 x^{5} + 49147.4129965139 x^{4} + 322062425.099988 x^{3} + 1055235653824.9 x^{2} + 1.72873671522627 \\cdot 10^{15} x + 1.13283913406636 \\cdot 10^{18}$"
      ],
      "text/plain": [
       "<IPython.core.display.Markdown object>"
      ]
     },
     "metadata": {},
     "output_type": "display_data"
    },
    {
     "data": {
      "text/markdown": [
       "My new guess is p($2621.12871050487$)= $3.71208725915078 \\cdot 10^{17}$"
      ],
      "text/plain": [
       "<IPython.core.display.Markdown object>"
      ]
     },
     "metadata": {},
     "output_type": "display_data"
    },
    {
     "name": "stdout",
     "output_type": "stream",
     "text": [
      "\n",
      "\n",
      "\n"
     ]
    },
    {
     "data": {
      "text/markdown": [
       "Bootstrapping from previous guess $2621.12871050487$"
      ],
      "text/plain": [
       "<IPython.core.display.Markdown object>"
      ]
     },
     "metadata": {},
     "output_type": "display_data"
    },
    {
     "name": "stdout",
     "output_type": "stream",
     "text": [
      "Solving for 3*(x + 2621.128710504865)**5 + (x + 2621.128710504865)**4 - 2*(x + 2621.128710504865)**3 + (x + 2621.128710504865)**2 - 4*(x + 2621.128710504865) + 3 = "
     ]
    },
    {
     "data": {
      "text/markdown": [
       "$3.0 x^{5} + 39317.930657573 x^{4} + 206119954.025829 x^{3} + 540280659452.962 x^{2} + 708090561486087.0 x + 3.71208725915077 \\cdot 10^{17}$"
      ],
      "text/plain": [
       "<IPython.core.display.Markdown object>"
      ]
     },
     "metadata": {},
     "output_type": "display_data"
    },
    {
     "data": {
      "text/markdown": [
       "My new guess is p($2096.88965676573$)= $1.21637674521659 \\cdot 10^{17}$"
      ],
      "text/plain": [
       "<IPython.core.display.Markdown object>"
      ]
     },
     "metadata": {},
     "output_type": "display_data"
    },
    {
     "name": "stdout",
     "output_type": "stream",
     "text": [
      "\n",
      "\n",
      "\n"
     ]
    },
    {
     "data": {
      "text/markdown": [
       "Bootstrapping from previous guess $2096.88965676573$"
      ],
      "text/plain": [
       "<IPython.core.display.Markdown object>"
      ]
     },
     "metadata": {},
     "output_type": "display_data"
    },
    {
     "name": "stdout",
     "output_type": "stream",
     "text": [
      "Solving for 3*(x + 2096.8896567657325)**5 + (x + 2096.8896567657325)**4 - 2*(x + 2096.8896567657325)**3 + (x + 2096.8896567657325)**2 - 4*(x + 2096.8896567657325) + 3 = "
     ]
    },
    {
     "data": {
      "text/markdown": [
       "$3.0 x^{5} + 31454.344851486 x^{4} + 131916772.53816 x^{3} + 276623701395.093 x^{2} + 290033895859191.0 x + 1.21637674521659 \\cdot 10^{17}$"
      ],
      "text/plain": [
       "<IPython.core.display.Markdown object>"
      ]
     },
     "metadata": {},
     "output_type": "display_data"
    },
    {
     "data": {
      "text/markdown": [
       "My new guess is p($1677.49841919565$)= $3.98582327848082 \\cdot 10^{16}$"
      ],
      "text/plain": [
       "<IPython.core.display.Markdown object>"
      ]
     },
     "metadata": {},
     "output_type": "display_data"
    },
    {
     "name": "stdout",
     "output_type": "stream",
     "text": [
      "\n",
      "\n",
      "\n"
     ]
    },
    {
     "data": {
      "text/markdown": [
       "Bootstrapping from previous guess $1677.49841919565$"
      ],
      "text/plain": [
       "<IPython.core.display.Markdown object>"
      ]
     },
     "metadata": {},
     "output_type": "display_data"
    },
    {
     "name": "stdout",
     "output_type": "stream",
     "text": [
      "Solving for 3*(x + 1677.4984191956496)**5 + (x + 1677.4984191956496)**4 - 2*(x + 1677.4984191956496)**3 + (x + 1677.4984191956496)**2 - 4*(x + 1677.4984191956496) + 3 = "
     ]
    },
    {
     "data": {
      "text/markdown": [
       "$3.0 x^{5} + 25163.4762879347 x^{4} + 84426736.3857939 x^{3} + 141631338117.916 x^{2} + 118797884943333.0 x + 3.98582327848082 \\cdot 10^{16}$"
      ],
      "text/plain": [
       "<IPython.core.display.Markdown object>"
      ]
     },
     "metadata": {},
     "output_type": "display_data"
    },
    {
     "data": {
      "text/markdown": [
       "My new guess is p($1341.98543591467$)= $1.30607455129249 \\cdot 10^{16}$"
      ],
      "text/plain": [
       "<IPython.core.display.Markdown object>"
      ]
     },
     "metadata": {},
     "output_type": "display_data"
    },
    {
     "name": "stdout",
     "output_type": "stream",
     "text": [
      "\n",
      "\n",
      "\n"
     ]
    },
    {
     "data": {
      "text/markdown": [
       "Bootstrapping from previous guess $1341.98543591467$"
      ],
      "text/plain": [
       "<IPython.core.display.Markdown object>"
      ]
     },
     "metadata": {},
     "output_type": "display_data"
    },
    {
     "name": "stdout",
     "output_type": "stream",
     "text": [
      "Solving for 3*(x + 1341.9854359146707)**5 + (x + 1341.9854359146707)**4 - 2*(x + 1341.9854359146707)**3 + (x + 1341.9854359146707)**2 - 4*(x + 1341.9854359146707) + 3 = "
     ]
    },
    {
     "data": {
      "text/markdown": [
       "$3.0 x^{5} + 20130.7815387201 x^{4} + 54033113.2479563 x^{3} + 72515247518.7641 x^{2} + 48659614440199.4 x + 1.30607455129249 \\cdot 10^{16}$"
      ],
      "text/plain": [
       "<IPython.core.display.Markdown object>"
      ]
     },
     "metadata": {},
     "output_type": "display_data"
    },
    {
     "data": {
      "text/markdown": [
       "My new guess is p($1073.5750577565$)= $4.27974498423633 \\cdot 10^{15}$"
      ],
      "text/plain": [
       "<IPython.core.display.Markdown object>"
      ]
     },
     "metadata": {},
     "output_type": "display_data"
    },
    {
     "name": "stdout",
     "output_type": "stream",
     "text": [
      "\n",
      "\n",
      "\n"
     ]
    },
    {
     "data": {
      "text/markdown": [
       "Bootstrapping from previous guess $1073.5750577565$"
      ],
      "text/plain": [
       "<IPython.core.display.Markdown object>"
      ]
     },
     "metadata": {},
     "output_type": "display_data"
    },
    {
     "name": "stdout",
     "output_type": "stream",
     "text": [
      "Solving for 3*(x + 1073.5750577564968)**5 + (x + 1073.5750577564968)**4 - 2*(x + 1073.5750577564968)**3 + (x + 1073.5750577564968)**2 - 4*(x + 1073.5750577564968) + 3 = "
     ]
    },
    {
     "data": {
      "text/markdown": [
       "$3.0 x^{5} + 16104.6258663475 x^{4} + 34581194.439337 x^{3} + 37127808651.0089 x^{2} + 19930978565679.4 x + 4.27974498423633 \\cdot 10^{15}$"
      ],
      "text/plain": [
       "<IPython.core.display.Markdown object>"
      ]
     },
     "metadata": {},
     "output_type": "display_data"
    },
    {
     "data": {
      "text/markdown": [
       "My new guess is p($858.846765809711$)= $1.40238678247136 \\cdot 10^{15}$"
      ],
      "text/plain": [
       "<IPython.core.display.Markdown object>"
      ]
     },
     "metadata": {},
     "output_type": "display_data"
    },
    {
     "name": "stdout",
     "output_type": "stream",
     "text": [
      "\n",
      "\n",
      "\n"
     ]
    },
    {
     "data": {
      "text/markdown": [
       "Bootstrapping from previous guess $858.846765809711$"
      ],
      "text/plain": [
       "<IPython.core.display.Markdown object>"
      ]
     },
     "metadata": {},
     "output_type": "display_data"
    },
    {
     "name": "stdout",
     "output_type": "stream",
     "text": [
      "Solving for 3*(x + 858.8467658097107)**5 + (x + 858.8467658097107)**4 - 2*(x + 858.8467658097107)**3 + (x + 858.8467658097107)**2 - 4*(x + 858.8467658097107) + 3 = "
     ]
    },
    {
     "data": {
      "text/markdown": [
       "$3.0 x^{5} + 12883.7014871457 x^{4} + 22131966.4013172 x^{3} + 19009439565.9277 x^{2} + 8163729134590.77 x + 1.40238678247136 \\cdot 10^{15}$"
      ],
      "text/plain": [
       "<IPython.core.display.Markdown object>"
      ]
     },
     "metadata": {},
     "output_type": "display_data"
    },
    {
     "data": {
      "text/markdown": [
       "My new guess is p($687.064145471505$)= $459534073264776.0$"
      ],
      "text/plain": [
       "<IPython.core.display.Markdown object>"
      ]
     },
     "metadata": {},
     "output_type": "display_data"
    },
    {
     "name": "stdout",
     "output_type": "stream",
     "text": [
      "\n",
      "\n",
      "\n"
     ]
    },
    {
     "data": {
      "text/markdown": [
       "Bootstrapping from previous guess $687.064145471505$"
      ],
      "text/plain": [
       "<IPython.core.display.Markdown object>"
      ]
     },
     "metadata": {},
     "output_type": "display_data"
    },
    {
     "name": "stdout",
     "output_type": "stream",
     "text": [
      "Solving for 3*(x + 687.0641454715047)**5 + (x + 687.0641454715047)**4 - 2*(x + 687.0641454715047)**3 + (x + 687.0641454715047)**2 - 4*(x + 687.0641454715047) + 3 = "
     ]
    },
    {
     "data": {
      "text/markdown": [
       "$3.0 x^{5} + 10306.9621820726 x^{4} + 14164460.4563566 x^{3} + 9732834286.53494 x^{2} + 3343863654437.63 x + 459534073264776.0$"
      ],
      "text/plain": [
       "<IPython.core.display.Markdown object>"
      ]
     },
     "metadata": {},
     "output_type": "display_data"
    },
    {
     "data": {
      "text/markdown": [
       "My new guess is p($549.638065716449$)= $150580110997047.0$"
      ],
      "text/plain": [
       "<IPython.core.display.Markdown object>"
      ]
     },
     "metadata": {},
     "output_type": "display_data"
    },
    {
     "name": "stdout",
     "output_type": "stream",
     "text": [
      "\n",
      "\n",
      "\n"
     ]
    },
    {
     "data": {
      "text/markdown": [
       "Bootstrapping from previous guess $549.638065716449$"
      ],
      "text/plain": [
       "<IPython.core.display.Markdown object>"
      ]
     },
     "metadata": {},
     "output_type": "display_data"
    },
    {
     "name": "stdout",
     "output_type": "stream",
     "text": [
      "Solving for 3*(x + 549.6380657164494)**5 + (x + 549.6380657164494)**4 - 2*(x + 549.6380657164494)**3 + (x + 549.6380657164494)**2 - 4*(x + 549.6380657164494) + 3 = "
     ]
    },
    {
     "data": {
      "text/markdown": [
       "$3.0 x^{5} + 8245.57098574674 x^{4} + 9065256.65079847 x^{3} + 4983212137.22235 x^{2} + 1369646681354.0 x + 150580110997047.0$"
      ],
      "text/plain": [
       "<IPython.core.display.Markdown object>"
      ]
     },
     "metadata": {},
     "output_type": "display_data"
    },
    {
     "data": {
      "text/markdown": [
       "My new guess is p($439.697222543531$)= $49342083542345.4$"
      ],
      "text/plain": [
       "<IPython.core.display.Markdown object>"
      ]
     },
     "metadata": {},
     "output_type": "display_data"
    },
    {
     "name": "stdout",
     "output_type": "stream",
     "text": [
      "\n",
      "\n",
      "\n"
     ]
    },
    {
     "data": {
      "text/markdown": [
       "Bootstrapping from previous guess $439.697222543531$"
      ],
      "text/plain": [
       "<IPython.core.display.Markdown object>"
      ]
     },
     "metadata": {},
     "output_type": "display_data"
    },
    {
     "name": "stdout",
     "output_type": "stream",
     "text": [
      "Solving for 3*(x + 439.6972225435313)**5 + (x + 439.6972225435313)**4 - 2*(x + 439.6972225435313)**3 + (x + 439.6972225435313)**2 - 4*(x + 439.6972225435313) + 3 = "
     ]
    },
    {
     "data": {
      "text/markdown": [
       "$3.0 x^{5} + 6596.45833815297 x^{4} + 5801766.21426504 x^{3} + 2551405399.76537 x^{2} + 561007362852.14 x + 49342083542345.4$"
      ],
      "text/plain": [
       "<IPython.core.display.Markdown object>"
      ]
     },
     "metadata": {},
     "output_type": "display_data"
    },
    {
     "data": {
      "text/markdown": [
       "My new guess is p($351.744573773483$)= $16168410237369.3$"
      ],
      "text/plain": [
       "<IPython.core.display.Markdown object>"
      ]
     },
     "metadata": {},
     "output_type": "display_data"
    },
    {
     "name": "stdout",
     "output_type": "stream",
     "text": [
      "\n",
      "\n",
      "\n"
     ]
    },
    {
     "data": {
      "text/markdown": [
       "Bootstrapping from previous guess $351.744573773483$"
      ],
      "text/plain": [
       "<IPython.core.display.Markdown object>"
      ]
     },
     "metadata": {},
     "output_type": "display_data"
    },
    {
     "name": "stdout",
     "output_type": "stream",
     "text": [
      "Solving for 3*(x + 351.7445737734829)**5 + (x + 351.7445737734829)**4 - 2*(x + 351.7445737734829)**3 + (x + 351.7445737734829)**2 - 4*(x + 351.7445737734829) + 3 = "
     ]
    },
    {
     "data": {
      "text/markdown": [
       "$3.0 x^{5} + 5277.16860660224 x^{4} + 3713132.33366777 x^{3} + 1306320192.58257 x^{2} + 229788668358.592 x + 16168410237369.3$"
      ],
      "text/plain": [
       "<IPython.core.display.Markdown object>"
      ]
     },
     "metadata": {},
     "output_type": "display_data"
    },
    {
     "data": {
      "text/markdown": [
       "My new guess is p($281.382486935772$)= $5298062775568.34$"
      ],
      "text/plain": [
       "<IPython.core.display.Markdown object>"
      ]
     },
     "metadata": {},
     "output_type": "display_data"
    },
    {
     "name": "stdout",
     "output_type": "stream",
     "text": [
      "\n",
      "\n",
      "\n"
     ]
    },
    {
     "data": {
      "text/markdown": [
       "Bootstrapping from previous guess $281.382486935772$"
      ],
      "text/plain": [
       "<IPython.core.display.Markdown object>"
      ]
     },
     "metadata": {},
     "output_type": "display_data"
    },
    {
     "name": "stdout",
     "output_type": "stream",
     "text": [
      "Solving for 3*(x + 281.3824869357715)**5 + (x + 281.3824869357715)**4 - 2*(x + 281.3824869357715)**3 + (x + 281.3824869357715)**2 - 4*(x + 281.3824869357715) + 3 = "
     ]
    },
    {
     "data": {
      "text/markdown": [
       "$3.0 x^{5} + 4221.73730403657 x^{4} + 2376406.64857253 x^{3} + 668836440.424001 x^{2} + 94121472138.6857 x + 5298062775568.34$"
      ],
      "text/plain": [
       "<IPython.core.display.Markdown object>"
      ]
     },
     "metadata": {},
     "output_type": "display_data"
    },
    {
     "data": {
      "text/markdown": [
       "My new guess is p($225.092857638837$)= $1736068243529.02$"
      ],
      "text/plain": [
       "<IPython.core.display.Markdown object>"
      ]
     },
     "metadata": {},
     "output_type": "display_data"
    },
    {
     "name": "stdout",
     "output_type": "stream",
     "text": [
      "\n",
      "\n",
      "\n"
     ]
    },
    {
     "data": {
      "text/markdown": [
       "Bootstrapping from previous guess $225.092857638837$"
      ],
      "text/plain": [
       "<IPython.core.display.Markdown object>"
      ]
     },
     "metadata": {},
     "output_type": "display_data"
    },
    {
     "name": "stdout",
     "output_type": "stream",
     "text": [
      "Solving for 3*(x + 225.09285763883724)**5 + (x + 225.09285763883724)**4 - 2*(x + 225.09285763883724)**3 + (x + 225.09285763883724)**2 - 4*(x + 225.09285763883724) + 3 = "
     ]
    },
    {
     "data": {
      "text/markdown": [
       "$3.0 x^{5} + 3377.39286458256 x^{4} + 1520902.20823109 x^{3} + 342444658.457644 x^{2} + 38552176444.5238 x + 1736068243529.02$"
      ],
      "text/plain": [
       "<IPython.core.display.Markdown object>"
      ]
     },
     "metadata": {},
     "output_type": "display_data"
    },
    {
     "data": {
      "text/markdown": [
       "My new guess is p($180.061204340943$)= $568874347958.138$"
      ],
      "text/plain": [
       "<IPython.core.display.Markdown object>"
      ]
     },
     "metadata": {},
     "output_type": "display_data"
    },
    {
     "name": "stdout",
     "output_type": "stream",
     "text": [
      "\n",
      "\n",
      "\n"
     ]
    },
    {
     "data": {
      "text/markdown": [
       "Bootstrapping from previous guess $180.061204340943$"
      ],
      "text/plain": [
       "<IPython.core.display.Markdown object>"
      ]
     },
     "metadata": {},
     "output_type": "display_data"
    },
    {
     "name": "stdout",
     "output_type": "stream",
     "text": [
      "Solving for 3*(x + 180.06120434094348)**5 + (x + 180.06120434094348)**4 - 2*(x + 180.06120434094348)**3 + (x + 180.06120434094348)**2 - 4*(x + 180.06120434094348) + 3 = "
     ]
    },
    {
     "data": {
      "text/markdown": [
       "$3.0 x^{5} + 2701.91806511415 x^{4} + 973379.364078694 x^{3} + 175331985.406431 x^{2} + 15790985176.9503 x + 568874347958.138$"
      ],
      "text/plain": [
       "<IPython.core.display.Markdown object>"
      ]
     },
     "metadata": {},
     "output_type": "display_data"
    },
    {
     "data": {
      "text/markdown": [
       "My new guess is p($144.035944258469$)= $186408493939.724$"
      ],
      "text/plain": [
       "<IPython.core.display.Markdown object>"
      ]
     },
     "metadata": {},
     "output_type": "display_data"
    },
    {
     "name": "stdout",
     "output_type": "stream",
     "text": [
      "\n",
      "\n",
      "\n"
     ]
    },
    {
     "data": {
      "text/markdown": [
       "Bootstrapping from previous guess $144.035944258469$"
      ],
      "text/plain": [
       "<IPython.core.display.Markdown object>"
      ]
     },
     "metadata": {},
     "output_type": "display_data"
    },
    {
     "name": "stdout",
     "output_type": "stream",
     "text": [
      "Solving for 3*(x + 144.03594425846865)**5 + (x + 144.03594425846865)**4 - 2*(x + 144.03594425846865)**3 + (x + 144.03594425846865)**2 - 4*(x + 144.03594425846865) + 3 = "
     ]
    },
    {
     "data": {
      "text/markdown": [
       "$3.0 x^{5} + 2161.53916387703 x^{4} + 622964.740929895 x^{3} + 89770232.2622695 x^{2} + 6467996278.67183 x + 186408493939.725$"
      ],
      "text/plain": [
       "<IPython.core.display.Markdown object>"
      ]
     },
     "metadata": {},
     "output_type": "display_data"
    },
    {
     "data": {
      "text/markdown": [
       "My new guess is p($115.215814204528$)= $61082206424.2973$"
      ],
      "text/plain": [
       "<IPython.core.display.Markdown object>"
      ]
     },
     "metadata": {},
     "output_type": "display_data"
    },
    {
     "name": "stdout",
     "output_type": "stream",
     "text": [
      "\n",
      "\n",
      "\n"
     ]
    },
    {
     "data": {
      "text/markdown": [
       "Bootstrapping from previous guess $115.215814204528$"
      ],
      "text/plain": [
       "<IPython.core.display.Markdown object>"
      ]
     },
     "metadata": {},
     "output_type": "display_data"
    },
    {
     "name": "stdout",
     "output_type": "stream",
     "text": [
      "Solving for 3*(x + 115.21581420452829)**5 + (x + 115.21581420452829)**4 - 2*(x + 115.21581420452829)**3 + (x + 115.21581420452829)**2 - 4*(x + 115.21581420452829) + 3 = "
     ]
    },
    {
     "data": {
      "text/markdown": [
       "$3.0 x^{5} + 1729.23721306792 x^{4} + 398699.37854119 x^{3} + 45962563.0258914 x^{2} + 2649296859.25696 x + 61082206424.2973$"
      ],
      "text/plain": [
       "<IPython.core.display.Markdown object>"
      ]
     },
     "metadata": {},
     "output_type": "display_data"
    },
    {
     "data": {
      "text/markdown": [
       "My new guess is p($92.1598073962053$)= $20015351643.939$"
      ],
      "text/plain": [
       "<IPython.core.display.Markdown object>"
      ]
     },
     "metadata": {},
     "output_type": "display_data"
    },
    {
     "name": "stdout",
     "output_type": "stream",
     "text": [
      "\n",
      "\n",
      "\n"
     ]
    },
    {
     "data": {
      "text/markdown": [
       "Bootstrapping from previous guess $92.1598073962053$"
      ],
      "text/plain": [
       "<IPython.core.display.Markdown object>"
      ]
     },
     "metadata": {},
     "output_type": "display_data"
    },
    {
     "name": "stdout",
     "output_type": "stream",
     "text": [
      "Solving for 3*(x + 92.15980739620527)**5 + (x + 92.15980739620527)**4 - 2*(x + 92.15980739620527)**3 + (x + 92.15980739620527)**2 - 4*(x + 92.15980739620527) + 3 = "
     ]
    },
    {
     "data": {
      "text/markdown": [
       "$3.0 x^{5} + 1383.39711094308 x^{4} + 255169.542208754 x^{3} + 23532995.0843057 x^{2} + 1085155554.04423 x + 20015351643.939$"
      ],
      "text/plain": [
       "<IPython.core.display.Markdown object>"
      ]
     },
     "metadata": {},
     "output_type": "display_data"
    },
    {
     "data": {
      "text/markdown": [
       "My new guess is p($73.715123065609$)= $6558596898.33154$"
      ],
      "text/plain": [
       "<IPython.core.display.Markdown object>"
      ]
     },
     "metadata": {},
     "output_type": "display_data"
    },
    {
     "name": "stdout",
     "output_type": "stream",
     "text": [
      "\n",
      "\n",
      "\n"
     ]
    },
    {
     "data": {
      "text/markdown": [
       "Bootstrapping from previous guess $73.715123065609$"
      ],
      "text/plain": [
       "<IPython.core.display.Markdown object>"
      ]
     },
     "metadata": {},
     "output_type": "display_data"
    },
    {
     "name": "stdout",
     "output_type": "stream",
     "text": [
      "Solving for 3*(x + 73.71512306560902)**5 + (x + 73.71512306560902)**4 - 2*(x + 73.71512306560902)**3 + (x + 73.71512306560902)**2 - 4*(x + 73.71512306560902) + 3 = "
     ]
    },
    {
     "data": {
      "text/markdown": [
       "$3.0 x^{5} + 1106.72684598414 x^{4} + 163310.441549599 x^{3} + 12049023.2749725 x^{2} + 444481983.617056 x + 6558596898.33154$"
      ],
      "text/plain": [
       "<IPython.core.display.Markdown object>"
      ]
     },
     "metadata": {},
     "output_type": "display_data"
    },
    {
     "data": {
      "text/markdown": [
       "My new guess is p($58.9595263483704$)= $2149103950.98979$"
      ],
      "text/plain": [
       "<IPython.core.display.Markdown object>"
      ]
     },
     "metadata": {},
     "output_type": "display_data"
    },
    {
     "name": "stdout",
     "output_type": "stream",
     "text": [
      "\n",
      "\n",
      "\n"
     ]
    },
    {
     "data": {
      "text/markdown": [
       "Bootstrapping from previous guess $58.9595263483704$"
      ],
      "text/plain": [
       "<IPython.core.display.Markdown object>"
      ]
     },
     "metadata": {},
     "output_type": "display_data"
    },
    {
     "name": "stdout",
     "output_type": "stream",
     "text": [
      "Solving for 3*(x + 58.9595263483704)**5 + (x + 58.9595263483704)**4 - 2*(x + 58.9595263483704)**3 + (x + 58.9595263483704)**2 - 4*(x + 58.9595263483704) + 3 = "
     ]
    },
    {
     "data": {
      "text/markdown": [
       "$3.0 x^{5} + 885.392895225556 x^{4} + 104520.610522119 x^{3} + 6169203.30341569 x^{2} + 182061264.74368 x + 2149103950.98979$"
      ],
      "text/plain": [
       "<IPython.core.display.Markdown object>"
      ]
     },
     "metadata": {},
     "output_type": "display_data"
    },
    {
     "data": {
      "text/markdown": [
       "My new guess is p($47.1552364352169$)= $704209689.707284$"
      ],
      "text/plain": [
       "<IPython.core.display.Markdown object>"
      ]
     },
     "metadata": {},
     "output_type": "display_data"
    },
    {
     "name": "stdout",
     "output_type": "stream",
     "text": [
      "\n",
      "\n",
      "\n"
     ]
    },
    {
     "data": {
      "text/markdown": [
       "Bootstrapping from previous guess $47.1552364352169$"
      ],
      "text/plain": [
       "<IPython.core.display.Markdown object>"
      ]
     },
     "metadata": {},
     "output_type": "display_data"
    },
    {
     "name": "stdout",
     "output_type": "stream",
     "text": [
      "Solving for 3*(x + 47.15523643521688)**5 + (x + 47.15523643521688)**4 - 2*(x + 47.15523643521688)**3 + (x + 47.15523643521688)**2 - 4*(x + 47.15523643521688) + 3 = "
     ]
    },
    {
     "data": {
      "text/markdown": [
       "$3.0 x^{5} + 708.328546528253 x^{4} + 66895.110643577 x^{3} + 3158714.37045865 x^{2} + 74573212.5224969 x + 704209689.707284$"
      ],
      "text/plain": [
       "<IPython.core.display.Markdown object>"
      ]
     },
     "metadata": {},
     "output_type": "display_data"
    },
    {
     "data": {
      "text/markdown": [
       "My new guess is p($37.7120373844204$)= $230751011.775838$"
      ],
      "text/plain": [
       "<IPython.core.display.Markdown object>"
      ]
     },
     "metadata": {},
     "output_type": "display_data"
    },
    {
     "name": "stdout",
     "output_type": "stream",
     "text": [
      "\n",
      "\n",
      "\n"
     ]
    },
    {
     "data": {
      "text/markdown": [
       "Bootstrapping from previous guess $37.7120373844204$"
      ],
      "text/plain": [
       "<IPython.core.display.Markdown object>"
      ]
     },
     "metadata": {},
     "output_type": "display_data"
    },
    {
     "name": "stdout",
     "output_type": "stream",
     "text": [
      "Solving for 3*(x + 37.71203738442044)**5 + (x + 37.71203738442044)**4 - 2*(x + 37.71203738442044)**3 + (x + 37.71203738442044)**2 - 4*(x + 37.71203738442044) + 3 = "
     ]
    },
    {
     "data": {
      "text/markdown": [
       "$3.0 x^{5} + 566.680560766307 x^{4} + 42814.7810600554 x^{3} + 1617327.17132042 x^{2} + 30545771.3238344 x + 230751011.775838$"
      ],
      "text/plain": [
       "<IPython.core.display.Markdown object>"
      ]
     },
     "metadata": {},
     "output_type": "display_data"
    },
    {
     "data": {
      "text/markdown": [
       "My new guess is p($30.1577671278436$)= $75610247.3459794$"
      ],
      "text/plain": [
       "<IPython.core.display.Markdown object>"
      ]
     },
     "metadata": {},
     "output_type": "display_data"
    },
    {
     "name": "stdout",
     "output_type": "stream",
     "text": [
      "\n",
      "\n",
      "\n"
     ]
    },
    {
     "data": {
      "text/markdown": [
       "Bootstrapping from previous guess $30.1577671278436$"
      ],
      "text/plain": [
       "<IPython.core.display.Markdown object>"
      ]
     },
     "metadata": {},
     "output_type": "display_data"
    },
    {
     "name": "stdout",
     "output_type": "stream",
     "text": [
      "Solving for 3*(x + 30.15776712784365)**5 + (x + 30.15776712784365)**4 - 2*(x + 30.15776712784365)**3 + (x + 30.15776712784365)**2 - 4*(x + 30.15776712784365) + 3 = "
     ]
    },
    {
     "data": {
      "text/markdown": [
       "$3.0 x^{5} + 453.366506917655 x^{4} + 27403.3586126288 x^{3} + 828123.458328211 x^{2} + 12511918.1838937 x + 75610247.3459794$"
      ],
      "text/plain": [
       "<IPython.core.display.Markdown object>"
      ]
     },
     "metadata": {},
     "output_type": "display_data"
    },
    {
     "data": {
      "text/markdown": [
       "My new guess is p($24.1147091222925$)= $24774827.4153165$"
      ],
      "text/plain": [
       "<IPython.core.display.Markdown object>"
      ]
     },
     "metadata": {},
     "output_type": "display_data"
    },
    {
     "name": "stdout",
     "output_type": "stream",
     "text": [
      "\n",
      "\n",
      "\n"
     ]
    },
    {
     "data": {
      "text/markdown": [
       "Bootstrapping from previous guess $24.1147091222925$"
      ],
      "text/plain": [
       "<IPython.core.display.Markdown object>"
      ]
     },
     "metadata": {},
     "output_type": "display_data"
    },
    {
     "name": "stdout",
     "output_type": "stream",
     "text": [
      "Solving for 3*(x + 24.11470912229254)**5 + (x + 24.11470912229254)**4 - 2*(x + 24.11470912229254)**3 + (x + 24.11470912229254)**2 - 4*(x + 24.11470912229254) + 3 = "
     ]
    },
    {
     "data": {
      "text/markdown": [
       "$3.0 x^{5} + 362.720636834388 x^{4} + 17540.0347180725 x^{3} + 424040.414776848 x^{2} + 5125116.40995735 x + 24774827.4153165$"
      ],
      "text/plain": [
       "<IPython.core.display.Markdown object>"
      ]
     },
     "metadata": {},
     "output_type": "display_data"
    },
    {
     "data": {
      "text/markdown": [
       "My new guess is p($19.2807062560976$)= $8117638.37409332$"
      ],
      "text/plain": [
       "<IPython.core.display.Markdown object>"
      ]
     },
     "metadata": {},
     "output_type": "display_data"
    },
    {
     "name": "stdout",
     "output_type": "stream",
     "text": [
      "\n",
      "\n",
      "\n"
     ]
    },
    {
     "data": {
      "text/markdown": [
       "Bootstrapping from previous guess $19.2807062560976$"
      ],
      "text/plain": [
       "<IPython.core.display.Markdown object>"
      ]
     },
     "metadata": {},
     "output_type": "display_data"
    },
    {
     "name": "stdout",
     "output_type": "stream",
     "text": [
      "Solving for 3*(x + 19.280706256097613)**5 + (x + 19.280706256097613)**4 - 2*(x + 19.280706256097613)**3 + (x + 19.280706256097613)**2 - 4*(x + 19.280706256097613) + 3 = "
     ]
    },
    {
     "data": {
      "text/markdown": [
       "$3.0 x^{5} + 290.210593841464 x^{4} + 11227.491837042 x^{3} + 217141.340545185 x^{2} + 2099396.40407768 x + 8117638.37409332$"
      ],
      "text/plain": [
       "<IPython.core.display.Markdown object>"
      ]
     },
     "metadata": {},
     "output_type": "display_data"
    },
    {
     "data": {
      "text/markdown": [
       "My new guess is p($15.4140527940233$)= $2659695.24955468$"
      ],
      "text/plain": [
       "<IPython.core.display.Markdown object>"
      ]
     },
     "metadata": {},
     "output_type": "display_data"
    },
    {
     "name": "stdout",
     "output_type": "stream",
     "text": [
      "\n",
      "\n",
      "\n"
     ]
    },
    {
     "data": {
      "text/markdown": [
       "Bootstrapping from previous guess $15.4140527940233$"
      ],
      "text/plain": [
       "<IPython.core.display.Markdown object>"
      ]
     },
     "metadata": {},
     "output_type": "display_data"
    },
    {
     "name": "stdout",
     "output_type": "stream",
     "text": [
      "Solving for 3*(x + 15.414052794023297)**5 + (x + 15.414052794023297)**4 - 2*(x + 15.414052794023297)**3 + (x + 15.414052794023297)**2 - 4*(x + 15.414052794023297) + 3 = "
     ]
    },
    {
     "data": {
      "text/markdown": [
       "$3.0 x^{5} + 232.210791910349 x^{4} + 7187.44691728421 x^{3} + 111202.216073157 x^{2} + 860007.028098881 x + 2659695.24955468$"
      ],
      "text/plain": [
       "<IPython.core.display.Markdown object>"
      ]
     },
     "metadata": {},
     "output_type": "display_data"
    },
    {
     "data": {
      "text/markdown": [
       "My new guess is p($12.3214091729192$)= $871380.517202742$"
      ],
      "text/plain": [
       "<IPython.core.display.Markdown object>"
      ]
     },
     "metadata": {},
     "output_type": "display_data"
    },
    {
     "name": "stdout",
     "output_type": "stream",
     "text": [
      "\n",
      "\n",
      "\n"
     ]
    },
    {
     "data": {
      "text/markdown": [
       "Bootstrapping from previous guess $12.3214091729192$"
      ],
      "text/plain": [
       "<IPython.core.display.Markdown object>"
      ]
     },
     "metadata": {},
     "output_type": "display_data"
    },
    {
     "name": "stdout",
     "output_type": "stream",
     "text": [
      "Solving for 3*(x + 12.321409172919218)**5 + (x + 12.321409172919218)**4 - 2*(x + 12.321409172919218)**3 + (x + 12.321409172919218)**2 - 4*(x + 12.321409172919218) + 3 = "
     ]
    },
    {
     "data": {
      "text/markdown": [
       "$3.0 x^{5} + 185.821137593788 x^{4} + 4601.79935688661 x^{3} + 56956.0014191978 x^{2} + 352318.730815732 x + 871380.517202742$"
      ],
      "text/plain": [
       "<IPython.core.display.Markdown object>"
      ]
     },
     "metadata": {},
     "output_type": "display_data"
    },
    {
     "data": {
      "text/markdown": [
       "My new guess is p($9.84813585252205$)= $285458.408241434$"
      ],
      "text/plain": [
       "<IPython.core.display.Markdown object>"
      ]
     },
     "metadata": {},
     "output_type": "display_data"
    },
    {
     "name": "stdout",
     "output_type": "stream",
     "text": [
      "\n",
      "\n",
      "\n"
     ]
    },
    {
     "data": {
      "text/markdown": [
       "Bootstrapping from previous guess $9.84813585252205$"
      ],
      "text/plain": [
       "<IPython.core.display.Markdown object>"
      ]
     },
     "metadata": {},
     "output_type": "display_data"
    },
    {
     "name": "stdout",
     "output_type": "stream",
     "text": [
      "Solving for 3*(x + 9.848135852522047)**5 + (x + 9.848135852522047)**4 - 2*(x + 9.848135852522047)**3 + (x + 9.848135852522047)**2 - 4*(x + 9.848135852522047) + 3 = "
     ]
    },
    {
     "data": {
      "text/markdown": [
       "$3.0 x^{5} + 148.722037787831 x^{4} + 2946.96593650199 x^{3} + 29177.6999115559 x^{2} + 144347.920295966 x + 285458.408241434$"
      ],
      "text/plain": [
       "<IPython.core.display.Markdown object>"
      ]
     },
     "metadata": {},
     "output_type": "display_data"
    },
    {
     "data": {
      "text/markdown": [
       "My new guess is p($7.8705638330836$)= $93500.2952583386$"
      ],
      "text/plain": [
       "<IPython.core.display.Markdown object>"
      ]
     },
     "metadata": {},
     "output_type": "display_data"
    },
    {
     "name": "stdout",
     "output_type": "stream",
     "text": [
      "\n",
      "\n",
      "\n"
     ]
    },
    {
     "data": {
      "text/markdown": [
       "Bootstrapping from previous guess $7.8705638330836$"
      ],
      "text/plain": [
       "<IPython.core.display.Markdown object>"
      ]
     },
     "metadata": {},
     "output_type": "display_data"
    },
    {
     "name": "stdout",
     "output_type": "stream",
     "text": [
      "Solving for 3*(x + 7.870563833083598)**5 + (x + 7.870563833083598)**4 - 2*(x + 7.870563833083598)**3 + (x + 7.870563833083598)**2 - 4*(x + 7.870563833083598) + 3 = "
     ]
    },
    {
     "data": {
      "text/markdown": [
       "$3.0 x^{5} + 119.058457496254 x^{4} + 1887.85550685164 x^{3} + 14951.8965690832 x^{2} + 59149.4448836401 x + 93500.2952583386$"
      ],
      "text/plain": [
       "<IPython.core.display.Markdown object>"
      ]
     },
     "metadata": {},
     "output_type": "display_data"
    },
    {
     "data": {
      "text/markdown": [
       "My new guess is p($6.28981704091549$)= $30618.1207148387$"
      ],
      "text/plain": [
       "<IPython.core.display.Markdown object>"
      ]
     },
     "metadata": {},
     "output_type": "display_data"
    },
    {
     "name": "stdout",
     "output_type": "stream",
     "text": [
      "\n",
      "\n",
      "\n"
     ]
    },
    {
     "data": {
      "text/markdown": [
       "Bootstrapping from previous guess $6.28981704091549$"
      ],
      "text/plain": [
       "<IPython.core.display.Markdown object>"
      ]
     },
     "metadata": {},
     "output_type": "display_data"
    },
    {
     "name": "stdout",
     "output_type": "stream",
     "text": [
      "Solving for 3*(x + 6.289817040915486)**5 + (x + 6.289817040915486)**4 - 2*(x + 6.289817040915486)**3 + (x + 6.289817040915486)**2 - 4*(x + 6.289817040915486) + 3 = "
     ]
    },
    {
     "data": {
      "text/markdown": [
       "$3.0 x^{5} + 95.3472556137323 x^{4} + 1210.01322040939 x^{3} + 7665.72610211671 x^{2} + 24243.5931381761 x + 30618.1207148387$"
      ],
      "text/plain": [
       "<IPython.core.display.Markdown object>"
      ]
     },
     "metadata": {},
     "output_type": "display_data"
    },
    {
     "data": {
      "text/markdown": [
       "My new guess is p($5.02688045637824$)= $10022.3857030198$"
      ],
      "text/plain": [
       "<IPython.core.display.Markdown object>"
      ]
     },
     "metadata": {},
     "output_type": "display_data"
    },
    {
     "name": "stdout",
     "output_type": "stream",
     "text": [
      "\n",
      "\n",
      "\n"
     ]
    },
    {
     "data": {
      "text/markdown": [
       "Bootstrapping from previous guess $5.02688045637824$"
      ],
      "text/plain": [
       "<IPython.core.display.Markdown object>"
      ]
     },
     "metadata": {},
     "output_type": "display_data"
    },
    {
     "name": "stdout",
     "output_type": "stream",
     "text": [
      "Solving for 3*(x + 5.026880456378241)**5 + (x + 5.026880456378241)**4 - 2*(x + 5.026880456378241)**3 + (x + 5.026880456378241)**2 - 4*(x + 5.026880456378241) + 3 = "
     ]
    },
    {
     "data": {
      "text/markdown": [
       "$3.0 x^{5} + 76.4032068456736 x^{4} + 776.193335507038 x^{3} + 3933.26264105129 x^{2} + 9940.77918140323 x + 10022.3857030198$"
      ],
      "text/plain": [
       "<IPython.core.display.Markdown object>"
      ]
     },
     "metadata": {},
     "output_type": "display_data"
    },
    {
     "data": {
      "text/markdown": [
       "My new guess is p($4.01867118825877$)= $3278.45744691529$"
      ],
      "text/plain": [
       "<IPython.core.display.Markdown object>"
      ]
     },
     "metadata": {},
     "output_type": "display_data"
    },
    {
     "name": "stdout",
     "output_type": "stream",
     "text": [
      "\n",
      "\n",
      "\n"
     ]
    },
    {
     "data": {
      "text/markdown": [
       "Bootstrapping from previous guess $4.01867118825877$"
      ],
      "text/plain": [
       "<IPython.core.display.Markdown object>"
      ]
     },
     "metadata": {},
     "output_type": "display_data"
    },
    {
     "name": "stdout",
     "output_type": "stream",
     "text": [
      "Solving for 3*(x + 4.0186711882587725)**5 + (x + 4.0186711882587725)**4 - 2*(x + 4.0186711882587725)**3 + (x + 4.0186711882587725)**2 - 4*(x + 4.0186711882587725) + 3 = "
     ]
    },
    {
     "data": {
      "text/markdown": [
       "$3.0 x^{5} + 61.2800678238816 x^{4} + 498.56622833327 x^{3} + 2020.79848872741 x^{2} + 4078.94159129191 x + 3278.45744691529$"
      ],
      "text/plain": [
       "<IPython.core.display.Markdown object>"
      ]
     },
     "metadata": {},
     "output_type": "display_data"
    },
    {
     "data": {
      "text/markdown": [
       "My new guess is p($3.21491919192854$)= $1071.16456930445$"
      ],
      "text/plain": [
       "<IPython.core.display.Markdown object>"
      ]
     },
     "metadata": {},
     "output_type": "display_data"
    },
    {
     "name": "stdout",
     "output_type": "stream",
     "text": [
      "\n",
      "\n",
      "\n"
     ]
    },
    {
     "data": {
      "text/markdown": [
       "Bootstrapping from previous guess $3.21491919192854$"
      ],
      "text/plain": [
       "<IPython.core.display.Markdown object>"
      ]
     },
     "metadata": {},
     "output_type": "display_data"
    },
    {
     "name": "stdout",
     "output_type": "stream",
     "text": [
      "Solving for 3*(x + 3.214919191928539)**5 + (x + 3.214919191928539)**4 - 2*(x + 3.214919191928539)**3 + (x + 3.214919191928539)**2 - 4*(x + 3.214919191928539) + 3 = "
     ]
    },
    {
     "data": {
      "text/markdown": [
       "$3.0 x^{5} + 49.2237878789281 x^{4} + 320.930839086628 x^{3} + 1040.57844791488 x^{2} + 1675.73153169713 x + 1071.16456930445$"
      ],
      "text/plain": [
       "<IPython.core.display.Markdown object>"
      ]
     },
     "metadata": {},
     "output_type": "display_data"
    },
    {
     "data": {
      "text/markdown": [
       "My new guess is p($2.57569712738959$)= $349.259849932569$"
      ],
      "text/plain": [
       "<IPython.core.display.Markdown object>"
      ]
     },
     "metadata": {},
     "output_type": "display_data"
    },
    {
     "name": "stdout",
     "output_type": "stream",
     "text": [
      "\n",
      "\n",
      "\n"
     ]
    },
    {
     "data": {
      "text/markdown": [
       "Bootstrapping from previous guess $2.57569712738959$"
      ],
      "text/plain": [
       "<IPython.core.display.Markdown object>"
      ]
     },
     "metadata": {},
     "output_type": "display_data"
    },
    {
     "name": "stdout",
     "output_type": "stream",
     "text": [
      "Solving for 3*(x + 2.575697127389592)**5 + (x + 2.575697127389592)**4 - 2*(x + 2.575697127389592)**3 + (x + 2.575697127389592)**2 - 4*(x + 2.575697127389592) + 3 = "
     ]
    },
    {
     "data": {
      "text/markdown": [
       "$3.0 x^{5} + 39.6354569108439 x^{4} + 207.329259270848 x^{3} + 537.983020402263 x^{2} + 689.889289032677 x + 349.259849932569$"
      ],
      "text/plain": [
       "<IPython.core.display.Markdown object>"
      ]
     },
     "metadata": {},
     "output_type": "display_data"
    },
    {
     "data": {
      "text/markdown": [
       "My new guess is p($2.06944220288963$)= $113.484606632049$"
      ],
      "text/plain": [
       "<IPython.core.display.Markdown object>"
      ]
     },
     "metadata": {},
     "output_type": "display_data"
    },
    {
     "name": "stdout",
     "output_type": "stream",
     "text": [
      "\n",
      "\n",
      "\n"
     ]
    },
    {
     "data": {
      "text/markdown": [
       "Bootstrapping from previous guess $2.06944220288963$"
      ],
      "text/plain": [
       "<IPython.core.display.Markdown object>"
      ]
     },
     "metadata": {},
     "output_type": "display_data"
    },
    {
     "name": "stdout",
     "output_type": "stream",
     "text": [
      "Solving for 3*(x + 2.0694422028896318)**5 + (x + 2.0694422028896318)**4 - 2*(x + 2.0694422028896318)**3 + (x + 2.0694422028896318)**2 - 4*(x + 2.0694422028896318) + 3 = "
     ]
    },
    {
     "data": {
      "text/markdown": [
       "$3.0 x^{5} + 32.0416330433445 x^{4} + 134.755499744579 x^{3} + 280.156131493558 x^{2} + 285.002425784042 x + 113.484606632049$"
      ],
      "text/plain": [
       "<IPython.core.display.Markdown object>"
      ]
     },
     "metadata": {},
     "output_type": "display_data"
    },
    {
     "data": {
      "text/markdown": [
       "My new guess is p($1.67125398986003$)= $36.6876177133489$"
      ],
      "text/plain": [
       "<IPython.core.display.Markdown object>"
      ]
     },
     "metadata": {},
     "output_type": "display_data"
    },
    {
     "name": "stdout",
     "output_type": "stream",
     "text": [
      "\n",
      "\n",
      "\n"
     ]
    },
    {
     "data": {
      "text/markdown": [
       "Bootstrapping from previous guess $1.67125398986003$"
      ],
      "text/plain": [
       "<IPython.core.display.Markdown object>"
      ]
     },
     "metadata": {},
     "output_type": "display_data"
    },
    {
     "name": "stdout",
     "output_type": "stream",
     "text": [
      "Solving for 3*(x + 1.6712539898600327)**5 + (x + 1.6712539898600327)**4 - 2*(x + 1.6712539898600327)**3 + (x + 1.6712539898600327)**2 - 4*(x + 1.6712539898600327) + 3 = "
     ]
    },
    {
     "data": {
      "text/markdown": [
       "$3.0 x^{5} + 26.0688098479005 x^{4} + 88.4777129181325 x^{3} + 147.769894565926 x^{2} + 118.276086863282 x + 36.6876177133489$"
      ],
      "text/plain": [
       "<IPython.core.display.Markdown object>"
      ]
     },
     "metadata": {},
     "output_type": "display_data"
    },
    {
     "data": {
      "text/markdown": [
       "My new guess is p($1.36106772409562$)= $11.8098789797866$"
      ],
      "text/plain": [
       "<IPython.core.display.Markdown object>"
      ]
     },
     "metadata": {},
     "output_type": "display_data"
    },
    {
     "name": "stdout",
     "output_type": "stream",
     "text": [
      "\n",
      "\n",
      "\n"
     ]
    },
    {
     "data": {
      "text/markdown": [
       "Bootstrapping from previous guess $1.36106772409562$"
      ],
      "text/plain": [
       "<IPython.core.display.Markdown object>"
      ]
     },
     "metadata": {},
     "output_type": "display_data"
    },
    {
     "name": "stdout",
     "output_type": "stream",
     "text": [
      "Solving for 3*(x + 1.3610677240956188)**5 + (x + 1.3610677240956188)**4 - 2*(x + 1.3610677240956188)**3 + (x + 1.3610677240956188)**2 - 4*(x + 1.3610677240956188) + 3 = "
     ]
    },
    {
     "data": {
      "text/markdown": [
       "$3.0 x^{5} + 21.4160158614343 x^{4} + 59.0194313836273 x^{3} + 79.5901829534983 x^{2} + 49.1692853638757 x + 11.8098789797866$"
      ],
      "text/plain": [
       "<IPython.core.display.Markdown object>"
      ]
     },
     "metadata": {},
     "output_type": "display_data"
    },
    {
     "data": {
      "text/markdown": [
       "My new guess is p($1.12087958850674$)= $3.84265800978585$"
      ],
      "text/plain": [
       "<IPython.core.display.Markdown object>"
      ]
     },
     "metadata": {},
     "output_type": "display_data"
    },
    {
     "name": "stdout",
     "output_type": "stream",
     "text": [
      "\n",
      "\n",
      "\n"
     ]
    },
    {
     "data": {
      "text/markdown": [
       "Bootstrapping from previous guess $1.12087958850674$"
      ],
      "text/plain": [
       "<IPython.core.display.Markdown object>"
      ]
     },
     "metadata": {},
     "output_type": "display_data"
    },
    {
     "name": "stdout",
     "output_type": "stream",
     "text": [
      "Solving for 3*(x + 1.1208795885067444)**5 + (x + 1.1208795885067444)**4 - 2*(x + 1.1208795885067444)**3 + (x + 1.1208795885067444)**2 - 4*(x + 1.1208795885067444) + 3 = "
     ]
    },
    {
     "data": {
      "text/markdown": [
       "$3.0 x^{5} + 17.8131938276012 x^{4} + 40.1746499119584 x^{3} + 44.0601688115536 x^{2} + 20.0135188381832 x + 3.84265800978585$"
      ],
      "text/plain": [
       "<IPython.core.display.Markdown object>"
      ]
     },
     "metadata": {},
     "output_type": "display_data"
    },
    {
     "data": {
      "text/markdown": [
       "My new guess is p($0.928876470971283$)= $1.36334735624225$"
      ],
      "text/plain": [
       "<IPython.core.display.Markdown object>"
      ]
     },
     "metadata": {},
     "output_type": "display_data"
    },
    {
     "name": "stdout",
     "output_type": "stream",
     "text": [
      "\n",
      "\n",
      "\n"
     ]
    },
    {
     "data": {
      "text/markdown": [
       "Bootstrapping from previous guess $0.928876470971283$"
      ],
      "text/plain": [
       "<IPython.core.display.Markdown object>"
      ]
     },
     "metadata": {},
     "output_type": "display_data"
    },
    {
     "name": "stdout",
     "output_type": "stream",
     "text": [
      "Solving for 3*(x + 0.9288764709712831)**5 + (x + 0.9288764709712831)**4 - 2*(x + 0.9288764709712831)**3 + (x + 0.9288764709712831)**2 - 4*(x + 0.9288764709712831) + 3 = "
     ]
    },
    {
     "data": {
      "text/markdown": [
       "$3.0 x^{5} + 14.9331470645692 x^{4} + 27.5998508336071 x^{3} + 24.6469691544178 x^{2} + 7.05332037530826 x + 1.36334735624225$"
      ],
      "text/plain": [
       "<IPython.core.display.Markdown object>"
      ]
     },
     "metadata": {},
     "output_type": "display_data"
    },
    {
     "data": {
      "text/markdown": [
       "My new guess is p($0.735584902788026$)= $0.741569045288211$"
      ],
      "text/plain": [
       "<IPython.core.display.Markdown object>"
      ]
     },
     "metadata": {},
     "output_type": "display_data"
    },
    {
     "name": "stdout",
     "output_type": "stream",
     "text": [
      "\n",
      "\n",
      "\n"
     ]
    },
    {
     "data": {
      "text/markdown": [
       "Bootstrapping from previous guess $0.735584902788026$"
      ],
      "text/plain": [
       "<IPython.core.display.Markdown object>"
      ]
     },
     "metadata": {},
     "output_type": "display_data"
    },
    {
     "name": "stdout",
     "output_type": "stream",
     "text": [
      "Solving for 3*(x + 0.7355849027880264)**5 + (x + 0.7355849027880264)**4 - 2*(x + 0.7355849027880264)**3 + (x + 0.7355849027880264)**2 - 4*(x + 0.7355849027880264) + 3 = "
     ]
    },
    {
     "data": {
      "text/markdown": [
       "$3.0 x^{5} + 12.0337735418204 x^{4} + 17.1748940874422 x^{3} + 11.7734234849731 x^{2} + 0.208312258272557 x + 0.741569045288211$"
      ],
      "text/plain": [
       "<IPython.core.display.Markdown object>"
      ]
     },
     "metadata": {},
     "output_type": "display_data"
    },
    {
     "data": {
      "text/markdown": [
       "My new guess is p($-2.8243066342618$)= $-408.154702760541$"
      ],
      "text/plain": [
       "<IPython.core.display.Markdown object>"
      ]
     },
     "metadata": {},
     "output_type": "display_data"
    },
    {
     "name": "stdout",
     "output_type": "stream",
     "text": [
      "\n",
      "\n",
      "\n"
     ]
    },
    {
     "data": {
      "text/markdown": [
       "Bootstrapping from previous guess $-2.8243066342618$"
      ],
      "text/plain": [
       "<IPython.core.display.Markdown object>"
      ]
     },
     "metadata": {},
     "output_type": "display_data"
    },
    {
     "name": "stdout",
     "output_type": "stream",
     "text": [
      "Solving for 3*(x + -2.8243066342617955)**5 + (x + -2.8243066342617955)**4 - 2*(x + -2.8243066342617955)**3 + (x + -2.8243066342617955)**2 - 4*(x + -2.8243066342617955) + 3 = "
     ]
    },
    {
     "data": {
      "text/markdown": [
       "$3.0 x^{5} - 41.3645995139269 x^{4} + 226.004012393009 x^{3} - 610.053989105641 x^{2} + 806.794511276829 x - 408.154702760541$"
      ],
      "text/plain": [
       "<IPython.core.display.Markdown object>"
      ]
     },
     "metadata": {},
     "output_type": "display_data"
    },
    {
     "data": {
      "text/markdown": [
       "My new guess is p($-2.31840990708328$)= $-129.480192736265$"
      ],
      "text/plain": [
       "<IPython.core.display.Markdown object>"
      ]
     },
     "metadata": {},
     "output_type": "display_data"
    },
    {
     "name": "stdout",
     "output_type": "stream",
     "text": [
      "\n",
      "\n",
      "\n"
     ]
    },
    {
     "data": {
      "text/markdown": [
       "Bootstrapping from previous guess $-2.31840990708328$"
      ],
      "text/plain": [
       "<IPython.core.display.Markdown object>"
      ]
     },
     "metadata": {},
     "output_type": "display_data"
    },
    {
     "name": "stdout",
     "output_type": "stream",
     "text": [
      "Solving for 3*(x + -2.318409907083276)**5 + (x + -2.318409907083276)**4 - 2*(x + -2.318409907083276)**3 + (x + -2.318409907083276)**2 - 4*(x + -2.318409907083276) + 3 = "
     ]
    },
    {
     "data": {
      "text/markdown": [
       "$3.0 x^{5} - 33.7761486062491 x^{4} + 149.977095289523 x^{3} - 326.684694931947 x^{2} + 342.630318213674 x - 129.480192736265$"
      ],
      "text/plain": [
       "<IPython.core.display.Markdown object>"
      ]
     },
     "metadata": {},
     "output_type": "display_data"
    },
    {
     "data": {
      "text/markdown": [
       "My new guess is p($-1.94050933654615$)= $-39.2252894308315$"
      ],
      "text/plain": [
       "<IPython.core.display.Markdown object>"
      ]
     },
     "metadata": {},
     "output_type": "display_data"
    },
    {
     "name": "stdout",
     "output_type": "stream",
     "text": [
      "\n",
      "\n",
      "\n"
     ]
    },
    {
     "data": {
      "text/markdown": [
       "Bootstrapping from previous guess $-1.94050933654615$"
      ],
      "text/plain": [
       "<IPython.core.display.Markdown object>"
      ]
     },
     "metadata": {},
     "output_type": "display_data"
    },
    {
     "name": "stdout",
     "output_type": "stream",
     "text": [
      "Solving for 3*(x + -1.9405093365461485)**5 + (x + -1.9405093365461485)**4 - 2*(x + -1.9405093365461485)**3 + (x + -1.9405093365461485)**2 - 4*(x + -1.9405093365461485) + 3 = "
     ]
    },
    {
     "data": {
      "text/markdown": [
       "$3.0 x^{5} - 28.1076400481922 x^{4} + 103.205257210499 x^{3} - 183.977574880989 x^{2} + 152.990471098298 x - 39.2252894308315$"
      ],
      "text/plain": [
       "<IPython.core.display.Markdown object>"
      ]
     },
     "metadata": {},
     "output_type": "display_data"
    },
    {
     "data": {
      "text/markdown": [
       "My new guess is p($-1.6841189277237$)= $-10.4726625185283$"
      ],
      "text/plain": [
       "<IPython.core.display.Markdown object>"
      ]
     },
     "metadata": {},
     "output_type": "display_data"
    },
    {
     "name": "stdout",
     "output_type": "stream",
     "text": [
      "\n",
      "\n",
      "\n"
     ]
    },
    {
     "data": {
      "text/markdown": [
       "Bootstrapping from previous guess $-1.6841189277237$"
      ],
      "text/plain": [
       "<IPython.core.display.Markdown object>"
      ]
     },
     "metadata": {},
     "output_type": "display_data"
    },
    {
     "name": "stdout",
     "output_type": "stream",
     "text": [
      "Solving for 3*(x + -1.6841189277237005)**5 + (x + -1.6841189277237005)**4 - 2*(x + -1.6841189277237005)**3 + (x + -1.6841189277237005)**2 - 4*(x + -1.6841189277237005) + 3 = "
     ]
    },
    {
     "data": {
      "text/markdown": [
       "$3.0 x^{5} - 24.2617839158555 x^{4} + 76.351221170622 x^{3} - 115.175547891934 x^{2} + 77.1731186669868 x - 10.4726625185283$"
      ],
      "text/plain": [
       "<IPython.core.display.Markdown object>"
      ]
     },
     "metadata": {},
     "output_type": "display_data"
    },
    {
     "data": {
      "text/markdown": [
       "My new guess is p($-1.54841542500899$)= $-1.938293524453$"
      ],
      "text/plain": [
       "<IPython.core.display.Markdown object>"
      ]
     },
     "metadata": {},
     "output_type": "display_data"
    },
    {
     "name": "stdout",
     "output_type": "stream",
     "text": [
      "\n",
      "\n",
      "\n"
     ]
    },
    {
     "data": {
      "text/markdown": [
       "Bootstrapping from previous guess $-1.54841542500899$"
      ],
      "text/plain": [
       "<IPython.core.display.Markdown object>"
      ]
     },
     "metadata": {},
     "output_type": "display_data"
    },
    {
     "name": "stdout",
     "output_type": "stream",
     "text": [
      "Solving for 3*(x + -1.5484154250089874)**5 + (x + -1.5484154250089874)**4 - 2*(x + -1.5484154250089874)**3 + (x + -1.5484154250089874)**2 - 4*(x + -1.5484154250089874) + 3 = "
     ]
    },
    {
     "data": {
      "text/markdown": [
       "$3.0 x^{5} - 22.2262313751348 x^{4} + 63.7340481521369 x^{3} - 86.6979409001869 x^{2} + 49.8943545330969 x - 1.93829352445299$"
      ],
      "text/plain": [
       "<IPython.core.display.Markdown object>"
      ]
     },
     "metadata": {},
     "output_type": "display_data"
    },
    {
     "data": {
      "text/markdown": [
       "My new guess is p($-1.50956747231792$)= $-0.127155124164495$"
      ],
      "text/plain": [
       "<IPython.core.display.Markdown object>"
      ]
     },
     "metadata": {},
     "output_type": "display_data"
    },
    {
     "name": "stdout",
     "output_type": "stream",
     "text": [
      "\n",
      "\n",
      "\n"
     ]
    },
    {
     "data": {
      "text/markdown": [
       "Bootstrapping from previous guess $-1.50956747231792$"
      ],
      "text/plain": [
       "<IPython.core.display.Markdown object>"
      ]
     },
     "metadata": {},
     "output_type": "display_data"
    },
    {
     "name": "stdout",
     "output_type": "stream",
     "text": [
      "Solving for 3*(x + -1.509567472317922)**5 + (x + -1.509567472317922)**4 - 2*(x + -1.509567472317922)**3 + (x + -1.509567472317922)**2 - 4*(x + -1.509567472317922) + 3 = "
     ]
    },
    {
     "data": {
      "text/markdown": [
       "$3.0 x^{5} - 21.6435120847688 x^{4} + 60.3255487151379 x^{3} - 79.4696282938701 x^{2} + 43.4416566576047 x - 0.127155124164497$"
      ],
      "text/plain": [
       "<IPython.core.display.Markdown object>"
      ]
     },
     "metadata": {},
     "output_type": "display_data"
    },
    {
     "data": {
      "text/markdown": [
       "My new guess is p($-1.50664044020295$)= $-0.000679346171836404$"
      ],
      "text/plain": [
       "<IPython.core.display.Markdown object>"
      ]
     },
     "metadata": {},
     "output_type": "display_data"
    },
    {
     "name": "stdout",
     "output_type": "stream",
     "text": [
      "\n",
      "\n",
      "\n"
     ]
    },
    {
     "data": {
      "text/markdown": [
       "Bootstrapping from previous guess $-1.50664044020295$"
      ],
      "text/plain": [
       "<IPython.core.display.Markdown object>"
      ]
     },
     "metadata": {},
     "output_type": "display_data"
    },
    {
     "name": "stdout",
     "output_type": "stream",
     "text": [
      "Solving for 3*(x + -1.5066404402029476)**5 + (x + -1.5066404402029476)**4 - 2*(x + -1.5066404402029476)**3 + (x + -1.5066404402029476)**2 - 4*(x + -1.5066404402029476) + 3 = "
     ]
    },
    {
     "data": {
      "text/markdown": [
       "$3.0 x^{5} - 21.5996066030442 x^{4} + 60.0724007208362 x^{3} - 78.9410156731668 x^{2} + 42.9779846997842 x - 0.000679346171837736$"
      ],
      "text/plain": [
       "<IPython.core.display.Markdown object>"
      ]
     },
     "metadata": {},
     "output_type": "display_data"
    },
    {
     "data": {
      "text/markdown": [
       "My new guess is p($-1.50662463336192$)= $-1.97236680321566 \\cdot 10^{-8}$"
      ],
      "text/plain": [
       "<IPython.core.display.Markdown object>"
      ]
     },
     "metadata": {},
     "output_type": "display_data"
    },
    {
     "name": "stdout",
     "output_type": "stream",
     "text": [
      "\n",
      "\n",
      "\n"
     ]
    },
    {
     "data": {
      "text/markdown": [
       "Bootstrapping from previous guess $-1.50662463336192$"
      ],
      "text/plain": [
       "<IPython.core.display.Markdown object>"
      ]
     },
     "metadata": {},
     "output_type": "display_data"
    },
    {
     "name": "stdout",
     "output_type": "stream",
     "text": [
      "Solving for 3*(x + -1.50662463336192)**5 + (x + -1.50662463336192)**4 - 2*(x + -1.50662463336192)**3 + (x + -1.50662463336192)**2 - 4*(x + -1.50662463336192) + 3 = "
     ]
    },
    {
     "data": {
      "text/markdown": [
       "$3.0 x^{5} - 21.5993695004288 x^{4} + 60.0710350421405 x^{3} - 78.9381670408824 x^{2} + 42.9754891286417 x - 1.97236662557998 \\cdot 10^{-8}$"
      ],
      "text/plain": [
       "<IPython.core.display.Markdown object>"
      ]
     },
     "metadata": {},
     "output_type": "display_data"
    },
    {
     "data": {
      "text/markdown": [
       "My new guess is p($-1.50662463290297$)= $2.66453525910038 \\cdot 10^{-15}$"
      ],
      "text/plain": [
       "<IPython.core.display.Markdown object>"
      ]
     },
     "metadata": {},
     "output_type": "display_data"
    },
    {
     "name": "stdout",
     "output_type": "stream",
     "text": [
      "\n",
      "\n",
      "\n"
     ]
    },
    {
     "data": {
      "text/markdown": [
       "Bootstrapping from previous guess $-1.50662463290297$"
      ],
      "text/plain": [
       "<IPython.core.display.Markdown object>"
      ]
     },
     "metadata": {},
     "output_type": "display_data"
    },
    {
     "name": "stdout",
     "output_type": "stream",
     "text": [
      "Solving for 3*(x + -1.5066246329029684)**5 + (x + -1.5066246329029684)**4 - 2*(x + -1.5066246329029684)**3 + (x + -1.5066246329029684)**2 - 4*(x + -1.5066246329029684) + 3 = "
     ]
    },
    {
     "data": {
      "text/markdown": [
       "$3.0 x^{5} - 21.5993694935445 x^{4} + 60.0710350024883 x^{3} - 78.9381669581734 x^{2} + 42.9754890561841 x + 1.77635683940025 \\cdot 10^{-15}$"
      ],
      "text/plain": [
       "<IPython.core.display.Markdown object>"
      ]
     },
     "metadata": {},
     "output_type": "display_data"
    },
    {
     "data": {
      "text/markdown": [
       "My new guess is p($-1.50662463290297$)= $2.66453525910038 \\cdot 10^{-15}$"
      ],
      "text/plain": [
       "<IPython.core.display.Markdown object>"
      ]
     },
     "metadata": {},
     "output_type": "display_data"
    },
    {
     "data": {
      "text/markdown": [
       "Found a good approximation for p(x) = $3 x^{5} + x^{4} - 2 x^{3} + x^{2} - 4 x + 3$"
      ],
      "text/plain": [
       "<IPython.core.display.Markdown object>"
      ]
     },
     "metadata": {},
     "output_type": "display_data"
    },
    {
     "data": {
      "image/png": "[encoded data removed]",
      "text/latex": [
       "$\\displaystyle -1.50662463290297$"
      ],
      "text/plain": [
       "-1.50662463290297"
      ]
     },
     "metadata": {},
     "output_type": "display_data"
    },
    {
     "data": {
      "text/markdown": [
       "p($-1.50662463290297$) = $2.66453525910037569701671600342 \\cdot 10^{-15}$"
      ],
      "text/plain": [
       "<IPython.core.display.Markdown object>"
      ]
     },
     "metadata": {},
     "output_type": "display_data"
    },
    {
     "name": "stdout",
     "output_type": "stream",
     "text": [
      "Recursion: 53 \n",
      "\n",
      "\n",
      "\n",
      "\n",
      "\n",
      "Insert an expression with explicit math symbols (example: \"x^5-10*x^3+.02*x^4+x**7\"):\n",
      "x**5 + 0.6*x**4 - 7.16*x**3 + 1.8*x**2 + 4.72*x - 0.96\n",
      "Insert the depth for the formula:\n",
      "10\n",
      "Please, insert your guess (or 0 otherwise):\n",
      "-10\n"
     ]
    },
    {
     "data": {
      "text/markdown": [
       "Using the formula $\\frac{78 c_{0}^{11} c_{3} c_{5}^{2}}{c_{1}^{14}} + \\frac{78 c_{0}^{11} c_{4}^{2} c_{5}}{c_{1}^{14}} - \\frac{546 c_{0}^{11} c_{2}^{2} c_{5}^{2}}{c_{1}^{15}} - \\frac{2184 c_{0}^{11} c_{2} c_{3} c_{4} c_{5}}{c_{1}^{15}} - \\frac{364 c_{0}^{11} c_{2} c_{4}^{3}}{c_{1}^{15}} - \\frac{364 c_{0}^{11} c_{3}^{3} c_{5}}{c_{1}^{15}} - \\frac{546 c_{0}^{11} c_{3}^{2} c_{4}^{2}}{c_{1}^{15}} + \\frac{5460 c_{0}^{11} c_{2}^{3} c_{4} c_{5}}{c_{1}^{16}} + \\frac{8190 c_{0}^{11} c_{2}^{2} c_{3}^{2} c_{5}}{c_{1}^{16}} + \\frac{8190 c_{0}^{11} c_{2}^{2} c_{3} c_{4}^{2}}{c_{1}^{16}} + \\frac{5460 c_{0}^{11} c_{2} c_{3}^{3} c_{4}}{c_{1}^{16}} + \\frac{273 c_{0}^{11} c_{3}^{5}}{c_{1}^{16}} - \\frac{21840 c_{0}^{11} c_{2}^{4} c_{3} c_{5}}{c_{1}^{17}} - \\frac{10920 c_{0}^{11} c_{2}^{4} c_{4}^{2}}{c_{1}^{17}} - \\frac{43680 c_{0}^{11} c_{2}^{3} c_{3}^{2} c_{4}}{c_{1}^{17}} - \\frac{10920 c_{0}^{11} c_{2}^{2} c_{3}^{4}}{c_{1}^{17}} + \\frac{12376 c_{0}^{11} c_{2}^{6} c_{5}}{c_{1}^{18}} + \\frac{74256 c_{0}^{11} c_{2}^{5} c_{3} c_{4}}{c_{1}^{18}} + \\frac{61880 c_{0}^{11} c_{2}^{4} c_{3}^{3}}{c_{1}^{18}} - \\frac{31824 c_{0}^{11} c_{2}^{7} c_{4}}{c_{1}^{19}} - \\frac{111384 c_{0}^{11} c_{2}^{6} c_{3}^{2}}{c_{1}^{19}} + \\frac{75582 c_{0}^{11} c_{2}^{8} c_{3}}{c_{1}^{20}} - \\frac{16796 c_{0}^{11} c_{2}^{10}}{c_{1}^{21}} - \\frac{66 c_{0}^{10} c_{2} c_{5}^{2}}{c_{1}^{13}} - \\frac{132 c_{0}^{10} c_{3} c_{4} c_{5}}{c_{1}^{13}} - \\frac{22 c_{0}^{10} c_{4}^{3}}{c_{1}^{13}} + \\frac{858 c_{0}^{10} c_{2}^{2} c_{4} c_{5}}{c_{1}^{14}} + \\frac{858 c_{0}^{10} c_{2} c_{3}^{2} c_{5}}{c_{1}^{14}} + \\frac{858 c_{0}^{10} c_{2} c_{3} c_{4}^{2}}{c_{1}^{14}} + \\frac{286 c_{0}^{10} c_{3}^{3} c_{4}}{c_{1}^{14}} - \\frac{4004 c_{0}^{10} c_{2}^{3} c_{3} c_{5}}{c_{1}^{15}} - \\frac{2002 c_{0}^{10} c_{2}^{3} c_{4}^{2}}{c_{1}^{15}} - \\frac{6006 c_{0}^{10} c_{2}^{2} c_{3}^{2} c_{4}}{c_{1}^{15}} - \\frac{1001 c_{0}^{10} c_{2} c_{3}^{4}}{c_{1}^{15}} + \\frac{3003 c_{0}^{10} c_{2}^{5} c_{5}}{c_{1}^{16}} + \\frac{15015 c_{0}^{10} c_{2}^{4} c_{3} c_{4}}{c_{1}^{16}} + \\frac{10010 c_{0}^{10} c_{2}^{3} c_{3}^{3}}{c_{1}^{16}} - \\frac{8008 c_{0}^{10} c_{2}^{6} c_{4}}{c_{1}^{17}} - \\frac{24024 c_{0}^{10} c_{2}^{5} c_{3}^{2}}{c_{1}^{17}} + \\frac{19448 c_{0}^{10} c_{2}^{7} c_{3}}{c_{1}^{18}} - \\frac{4862 c_{0}^{10} c_{2}^{9}}{c_{1}^{19}} - \\frac{5 c_{0}^{9} c_{5}^{2}}{c_{1}^{11}} + \\frac{110 c_{0}^{9} c_{2} c_{4} c_{5}}{c_{1}^{12}} + \\frac{55 c_{0}^{9} c_{3}^{2} c_{5}}{c_{1}^{12}} + \\frac{55 c_{0}^{9} c_{3} c_{4}^{2}}{c_{1}^{12}} - \\frac{660 c_{0}^{9} c_{2}^{2} c_{3} c_{5}}{c_{1}^{13}} - \\frac{330 c_{0}^{9} c_{2}^{2} c_{4}^{2}}{c_{1}^{13}} - \\frac{660 c_{0}^{9} c_{2} c_{3}^{2} c_{4}}{c_{1}^{13}} - \\frac{55 c_{0}^{9} c_{3}^{4}}{c_{1}^{13}} + \\frac{715 c_{0}^{9} c_{2}^{4} c_{5}}{c_{1}^{14}} + \\frac{2860 c_{0}^{9} c_{2}^{3} c_{3} c_{4}}{c_{1}^{14}} + \\frac{1430 c_{0}^{9} c_{2}^{2} c_{3}^{3}}{c_{1}^{14}} - \\frac{2002 c_{0}^{9} c_{2}^{5} c_{4}}{c_{1}^{15}} - \\frac{5005 c_{0}^{9} c_{2}^{4} c_{3}^{2}}{c_{1}^{15}} + \\frac{5005 c_{0}^{9} c_{2}^{6} c_{3}}{c_{1}^{16}} - \\frac{1430 c_{0}^{9} c_{2}^{8}}{c_{1}^{17}} + \\frac{9 c_{0}^{8} c_{4} c_{5}}{c_{1}^{10}} - \\frac{90 c_{0}^{8} c_{2} c_{3} c_{5}}{c_{1}^{11}} - \\frac{45 c_{0}^{8} c_{2} c_{4}^{2}}{c_{1}^{11}} - \\frac{45 c_{0}^{8} c_{3}^{2} c_{4}}{c_{1}^{11}} + \\frac{165 c_{0}^{8} c_{2}^{3} c_{5}}{c_{1}^{12}} + \\frac{495 c_{0}^{8} c_{2}^{2} c_{3} c_{4}}{c_{1}^{12}} + \\frac{165 c_{0}^{8} c_{2} c_{3}^{3}}{c_{1}^{12}} - \\frac{495 c_{0}^{8} c_{2}^{4} c_{4}}{c_{1}^{13}} - \\frac{990 c_{0}^{8} c_{2}^{3} c_{3}^{2}}{c_{1}^{13}} + \\frac{1287 c_{0}^{8} c_{2}^{5} c_{3}}{c_{1}^{14}} - \\frac{429 c_{0}^{8} c_{2}^{7}}{c_{1}^{15}} - \\frac{8 c_{0}^{7} c_{3} c_{5}}{c_{1}^{9}} - \\frac{4 c_{0}^{7} c_{4}^{2}}{c_{1}^{9}} + \\frac{36 c_{0}^{7} c_{2}^{2} c_{5}}{c_{1}^{10}} + \\frac{72 c_{0}^{7} c_{2} c_{3} c_{4}}{c_{1}^{10}} + \\frac{12 c_{0}^{7} c_{3}^{3}}{c_{1}^{10}} - \\frac{120 c_{0}^{7} c_{2}^{3} c_{4}}{c_{1}^{11}} - \\frac{180 c_{0}^{7} c_{2}^{2} c_{3}^{2}}{c_{1}^{11}} + \\frac{330 c_{0}^{7} c_{2}^{4} c_{3}}{c_{1}^{12}} - \\frac{132 c_{0}^{7} c_{2}^{6}}{c_{1}^{13}} + \\frac{7 c_{0}^{6} c_{2} c_{5}}{c_{1}^{8}} + \\frac{7 c_{0}^{6} c_{3} c_{4}}{c_{1}^{8}} - \\frac{28 c_{0}^{6} c_{2}^{2} c_{4}}{c_{1}^{9}} - \\frac{28 c_{0}^{6} c_{2} c_{3}^{2}}{c_{1}^{9}} + \\frac{84 c_{0}^{6} c_{2}^{3} c_{3}}{c_{1}^{10}} - \\frac{42 c_{0}^{6} c_{2}^{5}}{c_{1}^{11}} + \\frac{c_{0}^{5} c_{5}}{c_{1}^{6}} - \\frac{6 c_{0}^{5} c_{2} c_{4}}{c_{1}^{7}} - \\frac{3 c_{0}^{5} c_{3}^{2}}{c_{1}^{7}} + \\frac{21 c_{0}^{5} c_{2}^{2} c_{3}}{c_{1}^{8}} - \\frac{14 c_{0}^{5} c_{2}^{4}}{c_{1}^{9}} - \\frac{c_{0}^{4} c_{4}}{c_{1}^{5}} + \\frac{5 c_{0}^{4} c_{2} c_{3}}{c_{1}^{6}} - \\frac{5 c_{0}^{4} c_{2}^{3}}{c_{1}^{7}} + \\frac{c_{0}^{3} c_{3}}{c_{1}^{4}} - \\frac{2 c_{0}^{3} c_{2}^{2}}{c_{1}^{5}} - \\frac{c_{0}^{2} c_{2}}{c_{1}^{3}} - c_{0} / c_{1}$"
      ],
      "text/plain": [
       "<IPython.core.display.Markdown object>"
      ]
     },
     "metadata": {},
     "output_type": "display_data"
    },
    {
     "name": "stdout",
     "output_type": "stream",
     "text": [
      "\n",
      "\n",
      "\n"
     ]
    },
    {
     "data": {
      "text/markdown": [
       "Bootstrapping from previous guess $-10.0$"
      ],
      "text/plain": [
       "<IPython.core.display.Markdown object>"
      ]
     },
     "metadata": {},
     "output_type": "display_data"
    },
    {
     "name": "stdout",
     "output_type": "stream",
     "text": [
      "Solving for 1.0*(x + -10.0)**5 + 0.6*(x + -10.0)**4 - 7.16*(x + -10.0)**3 + 1.8*(x + -10.0)**2 + 4.72*(x + -10.0) - 0.96 = "
     ]
    },
    {
     "data": {
      "text/markdown": [
       "$1.0 x^{5} - 49.4 x^{4} + 968.84 x^{3} - 9423.4 x^{2} + 45420.72 x - 86708.16$"
      ],
      "text/plain": [
       "<IPython.core.display.Markdown object>"
      ]
     },
     "metadata": {},
     "output_type": "display_data"
    },
    {
     "data": {
      "text/markdown": [
       "My new guess is p($-5.55397525715379$)= $-3458.7721075019$"
      ],
      "text/plain": [
       "<IPython.core.display.Markdown object>"
      ]
     },
     "metadata": {},
     "output_type": "display_data"
    },
    {
     "name": "stdout",
     "output_type": "stream",
     "text": [
      "\n",
      "\n",
      "\n"
     ]
    },
    {
     "data": {
      "text/markdown": [
       "Bootstrapping from previous guess $-5.55397525715379$"
      ],
      "text/plain": [
       "<IPython.core.display.Markdown object>"
      ]
     },
     "metadata": {},
     "output_type": "display_data"
    },
    {
     "name": "stdout",
     "output_type": "stream",
     "text": [
      "Solving for 1.0*(x + -5.553975257153788)**5 + 0.6*(x + -5.553975257153788)**4 - 7.16*(x + -5.553975257153788)**3 + 1.8*(x + -5.553975257153788)**2 + 4.72*(x + -5.553975257153788) - 0.96 = "
     ]
    },
    {
     "data": {
      "text/markdown": [
       "$1.0 x^{5} - 27.1698762857689 x^{4} + 287.976870953596 x^{3} - 1481.06752083791 x^{2} + 3668.54463418098 x - 3458.7721075019$"
      ],
      "text/plain": [
       "<IPython.core.display.Markdown object>"
      ]
     },
     "metadata": {},
     "output_type": "display_data"
    },
    {
     "data": {
      "text/markdown": [
       "My new guess is p($-3.47975087241847$)= $-116.129695762148$"
      ],
      "text/plain": [
       "<IPython.core.display.Markdown object>"
      ]
     },
     "metadata": {},
     "output_type": "display_data"
    },
    {
     "name": "stdout",
     "output_type": "stream",
     "text": [
      "\n",
      "\n",
      "\n"
     ]
    },
    {
     "data": {
      "text/markdown": [
       "Bootstrapping from previous guess $-3.47975087241847$"
      ],
      "text/plain": [
       "<IPython.core.display.Markdown object>"
      ]
     },
     "metadata": {},
     "output_type": "display_data"
    },
    {
     "name": "stdout",
     "output_type": "stream",
     "text": [
      "Solving for 1.0*(x + -3.4797508724184723)**5 + 0.6*(x + -3.4797508724184723)**4 - 7.16*(x + -3.4797508724184723)**3 + 1.8*(x + -3.4797508724184723)**2 + 4.72*(x + -3.4797508724184723) - 0.96 = "
     ]
    },
    {
     "data": {
      "text/markdown": [
       "$1.0 x^{5} - 16.7987543620924 x^{4} + 105.575259247167 x^{3} - 301.215168617186 x^{2} + 364.073386328564 x - 116.129695762148$"
      ],
      "text/plain": [
       "<IPython.core.display.Markdown object>"
      ]
     },
     "metadata": {},
     "output_type": "display_data"
    },
    {
     "data": {
      "text/markdown": [
       "My new guess is p($-3.00116626544703$)= $-0.164443374561971$"
      ],
      "text/plain": [
       "<IPython.core.display.Markdown object>"
      ]
     },
     "metadata": {},
     "output_type": "display_data"
    },
    {
     "name": "stdout",
     "output_type": "stream",
     "text": [
      "\n",
      "\n",
      "\n"
     ]
    },
    {
     "data": {
      "text/markdown": [
       "Bootstrapping from previous guess $-3.00116626544703$"
      ],
      "text/plain": [
       "<IPython.core.display.Markdown object>"
      ]
     },
     "metadata": {},
     "output_type": "display_data"
    },
    {
     "name": "stdout",
     "output_type": "stream",
     "text": [
      "Solving for 1.0*(x + -3.0011662654470297)**5 + 0.6*(x + -3.0011662654470297)**4 - 7.16*(x + -3.0011662654470297)**3 + 1.8*(x + -3.0011662654470297)**2 + 4.72*(x + -3.0011662654470297) - 0.96 = "
     ]
    },
    {
     "data": {
      "text/markdown": [
       "$1.0 x^{5} - 14.4058313272352 x^{4} + 75.7071904914998 x^{3} - 171.624766490231 x^{2} + 141.20001123632 x - 0.164443374561955$"
      ],
      "text/plain": [
       "<IPython.core.display.Markdown object>"
      ]
     },
     "metadata": {},
     "output_type": "display_data"
    },
    {
     "data": {
      "text/markdown": [
       "My new guess is p($-3.0$)= $-4.42978986825437 \\cdot 10^{-14}$"
      ],
      "text/plain": [
       "<IPython.core.display.Markdown object>"
      ]
     },
     "metadata": {},
     "output_type": "display_data"
    },
    {
     "name": "stdout",
     "output_type": "stream",
     "text": [
      "\n",
      "\n",
      "\n"
     ]
    },
    {
     "data": {
      "text/markdown": [
       "Bootstrapping from previous guess $-3.0$"
      ],
      "text/plain": [
       "<IPython.core.display.Markdown object>"
      ]
     },
     "metadata": {},
     "output_type": "display_data"
    },
    {
     "name": "stdout",
     "output_type": "stream",
     "text": [
      "Solving for 1.0*(x + -3.0000000000000004)**5 + 0.6*(x + -3.0000000000000004)**4 - 7.16*(x + -3.0000000000000004)**3 + 1.8*(x + -3.0000000000000004)**2 + 4.72*(x + -3.0000000000000004) - 0.96 = "
     ]
    },
    {
     "data": {
      "text/markdown": [
       "$1.0 x^{5} - 14.4 x^{4} + 75.64 x^{3} - 171.36 x^{2} + 140.8 x - 5.6843418860808 \\cdot 10^{-14}$"
      ],
      "text/plain": [
       "<IPython.core.display.Markdown object>"
      ]
     },
     "metadata": {},
     "output_type": "display_data"
    },
    {
     "data": {
      "text/markdown": [
       "My new guess is p($-3.0$)= $2.48689957516035 \\cdot 10^{-14}$"
      ],
      "text/plain": [
       "<IPython.core.display.Markdown object>"
      ]
     },
     "metadata": {},
     "output_type": "display_data"
    },
    {
     "data": {
      "text/markdown": [
       "Found a good approximation for p(x) = $1.0 x^{5} + 0.6 x^{4} - 7.16 x^{3} + 1.8 x^{2} + 4.72 x - 0.96$"
      ],
      "text/plain": [
       "<IPython.core.display.Markdown object>"
      ]
     },
     "metadata": {},
     "output_type": "display_data"
    },
    {
     "data": {
      "image/png": "[encoded data removed]",
      "text/latex": [
       "$\\displaystyle -3.0$"
      ],
      "text/plain": [
       "-3.00000000000000"
      ]
     },
     "metadata": {},
     "output_type": "display_data"
    },
    {
     "data": {
      "text/markdown": [
       "p($-3.0$) = $2.48689957516035065054893493652 \\cdot 10^{-14}$"
      ],
      "text/plain": [
       "<IPython.core.display.Markdown object>"
      ]
     },
     "metadata": {},
     "output_type": "display_data"
    },
    {
     "name": "stdout",
     "output_type": "stream",
     "text": [
      "Recursion: 5 \n",
      "\n",
      "\n",
      "\n",
      "\n",
      "\n",
      "Insert an expression with explicit math symbols (example: \"x^5-10*x^3+.02*x^4+x**7\"):\n",
      "x**5 + 0.6*x**4 - 7.16*x**3 + 1.8*x**2 + 4.72*x - 0.96\n",
      "Insert the depth for the formula:\n",
      "0\n",
      "Please, insert your guess (or 0 otherwise):\n",
      "-10\n"
     ]
    },
    {
     "data": {
      "text/markdown": [
       "Using the formula $- c_{0} / c_{1}$"
      ],
      "text/plain": [
       "<IPython.core.display.Markdown object>"
      ]
     },
     "metadata": {},
     "output_type": "display_data"
    },
    {
     "name": "stdout",
     "output_type": "stream",
     "text": [
      "\n",
      "\n",
      "\n"
     ]
    },
    {
     "data": {
      "text/markdown": [
       "Bootstrapping from previous guess $-10.0$"
      ],
      "text/plain": [
       "<IPython.core.display.Markdown object>"
      ]
     },
     "metadata": {},
     "output_type": "display_data"
    },
    {
     "name": "stdout",
     "output_type": "stream",
     "text": [
      "Solving for 1.0*(x + -10.0)**5 + 0.6*(x + -10.0)**4 - 7.16*(x + -10.0)**3 + 1.8*(x + -10.0)**2 + 4.72*(x + -10.0) - 0.96 = "
     ]
    },
    {
     "data": {
      "text/markdown": [
       "$1.0 x^{5} - 49.4 x^{4} + 968.84 x^{3} - 9423.4 x^{2} + 45420.72 x - 86708.16$"
      ],
      "text/plain": [
       "<IPython.core.display.Markdown object>"
      ]
     },
     "metadata": {},
     "output_type": "display_data"
    },
    {
     "data": {
      "text/markdown": [
       "My new guess is p($-8.09099987846956$)= $-28232.084118375$"
      ],
      "text/plain": [
       "<IPython.core.display.Markdown object>"
      ]
     },
     "metadata": {},
     "output_type": "display_data"
    },
    {
     "name": "stdout",
     "output_type": "stream",
     "text": [
      "\n",
      "\n",
      "\n"
     ]
    },
    {
     "data": {
      "text/markdown": [
       "Bootstrapping from previous guess $-8.09099987846956$"
      ],
      "text/plain": [
       "<IPython.core.display.Markdown object>"
      ]
     },
     "metadata": {},
     "output_type": "display_data"
    },
    {
     "name": "stdout",
     "output_type": "stream",
     "text": [
      "Solving for 1.0*(x + -8.090999878469562)**5 + 0.6*(x + -8.090999878469562)**4 - 7.16*(x + -8.090999878469562)**3 + 1.8*(x + -8.090999878469562)**2 + 4.72*(x + -8.090999878469562) - 0.96 = "
     ]
    },
    {
     "data": {
      "text/markdown": [
       "$1.0 x^{5} - 39.8549993923478 x^{4} + 628.064390625618 x^{3} - 4885.44865512318 x^{2} + 18726.067296723 x - 28232.084118375$"
      ],
      "text/plain": [
       "<IPython.core.display.Markdown object>"
      ]
     },
     "metadata": {},
     "output_type": "display_data"
    },
    {
     "data": {
      "text/markdown": [
       "My new guess is p($-6.58336436317289$)= $-9150.31705255507$"
      ],
      "text/plain": [
       "<IPython.core.display.Markdown object>"
      ]
     },
     "metadata": {},
     "output_type": "display_data"
    },
    {
     "name": "stdout",
     "output_type": "stream",
     "text": [
      "\n",
      "\n",
      "\n"
     ]
    },
    {
     "data": {
      "text/markdown": [
       "Bootstrapping from previous guess $-6.58336436317289$"
      ],
      "text/plain": [
       "<IPython.core.display.Markdown object>"
      ]
     },
     "metadata": {},
     "output_type": "display_data"
    },
    {
     "name": "stdout",
     "output_type": "stream",
     "text": [
      "Solving for 1.0*(x + -6.583364363172894)**5 + 0.6*(x + -6.583364363172894)**4 - 7.16*(x + -6.583364363172894)**3 + 1.8*(x + -6.583364363172894)**2 + 4.72*(x + -6.583364363172894) - 0.96 = "
     ]
    },
    {
     "data": {
      "text/markdown": [
       "$1.0 x^{5} - 32.3168218158645 x^{4} + 410.446788911334 x^{3} - 2554.03816181103 x^{2} + 7757.35133532233 x - 9150.31705255507$"
      ],
      "text/plain": [
       "<IPython.core.display.Markdown object>"
      ]
     },
     "metadata": {},
     "output_type": "display_data"
    },
    {
     "data": {
      "text/markdown": [
       "My new guess is p($-5.40379718140945$)= $-2940.27867863266$"
      ],
      "text/plain": [
       "<IPython.core.display.Markdown object>"
      ]
     },
     "metadata": {},
     "output_type": "display_data"
    },
    {
     "name": "stdout",
     "output_type": "stream",
     "text": [
      "\n",
      "\n",
      "\n"
     ]
    },
    {
     "data": {
      "text/markdown": [
       "Bootstrapping from previous guess $-5.40379718140945$"
      ],
      "text/plain": [
       "<IPython.core.display.Markdown object>"
      ]
     },
     "metadata": {},
     "output_type": "display_data"
    },
    {
     "name": "stdout",
     "output_type": "stream",
     "text": [
      "Solving for 1.0*(x + -5.403797181409447)**5 + 0.6*(x + -5.403797181409447)**4 - 7.16*(x + -5.403797181409447)**3 + 1.8*(x + -5.403797181409447)**2 + 4.72*(x + -5.403797181409447) - 0.96 = "
     ]
    },
    {
     "data": {
      "text/markdown": [
       "$1.0 x^{5} - 26.4189859070472 x^{4} + 271.881126542704 x^{3} - 1354.96686087874 x^{2} + 3242.81595530906 x - 2940.27867863266$"
      ],
      "text/plain": [
       "<IPython.core.display.Markdown object>"
      ]
     },
     "metadata": {},
     "output_type": "display_data"
    },
    {
     "data": {
      "text/markdown": [
       "My new guess is p($-4.49709179968129$)= $-928.516673153758$"
      ],
      "text/plain": [
       "<IPython.core.display.Markdown object>"
      ]
     },
     "metadata": {},
     "output_type": "display_data"
    },
    {
     "name": "stdout",
     "output_type": "stream",
     "text": [
      "\n",
      "\n",
      "\n"
     ]
    },
    {
     "data": {
      "text/markdown": [
       "Bootstrapping from previous guess $-4.49709179968129$"
      ],
      "text/plain": [
       "<IPython.core.display.Markdown object>"
      ]
     },
     "metadata": {},
     "output_type": "display_data"
    },
    {
     "name": "stdout",
     "output_type": "stream",
     "text": [
      "Solving for 1.0*(x + -4.497091799681291)**5 + 0.6*(x + -4.497091799681291)**4 - 7.16*(x + -4.497091799681291)**3 + 1.8*(x + -4.497091799681291)**2 + 4.72*(x + -4.497091799681291) - 0.96 = "
     ]
    },
    {
     "data": {
      "text/markdown": [
       "$1.0 x^{5} - 21.8854589984065 x^{4} + 184.285326228372 x^{3} - 738.281073226055 x^{2} + 1380.86368349071 x - 928.516673153759$"
      ],
      "text/plain": [
       "<IPython.core.display.Markdown object>"
      ]
     },
     "metadata": {},
     "output_type": "display_data"
    },
    {
     "data": {
      "text/markdown": [
       "My new guess is p($-3.82467446822787$)= $-282.118536534221$"
      ],
      "text/plain": [
       "<IPython.core.display.Markdown object>"
      ]
     },
     "metadata": {},
     "output_type": "display_data"
    },
    {
     "name": "stdout",
     "output_type": "stream",
     "text": [
      "\n",
      "\n",
      "\n"
     ]
    },
    {
     "data": {
      "text/markdown": [
       "Bootstrapping from previous guess $-3.82467446822787$"
      ],
      "text/plain": [
       "<IPython.core.display.Markdown object>"
      ]
     },
     "metadata": {},
     "output_type": "display_data"
    },
    {
     "name": "stdout",
     "output_type": "stream",
     "text": [
      "Solving for 1.0*(x + -3.8246744682278724)**5 + 0.6*(x + -3.8246744682278724)**4 - 7.16*(x + -3.8246744682278724)**3 + 1.8*(x + -3.8246744682278724)**2 + 4.72*(x + -3.8246744682278724) - 0.96 = "
     ]
    },
    {
     "data": {
      "text/markdown": [
       "$1.0 x^{5} - 18.5233723411394 x^{4} + 129.942129155395 x^{3} - 422.863243597287 x^{2} + 612.375624798191 x - 282.118536534221$"
      ],
      "text/plain": [
       "<IPython.core.display.Markdown object>"
      ]
     },
     "metadata": {},
     "output_type": "display_data"
    },
    {
     "data": {
      "text/markdown": [
       "My new guess is p($-3.3639792264354$)= $-77.8567060370842$"
      ],
      "text/plain": [
       "<IPython.core.display.Markdown object>"
      ]
     },
     "metadata": {},
     "output_type": "display_data"
    },
    {
     "name": "stdout",
     "output_type": "stream",
     "text": [
      "\n",
      "\n",
      "\n"
     ]
    },
    {
     "data": {
      "text/markdown": [
       "Bootstrapping from previous guess $-3.3639792264354$"
      ],
      "text/plain": [
       "<IPython.core.display.Markdown object>"
      ]
     },
     "metadata": {},
     "output_type": "display_data"
    },
    {
     "name": "stdout",
     "output_type": "stream",
     "text": [
      "Solving for 1.0*(x + -3.3639792264353963)**5 + 0.6*(x + -3.3639792264353963)**4 - 7.16*(x + -3.3639792264353963)**3 + 1.8*(x + -3.3639792264353963)**2 + 4.72*(x + -3.3639792264353963) - 0.96 = "
     ]
    },
    {
     "data": {
      "text/markdown": [
       "$1.0 x^{5} - 16.219896132177 x^{4} + 97.9300122154439 x^{3} - 265.882716731696 x^{2} + 298.470765614111 x - 77.8567060370842$"
      ],
      "text/plain": [
       "<IPython.core.display.Markdown object>"
      ]
     },
     "metadata": {},
     "output_type": "display_data"
    },
    {
     "data": {
      "text/markdown": [
       "My new guess is p($-3.1031271933162$)= $-16.427360646353$"
      ],
      "text/plain": [
       "<IPython.core.display.Markdown object>"
      ]
     },
     "metadata": {},
     "output_type": "display_data"
    },
    {
     "name": "stdout",
     "output_type": "stream",
     "text": [
      "\n",
      "\n",
      "\n"
     ]
    },
    {
     "data": {
      "text/markdown": [
       "Bootstrapping from previous guess $-3.1031271933162$"
      ],
      "text/plain": [
       "<IPython.core.display.Markdown object>"
      ]
     },
     "metadata": {},
     "output_type": "display_data"
    },
    {
     "name": "stdout",
     "output_type": "stream",
     "text": [
      "Solving for 1.0*(x + -3.103127193316199)**5 + 0.6*(x + -3.103127193316199)**4 - 7.16*(x + -3.103127193316199)**3 + 1.8*(x + -3.103127193316199)**2 + 4.72*(x + -3.103127193316199) - 0.96 = "
     ]
    },
    {
     "data": {
      "text/markdown": [
       "$1.0 x^{5} - 14.915635966581 x^{4} + 81.6864785150258 x^{3} - 195.69147334445 x^{2} + 178.620835440015 x - 16.427360646353$"
      ],
      "text/plain": [
       "<IPython.core.display.Markdown object>"
      ]
     },
     "metadata": {},
     "output_type": "display_data"
    },
    {
     "data": {
      "text/markdown": [
       "My new guess is p($-3.01115941919911$)= $-1.59269147718901$"
      ],
      "text/plain": [
       "<IPython.core.display.Markdown object>"
      ]
     },
     "metadata": {},
     "output_type": "display_data"
    },
    {
     "name": "stdout",
     "output_type": "stream",
     "text": [
      "\n",
      "\n",
      "\n"
     ]
    },
    {
     "data": {
      "text/markdown": [
       "Bootstrapping from previous guess $-3.01115941919911$"
      ],
      "text/plain": [
       "<IPython.core.display.Markdown object>"
      ]
     },
     "metadata": {},
     "output_type": "display_data"
    },
    {
     "name": "stdout",
     "output_type": "stream",
     "text": [
      "Solving for 1.0*(x + -3.0111594191991102)**5 + 0.6*(x + -3.0111594191991102)**4 - 7.16*(x + -3.0111594191991102)**3 + 1.8*(x + -3.0111594191991102)**2 + 4.72*(x + -3.0111594191991102) - 0.96 = "
     ]
    },
    {
     "data": {
      "text/markdown": [
       "$1.0 x^{5} - 14.4557970959956 x^{4} + 76.2840278722374 x^{3} - 173.903068921606 x^{2} + 144.652895218823 x - 1.59269147718905$"
      ],
      "text/plain": [
       "<IPython.core.display.Markdown object>"
      ]
     },
     "metadata": {},
     "output_type": "display_data"
    },
    {
     "data": {
      "text/markdown": [
       "My new guess is p($-3.00014898297673$)= $-0.02098060686826$"
      ],
      "text/plain": [
       "<IPython.core.display.Markdown object>"
      ]
     },
     "metadata": {},
     "output_type": "display_data"
    },
    {
     "name": "stdout",
     "output_type": "stream",
     "text": [
      "\n",
      "\n",
      "\n"
     ]
    },
    {
     "data": {
      "text/markdown": [
       "Bootstrapping from previous guess $-3.00014898297673$"
      ],
      "text/plain": [
       "<IPython.core.display.Markdown object>"
      ]
     },
     "metadata": {},
     "output_type": "display_data"
    },
    {
     "name": "stdout",
     "output_type": "stream",
     "text": [
      "Solving for 1.0*(x + -3.000148982976733)**5 + 0.6*(x + -3.000148982976733)**4 - 7.16*(x + -3.000148982976733)**3 + 1.8*(x + -3.000148982976733)**2 + 4.72*(x + -3.000148982976733) - 0.96 = "
     ]
    },
    {
     "data": {
      "text/markdown": [
       "$1.0 x^{5} - 14.4007449148837 x^{4} + 75.6485816414191 x^{3} - 171.393809134841 x^{2} + 140.851064482676 x - 0.0209806068682781$"
      ],
      "text/plain": [
       "<IPython.core.display.Markdown object>"
      ]
     },
     "metadata": {},
     "output_type": "display_data"
    },
    {
     "data": {
      "text/markdown": [
       "My new guess is p($-3.00000002700721$)= $-3.80261538479587 \\cdot 10^{-6}$"
      ],
      "text/plain": [
       "<IPython.core.display.Markdown object>"
      ]
     },
     "metadata": {},
     "output_type": "display_data"
    },
    {
     "name": "stdout",
     "output_type": "stream",
     "text": [
      "\n",
      "\n",
      "\n"
     ]
    },
    {
     "data": {
      "text/markdown": [
       "Bootstrapping from previous guess $-3.00000002700721$"
      ],
      "text/plain": [
       "<IPython.core.display.Markdown object>"
      ]
     },
     "metadata": {},
     "output_type": "display_data"
    },
    {
     "name": "stdout",
     "output_type": "stream",
     "text": [
      "Solving for 1.0*(x + -3.0000000270072107)**5 + 0.6*(x + -3.0000000270072107)**4 - 7.16*(x + -3.0000000270072107)**3 + 1.8*(x + -3.0000000270072107)**2 + 4.72*(x + -3.0000000270072107) - 0.96 = "
     ]
    },
    {
     "data": {
      "text/markdown": [
       "$1.0 x^{5} - 14.4000001350361 x^{4} + 75.6400015556153 x^{3} - 171.360006128476 x^{2} + 140.800009255911 x - 3.8026153958981 \\cdot 10^{-6}$"
      ],
      "text/plain": [
       "<IPython.core.display.Markdown object>"
      ]
     },
     "metadata": {},
     "output_type": "display_data"
    },
    {
     "data": {
      "text/markdown": [
       "My new guess is p($-3.0$)= $-1.16018306073329 \\cdot 10^{-13}$"
      ],
      "text/plain": [
       "<IPython.core.display.Markdown object>"
      ]
     },
     "metadata": {},
     "output_type": "display_data"
    },
    {
     "name": "stdout",
     "output_type": "stream",
     "text": [
      "\n",
      "\n",
      "\n"
     ]
    },
    {
     "data": {
      "text/markdown": [
       "Bootstrapping from previous guess $-3.0$"
      ],
      "text/plain": [
       "<IPython.core.display.Markdown object>"
      ]
     },
     "metadata": {},
     "output_type": "display_data"
    },
    {
     "name": "stdout",
     "output_type": "stream",
     "text": [
      "Solving for 1.0*(x + -3.000000000000001)**5 + 0.6*(x + -3.000000000000001)**4 - 7.16*(x + -3.000000000000001)**3 + 1.8*(x + -3.000000000000001)**2 + 4.72*(x + -3.000000000000001) - 0.96 = "
     ]
    },
    {
     "data": {
      "text/markdown": [
       "$1.0 x^{5} - 14.4 x^{4} + 75.6400000000001 x^{3} - 171.36 x^{2} + 140.8 x - 1.13686837721616 \\cdot 10^{-13}$"
      ],
      "text/plain": [
       "<IPython.core.display.Markdown object>"
      ]
     },
     "metadata": {},
     "output_type": "display_data"
    },
    {
     "data": {
      "text/markdown": [
       "My new guess is p($-3.0$)= $2.48689957516035 \\cdot 10^{-14}$"
      ],
      "text/plain": [
       "<IPython.core.display.Markdown object>"
      ]
     },
     "metadata": {},
     "output_type": "display_data"
    },
    {
     "data": {
      "text/markdown": [
       "Found a good approximation for p(x) = $1.0 x^{5} + 0.6 x^{4} - 7.16 x^{3} + 1.8 x^{2} + 4.72 x - 0.96$"
      ],
      "text/plain": [
       "<IPython.core.display.Markdown object>"
      ]
     },
     "metadata": {},
     "output_type": "display_data"
    },
    {
     "data": {
      "image/png": "[encoded data removed]",
      "text/latex": [
       "$\\displaystyle -3.0$"
      ],
      "text/plain": [
       "-3.00000000000000"
      ]
     },
     "metadata": {},
     "output_type": "display_data"
    },
    {
     "data": {
      "text/markdown": [
       "p($-3.0$) = $2.48689957516035065054893493652 \\cdot 10^{-14}$"
      ],
      "text/plain": [
       "<IPython.core.display.Markdown object>"
      ]
     },
     "metadata": {},
     "output_type": "display_data"
    },
    {
     "name": "stdout",
     "output_type": "stream",
     "text": [
      "Recursion: 12 \n",
      "\n",
      "\n",
      "\n",
      "\n",
      "\n",
      "Insert an expression with explicit math symbols (example: \"x^5-10*x^3+.02*x^4+x**7\"):\n",
      "2d\n",
      "Invalid expression. Turning off.\n"
     ]
    }
   ],
   "source": [
    "run()"
   ]
  },
  {
   "cell_type": "code",
   "execution_count": null,
   "metadata": {},
   "outputs": [],
   "source": []
  }
 ],
 "metadata": {
  "kernelspec": {
   "display_name": "Python 3 (ipykernel)",
   "language": "python",
   "name": "python3"
  },
  "language_info": {
   "codemirror_mode": {
    "name": "ipython",
    "version": 3
   },
   "file_extension": ".py",
   "mimetype": "text/x-python",
   "name": "python",
   "nbconvert_exporter": "python",
   "pygments_lexer": "ipython3",
   "version": "3.9.7"
  }
 },
 "nbformat": 4,
 "nbformat_minor": 4
}
