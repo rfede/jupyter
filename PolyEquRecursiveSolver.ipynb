{
 "cells": [
  {
   "cell_type": "markdown",
   "metadata": {},
   "source": []
  },
  {
   "cell_type": "code",
   "execution_count": 1,
   "metadata": {},
   "outputs": [
    {
     "name": "stdout",
     "output_type": "stream",
     "text": [
      "IPython console for SymPy 1.9 (Python 3.9.7-64-bit) (ground types: python)\n",
      "\n",
      "These commands were executed:\n",
      ">>> from __future__ import division\n",
      ">>> from sympy import *\n",
      ">>> x, y, z, t = symbols('x y z t')\n",
      ">>> k, m, n = symbols('k m n', integer=True)\n",
      ">>> f, g, h = symbols('f g h', cls=Function)\n",
      ">>> init_printing()\n",
      "\n",
      "Documentation can be found at https://docs.sympy.org/1.9/\n",
      "\n"
     ]
    }
   ],
   "source": [
    "from sympy import *\n",
    "from IPython.display import display, Markdown, Math\n",
    "from math import comb, prod\n",
    "import itertools\n",
    "import random\n",
    "init_session(use_latex=True)"
   ]
  },
  {
   "cell_type": "code",
   "execution_count": 2,
   "metadata": {},
   "outputs": [],
   "source": [
    "def Vertices(*args):\n",
    "    return 2 + sum([args[i] * (i+1) for i in range(len(args))])\n",
    "\n",
    "def Faces(*args):\n",
    "    return sum(args)\n",
    "\n",
    "def Edges(*args):\n",
    "    return Vertices(*args) + Faces(*args) - 1\n",
    "\n",
    "def R(*args): # args =[m_2, m_3, ...]\n",
    "    # (Edges-1)!/((Edges-(m_2+m_3+m_4))! m_2! m_3! ...)\n",
    "    vertices = Vertices(*args) # (2+m_2+2m_3+3m_4+...+(n-1)m_n)\n",
    "    faces = Faces(*args) # (m_2+m_3+m_4+...+m_n)\n",
    "    edges = vertices + faces - 1 # (1+2m_2+3m_3+4m_4+...+n m_n)\n",
    "    r = factorial(edges-1)//factorial(edges-faces) # binomial(edges, faces) * (vertices-1)!/edges\n",
    "    for m in args:\n",
    "        r //= factorial(m)\n",
    "    return r\n",
    "\n",
    "\n",
    "def Binom(*args): # args =[m2, m3, ...]\n",
    "    vertices = Vertices(*args)\n",
    "    faces = Faces(*args)\n",
    "    edges = vertices + faces - 1\n",
    "    n = edges - 1\n",
    "    r = 1\n",
    "    for m in args: \n",
    "        r *= comb(n, m)\n",
    "        n -= m\n",
    "    r //= vertices - 1\n",
    "    return r\n",
    "\n",
    "\n",
    "def powers(n, k, c, terms = []):\n",
    "    if not terms:\n",
    "        terms = [0 for i in range(c+1)]\n",
    "    if (k == n):\n",
    "        terms[1] = -(-1)**k\n",
    "        return [tuple(terms)]\n",
    "    if c == 1:\n",
    "        return []\n",
    "    valids = powers(n, k, c-1, terms[::])\n",
    "    while (c <= n) and (k > 0):\n",
    "        terms[c] += 1\n",
    "        n -= c\n",
    "        k -= 1\n",
    "        valids += powers(n, k, c-1, terms[::])\n",
    "    return valids + powers(n, k, c-1, terms[::])\n",
    "        \n",
    "def diagonal(n, c):\n",
    "    q = 0\n",
    "    p = set(powers(2*n, n, len(c)-1))\n",
    "    for el in p:\n",
    "        term = el[1] * Binom(*el[2:]) * c[1]**(n-sum(el[2:]))\n",
    "        term *= prod([c[k]**el[k] for k in range(2,len(el))])\n",
    "        q += term\n",
    "    return q\n",
    "\n",
    "def sol(n, c):\n",
    "    return sum([c[0]**(i+1)/c[1]**(2*i+1)*diagonal(i,c) for i in range(n+1)])\n",
    "        \n",
    "def run():\n",
    "    while True:\n",
    "        steps = 0\n",
    "        inp = input('Insert an expression with explicit math symbols (example: \"x^5-10*x^3+.02*x^4+x**7\"):\\n')\n",
    "        try:\n",
    "            pol = Poly(sympify(inp), Symbol('x'))\n",
    "            d = dict(pol.all_terms())\n",
    "        except:\n",
    "            print('Invalid expression. Turning off.')\n",
    "            break\n",
    "        values = [d[key] for key in sorted( d.keys())]\n",
    "        if values[1] == 0:\n",
    "            print('Invalid expression. Turn off.')\n",
    "            break\n",
    "        try:\n",
    "            order = int(input('Insert the depth for the algorithm:\\n'))\n",
    "            assert(order > 0)\n",
    "        except:\n",
    "            print('Invalid input (must be a natural number).')\n",
    "            break\n",
    "        approx = Float(sol(order, values))\n",
    "        tmp = Poly(pol.as_expr(),Symbol('x'))\n",
    "        e = tmp.eval(approx)\n",
    "        while abs(e) > 0.000001:\n",
    "            steps += 1\n",
    "            display(\n",
    "                Markdown(\n",
    "                        \"Couldn't find a good approximation yet for p(x) = \"+\\\n",
    "                        '{}'.format(latex(sympify(pol.as_expr()), mode='inline'))\n",
    "                ),\n",
    "                Markdown(\n",
    "                'p({}) = '.format(latex(approx, mode='inline'))+\\\n",
    "                '{}'.format(latex(Float(e,30), mode='inline'))\n",
    "                ),\n",
    "                Markdown(\n",
    "                        \"Let's use the previous result as an approximation (step {})\".format(latex(steps, mode='inline')))\n",
    "            )\n",
    "            tmp = Poly(pol.as_expr(),Symbol('x'))\n",
    "            d = dict(Poly(tmp.replace(Symbol('x'), Symbol('x')+approx), Symbol('x')).all_terms())\n",
    "            values = [d[key] for key in sorted( d.keys())]\n",
    "            approx = approx+sol(order, values)\n",
    "            e = tmp.eval(approx)\n",
    "        display(\n",
    "            Markdown(\n",
    "                    \"Found a good approximation for p(x) = \"+\\\n",
    "                    '{}'.format(latex(sympify(pol.as_expr()), mode='inline')))\n",
    "            )\n",
    "        display(N(approx))\n",
    "        display(\n",
    "            Markdown(\n",
    "                'p({}) = '.format(latex(approx, mode='inline'))+\\\n",
    "                '{}'.format(latex(Float(e,30), mode='inline'))))\n",
    "        print('\\n\\n\\n\\n')\n",
    "            \n",
    "# 3-4*x + x^2-2*x^3+x^4+3*x^5\n",
    "#10.1+3.7*x+3*x**2-4*x^3-20.5*x**4+x**5+6.1*x**6-2.2*x**7-x**8+2.5*x^9-x**10"
   ]
  },
  {
   "cell_type": "code",
   "execution_count": 4,
   "metadata": {},
   "outputs": [
    {
     "name": "stdout",
     "output_type": "stream",
     "text": [
      "Insert an expression with explicit math symbols (example: \"x^5-10*x^3+.02*x^4+x**7\"):\n",
      "3-4*x + x^2-2*x^3+x^4+3*x^5\n",
      "Insert the depth for the algorithm:\n",
      "4\n"
     ]
    },
    {
     "data": {
      "text/markdown": [
       "Couldn't find a good approximation yet for p(x) = $3 x^{5} + x^{4} - 2 x^{3} + x^{2} - 4 x + 3$"
      ],
      "text/plain": [
       "<IPython.core.display.Markdown object>"
      ]
     },
     "metadata": {},
     "output_type": "display_data"
    },
    {
     "data": {
      "text/markdown": [
       "p($0.940681457519531$) = $1.45009214915946516022415835323$"
      ],
      "text/plain": [
       "<IPython.core.display.Markdown object>"
      ]
     },
     "metadata": {},
     "output_type": "display_data"
    },
    {
     "data": {
      "text/markdown": [
       "Let's use the previous result as an approximation (step $1$)"
      ],
      "text/plain": [
       "<IPython.core.display.Markdown object>"
      ]
     },
     "metadata": {},
     "output_type": "display_data"
    },
    {
     "data": {
      "text/markdown": [
       "Couldn't find a good approximation yet for p(x) = $3 x^{5} + x^{4} - 2 x^{3} + x^{2} - 4 x + 3$"
      ],
      "text/plain": [
       "<IPython.core.display.Markdown object>"
      ]
     },
     "metadata": {},
     "output_type": "display_data"
    },
    {
     "data": {
      "text/markdown": [
       "p($0.0973043990581866$) = $2.61852377989439766281520860502$"
      ],
      "text/plain": [
       "<IPython.core.display.Markdown object>"
      ]
     },
     "metadata": {},
     "output_type": "display_data"
    },
    {
     "data": {
      "text/markdown": [
       "Let's use the previous result as an approximation (step $2$)"
      ],
      "text/plain": [
       "<IPython.core.display.Markdown object>"
      ]
     },
     "metadata": {},
     "output_type": "display_data"
    },
    {
     "data": {
      "text/markdown": [
       "Couldn't find a good approximation yet for p(x) = $3 x^{5} + x^{4} - 2 x^{3} + x^{2} - 4 x + 3$"
      ],
      "text/plain": [
       "<IPython.core.display.Markdown object>"
      ]
     },
     "metadata": {},
     "output_type": "display_data"
    },
    {
     "data": {
      "text/markdown": [
       "p($1.047220987003$) = $2.59200500516441056930716513307$"
      ],
      "text/plain": [
       "<IPython.core.display.Markdown object>"
      ]
     },
     "metadata": {},
     "output_type": "display_data"
    },
    {
     "data": {
      "text/markdown": [
       "Let's use the previous result as an approximation (step $3$)"
      ],
      "text/plain": [
       "<IPython.core.display.Markdown object>"
      ]
     },
     "metadata": {},
     "output_type": "display_data"
    },
    {
     "data": {
      "text/markdown": [
       "Couldn't find a good approximation yet for p(x) = $3 x^{5} + x^{4} - 2 x^{3} + x^{2} - 4 x + 3$"
      ],
      "text/plain": [
       "<IPython.core.display.Markdown object>"
      ]
     },
     "metadata": {},
     "output_type": "display_data"
    },
    {
     "data": {
      "text/markdown": [
       "p($0.602451750739738$) = $0.885640304765035413225859883823$"
      ],
      "text/plain": [
       "<IPython.core.display.Markdown object>"
      ]
     },
     "metadata": {},
     "output_type": "display_data"
    },
    {
     "data": {
      "text/markdown": [
       "Let's use the previous result as an approximation (step $4$)"
      ],
      "text/plain": [
       "<IPython.core.display.Markdown object>"
      ]
     },
     "metadata": {},
     "output_type": "display_data"
    },
    {
     "data": {
      "text/markdown": [
       "Couldn't find a good approximation yet for p(x) = $3 x^{5} + x^{4} - 2 x^{3} + x^{2} - 4 x + 3$"
      ],
      "text/plain": [
       "<IPython.core.display.Markdown object>"
      ]
     },
     "metadata": {},
     "output_type": "display_data"
    },
    {
     "data": {
      "text/markdown": [
       "p($35.4239083121719$) = $168828358.791522443294525146484$"
      ],
      "text/plain": [
       "<IPython.core.display.Markdown object>"
      ]
     },
     "metadata": {},
     "output_type": "display_data"
    },
    {
     "data": {
      "text/markdown": [
       "Let's use the previous result as an approximation (step $5$)"
      ],
      "text/plain": [
       "<IPython.core.display.Markdown object>"
      ]
     },
     "metadata": {},
     "output_type": "display_data"
    },
    {
     "data": {
      "text/markdown": [
       "Couldn't find a good approximation yet for p(x) = $3 x^{5} + x^{4} - 2 x^{3} + x^{2} - 4 x + 3$"
      ],
      "text/plain": [
       "<IPython.core.display.Markdown object>"
      ]
     },
     "metadata": {},
     "output_type": "display_data"
    },
    {
     "data": {
      "text/markdown": [
       "p($21.6878279438845$) = $14595889.2730891574174165725708$"
      ],
      "text/plain": [
       "<IPython.core.display.Markdown object>"
      ]
     },
     "metadata": {},
     "output_type": "display_data"
    },
    {
     "data": {
      "text/markdown": [
       "Let's use the previous result as an approximation (step $6$)"
      ],
      "text/plain": [
       "<IPython.core.display.Markdown object>"
      ]
     },
     "metadata": {},
     "output_type": "display_data"
    },
    {
     "data": {
      "text/markdown": [
       "Couldn't find a good approximation yet for p(x) = $3 x^{5} + x^{4} - 2 x^{3} + x^{2} - 4 x + 3$"
      ],
      "text/plain": [
       "<IPython.core.display.Markdown object>"
      ]
     },
     "metadata": {},
     "output_type": "display_data"
    },
    {
     "data": {
      "text/markdown": [
       "p($13.2716686014532$) = $1261708.12585605308413505554199$"
      ],
      "text/plain": [
       "<IPython.core.display.Markdown object>"
      ]
     },
     "metadata": {},
     "output_type": "display_data"
    },
    {
     "data": {
      "text/markdown": [
       "Let's use the previous result as an approximation (step $7$)"
      ],
      "text/plain": [
       "<IPython.core.display.Markdown object>"
      ]
     },
     "metadata": {},
     "output_type": "display_data"
    },
    {
     "data": {
      "text/markdown": [
       "Couldn't find a good approximation yet for p(x) = $3 x^{5} + x^{4} - 2 x^{3} + x^{2} - 4 x + 3$"
      ],
      "text/plain": [
       "<IPython.core.display.Markdown object>"
      ]
     },
     "metadata": {},
     "output_type": "display_data"
    },
    {
     "data": {
      "text/markdown": [
       "p($8.1172074829728$) = $109027.469201209445600397884846$"
      ],
      "text/plain": [
       "<IPython.core.display.Markdown object>"
      ]
     },
     "metadata": {},
     "output_type": "display_data"
    },
    {
     "data": {
      "text/markdown": [
       "Let's use the previous result as an approximation (step $8$)"
      ],
      "text/plain": [
       "<IPython.core.display.Markdown object>"
      ]
     },
     "metadata": {},
     "output_type": "display_data"
    },
    {
     "data": {
      "text/markdown": [
       "Couldn't find a good approximation yet for p(x) = $3 x^{5} + x^{4} - 2 x^{3} + x^{2} - 4 x + 3$"
      ],
      "text/plain": [
       "<IPython.core.display.Markdown object>"
      ]
     },
     "metadata": {},
     "output_type": "display_data"
    },
    {
     "data": {
      "text/markdown": [
       "p($4.96392339191513$) = $9411.94078454868395056109875441$"
      ],
      "text/plain": [
       "<IPython.core.display.Markdown object>"
      ]
     },
     "metadata": {},
     "output_type": "display_data"
    },
    {
     "data": {
      "text/markdown": [
       "Let's use the previous result as an approximation (step $9$)"
      ],
      "text/plain": [
       "<IPython.core.display.Markdown object>"
      ]
     },
     "metadata": {},
     "output_type": "display_data"
    },
    {
     "data": {
      "text/markdown": [
       "Couldn't find a good approximation yet for p(x) = $3 x^{5} + x^{4} - 2 x^{3} + x^{2} - 4 x + 3$"
      ],
      "text/plain": [
       "<IPython.core.display.Markdown object>"
      ]
     },
     "metadata": {},
     "output_type": "display_data"
    },
    {
     "data": {
      "text/markdown": [
       "p($3.04124014012844$) = $809.876525012386991875246167183$"
      ],
      "text/plain": [
       "<IPython.core.display.Markdown object>"
      ]
     },
     "metadata": {},
     "output_type": "display_data"
    },
    {
     "data": {
      "text/markdown": [
       "Let's use the previous result as an approximation (step $10$)"
      ],
      "text/plain": [
       "<IPython.core.display.Markdown object>"
      ]
     },
     "metadata": {},
     "output_type": "display_data"
    },
    {
     "data": {
      "text/markdown": [
       "Couldn't find a good approximation yet for p(x) = $3 x^{5} + x^{4} - 2 x^{3} + x^{2} - 4 x + 3$"
      ],
      "text/plain": [
       "<IPython.core.display.Markdown object>"
      ]
     },
     "metadata": {},
     "output_type": "display_data"
    },
    {
     "data": {
      "text/markdown": [
       "p($1.88151125310198$) = $68.9632405356167339505191193894$"
      ],
      "text/plain": [
       "<IPython.core.display.Markdown object>"
      ]
     },
     "metadata": {},
     "output_type": "display_data"
    },
    {
     "data": {
      "text/markdown": [
       "Let's use the previous result as an approximation (step $11$)"
      ],
      "text/plain": [
       "<IPython.core.display.Markdown object>"
      ]
     },
     "metadata": {},
     "output_type": "display_data"
    },
    {
     "data": {
      "text/markdown": [
       "Couldn't find a good approximation yet for p(x) = $3 x^{5} + x^{4} - 2 x^{3} + x^{2} - 4 x + 3$"
      ],
      "text/plain": [
       "<IPython.core.display.Markdown object>"
      ]
     },
     "metadata": {},
     "output_type": "display_data"
    },
    {
     "data": {
      "text/markdown": [
       "p($1.20376744019748$) = $5.82797731145333131053121178411$"
      ],
      "text/plain": [
       "<IPython.core.display.Markdown object>"
      ]
     },
     "metadata": {},
     "output_type": "display_data"
    },
    {
     "data": {
      "text/markdown": [
       "Let's use the previous result as an approximation (step $12$)"
      ],
      "text/plain": [
       "<IPython.core.display.Markdown object>"
      ]
     },
     "metadata": {},
     "output_type": "display_data"
    },
    {
     "data": {
      "text/markdown": [
       "Couldn't find a good approximation yet for p(x) = $3 x^{5} + x^{4} - 2 x^{3} + x^{2} - 4 x + 3$"
      ],
      "text/plain": [
       "<IPython.core.display.Markdown object>"
      ]
     },
     "metadata": {},
     "output_type": "display_data"
    },
    {
     "data": {
      "text/markdown": [
       "p($0.790036565331219$) = $0.790700084771702282893102164962$"
      ],
      "text/plain": [
       "<IPython.core.display.Markdown object>"
      ]
     },
     "metadata": {},
     "output_type": "display_data"
    },
    {
     "data": {
      "text/markdown": [
       "Let's use the previous result as an approximation (step $13$)"
      ],
      "text/plain": [
       "<IPython.core.display.Markdown object>"
      ]
     },
     "metadata": {},
     "output_type": "display_data"
    },
    {
     "data": {
      "text/markdown": [
       "Couldn't find a good approximation yet for p(x) = $3 x^{5} + x^{4} - 2 x^{3} + x^{2} - 4 x + 3$"
      ],
      "text/plain": [
       "<IPython.core.display.Markdown object>"
      ]
     },
     "metadata": {},
     "output_type": "display_data"
    },
    {
     "data": {
      "text/markdown": [
       "p($-1963.89720628261$) = $-87627661514514528.0$"
      ],
      "text/plain": [
       "<IPython.core.display.Markdown object>"
      ]
     },
     "metadata": {},
     "output_type": "display_data"
    },
    {
     "data": {
      "text/markdown": [
       "Let's use the previous result as an approximation (step $14$)"
      ],
      "text/plain": [
       "<IPython.core.display.Markdown object>"
      ]
     },
     "metadata": {},
     "output_type": "display_data"
    },
    {
     "data": {
      "text/markdown": [
       "Couldn't find a good approximation yet for p(x) = $3 x^{5} + x^{4} - 2 x^{3} + x^{2} - 4 x + 3$"
      ],
      "text/plain": [
       "<IPython.core.display.Markdown object>"
      ]
     },
     "metadata": {},
     "output_type": "display_data"
    },
    {
     "data": {
      "text/markdown": [
       "p($-1203.62777350388$) = $-7576380307524688.0$"
      ],
      "text/plain": [
       "<IPython.core.display.Markdown object>"
      ]
     },
     "metadata": {},
     "output_type": "display_data"
    },
    {
     "data": {
      "text/markdown": [
       "Let's use the previous result as an approximation (step $15$)"
      ],
      "text/plain": [
       "<IPython.core.display.Markdown object>"
      ]
     },
     "metadata": {},
     "output_type": "display_data"
    },
    {
     "data": {
      "text/markdown": [
       "Couldn't find a good approximation yet for p(x) = $3 x^{5} + x^{4} - 2 x^{3} + x^{2} - 4 x + 3$"
      ],
      "text/plain": [
       "<IPython.core.display.Markdown object>"
      ]
     },
     "metadata": {},
     "output_type": "display_data"
    },
    {
     "data": {
      "text/markdown": [
       "p($-737.686050221906$) = $-655061824786306.125$"
      ],
      "text/plain": [
       "<IPython.core.display.Markdown object>"
      ]
     },
     "metadata": {},
     "output_type": "display_data"
    },
    {
     "data": {
      "text/markdown": [
       "Let's use the previous result as an approximation (step $16$)"
      ],
      "text/plain": [
       "<IPython.core.display.Markdown object>"
      ]
     },
     "metadata": {},
     "output_type": "display_data"
    },
    {
     "data": {
      "text/markdown": [
       "Couldn't find a good approximation yet for p(x) = $3 x^{5} + x^{4} - 2 x^{3} + x^{2} - 4 x + 3$"
      ],
      "text/plain": [
       "<IPython.core.display.Markdown object>"
      ]
     },
     "metadata": {},
     "output_type": "display_data"
    },
    {
     "data": {
      "text/markdown": [
       "p($-452.127211126627$) = $-56637328489623.3359375$"
      ],
      "text/plain": [
       "<IPython.core.display.Markdown object>"
      ]
     },
     "metadata": {},
     "output_type": "display_data"
    },
    {
     "data": {
      "text/markdown": [
       "Let's use the previous result as an approximation (step $17$)"
      ],
      "text/plain": [
       "<IPython.core.display.Markdown object>"
      ]
     },
     "metadata": {},
     "output_type": "display_data"
    },
    {
     "data": {
      "text/markdown": [
       "Couldn't find a good approximation yet for p(x) = $3 x^{5} + x^{4} - 2 x^{3} + x^{2} - 4 x + 3$"
      ],
      "text/plain": [
       "<IPython.core.display.Markdown object>"
      ]
     },
     "metadata": {},
     "output_type": "display_data"
    },
    {
     "data": {
      "text/markdown": [
       "p($-277.118591867849$) = $-4896920837020.6689453125$"
      ],
      "text/plain": [
       "<IPython.core.display.Markdown object>"
      ]
     },
     "metadata": {},
     "output_type": "display_data"
    },
    {
     "data": {
      "text/markdown": [
       "Let's use the previous result as an approximation (step $18$)"
      ],
      "text/plain": [
       "<IPython.core.display.Markdown object>"
      ]
     },
     "metadata": {},
     "output_type": "display_data"
    },
    {
     "data": {
      "text/markdown": [
       "Couldn't find a good approximation yet for p(x) = $3 x^{5} + x^{4} - 2 x^{3} + x^{2} - 4 x + 3$"
      ],
      "text/plain": [
       "<IPython.core.display.Markdown object>"
      ]
     },
     "metadata": {},
     "output_type": "display_data"
    },
    {
     "data": {
      "text/markdown": [
       "p($-169.862294493701$) = $-423392358651.619140625$"
      ],
      "text/plain": [
       "<IPython.core.display.Markdown object>"
      ]
     },
     "metadata": {},
     "output_type": "display_data"
    },
    {
     "data": {
      "text/markdown": [
       "Let's use the previous result as an approximation (step $19$)"
      ],
      "text/plain": [
       "<IPython.core.display.Markdown object>"
      ]
     },
     "metadata": {},
     "output_type": "display_data"
    },
    {
     "data": {
      "text/markdown": [
       "Couldn't find a good approximation yet for p(x) = $3 x^{5} + x^{4} - 2 x^{3} + x^{2} - 4 x + 3$"
      ],
      "text/plain": [
       "<IPython.core.display.Markdown object>"
      ]
     },
     "metadata": {},
     "output_type": "display_data"
    },
    {
     "data": {
      "text/markdown": [
       "p($-104.129074401715$) = $-36606811094.7386322021484375$"
      ],
      "text/plain": [
       "<IPython.core.display.Markdown object>"
      ]
     },
     "metadata": {},
     "output_type": "display_data"
    },
    {
     "data": {
      "text/markdown": [
       "Let's use the previous result as an approximation (step $20$)"
      ],
      "text/plain": [
       "<IPython.core.display.Markdown object>"
      ]
     },
     "metadata": {},
     "output_type": "display_data"
    },
    {
     "data": {
      "text/markdown": [
       "Couldn't find a good approximation yet for p(x) = $3 x^{5} + x^{4} - 2 x^{3} + x^{2} - 4 x + 3$"
      ],
      "text/plain": [
       "<IPython.core.display.Markdown object>"
      ]
     },
     "metadata": {},
     "output_type": "display_data"
    },
    {
     "data": {
      "text/markdown": [
       "p($-63.8440489767726$) = $-3165030827.05569887161254882813$"
      ],
      "text/plain": [
       "<IPython.core.display.Markdown object>"
      ]
     },
     "metadata": {},
     "output_type": "display_data"
    },
    {
     "data": {
      "text/markdown": [
       "Let's use the previous result as an approximation (step $21$)"
      ],
      "text/plain": [
       "<IPython.core.display.Markdown object>"
      ]
     },
     "metadata": {},
     "output_type": "display_data"
    },
    {
     "data": {
      "text/markdown": [
       "Couldn't find a good approximation yet for p(x) = $3 x^{5} + x^{4} - 2 x^{3} + x^{2} - 4 x + 3$"
      ],
      "text/plain": [
       "<IPython.core.display.Markdown object>"
      ]
     },
     "metadata": {},
     "output_type": "display_data"
    },
    {
     "data": {
      "text/markdown": [
       "p($-39.1556317327368$) = $-273644198.143394887447357177734$"
      ],
      "text/plain": [
       "<IPython.core.display.Markdown object>"
      ]
     },
     "metadata": {},
     "output_type": "display_data"
    },
    {
     "data": {
      "text/markdown": [
       "Let's use the previous result as an approximation (step $22$)"
      ],
      "text/plain": [
       "<IPython.core.display.Markdown object>"
      ]
     },
     "metadata": {},
     "output_type": "display_data"
    },
    {
     "data": {
      "text/markdown": [
       "Couldn't find a good approximation yet for p(x) = $3 x^{5} + x^{4} - 2 x^{3} + x^{2} - 4 x + 3$"
      ],
      "text/plain": [
       "<IPython.core.display.Markdown object>"
      ]
     },
     "metadata": {},
     "output_type": "display_data"
    },
    {
     "data": {
      "text/markdown": [
       "p($-24.0263662016992$) = $-23657723.7713102400302886962891$"
      ],
      "text/plain": [
       "<IPython.core.display.Markdown object>"
      ]
     },
     "metadata": {},
     "output_type": "display_data"
    },
    {
     "data": {
      "text/markdown": [
       "Let's use the previous result as an approximation (step $23$)"
      ],
      "text/plain": [
       "<IPython.core.display.Markdown object>"
      ]
     },
     "metadata": {},
     "output_type": "display_data"
    },
    {
     "data": {
      "text/markdown": [
       "Couldn't find a good approximation yet for p(x) = $3 x^{5} + x^{4} - 2 x^{3} + x^{2} - 4 x + 3$"
      ],
      "text/plain": [
       "<IPython.core.display.Markdown object>"
      ]
     },
     "metadata": {},
     "output_type": "display_data"
    },
    {
     "data": {
      "text/markdown": [
       "p($-14.7565248132166$) = $-2045017.86388914822600781917572$"
      ],
      "text/plain": [
       "<IPython.core.display.Markdown object>"
      ]
     },
     "metadata": {},
     "output_type": "display_data"
    },
    {
     "data": {
      "text/markdown": [
       "Let's use the previous result as an approximation (step $24$)"
      ],
      "text/plain": [
       "<IPython.core.display.Markdown object>"
      ]
     },
     "metadata": {},
     "output_type": "display_data"
    },
    {
     "data": {
      "text/markdown": [
       "Couldn't find a good approximation yet for p(x) = $3 x^{5} + x^{4} - 2 x^{3} + x^{2} - 4 x + 3$"
      ],
      "text/plain": [
       "<IPython.core.display.Markdown object>"
      ]
     },
     "metadata": {},
     "output_type": "display_data"
    },
    {
     "data": {
      "text/markdown": [
       "p($-9.07949765695061$) = $-176695.565737110620830208063126$"
      ],
      "text/plain": [
       "<IPython.core.display.Markdown object>"
      ]
     },
     "metadata": {},
     "output_type": "display_data"
    },
    {
     "data": {
      "text/markdown": [
       "Let's use the previous result as an approximation (step $25$)"
      ],
      "text/plain": [
       "<IPython.core.display.Markdown object>"
      ]
     },
     "metadata": {},
     "output_type": "display_data"
    },
    {
     "data": {
      "text/markdown": [
       "Couldn't find a good approximation yet for p(x) = $3 x^{5} + x^{4} - 2 x^{3} + x^{2} - 4 x + 3$"
      ],
      "text/plain": [
       "<IPython.core.display.Markdown object>"
      ]
     },
     "metadata": {},
     "output_type": "display_data"
    },
    {
     "data": {
      "text/markdown": [
       "p($-5.60805032543816$) = $-15242.3033221548648725729435682$"
      ],
      "text/plain": [
       "<IPython.core.display.Markdown object>"
      ]
     },
     "metadata": {},
     "output_type": "display_data"
    },
    {
     "data": {
      "text/markdown": [
       "Let's use the previous result as an approximation (step $26$)"
      ],
      "text/plain": [
       "<IPython.core.display.Markdown object>"
      ]
     },
     "metadata": {},
     "output_type": "display_data"
    },
    {
     "data": {
      "text/markdown": [
       "Couldn't find a good approximation yet for p(x) = $3 x^{5} + x^{4} - 2 x^{3} + x^{2} - 4 x + 3$"
      ],
      "text/plain": [
       "<IPython.core.display.Markdown object>"
      ]
     },
     "metadata": {},
     "output_type": "display_data"
    },
    {
     "data": {
      "text/markdown": [
       "p($-3.49734147765823$) = $-1305.29857339644354397023562342$"
      ],
      "text/plain": [
       "<IPython.core.display.Markdown object>"
      ]
     },
     "metadata": {},
     "output_type": "display_data"
    },
    {
     "data": {
      "text/markdown": [
       "Let's use the previous result as an approximation (step $27$)"
      ],
      "text/plain": [
       "<IPython.core.display.Markdown object>"
      ]
     },
     "metadata": {},
     "output_type": "display_data"
    },
    {
     "data": {
      "text/markdown": [
       "Couldn't find a good approximation yet for p(x) = $3 x^{5} + x^{4} - 2 x^{3} + x^{2} - 4 x + 3$"
      ],
      "text/plain": [
       "<IPython.core.display.Markdown object>"
      ]
     },
     "metadata": {},
     "output_type": "display_data"
    },
    {
     "data": {
      "text/markdown": [
       "p($-2.24825280013956$) = $-106.999213230386317263764794916$"
      ],
      "text/plain": [
       "<IPython.core.display.Markdown object>"
      ]
     },
     "metadata": {},
     "output_type": "display_data"
    },
    {
     "data": {
      "text/markdown": [
       "Let's use the previous result as an approximation (step $28$)"
      ],
      "text/plain": [
       "<IPython.core.display.Markdown object>"
      ]
     },
     "metadata": {},
     "output_type": "display_data"
    },
    {
     "data": {
      "text/markdown": [
       "Couldn't find a good approximation yet for p(x) = $3 x^{5} + x^{4} - 2 x^{3} + x^{2} - 4 x + 3$"
      ],
      "text/plain": [
       "<IPython.core.display.Markdown object>"
      ]
     },
     "metadata": {},
     "output_type": "display_data"
    },
    {
     "data": {
      "text/markdown": [
       "p($-1.62194476379203$) = $-6.10172340102485044610602926696$"
      ],
      "text/plain": [
       "<IPython.core.display.Markdown object>"
      ]
     },
     "metadata": {},
     "output_type": "display_data"
    },
    {
     "data": {
      "text/markdown": [
       "Let's use the previous result as an approximation (step $29$)"
      ],
      "text/plain": [
       "<IPython.core.display.Markdown object>"
      ]
     },
     "metadata": {},
     "output_type": "display_data"
    },
    {
     "data": {
      "text/markdown": [
       "Couldn't find a good approximation yet for p(x) = $3 x^{5} + x^{4} - 2 x^{3} + x^{2} - 4 x + 3$"
      ],
      "text/plain": [
       "<IPython.core.display.Markdown object>"
      ]
     },
     "metadata": {},
     "output_type": "display_data"
    },
    {
     "data": {
      "text/markdown": [
       "p($-1.50678198751832$) = $-0.00676434633058908829639221949037$"
      ],
      "text/plain": [
       "<IPython.core.display.Markdown object>"
      ]
     },
     "metadata": {},
     "output_type": "display_data"
    },
    {
     "data": {
      "text/markdown": [
       "Let's use the previous result as an approximation (step $30$)"
      ],
      "text/plain": [
       "<IPython.core.display.Markdown object>"
      ]
     },
     "metadata": {},
     "output_type": "display_data"
    },
    {
     "data": {
      "text/markdown": [
       "Found a good approximation for p(x) = $3 x^{5} + x^{4} - 2 x^{3} + x^{2} - 4 x + 3$"
      ],
      "text/plain": [
       "<IPython.core.display.Markdown object>"
      ]
     },
     "metadata": {},
     "output_type": "display_data"
    },
    {
     "data": {
      "image/png": "[encoded data removed]",
      "text/latex": [
       "$\\displaystyle -1.50662463290297$"
      ],
      "text/plain": [
       "-1.50662463290297"
      ]
     },
     "metadata": {},
     "output_type": "display_data"
    },
    {
     "data": {
      "text/markdown": [
       "p($-1.50662463290297$) = $2.66453525910037569701671600342 \\cdot 10^{-15}$"
      ],
      "text/plain": [
       "<IPython.core.display.Markdown object>"
      ]
     },
     "metadata": {},
     "output_type": "display_data"
    },
    {
     "name": "stdout",
     "output_type": "stream",
     "text": [
      "\n",
      "\n",
      "\n",
      "\n",
      "\n",
      "Insert an expression with explicit math symbols (example: \"x^5-10*x^3+.02*x^4+x**7\"):\n",
      "10.1+3.7*x+3*x**2-4*x^3-20.5*x**4+x**5+6.1*x**6-2.2*x**7-x**8+2.5*x^9-x**10\n",
      "Insert the depth for the algorithm:\n",
      "5\n"
     ]
    },
    {
     "data": {
      "text/markdown": [
       "Couldn't find a good approximation yet for p(x) = $- 1.0 x^{10} + 2.5 x^{9} - 1.0 x^{8} - 2.2 x^{7} + 6.1 x^{6} + 1.0 x^{5} - 20.5 x^{4} - 4.0 x^{3} + 3.0 x^{2} + 3.7 x + 10.1$"
      ],
      "text/plain": [
       "<IPython.core.display.Markdown object>"
      ]
     },
     "metadata": {},
     "output_type": "display_data"
    },
    {
     "data": {
      "text/markdown": [
       "p($22675.7590991196$) = $-3.59393702178022939881309069761 \\cdot 10^{43}$"
      ],
      "text/plain": [
       "<IPython.core.display.Markdown object>"
      ]
     },
     "metadata": {},
     "output_type": "display_data"
    },
    {
     "data": {
      "text/markdown": [
       "Let's use the previous result as an approximation (step $1$)"
      ],
      "text/plain": [
       "<IPython.core.display.Markdown object>"
      ]
     },
     "metadata": {},
     "output_type": "display_data"
    },
    {
     "data": {
      "text/markdown": [
       "Couldn't find a good approximation yet for p(x) = $- 1.0 x^{10} + 2.5 x^{9} - 1.0 x^{8} - 2.2 x^{7} + 6.1 x^{6} + 1.0 x^{5} - 20.5 x^{4} - 4.0 x^{3} + 3.0 x^{2} + 3.7 x + 10.1$"
      ],
      "text/plain": [
       "<IPython.core.display.Markdown object>"
      ]
     },
     "metadata": {},
     "output_type": "display_data"
    },
    {
     "data": {
      "text/markdown": [
       "p($17609.114722115$) = $-2.86624670202980439629623947989 \\cdot 10^{42}$"
      ],
      "text/plain": [
       "<IPython.core.display.Markdown object>"
      ]
     },
     "metadata": {},
     "output_type": "display_data"
    },
    {
     "data": {
      "text/markdown": [
       "Let's use the previous result as an approximation (step $2$)"
      ],
      "text/plain": [
       "<IPython.core.display.Markdown object>"
      ]
     },
     "metadata": {},
     "output_type": "display_data"
    },
    {
     "data": {
      "text/markdown": [
       "Couldn't find a good approximation yet for p(x) = $- 1.0 x^{10} + 2.5 x^{9} - 1.0 x^{8} - 2.2 x^{7} + 6.1 x^{6} + 1.0 x^{5} - 20.5 x^{4} - 4.0 x^{3} + 3.0 x^{2} + 3.7 x + 10.1$"
      ],
      "text/plain": [
       "<IPython.core.display.Markdown object>"
      ]
     },
     "metadata": {},
     "output_type": "display_data"
    },
    {
     "data": {
      "text/markdown": [
       "p($13674.5677624785$) = $-2.28589708351586999104844117044 \\cdot 10^{41}$"
      ],
      "text/plain": [
       "<IPython.core.display.Markdown object>"
      ]
     },
     "metadata": {},
     "output_type": "display_data"
    },
    {
     "data": {
      "text/markdown": [
       "Let's use the previous result as an approximation (step $3$)"
      ],
      "text/plain": [
       "<IPython.core.display.Markdown object>"
      ]
     },
     "metadata": {},
     "output_type": "display_data"
    },
    {
     "data": {
      "text/markdown": [
       "Couldn't find a good approximation yet for p(x) = $- 1.0 x^{10} + 2.5 x^{9} - 1.0 x^{8} - 2.2 x^{7} + 6.1 x^{6} + 1.0 x^{5} - 20.5 x^{4} - 4.0 x^{3} + 3.0 x^{2} + 3.7 x + 10.1$"
      ],
      "text/plain": [
       "<IPython.core.display.Markdown object>"
      ]
     },
     "metadata": {},
     "output_type": "display_data"
    },
    {
     "data": {
      "text/markdown": [
       "p($10619.1609443258$) = $-1.8230550329916215612921356341 \\cdot 10^{40}$"
      ],
      "text/plain": [
       "<IPython.core.display.Markdown object>"
      ]
     },
     "metadata": {},
     "output_type": "display_data"
    },
    {
     "data": {
      "text/markdown": [
       "Let's use the previous result as an approximation (step $4$)"
      ],
      "text/plain": [
       "<IPython.core.display.Markdown object>"
      ]
     },
     "metadata": {},
     "output_type": "display_data"
    },
    {
     "data": {
      "text/markdown": [
       "Couldn't find a good approximation yet for p(x) = $- 1.0 x^{10} + 2.5 x^{9} - 1.0 x^{8} - 2.2 x^{7} + 6.1 x^{6} + 1.0 x^{5} - 20.5 x^{4} - 4.0 x^{3} + 3.0 x^{2} + 3.7 x + 10.1$"
      ],
      "text/plain": [
       "<IPython.core.display.Markdown object>"
      ]
     },
     "metadata": {},
     "output_type": "display_data"
    },
    {
     "data": {
      "text/markdown": [
       "p($8246.45808494873$) = $-1.45392794660811617071212480772 \\cdot 10^{39}$"
      ],
      "text/plain": [
       "<IPython.core.display.Markdown object>"
      ]
     },
     "metadata": {},
     "output_type": "display_data"
    },
    {
     "data": {
      "text/markdown": [
       "Let's use the previous result as an approximation (step $5$)"
      ],
      "text/plain": [
       "<IPython.core.display.Markdown object>"
      ]
     },
     "metadata": {},
     "output_type": "display_data"
    },
    {
     "data": {
      "text/markdown": [
       "Couldn't find a good approximation yet for p(x) = $- 1.0 x^{10} + 2.5 x^{9} - 1.0 x^{8} - 2.2 x^{7} + 6.1 x^{6} + 1.0 x^{5} - 20.5 x^{4} - 4.0 x^{3} + 3.0 x^{2} + 3.7 x + 10.1$"
      ],
      "text/plain": [
       "<IPython.core.display.Markdown object>"
      ]
     },
     "metadata": {},
     "output_type": "display_data"
    },
    {
     "data": {
      "text/markdown": [
       "p($6403.91495042453$) = $-1.15954068040844027736340255969 \\cdot 10^{38}$"
      ],
      "text/plain": [
       "<IPython.core.display.Markdown object>"
      ]
     },
     "metadata": {},
     "output_type": "display_data"
    },
    {
     "data": {
      "text/markdown": [
       "Let's use the previous result as an approximation (step $6$)"
      ],
      "text/plain": [
       "<IPython.core.display.Markdown object>"
      ]
     },
     "metadata": {},
     "output_type": "display_data"
    },
    {
     "data": {
      "text/markdown": [
       "Couldn't find a good approximation yet for p(x) = $- 1.0 x^{10} + 2.5 x^{9} - 1.0 x^{8} - 2.2 x^{7} + 6.1 x^{6} + 1.0 x^{5} - 20.5 x^{4} - 4.0 x^{3} + 3.0 x^{2} + 3.7 x + 10.1$"
      ],
      "text/plain": [
       "<IPython.core.display.Markdown object>"
      ]
     },
     "metadata": {},
     "output_type": "display_data"
    },
    {
     "data": {
      "text/markdown": [
       "p($4973.0719832006$) = $-9.24760124514887242962226874668 \\cdot 10^{36}$"
      ],
      "text/plain": [
       "<IPython.core.display.Markdown object>"
      ]
     },
     "metadata": {},
     "output_type": "display_data"
    },
    {
     "data": {
      "text/markdown": [
       "Let's use the previous result as an approximation (step $7$)"
      ],
      "text/plain": [
       "<IPython.core.display.Markdown object>"
      ]
     },
     "metadata": {},
     "output_type": "display_data"
    },
    {
     "data": {
      "text/markdown": [
       "Couldn't find a good approximation yet for p(x) = $- 1.0 x^{10} + 2.5 x^{9} - 1.0 x^{8} - 2.2 x^{7} + 6.1 x^{6} + 1.0 x^{5} - 20.5 x^{4} - 4.0 x^{3} + 3.0 x^{2} + 3.7 x + 10.1$"
      ],
      "text/plain": [
       "<IPython.core.display.Markdown object>"
      ]
     },
     "metadata": {},
     "output_type": "display_data"
    },
    {
     "data": {
      "text/markdown": [
       "p($3861.93837901904$) = $-7.37517278806223910592264977674 \\cdot 10^{35}$"
      ],
      "text/plain": [
       "<IPython.core.display.Markdown object>"
      ]
     },
     "metadata": {},
     "output_type": "display_data"
    },
    {
     "data": {
      "text/markdown": [
       "Let's use the previous result as an approximation (step $8$)"
      ],
      "text/plain": [
       "<IPython.core.display.Markdown object>"
      ]
     },
     "metadata": {},
     "output_type": "display_data"
    },
    {
     "data": {
      "text/markdown": [
       "Couldn't find a good approximation yet for p(x) = $- 1.0 x^{10} + 2.5 x^{9} - 1.0 x^{8} - 2.2 x^{7} + 6.1 x^{6} + 1.0 x^{5} - 20.5 x^{4} - 4.0 x^{3} + 3.0 x^{2} + 3.7 x + 10.1$"
      ],
      "text/plain": [
       "<IPython.core.display.Markdown object>"
      ]
     },
     "metadata": {},
     "output_type": "display_data"
    },
    {
     "data": {
      "text/markdown": [
       "p($2999.07787532122$) = $-5.88186840535267052476715821643 \\cdot 10^{34}$"
      ],
      "text/plain": [
       "<IPython.core.display.Markdown object>"
      ]
     },
     "metadata": {},
     "output_type": "display_data"
    },
    {
     "data": {
      "text/markdown": [
       "Let's use the previous result as an approximation (step $9$)"
      ],
      "text/plain": [
       "<IPython.core.display.Markdown object>"
      ]
     },
     "metadata": {},
     "output_type": "display_data"
    },
    {
     "data": {
      "text/markdown": [
       "Couldn't find a good approximation yet for p(x) = $- 1.0 x^{10} + 2.5 x^{9} - 1.0 x^{8} - 2.2 x^{7} + 6.1 x^{6} + 1.0 x^{5} - 20.5 x^{4} - 4.0 x^{3} + 3.0 x^{2} + 3.7 x + 10.1$"
      ],
      "text/plain": [
       "<IPython.core.display.Markdown object>"
      ]
     },
     "metadata": {},
     "output_type": "display_data"
    },
    {
     "data": {
      "text/markdown": [
       "p($2329.01601857438$) = $-4.69092411308943233559820118052 \\cdot 10^{33}$"
      ],
      "text/plain": [
       "<IPython.core.display.Markdown object>"
      ]
     },
     "metadata": {},
     "output_type": "display_data"
    },
    {
     "data": {
      "text/markdown": [
       "Let's use the previous result as an approximation (step $10$)"
      ],
      "text/plain": [
       "<IPython.core.display.Markdown object>"
      ]
     },
     "metadata": {},
     "output_type": "display_data"
    },
    {
     "data": {
      "text/markdown": [
       "Couldn't find a good approximation yet for p(x) = $- 1.0 x^{10} + 2.5 x^{9} - 1.0 x^{8} - 2.2 x^{7} + 6.1 x^{6} + 1.0 x^{5} - 20.5 x^{4} - 4.0 x^{3} + 3.0 x^{2} + 3.7 x + 10.1$"
      ],
      "text/plain": [
       "<IPython.core.display.Markdown object>"
      ]
     },
     "metadata": {},
     "output_type": "display_data"
    },
    {
     "data": {
      "text/markdown": [
       "p($1808.67363760642$) = $-3.74111888372979433124597409513 \\cdot 10^{32}$"
      ],
      "text/plain": [
       "<IPython.core.display.Markdown object>"
      ]
     },
     "metadata": {},
     "output_type": "display_data"
    },
    {
     "data": {
      "text/markdown": [
       "Let's use the previous result as an approximation (step $11$)"
      ],
      "text/plain": [
       "<IPython.core.display.Markdown object>"
      ]
     },
     "metadata": {},
     "output_type": "display_data"
    },
    {
     "data": {
      "text/markdown": [
       "Couldn't find a good approximation yet for p(x) = $- 1.0 x^{10} + 2.5 x^{9} - 1.0 x^{8} - 2.2 x^{7} + 6.1 x^{6} + 1.0 x^{5} - 20.5 x^{4} - 4.0 x^{3} + 3.0 x^{2} + 3.7 x + 10.1$"
      ],
      "text/plain": [
       "<IPython.core.display.Markdown object>"
      ]
     },
     "metadata": {},
     "output_type": "display_data"
    },
    {
     "data": {
      "text/markdown": [
       "p($1404.59722618885$) = $-2.98362755162414036003096069407 \\cdot 10^{31}$"
      ],
      "text/plain": [
       "<IPython.core.display.Markdown object>"
      ]
     },
     "metadata": {},
     "output_type": "display_data"
    },
    {
     "data": {
      "text/markdown": [
       "Let's use the previous result as an approximation (step $12$)"
      ],
      "text/plain": [
       "<IPython.core.display.Markdown object>"
      ]
     },
     "metadata": {},
     "output_type": "display_data"
    },
    {
     "data": {
      "text/markdown": [
       "Couldn't find a good approximation yet for p(x) = $- 1.0 x^{10} + 2.5 x^{9} - 1.0 x^{8} - 2.2 x^{7} + 6.1 x^{6} + 1.0 x^{5} - 20.5 x^{4} - 4.0 x^{3} + 3.0 x^{2} + 3.7 x + 10.1$"
      ],
      "text/plain": [
       "<IPython.core.display.Markdown object>"
      ]
     },
     "metadata": {},
     "output_type": "display_data"
    },
    {
     "data": {
      "text/markdown": [
       "p($1090.80817246719$) = $-2.37951093336924667488671629312 \\cdot 10^{30}$"
      ],
      "text/plain": [
       "<IPython.core.display.Markdown object>"
      ]
     },
     "metadata": {},
     "output_type": "display_data"
    },
    {
     "data": {
      "text/markdown": [
       "Let's use the previous result as an approximation (step $13$)"
      ],
      "text/plain": [
       "<IPython.core.display.Markdown object>"
      ]
     },
     "metadata": {},
     "output_type": "display_data"
    },
    {
     "data": {
      "text/markdown": [
       "Couldn't find a good approximation yet for p(x) = $- 1.0 x^{10} + 2.5 x^{9} - 1.0 x^{8} - 2.2 x^{7} + 6.1 x^{6} + 1.0 x^{5} - 20.5 x^{4} - 4.0 x^{3} + 3.0 x^{2} + 3.7 x + 10.1$"
      ],
      "text/plain": [
       "<IPython.core.display.Markdown object>"
      ]
     },
     "metadata": {},
     "output_type": "display_data"
    },
    {
     "data": {
      "text/markdown": [
       "p($847.132559328166$) = $-189771414151397259491361685504.0$"
      ],
      "text/plain": [
       "<IPython.core.display.Markdown object>"
      ]
     },
     "metadata": {},
     "output_type": "display_data"
    },
    {
     "data": {
      "text/markdown": [
       "Let's use the previous result as an approximation (step $14$)"
      ],
      "text/plain": [
       "<IPython.core.display.Markdown object>"
      ]
     },
     "metadata": {},
     "output_type": "display_data"
    },
    {
     "data": {
      "text/markdown": [
       "Couldn't find a good approximation yet for p(x) = $- 1.0 x^{10} + 2.5 x^{9} - 1.0 x^{8} - 2.2 x^{7} + 6.1 x^{6} + 1.0 x^{5} - 20.5 x^{4} - 4.0 x^{3} + 3.0 x^{2} + 3.7 x + 10.1$"
      ],
      "text/plain": [
       "<IPython.core.display.Markdown object>"
      ]
     },
     "metadata": {},
     "output_type": "display_data"
    },
    {
     "data": {
      "text/markdown": [
       "p($657.904156339518$) = $-15134701940288564141863469056.0$"
      ],
      "text/plain": [
       "<IPython.core.display.Markdown object>"
      ]
     },
     "metadata": {},
     "output_type": "display_data"
    },
    {
     "data": {
      "text/markdown": [
       "Let's use the previous result as an approximation (step $15$)"
      ],
      "text/plain": [
       "<IPython.core.display.Markdown object>"
      ]
     },
     "metadata": {},
     "output_type": "display_data"
    },
    {
     "data": {
      "text/markdown": [
       "Couldn't find a good approximation yet for p(x) = $- 1.0 x^{10} + 2.5 x^{9} - 1.0 x^{8} - 2.2 x^{7} + 6.1 x^{6} + 1.0 x^{5} - 20.5 x^{4} - 4.0 x^{3} + 3.0 x^{2} + 3.7 x + 10.1$"
      ],
      "text/plain": [
       "<IPython.core.display.Markdown object>"
      ]
     },
     "metadata": {},
     "output_type": "display_data"
    },
    {
     "data": {
      "text/markdown": [
       "p($510.957216883149$) = $-1207026856361193751250468864.0$"
      ],
      "text/plain": [
       "<IPython.core.display.Markdown object>"
      ]
     },
     "metadata": {},
     "output_type": "display_data"
    },
    {
     "data": {
      "text/markdown": [
       "Let's use the previous result as an approximation (step $16$)"
      ],
      "text/plain": [
       "<IPython.core.display.Markdown object>"
      ]
     },
     "metadata": {},
     "output_type": "display_data"
    },
    {
     "data": {
      "text/markdown": [
       "Couldn't find a good approximation yet for p(x) = $- 1.0 x^{10} + 2.5 x^{9} - 1.0 x^{8} - 2.2 x^{7} + 6.1 x^{6} + 1.0 x^{5} - 20.5 x^{4} - 4.0 x^{3} + 3.0 x^{2} + 3.7 x + 10.1$"
      ],
      "text/plain": [
       "<IPython.core.display.Markdown object>"
      ]
     },
     "metadata": {},
     "output_type": "display_data"
    },
    {
     "data": {
      "text/markdown": [
       "p($396.844326064398$) = $-96263126881172496477847552.0$"
      ],
      "text/plain": [
       "<IPython.core.display.Markdown object>"
      ]
     },
     "metadata": {},
     "output_type": "display_data"
    },
    {
     "data": {
      "text/markdown": [
       "Let's use the previous result as an approximation (step $17$)"
      ],
      "text/plain": [
       "<IPython.core.display.Markdown object>"
      ]
     },
     "metadata": {},
     "output_type": "display_data"
    },
    {
     "data": {
      "text/markdown": [
       "Couldn't find a good approximation yet for p(x) = $- 1.0 x^{10} + 2.5 x^{9} - 1.0 x^{8} - 2.2 x^{7} + 6.1 x^{6} + 1.0 x^{5} - 20.5 x^{4} - 4.0 x^{3} + 3.0 x^{2} + 3.7 x + 10.1$"
      ],
      "text/plain": [
       "<IPython.core.display.Markdown object>"
      ]
     },
     "metadata": {},
     "output_type": "display_data"
    },
    {
     "data": {
      "text/markdown": [
       "p($308.229013795245$) = $-7677201635378080434356224.0$"
      ],
      "text/plain": [
       "<IPython.core.display.Markdown object>"
      ]
     },
     "metadata": {},
     "output_type": "display_data"
    },
    {
     "data": {
      "text/markdown": [
       "Let's use the previous result as an approximation (step $18$)"
      ],
      "text/plain": [
       "<IPython.core.display.Markdown object>"
      ]
     },
     "metadata": {},
     "output_type": "display_data"
    },
    {
     "data": {
      "text/markdown": [
       "Couldn't find a good approximation yet for p(x) = $- 1.0 x^{10} + 2.5 x^{9} - 1.0 x^{8} - 2.2 x^{7} + 6.1 x^{6} + 1.0 x^{5} - 20.5 x^{4} - 4.0 x^{3} + 3.0 x^{2} + 3.7 x + 10.1$"
      ],
      "text/plain": [
       "<IPython.core.display.Markdown object>"
      ]
     },
     "metadata": {},
     "output_type": "display_data"
    },
    {
     "data": {
      "text/markdown": [
       "p($239.414083335238$) = $-612274043912180776042496.0$"
      ],
      "text/plain": [
       "<IPython.core.display.Markdown object>"
      ]
     },
     "metadata": {},
     "output_type": "display_data"
    },
    {
     "data": {
      "text/markdown": [
       "Let's use the previous result as an approximation (step $19$)"
      ],
      "text/plain": [
       "<IPython.core.display.Markdown object>"
      ]
     },
     "metadata": {},
     "output_type": "display_data"
    },
    {
     "data": {
      "text/markdown": [
       "Couldn't find a good approximation yet for p(x) = $- 1.0 x^{10} + 2.5 x^{9} - 1.0 x^{8} - 2.2 x^{7} + 6.1 x^{6} + 1.0 x^{5} - 20.5 x^{4} - 4.0 x^{3} + 3.0 x^{2} + 3.7 x + 10.1$"
      ],
      "text/plain": [
       "<IPython.core.display.Markdown object>"
      ]
     },
     "metadata": {},
     "output_type": "display_data"
    },
    {
     "data": {
      "text/markdown": [
       "p($185.975330901657$) = $-48830212752137791733760.0$"
      ],
      "text/plain": [
       "<IPython.core.display.Markdown object>"
      ]
     },
     "metadata": {},
     "output_type": "display_data"
    },
    {
     "data": {
      "text/markdown": [
       "Let's use the previous result as an approximation (step $20$)"
      ],
      "text/plain": [
       "<IPython.core.display.Markdown object>"
      ]
     },
     "metadata": {},
     "output_type": "display_data"
    },
    {
     "data": {
      "text/markdown": [
       "Couldn't find a good approximation yet for p(x) = $- 1.0 x^{10} + 2.5 x^{9} - 1.0 x^{8} - 2.2 x^{7} + 6.1 x^{6} + 1.0 x^{5} - 20.5 x^{4} - 4.0 x^{3} + 3.0 x^{2} + 3.7 x + 10.1$"
      ],
      "text/plain": [
       "<IPython.core.display.Markdown object>"
      ]
     },
     "metadata": {},
     "output_type": "display_data"
    },
    {
     "data": {
      "text/markdown": [
       "p($144.477107692768$) = $-3894315760457764306944.0$"
      ],
      "text/plain": [
       "<IPython.core.display.Markdown object>"
      ]
     },
     "metadata": {},
     "output_type": "display_data"
    },
    {
     "data": {
      "text/markdown": [
       "Let's use the previous result as an approximation (step $21$)"
      ],
      "text/plain": [
       "<IPython.core.display.Markdown object>"
      ]
     },
     "metadata": {},
     "output_type": "display_data"
    },
    {
     "data": {
      "text/markdown": [
       "Couldn't find a good approximation yet for p(x) = $- 1.0 x^{10} + 2.5 x^{9} - 1.0 x^{8} - 2.2 x^{7} + 6.1 x^{6} + 1.0 x^{5} - 20.5 x^{4} - 4.0 x^{3} + 3.0 x^{2} + 3.7 x + 10.1$"
      ],
      "text/plain": [
       "<IPython.core.display.Markdown object>"
      ]
     },
     "metadata": {},
     "output_type": "display_data"
    },
    {
     "data": {
      "text/markdown": [
       "p($112.251437425974$) = $-310579896167729594368.0$"
      ],
      "text/plain": [
       "<IPython.core.display.Markdown object>"
      ]
     },
     "metadata": {},
     "output_type": "display_data"
    },
    {
     "data": {
      "text/markdown": [
       "Let's use the previous result as an approximation (step $22$)"
      ],
      "text/plain": [
       "<IPython.core.display.Markdown object>"
      ]
     },
     "metadata": {},
     "output_type": "display_data"
    },
    {
     "data": {
      "text/markdown": [
       "Couldn't find a good approximation yet for p(x) = $- 1.0 x^{10} + 2.5 x^{9} - 1.0 x^{8} - 2.2 x^{7} + 6.1 x^{6} + 1.0 x^{5} - 20.5 x^{4} - 4.0 x^{3} + 3.0 x^{2} + 3.7 x + 10.1$"
      ],
      "text/plain": [
       "<IPython.core.display.Markdown object>"
      ]
     },
     "metadata": {},
     "output_type": "display_data"
    },
    {
     "data": {
      "text/markdown": [
       "p($87.2264885624281$) = $-24769367108078669824.0$"
      ],
      "text/plain": [
       "<IPython.core.display.Markdown object>"
      ]
     },
     "metadata": {},
     "output_type": "display_data"
    },
    {
     "data": {
      "text/markdown": [
       "Let's use the previous result as an approximation (step $23$)"
      ],
      "text/plain": [
       "<IPython.core.display.Markdown object>"
      ]
     },
     "metadata": {},
     "output_type": "display_data"
    },
    {
     "data": {
      "text/markdown": [
       "Couldn't find a good approximation yet for p(x) = $- 1.0 x^{10} + 2.5 x^{9} - 1.0 x^{8} - 2.2 x^{7} + 6.1 x^{6} + 1.0 x^{5} - 20.5 x^{4} - 4.0 x^{3} + 3.0 x^{2} + 3.7 x + 10.1$"
      ],
      "text/plain": [
       "<IPython.core.display.Markdown object>"
      ]
     },
     "metadata": {},
     "output_type": "display_data"
    },
    {
     "data": {
      "text/markdown": [
       "p($67.7933734714158$) = $-1975401918915980288.0$"
      ],
      "text/plain": [
       "<IPython.core.display.Markdown object>"
      ]
     },
     "metadata": {},
     "output_type": "display_data"
    },
    {
     "data": {
      "text/markdown": [
       "Let's use the previous result as an approximation (step $24$)"
      ],
      "text/plain": [
       "<IPython.core.display.Markdown object>"
      ]
     },
     "metadata": {},
     "output_type": "display_data"
    },
    {
     "data": {
      "text/markdown": [
       "Couldn't find a good approximation yet for p(x) = $- 1.0 x^{10} + 2.5 x^{9} - 1.0 x^{8} - 2.2 x^{7} + 6.1 x^{6} + 1.0 x^{5} - 20.5 x^{4} - 4.0 x^{3} + 3.0 x^{2} + 3.7 x + 10.1$"
      ],
      "text/plain": [
       "<IPython.core.display.Markdown object>"
      ]
     },
     "metadata": {},
     "output_type": "display_data"
    },
    {
     "data": {
      "text/markdown": [
       "p($52.7027108869651$) = $-157541277471463488.0$"
      ],
      "text/plain": [
       "<IPython.core.display.Markdown object>"
      ]
     },
     "metadata": {},
     "output_type": "display_data"
    },
    {
     "data": {
      "text/markdown": [
       "Let's use the previous result as an approximation (step $25$)"
      ],
      "text/plain": [
       "<IPython.core.display.Markdown object>"
      ]
     },
     "metadata": {},
     "output_type": "display_data"
    },
    {
     "data": {
      "text/markdown": [
       "Couldn't find a good approximation yet for p(x) = $- 1.0 x^{10} + 2.5 x^{9} - 1.0 x^{8} - 2.2 x^{7} + 6.1 x^{6} + 1.0 x^{5} - 20.5 x^{4} - 4.0 x^{3} + 3.0 x^{2} + 3.7 x + 10.1$"
      ],
      "text/plain": [
       "<IPython.core.display.Markdown object>"
      ]
     },
     "metadata": {},
     "output_type": "display_data"
    },
    {
     "data": {
      "text/markdown": [
       "p($40.9843015544687$) = $-12564073985602698.0$"
      ],
      "text/plain": [
       "<IPython.core.display.Markdown object>"
      ]
     },
     "metadata": {},
     "output_type": "display_data"
    },
    {
     "data": {
      "text/markdown": [
       "Let's use the previous result as an approximation (step $26$)"
      ],
      "text/plain": [
       "<IPython.core.display.Markdown object>"
      ]
     },
     "metadata": {},
     "output_type": "display_data"
    },
    {
     "data": {
      "text/markdown": [
       "Couldn't find a good approximation yet for p(x) = $- 1.0 x^{10} + 2.5 x^{9} - 1.0 x^{8} - 2.2 x^{7} + 6.1 x^{6} + 1.0 x^{5} - 20.5 x^{4} - 4.0 x^{3} + 3.0 x^{2} + 3.7 x + 10.1$"
      ],
      "text/plain": [
       "<IPython.core.display.Markdown object>"
      ]
     },
     "metadata": {},
     "output_type": "display_data"
    },
    {
     "data": {
      "text/markdown": [
       "p($31.884753001121$) = $-1001986814543244.0$"
      ],
      "text/plain": [
       "<IPython.core.display.Markdown object>"
      ]
     },
     "metadata": {},
     "output_type": "display_data"
    },
    {
     "data": {
      "text/markdown": [
       "Let's use the previous result as an approximation (step $27$)"
      ],
      "text/plain": [
       "<IPython.core.display.Markdown object>"
      ]
     },
     "metadata": {},
     "output_type": "display_data"
    },
    {
     "data": {
      "text/markdown": [
       "Couldn't find a good approximation yet for p(x) = $- 1.0 x^{10} + 2.5 x^{9} - 1.0 x^{8} - 2.2 x^{7} + 6.1 x^{6} + 1.0 x^{5} - 20.5 x^{4} - 4.0 x^{3} + 3.0 x^{2} + 3.7 x + 10.1$"
      ],
      "text/plain": [
       "<IPython.core.display.Markdown object>"
      ]
     },
     "metadata": {},
     "output_type": "display_data"
    },
    {
     "data": {
      "text/markdown": [
       "p($24.8190434763554$) = $-79907188699384.015625$"
      ],
      "text/plain": [
       "<IPython.core.display.Markdown object>"
      ]
     },
     "metadata": {},
     "output_type": "display_data"
    },
    {
     "data": {
      "text/markdown": [
       "Let's use the previous result as an approximation (step $28$)"
      ],
      "text/plain": [
       "<IPython.core.display.Markdown object>"
      ]
     },
     "metadata": {},
     "output_type": "display_data"
    },
    {
     "data": {
      "text/markdown": [
       "Couldn't find a good approximation yet for p(x) = $- 1.0 x^{10} + 2.5 x^{9} - 1.0 x^{8} - 2.2 x^{7} + 6.1 x^{6} + 1.0 x^{5} - 20.5 x^{4} - 4.0 x^{3} + 3.0 x^{2} + 3.7 x + 10.1$"
      ],
      "text/plain": [
       "<IPython.core.display.Markdown object>"
      ]
     },
     "metadata": {},
     "output_type": "display_data"
    },
    {
     "data": {
      "text/markdown": [
       "p($19.3329116018948$) = $-6372308452413.37890625$"
      ],
      "text/plain": [
       "<IPython.core.display.Markdown object>"
      ]
     },
     "metadata": {},
     "output_type": "display_data"
    },
    {
     "data": {
      "text/markdown": [
       "Let's use the previous result as an approximation (step $29$)"
      ],
      "text/plain": [
       "<IPython.core.display.Markdown object>"
      ]
     },
     "metadata": {},
     "output_type": "display_data"
    },
    {
     "data": {
      "text/markdown": [
       "Couldn't find a good approximation yet for p(x) = $- 1.0 x^{10} + 2.5 x^{9} - 1.0 x^{8} - 2.2 x^{7} + 6.1 x^{6} + 1.0 x^{5} - 20.5 x^{4} - 4.0 x^{3} + 3.0 x^{2} + 3.7 x + 10.1$"
      ],
      "text/plain": [
       "<IPython.core.display.Markdown object>"
      ]
     },
     "metadata": {},
     "output_type": "display_data"
    },
    {
     "data": {
      "text/markdown": [
       "p($15.0736550153939$) = $-508142741272.19989013671875$"
      ],
      "text/plain": [
       "<IPython.core.display.Markdown object>"
      ]
     },
     "metadata": {},
     "output_type": "display_data"
    },
    {
     "data": {
      "text/markdown": [
       "Let's use the previous result as an approximation (step $30$)"
      ],
      "text/plain": [
       "<IPython.core.display.Markdown object>"
      ]
     },
     "metadata": {},
     "output_type": "display_data"
    },
    {
     "data": {
      "text/markdown": [
       "Couldn't find a good approximation yet for p(x) = $- 1.0 x^{10} + 2.5 x^{9} - 1.0 x^{8} - 2.2 x^{7} + 6.1 x^{6} + 1.0 x^{5} - 20.5 x^{4} - 4.0 x^{3} + 3.0 x^{2} + 3.7 x + 10.1$"
      ],
      "text/plain": [
       "<IPython.core.display.Markdown object>"
      ]
     },
     "metadata": {},
     "output_type": "display_data"
    },
    {
     "data": {
      "text/markdown": [
       "p($11.7674635730023$) = $-40516906856.42058563232421875$"
      ],
      "text/plain": [
       "<IPython.core.display.Markdown object>"
      ]
     },
     "metadata": {},
     "output_type": "display_data"
    },
    {
     "data": {
      "text/markdown": [
       "Let's use the previous result as an approximation (step $31$)"
      ],
      "text/plain": [
       "<IPython.core.display.Markdown object>"
      ]
     },
     "metadata": {},
     "output_type": "display_data"
    },
    {
     "data": {
      "text/markdown": [
       "Couldn't find a good approximation yet for p(x) = $- 1.0 x^{10} + 2.5 x^{9} - 1.0 x^{8} - 2.2 x^{7} + 6.1 x^{6} + 1.0 x^{5} - 20.5 x^{4} - 4.0 x^{3} + 3.0 x^{2} + 3.7 x + 10.1$"
      ],
      "text/plain": [
       "<IPython.core.display.Markdown object>"
      ]
     },
     "metadata": {},
     "output_type": "display_data"
    },
    {
     "data": {
      "text/markdown": [
       "p($9.20183628238437$) = $-3230111315.80404329299926757813$"
      ],
      "text/plain": [
       "<IPython.core.display.Markdown object>"
      ]
     },
     "metadata": {},
     "output_type": "display_data"
    },
    {
     "data": {
      "text/markdown": [
       "Let's use the previous result as an approximation (step $32$)"
      ],
      "text/plain": [
       "<IPython.core.display.Markdown object>"
      ]
     },
     "metadata": {},
     "output_type": "display_data"
    },
    {
     "data": {
      "text/markdown": [
       "Couldn't find a good approximation yet for p(x) = $- 1.0 x^{10} + 2.5 x^{9} - 1.0 x^{8} - 2.2 x^{7} + 6.1 x^{6} + 1.0 x^{5} - 20.5 x^{4} - 4.0 x^{3} + 3.0 x^{2} + 3.7 x + 10.1$"
      ],
      "text/plain": [
       "<IPython.core.display.Markdown object>"
      ]
     },
     "metadata": {},
     "output_type": "display_data"
    },
    {
     "data": {
      "text/markdown": [
       "p($7.21196449675431$) = $-257434910.57763907313346862793$"
      ],
      "text/plain": [
       "<IPython.core.display.Markdown object>"
      ]
     },
     "metadata": {},
     "output_type": "display_data"
    },
    {
     "data": {
      "text/markdown": [
       "Let's use the previous result as an approximation (step $33$)"
      ],
      "text/plain": [
       "<IPython.core.display.Markdown object>"
      ]
     },
     "metadata": {},
     "output_type": "display_data"
    },
    {
     "data": {
      "text/markdown": [
       "Couldn't find a good approximation yet for p(x) = $- 1.0 x^{10} + 2.5 x^{9} - 1.0 x^{8} - 2.2 x^{7} + 6.1 x^{6} + 1.0 x^{5} - 20.5 x^{4} - 4.0 x^{3} + 3.0 x^{2} + 3.7 x + 10.1$"
      ],
      "text/plain": [
       "<IPython.core.display.Markdown object>"
      ]
     },
     "metadata": {},
     "output_type": "display_data"
    },
    {
     "data": {
      "text/markdown": [
       "p($5.67022702339712$) = $-20504904.3837315030395984649658$"
      ],
      "text/plain": [
       "<IPython.core.display.Markdown object>"
      ]
     },
     "metadata": {},
     "output_type": "display_data"
    },
    {
     "data": {
      "text/markdown": [
       "Let's use the previous result as an approximation (step $34$)"
      ],
      "text/plain": [
       "<IPython.core.display.Markdown object>"
      ]
     },
     "metadata": {},
     "output_type": "display_data"
    },
    {
     "data": {
      "text/markdown": [
       "Couldn't find a good approximation yet for p(x) = $- 1.0 x^{10} + 2.5 x^{9} - 1.0 x^{8} - 2.2 x^{7} + 6.1 x^{6} + 1.0 x^{5} - 20.5 x^{4} - 4.0 x^{3} + 3.0 x^{2} + 3.7 x + 10.1$"
      ],
      "text/plain": [
       "<IPython.core.display.Markdown object>"
      ]
     },
     "metadata": {},
     "output_type": "display_data"
    },
    {
     "data": {
      "text/markdown": [
       "p($4.47813068186714$) = $-1631299.70837398781441152095795$"
      ],
      "text/plain": [
       "<IPython.core.display.Markdown object>"
      ]
     },
     "metadata": {},
     "output_type": "display_data"
    },
    {
     "data": {
      "text/markdown": [
       "Let's use the previous result as an approximation (step $35$)"
      ],
      "text/plain": [
       "<IPython.core.display.Markdown object>"
      ]
     },
     "metadata": {},
     "output_type": "display_data"
    },
    {
     "data": {
      "text/markdown": [
       "Couldn't find a good approximation yet for p(x) = $- 1.0 x^{10} + 2.5 x^{9} - 1.0 x^{8} - 2.2 x^{7} + 6.1 x^{6} + 1.0 x^{5} - 20.5 x^{4} - 4.0 x^{3} + 3.0 x^{2} + 3.7 x + 10.1$"
      ],
      "text/plain": [
       "<IPython.core.display.Markdown object>"
      ]
     },
     "metadata": {},
     "output_type": "display_data"
    },
    {
     "data": {
      "text/markdown": [
       "p($3.56001991805273$) = $-129527.246434319182299077510834$"
      ],
      "text/plain": [
       "<IPython.core.display.Markdown object>"
      ]
     },
     "metadata": {},
     "output_type": "display_data"
    },
    {
     "data": {
      "text/markdown": [
       "Let's use the previous result as an approximation (step $36$)"
      ],
      "text/plain": [
       "<IPython.core.display.Markdown object>"
      ]
     },
     "metadata": {},
     "output_type": "display_data"
    },
    {
     "data": {
      "text/markdown": [
       "Couldn't find a good approximation yet for p(x) = $- 1.0 x^{10} + 2.5 x^{9} - 1.0 x^{8} - 2.2 x^{7} + 6.1 x^{6} + 1.0 x^{5} - 20.5 x^{4} - 4.0 x^{3} + 3.0 x^{2} + 3.7 x + 10.1$"
      ],
      "text/plain": [
       "<IPython.core.display.Markdown object>"
      ]
     },
     "metadata": {},
     "output_type": "display_data"
    },
    {
     "data": {
      "text/markdown": [
       "p($2.8569675474632$) = $-10289.5328300554247107356786728$"
      ],
      "text/plain": [
       "<IPython.core.display.Markdown object>"
      ]
     },
     "metadata": {},
     "output_type": "display_data"
    },
    {
     "data": {
      "text/markdown": [
       "Let's use the previous result as an approximation (step $37$)"
      ],
      "text/plain": [
       "<IPython.core.display.Markdown object>"
      ]
     },
     "metadata": {},
     "output_type": "display_data"
    },
    {
     "data": {
      "text/markdown": [
       "Couldn't find a good approximation yet for p(x) = $- 1.0 x^{10} + 2.5 x^{9} - 1.0 x^{8} - 2.2 x^{7} + 6.1 x^{6} + 1.0 x^{5} - 20.5 x^{4} - 4.0 x^{3} + 3.0 x^{2} + 3.7 x + 10.1$"
      ],
      "text/plain": [
       "<IPython.core.display.Markdown object>"
      ]
     },
     "metadata": {},
     "output_type": "display_data"
    },
    {
     "data": {
      "text/markdown": [
       "p($2.31357933584025$) = $-847.793066122757409175392240286$"
      ],
      "text/plain": [
       "<IPython.core.display.Markdown object>"
      ]
     },
     "metadata": {},
     "output_type": "display_data"
    },
    {
     "data": {
      "text/markdown": [
       "Let's use the previous result as an approximation (step $38$)"
      ],
      "text/plain": [
       "<IPython.core.display.Markdown object>"
      ]
     },
     "metadata": {},
     "output_type": "display_data"
    },
    {
     "data": {
      "text/markdown": [
       "Couldn't find a good approximation yet for p(x) = $- 1.0 x^{10} + 2.5 x^{9} - 1.0 x^{8} - 2.2 x^{7} + 6.1 x^{6} + 1.0 x^{5} - 20.5 x^{4} - 4.0 x^{3} + 3.0 x^{2} + 3.7 x + 10.1$"
      ],
      "text/plain": [
       "<IPython.core.display.Markdown object>"
      ]
     },
     "metadata": {},
     "output_type": "display_data"
    },
    {
     "data": {
      "text/markdown": [
       "p($1.80481135419829$) = $-93.059695688519227019241952803$"
      ],
      "text/plain": [
       "<IPython.core.display.Markdown object>"
      ]
     },
     "metadata": {},
     "output_type": "display_data"
    },
    {
     "data": {
      "text/markdown": [
       "Let's use the previous result as an approximation (step $39$)"
      ],
      "text/plain": [
       "<IPython.core.display.Markdown object>"
      ]
     },
     "metadata": {},
     "output_type": "display_data"
    },
    {
     "data": {
      "text/markdown": [
       "Couldn't find a good approximation yet for p(x) = $- 1.0 x^{10} + 2.5 x^{9} - 1.0 x^{8} - 2.2 x^{7} + 6.1 x^{6} + 1.0 x^{5} - 20.5 x^{4} - 4.0 x^{3} + 3.0 x^{2} + 3.7 x + 10.1$"
      ],
      "text/plain": [
       "<IPython.core.display.Markdown object>"
      ]
     },
     "metadata": {},
     "output_type": "display_data"
    },
    {
     "data": {
      "text/markdown": [
       "p($0.799401219537969$) = $6.07916951845310737923000488081$"
      ],
      "text/plain": [
       "<IPython.core.display.Markdown object>"
      ]
     },
     "metadata": {},
     "output_type": "display_data"
    },
    {
     "data": {
      "text/markdown": [
       "Let's use the previous result as an approximation (step $40$)"
      ],
      "text/plain": [
       "<IPython.core.display.Markdown object>"
      ]
     },
     "metadata": {},
     "output_type": "display_data"
    },
    {
     "data": {
      "text/markdown": [
       "Couldn't find a good approximation yet for p(x) = $- 1.0 x^{10} + 2.5 x^{9} - 1.0 x^{8} - 2.2 x^{7} + 6.1 x^{6} + 1.0 x^{5} - 20.5 x^{4} - 4.0 x^{3} + 3.0 x^{2} + 3.7 x + 10.1$"
      ],
      "text/plain": [
       "<IPython.core.display.Markdown object>"
      ]
     },
     "metadata": {},
     "output_type": "display_data"
    },
    {
     "data": {
      "text/markdown": [
       "p($0.942879421310318$) = $0.566678808128330047111376188695$"
      ],
      "text/plain": [
       "<IPython.core.display.Markdown object>"
      ]
     },
     "metadata": {},
     "output_type": "display_data"
    },
    {
     "data": {
      "text/markdown": [
       "Let's use the previous result as an approximation (step $41$)"
      ],
      "text/plain": [
       "<IPython.core.display.Markdown object>"
      ]
     },
     "metadata": {},
     "output_type": "display_data"
    },
    {
     "data": {
      "text/markdown": [
       "Found a good approximation for p(x) = $- 1.0 x^{10} + 2.5 x^{9} - 1.0 x^{8} - 2.2 x^{7} + 6.1 x^{6} + 1.0 x^{5} - 20.5 x^{4} - 4.0 x^{3} + 3.0 x^{2} + 3.7 x + 10.1$"
      ],
      "text/plain": [
       "<IPython.core.display.Markdown object>"
      ]
     },
     "metadata": {},
     "output_type": "display_data"
    },
    {
     "data": {
      "image/png": "[encoded data removed]",
      "text/latex": [
       "$\\displaystyle 0.954812767954902$"
      ],
      "text/plain": [
       "0.954812767954902"
      ]
     },
     "metadata": {},
     "output_type": "display_data"
    },
    {
     "data": {
      "text/markdown": [
       "p($0.954812767954902$) = $5.79351677743034088052809238434 \\cdot 10^{-10}$"
      ],
      "text/plain": [
       "<IPython.core.display.Markdown object>"
      ]
     },
     "metadata": {},
     "output_type": "display_data"
    },
    {
     "name": "stdout",
     "output_type": "stream",
     "text": [
      "\n",
      "\n",
      "\n",
      "\n",
      "\n",
      "Insert an expression with explicit math symbols (example: \"x^5-10*x^3+.02*x^4+x**7\"):\n",
      "10.1+3.7*x+3*x**2-4*x^3-20.5*x**4+x**5+6.1*x**6-2.2*x**7-x**8+2.5*x^9-x**10\n",
      "Insert the depth for the algorithm:\n",
      "6\n"
     ]
    },
    {
     "data": {
      "text/markdown": [
       "Couldn't find a good approximation yet for p(x) = $- 1.0 x^{10} + 2.5 x^{9} - 1.0 x^{8} - 2.2 x^{7} + 6.1 x^{6} + 1.0 x^{5} - 20.5 x^{4} - 4.0 x^{3} + 3.0 x^{2} + 3.7 x + 10.1$"
      ],
      "text/plain": [
       "<IPython.core.display.Markdown object>"
      ]
     },
     "metadata": {},
     "output_type": "display_data"
    },
    {
     "data": {
      "text/markdown": [
       "p($286463.435696144$) = $-3.72124422008854756615403864991 \\cdot 10^{54}$"
      ],
      "text/plain": [
       "<IPython.core.display.Markdown object>"
      ]
     },
     "metadata": {},
     "output_type": "display_data"
    },
    {
     "data": {
      "text/markdown": [
       "Let's use the previous result as an approximation (step $1$)"
      ],
      "text/plain": [
       "<IPython.core.display.Markdown object>"
      ]
     },
     "metadata": {},
     "output_type": "display_data"
    },
    {
     "data": {
      "text/markdown": [
       "Couldn't find a good approximation yet for p(x) = $- 1.0 x^{10} + 2.5 x^{9} - 1.0 x^{8} - 2.2 x^{7} + 6.1 x^{6} + 1.0 x^{5} - 20.5 x^{4} - 4.0 x^{3} + 3.0 x^{2} + 3.7 x + 10.1$"
      ],
      "text/plain": [
       "<IPython.core.display.Markdown object>"
      ]
     },
     "metadata": {},
     "output_type": "display_data"
    },
    {
     "data": {
      "text/markdown": [
       "p($219277.804255835$) = $-2.57005126250682655514367760335 \\cdot 10^{53}$"
      ],
      "text/plain": [
       "<IPython.core.display.Markdown object>"
      ]
     },
     "metadata": {},
     "output_type": "display_data"
    },
    {
     "data": {
      "text/markdown": [
       "Let's use the previous result as an approximation (step $2$)"
      ],
      "text/plain": [
       "<IPython.core.display.Markdown object>"
      ]
     },
     "metadata": {},
     "output_type": "display_data"
    },
    {
     "data": {
      "text/markdown": [
       "Couldn't find a good approximation yet for p(x) = $- 1.0 x^{10} + 2.5 x^{9} - 1.0 x^{8} - 2.2 x^{7} + 6.1 x^{6} + 1.0 x^{5} - 20.5 x^{4} - 4.0 x^{3} + 3.0 x^{2} + 3.7 x + 10.1$"
      ],
      "text/plain": [
       "<IPython.core.display.Markdown object>"
      ]
     },
     "metadata": {},
     "output_type": "display_data"
    },
    {
     "data": {
      "text/markdown": [
       "p($167849.552114073$) = $-1.7749879076071858548525096432 \\cdot 10^{52}$"
      ],
      "text/plain": [
       "<IPython.core.display.Markdown object>"
      ]
     },
     "metadata": {},
     "output_type": "display_data"
    },
    {
     "data": {
      "text/markdown": [
       "Let's use the previous result as an approximation (step $3$)"
      ],
      "text/plain": [
       "<IPython.core.display.Markdown object>"
      ]
     },
     "metadata": {},
     "output_type": "display_data"
    },
    {
     "data": {
      "text/markdown": [
       "Couldn't find a good approximation yet for p(x) = $- 1.0 x^{10} + 2.5 x^{9} - 1.0 x^{8} - 2.2 x^{7} + 6.1 x^{6} + 1.0 x^{5} - 20.5 x^{4} - 4.0 x^{3} + 3.0 x^{2} + 3.7 x + 10.1$"
      ],
      "text/plain": [
       "<IPython.core.display.Markdown object>"
      ]
     },
     "metadata": {},
     "output_type": "display_data"
    },
    {
     "data": {
      "text/markdown": [
       "p($128483.022967095$) = $-1.22588296899436317334431185204 \\cdot 10^{51}$"
      ],
      "text/plain": [
       "<IPython.core.display.Markdown object>"
      ]
     },
     "metadata": {},
     "output_type": "display_data"
    },
    {
     "data": {
      "text/markdown": [
       "Let's use the previous result as an approximation (step $4$)"
      ],
      "text/plain": [
       "<IPython.core.display.Markdown object>"
      ]
     },
     "metadata": {},
     "output_type": "display_data"
    },
    {
     "data": {
      "text/markdown": [
       "Couldn't find a good approximation yet for p(x) = $- 1.0 x^{10} + 2.5 x^{9} - 1.0 x^{8} - 2.2 x^{7} + 6.1 x^{6} + 1.0 x^{5} - 20.5 x^{4} - 4.0 x^{3} + 3.0 x^{2} + 3.7 x + 10.1$"
      ],
      "text/plain": [
       "<IPython.core.display.Markdown object>"
      ]
     },
     "metadata": {},
     "output_type": "display_data"
    },
    {
     "data": {
      "text/markdown": [
       "p($98349.3211099075$) = $-8.46647488260669951785992066377 \\cdot 10^{49}$"
      ],
      "text/plain": [
       "<IPython.core.display.Markdown object>"
      ]
     },
     "metadata": {},
     "output_type": "display_data"
    },
    {
     "data": {
      "text/markdown": [
       "Let's use the previous result as an approximation (step $5$)"
      ],
      "text/plain": [
       "<IPython.core.display.Markdown object>"
      ]
     },
     "metadata": {},
     "output_type": "display_data"
    },
    {
     "data": {
      "text/markdown": [
       "Couldn't find a good approximation yet for p(x) = $- 1.0 x^{10} + 2.5 x^{9} - 1.0 x^{8} - 2.2 x^{7} + 6.1 x^{6} + 1.0 x^{5} - 20.5 x^{4} - 4.0 x^{3} + 3.0 x^{2} + 3.7 x + 10.1$"
      ],
      "text/plain": [
       "<IPython.core.display.Markdown object>"
      ]
     },
     "metadata": {},
     "output_type": "display_data"
    },
    {
     "data": {
      "text/markdown": [
       "p($75283.0257750052$) = $-5.84731159096450047613401357079 \\cdot 10^{48}$"
      ],
      "text/plain": [
       "<IPython.core.display.Markdown object>"
      ]
     },
     "metadata": {},
     "output_type": "display_data"
    },
    {
     "data": {
      "text/markdown": [
       "Let's use the previous result as an approximation (step $6$)"
      ],
      "text/plain": [
       "<IPython.core.display.Markdown object>"
      ]
     },
     "metadata": {},
     "output_type": "display_data"
    },
    {
     "data": {
      "text/markdown": [
       "Couldn't find a good approximation yet for p(x) = $- 1.0 x^{10} + 2.5 x^{9} - 1.0 x^{8} - 2.2 x^{7} + 6.1 x^{6} + 1.0 x^{5} - 20.5 x^{4} - 4.0 x^{3} + 3.0 x^{2} + 3.7 x + 10.1$"
      ],
      "text/plain": [
       "<IPython.core.display.Markdown object>"
      ]
     },
     "metadata": {},
     "output_type": "display_data"
    },
    {
     "data": {
      "text/markdown": [
       "p($57626.5830652838$) = $-4.03840480433626344204526648915 \\cdot 10^{47}$"
      ],
      "text/plain": [
       "<IPython.core.display.Markdown object>"
      ]
     },
     "metadata": {},
     "output_type": "display_data"
    },
    {
     "data": {
      "text/markdown": [
       "Let's use the previous result as an approximation (step $7$)"
      ],
      "text/plain": [
       "<IPython.core.display.Markdown object>"
      ]
     },
     "metadata": {},
     "output_type": "display_data"
    },
    {
     "data": {
      "text/markdown": [
       "Couldn't find a good approximation yet for p(x) = $- 1.0 x^{10} + 2.5 x^{9} - 1.0 x^{8} - 2.2 x^{7} + 6.1 x^{6} + 1.0 x^{5} - 20.5 x^{4} - 4.0 x^{3} + 3.0 x^{2} + 3.7 x + 10.1$"
      ],
      "text/plain": [
       "<IPython.core.display.Markdown object>"
      ]
     },
     "metadata": {},
     "output_type": "display_data"
    },
    {
     "data": {
      "text/markdown": [
       "p($44111.1934185432$) = $-2.7890959990557773398366773675 \\cdot 10^{46}$"
      ],
      "text/plain": [
       "<IPython.core.display.Markdown object>"
      ]
     },
     "metadata": {},
     "output_type": "display_data"
    },
    {
     "data": {
      "text/markdown": [
       "Let's use the previous result as an approximation (step $8$)"
      ],
      "text/plain": [
       "<IPython.core.display.Markdown object>"
      ]
     },
     "metadata": {},
     "output_type": "display_data"
    },
    {
     "data": {
      "text/markdown": [
       "Couldn't find a good approximation yet for p(x) = $- 1.0 x^{10} + 2.5 x^{9} - 1.0 x^{8} - 2.2 x^{7} + 6.1 x^{6} + 1.0 x^{5} - 20.5 x^{4} - 4.0 x^{3} + 3.0 x^{2} + 3.7 x + 10.1$"
      ],
      "text/plain": [
       "<IPython.core.display.Markdown object>"
      ]
     },
     "metadata": {},
     "output_type": "display_data"
    },
    {
     "data": {
      "text/markdown": [
       "p($33765.6351255934$) = $-1.92626962099465865069610005436 \\cdot 10^{45}$"
      ],
      "text/plain": [
       "<IPython.core.display.Markdown object>"
      ]
     },
     "metadata": {},
     "output_type": "display_data"
    },
    {
     "data": {
      "text/markdown": [
       "Let's use the previous result as an approximation (step $9$)"
      ],
      "text/plain": [
       "<IPython.core.display.Markdown object>"
      ]
     },
     "metadata": {},
     "output_type": "display_data"
    },
    {
     "data": {
      "text/markdown": [
       "Couldn't find a good approximation yet for p(x) = $- 1.0 x^{10} + 2.5 x^{9} - 1.0 x^{8} - 2.2 x^{7} + 6.1 x^{6} + 1.0 x^{5} - 20.5 x^{4} - 4.0 x^{3} + 3.0 x^{2} + 3.7 x + 10.1$"
      ],
      "text/plain": [
       "<IPython.core.display.Markdown object>"
      ]
     },
     "metadata": {},
     "output_type": "display_data"
    },
    {
     "data": {
      "text/markdown": [
       "p($25846.4719207825$) = $-1.33036462493951756917934738809 \\cdot 10^{44}$"
      ],
      "text/plain": [
       "<IPython.core.display.Markdown object>"
      ]
     },
     "metadata": {},
     "output_type": "display_data"
    },
    {
     "data": {
      "text/markdown": [
       "Let's use the previous result as an approximation (step $10$)"
      ],
      "text/plain": [
       "<IPython.core.display.Markdown object>"
      ]
     },
     "metadata": {},
     "output_type": "display_data"
    },
    {
     "data": {
      "text/markdown": [
       "Couldn't find a good approximation yet for p(x) = $- 1.0 x^{10} + 2.5 x^{9} - 1.0 x^{8} - 2.2 x^{7} + 6.1 x^{6} + 1.0 x^{5} - 20.5 x^{4} - 4.0 x^{3} + 3.0 x^{2} + 3.7 x + 10.1$"
      ],
      "text/plain": [
       "<IPython.core.display.Markdown object>"
      ]
     },
     "metadata": {},
     "output_type": "display_data"
    },
    {
     "data": {
      "text/markdown": [
       "p($19784.6293324038$) = $-9.18807012242383522359502182833 \\cdot 10^{42}$"
      ],
      "text/plain": [
       "<IPython.core.display.Markdown object>"
      ]
     },
     "metadata": {},
     "output_type": "display_data"
    },
    {
     "data": {
      "text/markdown": [
       "Let's use the previous result as an approximation (step $11$)"
      ],
      "text/plain": [
       "<IPython.core.display.Markdown object>"
      ]
     },
     "metadata": {},
     "output_type": "display_data"
    },
    {
     "data": {
      "text/markdown": [
       "Couldn't find a good approximation yet for p(x) = $- 1.0 x^{10} + 2.5 x^{9} - 1.0 x^{8} - 2.2 x^{7} + 6.1 x^{6} + 1.0 x^{5} - 20.5 x^{4} - 4.0 x^{3} + 3.0 x^{2} + 3.7 x + 10.1$"
      ],
      "text/plain": [
       "<IPython.core.display.Markdown object>"
      ]
     },
     "metadata": {},
     "output_type": "display_data"
    },
    {
     "data": {
      "text/markdown": [
       "p($15144.5007465594$) = $-6.34567628963045313259716816074 \\cdot 10^{41}$"
      ],
      "text/plain": [
       "<IPython.core.display.Markdown object>"
      ]
     },
     "metadata": {},
     "output_type": "display_data"
    },
    {
     "data": {
      "text/markdown": [
       "Let's use the previous result as an approximation (step $12$)"
      ],
      "text/plain": [
       "<IPython.core.display.Markdown object>"
      ]
     },
     "metadata": {},
     "output_type": "display_data"
    },
    {
     "data": {
      "text/markdown": [
       "Couldn't find a good approximation yet for p(x) = $- 1.0 x^{10} + 2.5 x^{9} - 1.0 x^{8} - 2.2 x^{7} + 6.1 x^{6} + 1.0 x^{5} - 20.5 x^{4} - 4.0 x^{3} + 3.0 x^{2} + 3.7 x + 10.1$"
      ],
      "text/plain": [
       "<IPython.core.display.Markdown object>"
      ]
     },
     "metadata": {},
     "output_type": "display_data"
    },
    {
     "data": {
      "text/markdown": [
       "p($11592.6445286538$) = $-4.3825968928031231835429290981 \\cdot 10^{40}$"
      ],
      "text/plain": [
       "<IPython.core.display.Markdown object>"
      ]
     },
     "metadata": {},
     "output_type": "display_data"
    },
    {
     "data": {
      "text/markdown": [
       "Let's use the previous result as an approximation (step $13$)"
      ],
      "text/plain": [
       "<IPython.core.display.Markdown object>"
      ]
     },
     "metadata": {},
     "output_type": "display_data"
    },
    {
     "data": {
      "text/markdown": [
       "Couldn't find a good approximation yet for p(x) = $- 1.0 x^{10} + 2.5 x^{9} - 1.0 x^{8} - 2.2 x^{7} + 6.1 x^{6} + 1.0 x^{5} - 20.5 x^{4} - 4.0 x^{3} + 3.0 x^{2} + 3.7 x + 10.1$"
      ],
      "text/plain": [
       "<IPython.core.display.Markdown object>"
      ]
     },
     "metadata": {},
     "output_type": "display_data"
    },
    {
     "data": {
      "text/markdown": [
       "p($8873.82276421199$) = $-3.02680985373268442166091883779 \\cdot 10^{39}$"
      ],
      "text/plain": [
       "<IPython.core.display.Markdown object>"
      ]
     },
     "metadata": {},
     "output_type": "display_data"
    },
    {
     "data": {
      "text/markdown": [
       "Let's use the previous result as an approximation (step $14$)"
      ],
      "text/plain": [
       "<IPython.core.display.Markdown object>"
      ]
     },
     "metadata": {},
     "output_type": "display_data"
    },
    {
     "data": {
      "text/markdown": [
       "Couldn't find a good approximation yet for p(x) = $- 1.0 x^{10} + 2.5 x^{9} - 1.0 x^{8} - 2.2 x^{7} + 6.1 x^{6} + 1.0 x^{5} - 20.5 x^{4} - 4.0 x^{3} + 3.0 x^{2} + 3.7 x + 10.1$"
      ],
      "text/plain": [
       "<IPython.core.display.Markdown object>"
      ]
     },
     "metadata": {},
     "output_type": "display_data"
    },
    {
     "data": {
      "text/markdown": [
       "p($6792.65975263905$) = $-2.09044502894031138594752864067 \\cdot 10^{38}$"
      ],
      "text/plain": [
       "<IPython.core.display.Markdown object>"
      ]
     },
     "metadata": {},
     "output_type": "display_data"
    },
    {
     "data": {
      "text/markdown": [
       "Let's use the previous result as an approximation (step $15$)"
      ],
      "text/plain": [
       "<IPython.core.display.Markdown object>"
      ]
     },
     "metadata": {},
     "output_type": "display_data"
    },
    {
     "data": {
      "text/markdown": [
       "Couldn't find a good approximation yet for p(x) = $- 1.0 x^{10} + 2.5 x^{9} - 1.0 x^{8} - 2.2 x^{7} + 6.1 x^{6} + 1.0 x^{5} - 20.5 x^{4} - 4.0 x^{3} + 3.0 x^{2} + 3.7 x + 10.1$"
      ],
      "text/plain": [
       "<IPython.core.display.Markdown object>"
      ]
     },
     "metadata": {},
     "output_type": "display_data"
    },
    {
     "data": {
      "text/markdown": [
       "p($5199.60222539928$) = $-1.44375121939217008447519938077 \\cdot 10^{37}$"
      ],
      "text/plain": [
       "<IPython.core.display.Markdown object>"
      ]
     },
     "metadata": {},
     "output_type": "display_data"
    },
    {
     "data": {
      "text/markdown": [
       "Let's use the previous result as an approximation (step $16$)"
      ],
      "text/plain": [
       "<IPython.core.display.Markdown object>"
      ]
     },
     "metadata": {},
     "output_type": "display_data"
    },
    {
     "data": {
      "text/markdown": [
       "Couldn't find a good approximation yet for p(x) = $- 1.0 x^{10} + 2.5 x^{9} - 1.0 x^{8} - 2.2 x^{7} + 6.1 x^{6} + 1.0 x^{5} - 20.5 x^{4} - 4.0 x^{3} + 3.0 x^{2} + 3.7 x + 10.1$"
      ],
      "text/plain": [
       "<IPython.core.display.Markdown object>"
      ]
     },
     "metadata": {},
     "output_type": "display_data"
    },
    {
     "data": {
      "text/markdown": [
       "p($3980.17238385823$) = $-9.97116668055247316398513873251 \\cdot 10^{35}$"
      ],
      "text/plain": [
       "<IPython.core.display.Markdown object>"
      ]
     },
     "metadata": {},
     "output_type": "display_data"
    },
    {
     "data": {
      "text/markdown": [
       "Let's use the previous result as an approximation (step $17$)"
      ],
      "text/plain": [
       "<IPython.core.display.Markdown object>"
      ]
     },
     "metadata": {},
     "output_type": "display_data"
    },
    {
     "data": {
      "text/markdown": [
       "Couldn't find a good approximation yet for p(x) = $- 1.0 x^{10} + 2.5 x^{9} - 1.0 x^{8} - 2.2 x^{7} + 6.1 x^{6} + 1.0 x^{5} - 20.5 x^{4} - 4.0 x^{3} + 3.0 x^{2} + 3.7 x + 10.1$"
      ],
      "text/plain": [
       "<IPython.core.display.Markdown object>"
      ]
     },
     "metadata": {},
     "output_type": "display_data"
    },
    {
     "data": {
      "text/markdown": [
       "p($3046.74147546808$) = $-6.88651642435981463898797700043 \\cdot 10^{34}$"
      ],
      "text/plain": [
       "<IPython.core.display.Markdown object>"
      ]
     },
     "metadata": {},
     "output_type": "display_data"
    },
    {
     "data": {
      "text/markdown": [
       "Let's use the previous result as an approximation (step $18$)"
      ],
      "text/plain": [
       "<IPython.core.display.Markdown object>"
      ]
     },
     "metadata": {},
     "output_type": "display_data"
    },
    {
     "data": {
      "text/markdown": [
       "Couldn't find a good approximation yet for p(x) = $- 1.0 x^{10} + 2.5 x^{9} - 1.0 x^{8} - 2.2 x^{7} + 6.1 x^{6} + 1.0 x^{5} - 20.5 x^{4} - 4.0 x^{3} + 3.0 x^{2} + 3.7 x + 10.1$"
      ],
      "text/plain": [
       "<IPython.core.display.Markdown object>"
      ]
     },
     "metadata": {},
     "output_type": "display_data"
    },
    {
     "data": {
      "text/markdown": [
       "p($2332.23275394487$) = $-4.75612432163644353790763119673 \\cdot 10^{33}$"
      ],
      "text/plain": [
       "<IPython.core.display.Markdown object>"
      ]
     },
     "metadata": {},
     "output_type": "display_data"
    },
    {
     "data": {
      "text/markdown": [
       "Let's use the previous result as an approximation (step $19$)"
      ],
      "text/plain": [
       "<IPython.core.display.Markdown object>"
      ]
     },
     "metadata": {},
     "output_type": "display_data"
    },
    {
     "data": {
      "text/markdown": [
       "Couldn't find a good approximation yet for p(x) = $- 1.0 x^{10} + 2.5 x^{9} - 1.0 x^{8} - 2.2 x^{7} + 6.1 x^{6} + 1.0 x^{5} - 20.5 x^{4} - 4.0 x^{3} + 3.0 x^{2} + 3.7 x + 10.1$"
      ],
      "text/plain": [
       "<IPython.core.display.Markdown object>"
      ]
     },
     "metadata": {},
     "output_type": "display_data"
    },
    {
     "data": {
      "text/markdown": [
       "p($1785.30131544965$) = $-3.28478392974722080924894048027 \\cdot 10^{32}$"
      ],
      "text/plain": [
       "<IPython.core.display.Markdown object>"
      ]
     },
     "metadata": {},
     "output_type": "display_data"
    },
    {
     "data": {
      "text/markdown": [
       "Let's use the previous result as an approximation (step $20$)"
      ],
      "text/plain": [
       "<IPython.core.display.Markdown object>"
      ]
     },
     "metadata": {},
     "output_type": "display_data"
    },
    {
     "data": {
      "text/markdown": [
       "Couldn't find a good approximation yet for p(x) = $- 1.0 x^{10} + 2.5 x^{9} - 1.0 x^{8} - 2.2 x^{7} + 6.1 x^{6} + 1.0 x^{5} - 20.5 x^{4} - 4.0 x^{3} + 3.0 x^{2} + 3.7 x + 10.1$"
      ],
      "text/plain": [
       "<IPython.core.display.Markdown object>"
      ]
     },
     "metadata": {},
     "output_type": "display_data"
    },
    {
     "data": {
      "text/markdown": [
       "p($1366.64443172928$) = $-2.26861298616108032903793826857 \\cdot 10^{31}$"
      ],
      "text/plain": [
       "<IPython.core.display.Markdown object>"
      ]
     },
     "metadata": {},
     "output_type": "display_data"
    },
    {
     "data": {
      "text/markdown": [
       "Let's use the previous result as an approximation (step $21$)"
      ],
      "text/plain": [
       "<IPython.core.display.Markdown object>"
      ]
     },
     "metadata": {},
     "output_type": "display_data"
    },
    {
     "data": {
      "text/markdown": [
       "Couldn't find a good approximation yet for p(x) = $- 1.0 x^{10} + 2.5 x^{9} - 1.0 x^{8} - 2.2 x^{7} + 6.1 x^{6} + 1.0 x^{5} - 20.5 x^{4} - 4.0 x^{3} + 3.0 x^{2} + 3.7 x + 10.1$"
      ],
      "text/plain": [
       "<IPython.core.display.Markdown object>"
      ]
     },
     "metadata": {},
     "output_type": "display_data"
    },
    {
     "data": {
      "text/markdown": [
       "p($1046.17723917083$) = $-1.56680163381589284269208476058 \\cdot 10^{30}$"
      ],
      "text/plain": [
       "<IPython.core.display.Markdown object>"
      ]
     },
     "metadata": {},
     "output_type": "display_data"
    },
    {
     "data": {
      "text/markdown": [
       "Let's use the previous result as an approximation (step $22$)"
      ],
      "text/plain": [
       "<IPython.core.display.Markdown object>"
      ]
     },
     "metadata": {},
     "output_type": "display_data"
    },
    {
     "data": {
      "text/markdown": [
       "Couldn't find a good approximation yet for p(x) = $- 1.0 x^{10} + 2.5 x^{9} - 1.0 x^{8} - 2.2 x^{7} + 6.1 x^{6} + 1.0 x^{5} - 20.5 x^{4} - 4.0 x^{3} + 3.0 x^{2} + 3.7 x + 10.1$"
      ],
      "text/plain": [
       "<IPython.core.display.Markdown object>"
      ]
     },
     "metadata": {},
     "output_type": "display_data"
    },
    {
     "data": {
      "text/markdown": [
       "p($800.870827570717$) = $-108210053079692780253395025920.0$"
      ],
      "text/plain": [
       "<IPython.core.display.Markdown object>"
      ]
     },
     "metadata": {},
     "output_type": "display_data"
    },
    {
     "data": {
      "text/markdown": [
       "Let's use the previous result as an approximation (step $23$)"
      ],
      "text/plain": [
       "<IPython.core.display.Markdown object>"
      ]
     },
     "metadata": {},
     "output_type": "display_data"
    },
    {
     "data": {
      "text/markdown": [
       "Couldn't find a good approximation yet for p(x) = $- 1.0 x^{10} + 2.5 x^{9} - 1.0 x^{8} - 2.2 x^{7} + 6.1 x^{6} + 1.0 x^{5} - 20.5 x^{4} - 4.0 x^{3} + 3.0 x^{2} + 3.7 x + 10.1$"
      ],
      "text/plain": [
       "<IPython.core.display.Markdown object>"
      ]
     },
     "metadata": {},
     "output_type": "display_data"
    },
    {
     "data": {
      "text/markdown": [
       "p($613.097372748232$) = $-7473450999146888584329428992.0$"
      ],
      "text/plain": [
       "<IPython.core.display.Markdown object>"
      ]
     },
     "metadata": {},
     "output_type": "display_data"
    },
    {
     "data": {
      "text/markdown": [
       "Let's use the previous result as an approximation (step $24$)"
      ],
      "text/plain": [
       "<IPython.core.display.Markdown object>"
      ]
     },
     "metadata": {},
     "output_type": "display_data"
    },
    {
     "data": {
      "text/markdown": [
       "Couldn't find a good approximation yet for p(x) = $- 1.0 x^{10} + 2.5 x^{9} - 1.0 x^{8} - 2.2 x^{7} + 6.1 x^{6} + 1.0 x^{5} - 20.5 x^{4} - 4.0 x^{3} + 3.0 x^{2} + 3.7 x + 10.1$"
      ],
      "text/plain": [
       "<IPython.core.display.Markdown object>"
      ]
     },
     "metadata": {},
     "output_type": "display_data"
    },
    {
     "data": {
      "text/markdown": [
       "p($469.363393521602$) = $-516148596035311439009808384.0$"
      ],
      "text/plain": [
       "<IPython.core.display.Markdown object>"
      ]
     },
     "metadata": {},
     "output_type": "display_data"
    },
    {
     "data": {
      "text/markdown": [
       "Let's use the previous result as an approximation (step $25$)"
      ],
      "text/plain": [
       "<IPython.core.display.Markdown object>"
      ]
     },
     "metadata": {},
     "output_type": "display_data"
    },
    {
     "data": {
      "text/markdown": [
       "Couldn't find a good approximation yet for p(x) = $- 1.0 x^{10} + 2.5 x^{9} - 1.0 x^{8} - 2.2 x^{7} + 6.1 x^{6} + 1.0 x^{5} - 20.5 x^{4} - 4.0 x^{3} + 3.0 x^{2} + 3.7 x + 10.1$"
      ],
      "text/plain": [
       "<IPython.core.display.Markdown object>"
      ]
     },
     "metadata": {},
     "output_type": "display_data"
    },
    {
     "data": {
      "text/markdown": [
       "p($359.340104347895$) = $-35647433819881512231763968.0$"
      ],
      "text/plain": [
       "<IPython.core.display.Markdown object>"
      ]
     },
     "metadata": {},
     "output_type": "display_data"
    },
    {
     "data": {
      "text/markdown": [
       "Let's use the previous result as an approximation (step $26$)"
      ],
      "text/plain": [
       "<IPython.core.display.Markdown object>"
      ]
     },
     "metadata": {},
     "output_type": "display_data"
    },
    {
     "data": {
      "text/markdown": [
       "Couldn't find a good approximation yet for p(x) = $- 1.0 x^{10} + 2.5 x^{9} - 1.0 x^{8} - 2.2 x^{7} + 6.1 x^{6} + 1.0 x^{5} - 20.5 x^{4} - 4.0 x^{3} + 3.0 x^{2} + 3.7 x + 10.1$"
      ],
      "text/plain": [
       "<IPython.core.display.Markdown object>"
      ]
     },
     "metadata": {},
     "output_type": "display_data"
    },
    {
     "data": {
      "text/markdown": [
       "p($275.121184350151$) = $-2461964167357766041600000.0$"
      ],
      "text/plain": [
       "<IPython.core.display.Markdown object>"
      ]
     },
     "metadata": {},
     "output_type": "display_data"
    },
    {
     "data": {
      "text/markdown": [
       "Let's use the previous result as an approximation (step $27$)"
      ],
      "text/plain": [
       "<IPython.core.display.Markdown object>"
      ]
     },
     "metadata": {},
     "output_type": "display_data"
    },
    {
     "data": {
      "text/markdown": [
       "Couldn't find a good approximation yet for p(x) = $- 1.0 x^{10} + 2.5 x^{9} - 1.0 x^{8} - 2.2 x^{7} + 6.1 x^{6} + 1.0 x^{5} - 20.5 x^{4} - 4.0 x^{3} + 3.0 x^{2} + 3.7 x + 10.1$"
      ],
      "text/plain": [
       "<IPython.core.display.Markdown object>"
      ]
     },
     "metadata": {},
     "output_type": "display_data"
    },
    {
     "data": {
      "text/markdown": [
       "p($210.65462569407$) = $-170033726716201851158528.0$"
      ],
      "text/plain": [
       "<IPython.core.display.Markdown object>"
      ]
     },
     "metadata": {},
     "output_type": "display_data"
    },
    {
     "data": {
      "text/markdown": [
       "Let's use the previous result as an approximation (step $28$)"
      ],
      "text/plain": [
       "<IPython.core.display.Markdown object>"
      ]
     },
     "metadata": {},
     "output_type": "display_data"
    },
    {
     "data": {
      "text/markdown": [
       "Couldn't find a good approximation yet for p(x) = $- 1.0 x^{10} + 2.5 x^{9} - 1.0 x^{8} - 2.2 x^{7} + 6.1 x^{6} + 1.0 x^{5} - 20.5 x^{4} - 4.0 x^{3} + 3.0 x^{2} + 3.7 x + 10.1$"
      ],
      "text/plain": [
       "<IPython.core.display.Markdown object>"
      ]
     },
     "metadata": {},
     "output_type": "display_data"
    },
    {
     "data": {
      "text/markdown": [
       "p($161.307833693103$) = $-11743247961149273014272.0$"
      ],
      "text/plain": [
       "<IPython.core.display.Markdown object>"
      ]
     },
     "metadata": {},
     "output_type": "display_data"
    },
    {
     "data": {
      "text/markdown": [
       "Let's use the previous result as an approximation (step $29$)"
      ],
      "text/plain": [
       "<IPython.core.display.Markdown object>"
      ]
     },
     "metadata": {},
     "output_type": "display_data"
    },
    {
     "data": {
      "text/markdown": [
       "Couldn't find a good approximation yet for p(x) = $- 1.0 x^{10} + 2.5 x^{9} - 1.0 x^{8} - 2.2 x^{7} + 6.1 x^{6} + 1.0 x^{5} - 20.5 x^{4} - 4.0 x^{3} + 3.0 x^{2} + 3.7 x + 10.1$"
      ],
      "text/plain": [
       "<IPython.core.display.Markdown object>"
      ]
     },
     "metadata": {},
     "output_type": "display_data"
    },
    {
     "data": {
      "text/markdown": [
       "p($123.534726547092$) = $-811037747903114641408.0$"
      ],
      "text/plain": [
       "<IPython.core.display.Markdown object>"
      ]
     },
     "metadata": {},
     "output_type": "display_data"
    },
    {
     "data": {
      "text/markdown": [
       "Let's use the previous result as an approximation (step $30$)"
      ],
      "text/plain": [
       "<IPython.core.display.Markdown object>"
      ]
     },
     "metadata": {},
     "output_type": "display_data"
    },
    {
     "data": {
      "text/markdown": [
       "Couldn't find a good approximation yet for p(x) = $- 1.0 x^{10} + 2.5 x^{9} - 1.0 x^{8} - 2.2 x^{7} + 6.1 x^{6} + 1.0 x^{5} - 20.5 x^{4} - 4.0 x^{3} + 3.0 x^{2} + 3.7 x + 10.1$"
      ],
      "text/plain": [
       "<IPython.core.display.Markdown object>"
      ]
     },
     "metadata": {},
     "output_type": "display_data"
    },
    {
     "data": {
      "text/markdown": [
       "p($94.6209123575378$) = $-56013583497800359936.0$"
      ],
      "text/plain": [
       "<IPython.core.display.Markdown object>"
      ]
     },
     "metadata": {},
     "output_type": "display_data"
    },
    {
     "data": {
      "text/markdown": [
       "Let's use the previous result as an approximation (step $31$)"
      ],
      "text/plain": [
       "<IPython.core.display.Markdown object>"
      ]
     },
     "metadata": {},
     "output_type": "display_data"
    },
    {
     "data": {
      "text/markdown": [
       "Couldn't find a good approximation yet for p(x) = $- 1.0 x^{10} + 2.5 x^{9} - 1.0 x^{8} - 2.2 x^{7} + 6.1 x^{6} + 1.0 x^{5} - 20.5 x^{4} - 4.0 x^{3} + 3.0 x^{2} + 3.7 x + 10.1$"
      ],
      "text/plain": [
       "<IPython.core.display.Markdown object>"
      ]
     },
     "metadata": {},
     "output_type": "display_data"
    },
    {
     "data": {
      "text/markdown": [
       "p($72.4886317320628$) = $-3868518834110299136.0$"
      ],
      "text/plain": [
       "<IPython.core.display.Markdown object>"
      ]
     },
     "metadata": {},
     "output_type": "display_data"
    },
    {
     "data": {
      "text/markdown": [
       "Let's use the previous result as an approximation (step $32$)"
      ],
      "text/plain": [
       "<IPython.core.display.Markdown object>"
      ]
     },
     "metadata": {},
     "output_type": "display_data"
    },
    {
     "data": {
      "text/markdown": [
       "Couldn't find a good approximation yet for p(x) = $- 1.0 x^{10} + 2.5 x^{9} - 1.0 x^{8} - 2.2 x^{7} + 6.1 x^{6} + 1.0 x^{5} - 20.5 x^{4} - 4.0 x^{3} + 3.0 x^{2} + 3.7 x + 10.1$"
      ],
      "text/plain": [
       "<IPython.core.display.Markdown object>"
      ]
     },
     "metadata": {},
     "output_type": "display_data"
    },
    {
     "data": {
      "text/markdown": [
       "p($55.5474490809038$) = $-267174179674803520.0$"
      ],
      "text/plain": [
       "<IPython.core.display.Markdown object>"
      ]
     },
     "metadata": {},
     "output_type": "display_data"
    },
    {
     "data": {
      "text/markdown": [
       "Let's use the previous result as an approximation (step $33$)"
      ],
      "text/plain": [
       "<IPython.core.display.Markdown object>"
      ]
     },
     "metadata": {},
     "output_type": "display_data"
    },
    {
     "data": {
      "text/markdown": [
       "Couldn't find a good approximation yet for p(x) = $- 1.0 x^{10} + 2.5 x^{9} - 1.0 x^{8} - 2.2 x^{7} + 6.1 x^{6} + 1.0 x^{5} - 20.5 x^{4} - 4.0 x^{3} + 3.0 x^{2} + 3.7 x + 10.1$"
      ],
      "text/plain": [
       "<IPython.core.display.Markdown object>"
      ]
     },
     "metadata": {},
     "output_type": "display_data"
    },
    {
     "data": {
      "text/markdown": [
       "p($42.5799632555305$) = $-18451919149795272.0$"
      ],
      "text/plain": [
       "<IPython.core.display.Markdown object>"
      ]
     },
     "metadata": {},
     "output_type": "display_data"
    },
    {
     "data": {
      "text/markdown": [
       "Let's use the previous result as an approximation (step $34$)"
      ],
      "text/plain": [
       "<IPython.core.display.Markdown object>"
      ]
     },
     "metadata": {},
     "output_type": "display_data"
    },
    {
     "data": {
      "text/markdown": [
       "Couldn't find a good approximation yet for p(x) = $- 1.0 x^{10} + 2.5 x^{9} - 1.0 x^{8} - 2.2 x^{7} + 6.1 x^{6} + 1.0 x^{5} - 20.5 x^{4} - 4.0 x^{3} + 3.0 x^{2} + 3.7 x + 10.1$"
      ],
      "text/plain": [
       "<IPython.core.display.Markdown object>"
      ]
     },
     "metadata": {},
     "output_type": "display_data"
    },
    {
     "data": {
      "text/markdown": [
       "p($32.654324754683$) = $-1274336044681878.25$"
      ],
      "text/plain": [
       "<IPython.core.display.Markdown object>"
      ]
     },
     "metadata": {},
     "output_type": "display_data"
    },
    {
     "data": {
      "text/markdown": [
       "Let's use the previous result as an approximation (step $35$)"
      ],
      "text/plain": [
       "<IPython.core.display.Markdown object>"
      ]
     },
     "metadata": {},
     "output_type": "display_data"
    },
    {
     "data": {
      "text/markdown": [
       "Couldn't find a good approximation yet for p(x) = $- 1.0 x^{10} + 2.5 x^{9} - 1.0 x^{8} - 2.2 x^{7} + 6.1 x^{6} + 1.0 x^{5} - 20.5 x^{4} - 4.0 x^{3} + 3.0 x^{2} + 3.7 x + 10.1$"
      ],
      "text/plain": [
       "<IPython.core.display.Markdown object>"
      ]
     },
     "metadata": {},
     "output_type": "display_data"
    },
    {
     "data": {
      "text/markdown": [
       "p($25.0572732323688$) = $-88007246912728.40625$"
      ],
      "text/plain": [
       "<IPython.core.display.Markdown object>"
      ]
     },
     "metadata": {},
     "output_type": "display_data"
    },
    {
     "data": {
      "text/markdown": [
       "Let's use the previous result as an approximation (step $36$)"
      ],
      "text/plain": [
       "<IPython.core.display.Markdown object>"
      ]
     },
     "metadata": {},
     "output_type": "display_data"
    },
    {
     "data": {
      "text/markdown": [
       "Couldn't find a good approximation yet for p(x) = $- 1.0 x^{10} + 2.5 x^{9} - 1.0 x^{8} - 2.2 x^{7} + 6.1 x^{6} + 1.0 x^{5} - 20.5 x^{4} - 4.0 x^{3} + 3.0 x^{2} + 3.7 x + 10.1$"
      ],
      "text/plain": [
       "<IPython.core.display.Markdown object>"
      ]
     },
     "metadata": {},
     "output_type": "display_data"
    },
    {
     "data": {
      "text/markdown": [
       "p($19.2428840781432$) = $-6077698172888.99609375$"
      ],
      "text/plain": [
       "<IPython.core.display.Markdown object>"
      ]
     },
     "metadata": {},
     "output_type": "display_data"
    },
    {
     "data": {
      "text/markdown": [
       "Let's use the previous result as an approximation (step $37$)"
      ],
      "text/plain": [
       "<IPython.core.display.Markdown object>"
      ]
     },
     "metadata": {},
     "output_type": "display_data"
    },
    {
     "data": {
      "text/markdown": [
       "Couldn't find a good approximation yet for p(x) = $- 1.0 x^{10} + 2.5 x^{9} - 1.0 x^{8} - 2.2 x^{7} + 6.1 x^{6} + 1.0 x^{5} - 20.5 x^{4} - 4.0 x^{3} + 3.0 x^{2} + 3.7 x + 10.1$"
      ],
      "text/plain": [
       "<IPython.core.display.Markdown object>"
      ]
     },
     "metadata": {},
     "output_type": "display_data"
    },
    {
     "data": {
      "text/markdown": [
       "p($14.793342754195$) = $-419696747150.82354736328125$"
      ],
      "text/plain": [
       "<IPython.core.display.Markdown object>"
      ]
     },
     "metadata": {},
     "output_type": "display_data"
    },
    {
     "data": {
      "text/markdown": [
       "Let's use the previous result as an approximation (step $38$)"
      ],
      "text/plain": [
       "<IPython.core.display.Markdown object>"
      ]
     },
     "metadata": {},
     "output_type": "display_data"
    },
    {
     "data": {
      "text/markdown": [
       "Couldn't find a good approximation yet for p(x) = $- 1.0 x^{10} + 2.5 x^{9} - 1.0 x^{8} - 2.2 x^{7} + 6.1 x^{6} + 1.0 x^{5} - 20.5 x^{4} - 4.0 x^{3} + 3.0 x^{2} + 3.7 x + 10.1$"
      ],
      "text/plain": [
       "<IPython.core.display.Markdown object>"
      ]
     },
     "metadata": {},
     "output_type": "display_data"
    },
    {
     "data": {
      "text/markdown": [
       "p($11.3889323476993$) = $-28979331037.13055419921875$"
      ],
      "text/plain": [
       "<IPython.core.display.Markdown object>"
      ]
     },
     "metadata": {},
     "output_type": "display_data"
    },
    {
     "data": {
      "text/markdown": [
       "Let's use the previous result as an approximation (step $39$)"
      ],
      "text/plain": [
       "<IPython.core.display.Markdown object>"
      ]
     },
     "metadata": {},
     "output_type": "display_data"
    },
    {
     "data": {
      "text/markdown": [
       "Couldn't find a good approximation yet for p(x) = $- 1.0 x^{10} + 2.5 x^{9} - 1.0 x^{8} - 2.2 x^{7} + 6.1 x^{6} + 1.0 x^{5} - 20.5 x^{4} - 4.0 x^{3} + 3.0 x^{2} + 3.7 x + 10.1$"
      ],
      "text/plain": [
       "<IPython.core.display.Markdown object>"
      ]
     },
     "metadata": {},
     "output_type": "display_data"
    },
    {
     "data": {
      "text/markdown": [
       "p($8.78508725057115$) = $-2000593612.58556818962097167969$"
      ],
      "text/plain": [
       "<IPython.core.display.Markdown object>"
      ]
     },
     "metadata": {},
     "output_type": "display_data"
    },
    {
     "data": {
      "text/markdown": [
       "Let's use the previous result as an approximation (step $40$)"
      ],
      "text/plain": [
       "<IPython.core.display.Markdown object>"
      ]
     },
     "metadata": {},
     "output_type": "display_data"
    },
    {
     "data": {
      "text/markdown": [
       "Couldn't find a good approximation yet for p(x) = $- 1.0 x^{10} + 2.5 x^{9} - 1.0 x^{8} - 2.2 x^{7} + 6.1 x^{6} + 1.0 x^{5} - 20.5 x^{4} - 4.0 x^{3} + 3.0 x^{2} + 3.7 x + 10.1$"
      ],
      "text/plain": [
       "<IPython.core.display.Markdown object>"
      ]
     },
     "metadata": {},
     "output_type": "display_data"
    },
    {
     "data": {
      "text/markdown": [
       "p($6.79488390245927$) = $-138059524.596088141202926635742$"
      ],
      "text/plain": [
       "<IPython.core.display.Markdown object>"
      ]
     },
     "metadata": {},
     "output_type": "display_data"
    },
    {
     "data": {
      "text/markdown": [
       "Let's use the previous result as an approximation (step $41$)"
      ],
      "text/plain": [
       "<IPython.core.display.Markdown object>"
      ]
     },
     "metadata": {},
     "output_type": "display_data"
    },
    {
     "data": {
      "text/markdown": [
       "Couldn't find a good approximation yet for p(x) = $- 1.0 x^{10} + 2.5 x^{9} - 1.0 x^{8} - 2.2 x^{7} + 6.1 x^{6} + 1.0 x^{5} - 20.5 x^{4} - 4.0 x^{3} + 3.0 x^{2} + 3.7 x + 10.1$"
      ],
      "text/plain": [
       "<IPython.core.display.Markdown object>"
      ]
     },
     "metadata": {},
     "output_type": "display_data"
    },
    {
     "data": {
      "text/markdown": [
       "p($5.27574136943753$) = $-9519985.04862646013498306274414$"
      ],
      "text/plain": [
       "<IPython.core.display.Markdown object>"
      ]
     },
     "metadata": {},
     "output_type": "display_data"
    },
    {
     "data": {
      "text/markdown": [
       "Let's use the previous result as an approximation (step $42$)"
      ],
      "text/plain": [
       "<IPython.core.display.Markdown object>"
      ]
     },
     "metadata": {},
     "output_type": "display_data"
    },
    {
     "data": {
      "text/markdown": [
       "Couldn't find a good approximation yet for p(x) = $- 1.0 x^{10} + 2.5 x^{9} - 1.0 x^{8} - 2.2 x^{7} + 6.1 x^{6} + 1.0 x^{5} - 20.5 x^{4} - 4.0 x^{3} + 3.0 x^{2} + 3.7 x + 10.1$"
      ],
      "text/plain": [
       "<IPython.core.display.Markdown object>"
      ]
     },
     "metadata": {},
     "output_type": "display_data"
    },
    {
     "data": {
      "text/markdown": [
       "p($4.11936734678656$) = $-655434.534230912337079644203186$"
      ],
      "text/plain": [
       "<IPython.core.display.Markdown object>"
      ]
     },
     "metadata": {},
     "output_type": "display_data"
    },
    {
     "data": {
      "text/markdown": [
       "Let's use the previous result as an approximation (step $43$)"
      ],
      "text/plain": [
       "<IPython.core.display.Markdown object>"
      ]
     },
     "metadata": {},
     "output_type": "display_data"
    },
    {
     "data": {
      "text/markdown": [
       "Couldn't find a good approximation yet for p(x) = $- 1.0 x^{10} + 2.5 x^{9} - 1.0 x^{8} - 2.2 x^{7} + 6.1 x^{6} + 1.0 x^{5} - 20.5 x^{4} - 4.0 x^{3} + 3.0 x^{2} + 3.7 x + 10.1$"
      ],
      "text/plain": [
       "<IPython.core.display.Markdown object>"
      ]
     },
     "metadata": {},
     "output_type": "display_data"
    },
    {
     "data": {
      "text/markdown": [
       "p($3.24379504764431$) = $-45034.5836602331473841331899166$"
      ],
      "text/plain": [
       "<IPython.core.display.Markdown object>"
      ]
     },
     "metadata": {},
     "output_type": "display_data"
    },
    {
     "data": {
      "text/markdown": [
       "Let's use the previous result as an approximation (step $44$)"
      ],
      "text/plain": [
       "<IPython.core.display.Markdown object>"
      ]
     },
     "metadata": {},
     "output_type": "display_data"
    },
    {
     "data": {
      "text/markdown": [
       "Couldn't find a good approximation yet for p(x) = $- 1.0 x^{10} + 2.5 x^{9} - 1.0 x^{8} - 2.2 x^{7} + 6.1 x^{6} + 1.0 x^{5} - 20.5 x^{4} - 4.0 x^{3} + 3.0 x^{2} + 3.7 x + 10.1$"
      ],
      "text/plain": [
       "<IPython.core.display.Markdown object>"
      ]
     },
     "metadata": {},
     "output_type": "display_data"
    },
    {
     "data": {
      "text/markdown": [
       "p($2.58380152830563$) = $-3120.69706559049564020824618638$"
      ],
      "text/plain": [
       "<IPython.core.display.Markdown object>"
      ]
     },
     "metadata": {},
     "output_type": "display_data"
    },
    {
     "data": {
      "text/markdown": [
       "Let's use the previous result as an approximation (step $45$)"
      ],
      "text/plain": [
       "<IPython.core.display.Markdown object>"
      ]
     },
     "metadata": {},
     "output_type": "display_data"
    },
    {
     "data": {
      "text/markdown": [
       "Couldn't find a good approximation yet for p(x) = $- 1.0 x^{10} + 2.5 x^{9} - 1.0 x^{8} - 2.2 x^{7} + 6.1 x^{6} + 1.0 x^{5} - 20.5 x^{4} - 4.0 x^{3} + 3.0 x^{2} + 3.7 x + 10.1$"
      ],
      "text/plain": [
       "<IPython.core.display.Markdown object>"
      ]
     },
     "metadata": {},
     "output_type": "display_data"
    },
    {
     "data": {
      "text/markdown": [
       "p($2.05795064547779$) = $-244.822327387766051742801209912$"
      ],
      "text/plain": [
       "<IPython.core.display.Markdown object>"
      ]
     },
     "metadata": {},
     "output_type": "display_data"
    },
    {
     "data": {
      "text/markdown": [
       "Let's use the previous result as an approximation (step $46$)"
      ],
      "text/plain": [
       "<IPython.core.display.Markdown object>"
      ]
     },
     "metadata": {},
     "output_type": "display_data"
    },
    {
     "data": {
      "text/markdown": [
       "Couldn't find a good approximation yet for p(x) = $- 1.0 x^{10} + 2.5 x^{9} - 1.0 x^{8} - 2.2 x^{7} + 6.1 x^{6} + 1.0 x^{5} - 20.5 x^{4} - 4.0 x^{3} + 3.0 x^{2} + 3.7 x + 10.1$"
      ],
      "text/plain": [
       "<IPython.core.display.Markdown object>"
      ]
     },
     "metadata": {},
     "output_type": "display_data"
    },
    {
     "data": {
      "text/markdown": [
       "p($1.19349961775871$) = $-14.8403222789291984184956163517$"
      ],
      "text/plain": [
       "<IPython.core.display.Markdown object>"
      ]
     },
     "metadata": {},
     "output_type": "display_data"
    },
    {
     "data": {
      "text/markdown": [
       "Let's use the previous result as an approximation (step $47$)"
      ],
      "text/plain": [
       "<IPython.core.display.Markdown object>"
      ]
     },
     "metadata": {},
     "output_type": "display_data"
    },
    {
     "data": {
      "text/markdown": [
       "Couldn't find a good approximation yet for p(x) = $- 1.0 x^{10} + 2.5 x^{9} - 1.0 x^{8} - 2.2 x^{7} + 6.1 x^{6} + 1.0 x^{5} - 20.5 x^{4} - 4.0 x^{3} + 3.0 x^{2} + 3.7 x + 10.1$"
      ],
      "text/plain": [
       "<IPython.core.display.Markdown object>"
      ]
     },
     "metadata": {},
     "output_type": "display_data"
    },
    {
     "data": {
      "text/markdown": [
       "p($0.955085236457273$) = $-0.0131370882824750623285581241362$"
      ],
      "text/plain": [
       "<IPython.core.display.Markdown object>"
      ]
     },
     "metadata": {},
     "output_type": "display_data"
    },
    {
     "data": {
      "text/markdown": [
       "Let's use the previous result as an approximation (step $48$)"
      ],
      "text/plain": [
       "<IPython.core.display.Markdown object>"
      ]
     },
     "metadata": {},
     "output_type": "display_data"
    },
    {
     "data": {
      "text/markdown": [
       "Found a good approximation for p(x) = $- 1.0 x^{10} + 2.5 x^{9} - 1.0 x^{8} - 2.2 x^{7} + 6.1 x^{6} + 1.0 x^{5} - 20.5 x^{4} - 4.0 x^{3} + 3.0 x^{2} + 3.7 x + 10.1$"
      ],
      "text/plain": [
       "<IPython.core.display.Markdown object>"
      ]
     },
     "metadata": {},
     "output_type": "display_data"
    },
    {
     "data": {
      "image/png": "[encoded data removed]",
      "text/latex": [
       "$\\displaystyle 0.954812767966922$"
      ],
      "text/plain": [
       "0.954812767966922"
      ]
     },
     "metadata": {},
     "output_type": "display_data"
    },
    {
     "data": {
      "text/markdown": [
       "p($0.954812767966922$) = $3.55271367880050092935562133789 \\cdot 10^{-15}$"
      ],
      "text/plain": [
       "<IPython.core.display.Markdown object>"
      ]
     },
     "metadata": {},
     "output_type": "display_data"
    },
    {
     "name": "stdout",
     "output_type": "stream",
     "text": [
      "\n",
      "\n",
      "\n",
      "\n",
      "\n",
      "Insert an expression with explicit math symbols (example: \"x^5-10*x^3+.02*x^4+x**7\"):\n",
      "10.1+3.7*x+3*x**2-4*x^3-20.5*x**4+x**5+6.1*x**6-2.2*x**7-x**8+2.5*x^9-x**10\n",
      "Insert the depth for the algorithm:\n",
      "10\n"
     ]
    },
    {
     "data": {
      "text/markdown": [
       "Couldn't find a good approximation yet for p(x) = $- 1.0 x^{10} + 2.5 x^{9} - 1.0 x^{8} - 2.2 x^{7} + 6.1 x^{6} + 1.0 x^{5} - 20.5 x^{4} - 4.0 x^{3} + 3.0 x^{2} + 3.7 x + 10.1$"
      ],
      "text/plain": [
       "<IPython.core.display.Markdown object>"
      ]
     },
     "metadata": {},
     "output_type": "display_data"
    },
    {
     "data": {
      "text/markdown": [
       "p($-899915426.580869$) = $-3.48350924833470308874270655144 \\cdot 10^{89}$"
      ],
      "text/plain": [
       "<IPython.core.display.Markdown object>"
      ]
     },
     "metadata": {},
     "output_type": "display_data"
    },
    {
     "data": {
      "text/markdown": [
       "Let's use the previous result as an approximation (step $1$)"
      ],
      "text/plain": [
       "<IPython.core.display.Markdown object>"
      ]
     },
     "metadata": {},
     "output_type": "display_data"
    },
    {
     "data": {
      "text/markdown": [
       "Couldn't find a good approximation yet for p(x) = $- 1.0 x^{10} + 2.5 x^{9} - 1.0 x^{8} - 2.2 x^{7} + 6.1 x^{6} + 1.0 x^{5} - 20.5 x^{4} - 4.0 x^{3} + 3.0 x^{2} + 3.7 x + 10.1$"
      ],
      "text/plain": [
       "<IPython.core.display.Markdown object>"
      ]
     },
     "metadata": {},
     "output_type": "display_data"
    },
    {
     "data": {
      "text/markdown": [
       "p($-659903857.086905$) = $-1.56605377059197370771351071941 \\cdot 10^{88}$"
      ],
      "text/plain": [
       "<IPython.core.display.Markdown object>"
      ]
     },
     "metadata": {},
     "output_type": "display_data"
    },
    {
     "data": {
      "text/markdown": [
       "Let's use the previous result as an approximation (step $2$)"
      ],
      "text/plain": [
       "<IPython.core.display.Markdown object>"
      ]
     },
     "metadata": {},
     "output_type": "display_data"
    },
    {
     "data": {
      "text/markdown": [
       "Couldn't find a good approximation yet for p(x) = $- 1.0 x^{10} + 2.5 x^{9} - 1.0 x^{8} - 2.2 x^{7} + 6.1 x^{6} + 1.0 x^{5} - 20.5 x^{4} - 4.0 x^{3} + 3.0 x^{2} + 3.7 x + 10.1$"
      ],
      "text/plain": [
       "<IPython.core.display.Markdown object>"
      ]
     },
     "metadata": {},
     "output_type": "display_data"
    },
    {
     "data": {
      "text/markdown": [
       "p($-483904473.375574$) = $-7.04038438697347984301778886494 \\cdot 10^{86}$"
      ],
      "text/plain": [
       "<IPython.core.display.Markdown object>"
      ]
     },
     "metadata": {},
     "output_type": "display_data"
    },
    {
     "data": {
      "text/markdown": [
       "Let's use the previous result as an approximation (step $3$)"
      ],
      "text/plain": [
       "<IPython.core.display.Markdown object>"
      ]
     },
     "metadata": {},
     "output_type": "display_data"
    },
    {
     "data": {
      "text/markdown": [
       "Couldn't find a good approximation yet for p(x) = $- 1.0 x^{10} + 2.5 x^{9} - 1.0 x^{8} - 2.2 x^{7} + 6.1 x^{6} + 1.0 x^{5} - 20.5 x^{4} - 4.0 x^{3} + 3.0 x^{2} + 3.7 x + 10.1$"
      ],
      "text/plain": [
       "<IPython.core.display.Markdown object>"
      ]
     },
     "metadata": {},
     "output_type": "display_data"
    },
    {
     "data": {
      "text/markdown": [
       "p($-354844932.070642$) = $-3.16509006568807052179587202962 \\cdot 10^{85}$"
      ],
      "text/plain": [
       "<IPython.core.display.Markdown object>"
      ]
     },
     "metadata": {},
     "output_type": "display_data"
    },
    {
     "data": {
      "text/markdown": [
       "Let's use the previous result as an approximation (step $4$)"
      ],
      "text/plain": [
       "<IPython.core.display.Markdown object>"
      ]
     },
     "metadata": {},
     "output_type": "display_data"
    },
    {
     "data": {
      "text/markdown": [
       "Couldn't find a good approximation yet for p(x) = $- 1.0 x^{10} + 2.5 x^{9} - 1.0 x^{8} - 2.2 x^{7} + 6.1 x^{6} + 1.0 x^{5} - 20.5 x^{4} - 4.0 x^{3} + 3.0 x^{2} + 3.7 x + 10.1$"
      ],
      "text/plain": [
       "<IPython.core.display.Markdown object>"
      ]
     },
     "metadata": {},
     "output_type": "display_data"
    },
    {
     "data": {
      "text/markdown": [
       "p($-260206162.032907$) = $-1.42290457072952113169150565413 \\cdot 10^{84}$"
      ],
      "text/plain": [
       "<IPython.core.display.Markdown object>"
      ]
     },
     "metadata": {},
     "output_type": "display_data"
    },
    {
     "data": {
      "text/markdown": [
       "Let's use the previous result as an approximation (step $5$)"
      ],
      "text/plain": [
       "<IPython.core.display.Markdown object>"
      ]
     },
     "metadata": {},
     "output_type": "display_data"
    },
    {
     "data": {
      "text/markdown": [
       "Couldn't find a good approximation yet for p(x) = $- 1.0 x^{10} + 2.5 x^{9} - 1.0 x^{8} - 2.2 x^{7} + 6.1 x^{6} + 1.0 x^{5} - 20.5 x^{4} - 4.0 x^{3} + 3.0 x^{2} + 3.7 x + 10.1$"
      ],
      "text/plain": [
       "<IPython.core.display.Markdown object>"
      ]
     },
     "metadata": {},
     "output_type": "display_data"
    },
    {
     "data": {
      "text/markdown": [
       "p($-190807985.782663$) = $-6.39683982251171062705831339178 \\cdot 10^{82}$"
      ],
      "text/plain": [
       "<IPython.core.display.Markdown object>"
      ]
     },
     "metadata": {},
     "output_type": "display_data"
    },
    {
     "data": {
      "text/markdown": [
       "Let's use the previous result as an approximation (step $6$)"
      ],
      "text/plain": [
       "<IPython.core.display.Markdown object>"
      ]
     },
     "metadata": {},
     "output_type": "display_data"
    },
    {
     "data": {
      "text/markdown": [
       "Couldn't find a good approximation yet for p(x) = $- 1.0 x^{10} + 2.5 x^{9} - 1.0 x^{8} - 2.2 x^{7} + 6.1 x^{6} + 1.0 x^{5} - 20.5 x^{4} - 4.0 x^{3} + 3.0 x^{2} + 3.7 x + 10.1$"
      ],
      "text/plain": [
       "<IPython.core.display.Markdown object>"
      ]
     },
     "metadata": {},
     "output_type": "display_data"
    },
    {
     "data": {
      "text/markdown": [
       "p($-139918621.255424$) = $-2.87577681290969636271481523023 \\cdot 10^{81}$"
      ],
      "text/plain": [
       "<IPython.core.display.Markdown object>"
      ]
     },
     "metadata": {},
     "output_type": "display_data"
    },
    {
     "data": {
      "text/markdown": [
       "Let's use the previous result as an approximation (step $7$)"
      ],
      "text/plain": [
       "<IPython.core.display.Markdown object>"
      ]
     },
     "metadata": {},
     "output_type": "display_data"
    },
    {
     "data": {
      "text/markdown": [
       "Couldn't find a good approximation yet for p(x) = $- 1.0 x^{10} + 2.5 x^{9} - 1.0 x^{8} - 2.2 x^{7} + 6.1 x^{6} + 1.0 x^{5} - 20.5 x^{4} - 4.0 x^{3} + 3.0 x^{2} + 3.7 x + 10.1$"
      ],
      "text/plain": [
       "<IPython.core.display.Markdown object>"
      ]
     },
     "metadata": {},
     "output_type": "display_data"
    },
    {
     "data": {
      "text/markdown": [
       "p($-102601683.521385$) = $-1.29284029413476730072378264948 \\cdot 10^{80}$"
      ],
      "text/plain": [
       "<IPython.core.display.Markdown object>"
      ]
     },
     "metadata": {},
     "output_type": "display_data"
    },
    {
     "data": {
      "text/markdown": [
       "Let's use the previous result as an approximation (step $8$)"
      ],
      "text/plain": [
       "<IPython.core.display.Markdown object>"
      ]
     },
     "metadata": {},
     "output_type": "display_data"
    },
    {
     "data": {
      "text/markdown": [
       "Couldn't find a good approximation yet for p(x) = $- 1.0 x^{10} + 2.5 x^{9} - 1.0 x^{8} - 2.2 x^{7} + 6.1 x^{6} + 1.0 x^{5} - 20.5 x^{4} - 4.0 x^{3} + 3.0 x^{2} + 3.7 x + 10.1$"
      ],
      "text/plain": [
       "<IPython.core.display.Markdown object>"
      ]
     },
     "metadata": {},
     "output_type": "display_data"
    },
    {
     "data": {
      "text/markdown": [
       "p($-75237344.1396117$) = $-5.81212011528574949403847900968 \\cdot 10^{78}$"
      ],
      "text/plain": [
       "<IPython.core.display.Markdown object>"
      ]
     },
     "metadata": {},
     "output_type": "display_data"
    },
    {
     "data": {
      "text/markdown": [
       "Let's use the previous result as an approximation (step $9$)"
      ],
      "text/plain": [
       "<IPython.core.display.Markdown object>"
      ]
     },
     "metadata": {},
     "output_type": "display_data"
    },
    {
     "data": {
      "text/markdown": [
       "Couldn't find a good approximation yet for p(x) = $- 1.0 x^{10} + 2.5 x^{9} - 1.0 x^{8} - 2.2 x^{7} + 6.1 x^{6} + 1.0 x^{5} - 20.5 x^{4} - 4.0 x^{3} + 3.0 x^{2} + 3.7 x + 10.1$"
      ],
      "text/plain": [
       "<IPython.core.display.Markdown object>"
      ]
     },
     "metadata": {},
     "output_type": "display_data"
    },
    {
     "data": {
      "text/markdown": [
       "p($-55171199.5074424$) = $-2.61290898711640876054087637931 \\cdot 10^{77}$"
      ],
      "text/plain": [
       "<IPython.core.display.Markdown object>"
      ]
     },
     "metadata": {},
     "output_type": "display_data"
    },
    {
     "data": {
      "text/markdown": [
       "Let's use the previous result as an approximation (step $10$)"
      ],
      "text/plain": [
       "<IPython.core.display.Markdown object>"
      ]
     },
     "metadata": {},
     "output_type": "display_data"
    },
    {
     "data": {
      "text/markdown": [
       "Couldn't find a good approximation yet for p(x) = $- 1.0 x^{10} + 2.5 x^{9} - 1.0 x^{8} - 2.2 x^{7} + 6.1 x^{6} + 1.0 x^{5} - 20.5 x^{4} - 4.0 x^{3} + 3.0 x^{2} + 3.7 x + 10.1$"
      ],
      "text/plain": [
       "<IPython.core.display.Markdown object>"
      ]
     },
     "metadata": {},
     "output_type": "display_data"
    },
    {
     "data": {
      "text/markdown": [
       "p($-40456787.6306724$) = $-1.17466487951583379671197914149 \\cdot 10^{76}$"
      ],
      "text/plain": [
       "<IPython.core.display.Markdown object>"
      ]
     },
     "metadata": {},
     "output_type": "display_data"
    },
    {
     "data": {
      "text/markdown": [
       "Let's use the previous result as an approximation (step $11$)"
      ],
      "text/plain": [
       "<IPython.core.display.Markdown object>"
      ]
     },
     "metadata": {},
     "output_type": "display_data"
    },
    {
     "data": {
      "text/markdown": [
       "Couldn't find a good approximation yet for p(x) = $- 1.0 x^{10} + 2.5 x^{9} - 1.0 x^{8} - 2.2 x^{7} + 6.1 x^{6} + 1.0 x^{5} - 20.5 x^{4} - 4.0 x^{3} + 3.0 x^{2} + 3.7 x + 10.1$"
      ],
      "text/plain": [
       "<IPython.core.display.Markdown object>"
      ]
     },
     "metadata": {},
     "output_type": "display_data"
    },
    {
     "data": {
      "text/markdown": [
       "p($-29666776.8514156$) = $-5.28084822690553051694105100619 \\cdot 10^{74}$"
      ],
      "text/plain": [
       "<IPython.core.display.Markdown object>"
      ]
     },
     "metadata": {},
     "output_type": "display_data"
    },
    {
     "data": {
      "text/markdown": [
       "Let's use the previous result as an approximation (step $12$)"
      ],
      "text/plain": [
       "<IPython.core.display.Markdown object>"
      ]
     },
     "metadata": {},
     "output_type": "display_data"
    },
    {
     "data": {
      "text/markdown": [
       "Couldn't find a good approximation yet for p(x) = $- 1.0 x^{10} + 2.5 x^{9} - 1.0 x^{8} - 2.2 x^{7} + 6.1 x^{6} + 1.0 x^{5} - 20.5 x^{4} - 4.0 x^{3} + 3.0 x^{2} + 3.7 x + 10.1$"
      ],
      "text/plain": [
       "<IPython.core.display.Markdown object>"
      ]
     },
     "metadata": {},
     "output_type": "display_data"
    },
    {
     "data": {
      "text/markdown": [
       "p($-21754511.4077468$) = $-2.37406927557975003654711140364 \\cdot 10^{73}$"
      ],
      "text/plain": [
       "<IPython.core.display.Markdown object>"
      ]
     },
     "metadata": {},
     "output_type": "display_data"
    },
    {
     "data": {
      "text/markdown": [
       "Let's use the previous result as an approximation (step $13$)"
      ],
      "text/plain": [
       "<IPython.core.display.Markdown object>"
      ]
     },
     "metadata": {},
     "output_type": "display_data"
    },
    {
     "data": {
      "text/markdown": [
       "Couldn't find a good approximation yet for p(x) = $- 1.0 x^{10} + 2.5 x^{9} - 1.0 x^{8} - 2.2 x^{7} + 6.1 x^{6} + 1.0 x^{5} - 20.5 x^{4} - 4.0 x^{3} + 3.0 x^{2} + 3.7 x + 10.1$"
      ],
      "text/plain": [
       "<IPython.core.display.Markdown object>"
      ]
     },
     "metadata": {},
     "output_type": "display_data"
    },
    {
     "data": {
      "text/markdown": [
       "p($-15952483.4272532$) = $-1.06729159466007210994713826167 \\cdot 10^{72}$"
      ],
      "text/plain": [
       "<IPython.core.display.Markdown object>"
      ]
     },
     "metadata": {},
     "output_type": "display_data"
    },
    {
     "data": {
      "text/markdown": [
       "Let's use the previous result as an approximation (step $14$)"
      ],
      "text/plain": [
       "<IPython.core.display.Markdown object>"
      ]
     },
     "metadata": {},
     "output_type": "display_data"
    },
    {
     "data": {
      "text/markdown": [
       "Couldn't find a good approximation yet for p(x) = $- 1.0 x^{10} + 2.5 x^{9} - 1.0 x^{8} - 2.2 x^{7} + 6.1 x^{6} + 1.0 x^{5} - 20.5 x^{4} - 4.0 x^{3} + 3.0 x^{2} + 3.7 x + 10.1$"
      ],
      "text/plain": [
       "<IPython.core.display.Markdown object>"
      ]
     },
     "metadata": {},
     "output_type": "display_data"
    },
    {
     "data": {
      "text/markdown": [
       "p($-11697882.9053044$) = $-4.79813862109756370763966254038 \\cdot 10^{70}$"
      ],
      "text/plain": [
       "<IPython.core.display.Markdown object>"
      ]
     },
     "metadata": {},
     "output_type": "display_data"
    },
    {
     "data": {
      "text/markdown": [
       "Let's use the previous result as an approximation (step $15$)"
      ],
      "text/plain": [
       "<IPython.core.display.Markdown object>"
      ]
     },
     "metadata": {},
     "output_type": "display_data"
    },
    {
     "data": {
      "text/markdown": [
       "Couldn't find a good approximation yet for p(x) = $- 1.0 x^{10} + 2.5 x^{9} - 1.0 x^{8} - 2.2 x^{7} + 6.1 x^{6} + 1.0 x^{5} - 20.5 x^{4} - 4.0 x^{3} + 3.0 x^{2} + 3.7 x + 10.1$"
      ],
      "text/plain": [
       "<IPython.core.display.Markdown object>"
      ]
     },
     "metadata": {},
     "output_type": "display_data"
    },
    {
     "data": {
      "text/markdown": [
       "p($-8578003.84539217$) = $-2.15706132630048492418809444101 \\cdot 10^{69}$"
      ],
      "text/plain": [
       "<IPython.core.display.Markdown object>"
      ]
     },
     "metadata": {},
     "output_type": "display_data"
    },
    {
     "data": {
      "text/markdown": [
       "Let's use the previous result as an approximation (step $16$)"
      ],
      "text/plain": [
       "<IPython.core.display.Markdown object>"
      ]
     },
     "metadata": {},
     "output_type": "display_data"
    },
    {
     "data": {
      "text/markdown": [
       "Couldn't find a good approximation yet for p(x) = $- 1.0 x^{10} + 2.5 x^{9} - 1.0 x^{8} - 2.2 x^{7} + 6.1 x^{6} + 1.0 x^{5} - 20.5 x^{4} - 4.0 x^{3} + 3.0 x^{2} + 3.7 x + 10.1$"
      ],
      "text/plain": [
       "<IPython.core.display.Markdown object>"
      ]
     },
     "metadata": {},
     "output_type": "display_data"
    },
    {
     "data": {
      "text/markdown": [
       "p($-6290210.83209643$) = $-9.69733042926725306667021196099 \\cdot 10^{67}$"
      ],
      "text/plain": [
       "<IPython.core.display.Markdown object>"
      ]
     },
     "metadata": {},
     "output_type": "display_data"
    },
    {
     "data": {
      "text/markdown": [
       "Let's use the previous result as an approximation (step $17$)"
      ],
      "text/plain": [
       "<IPython.core.display.Markdown object>"
      ]
     },
     "metadata": {},
     "output_type": "display_data"
    },
    {
     "data": {
      "text/markdown": [
       "Couldn't find a good approximation yet for p(x) = $- 1.0 x^{10} + 2.5 x^{9} - 1.0 x^{8} - 2.2 x^{7} + 6.1 x^{6} + 1.0 x^{5} - 20.5 x^{4} - 4.0 x^{3} + 3.0 x^{2} + 3.7 x + 10.1$"
      ],
      "text/plain": [
       "<IPython.core.display.Markdown object>"
      ]
     },
     "metadata": {},
     "output_type": "display_data"
    },
    {
     "data": {
      "text/markdown": [
       "p($-4612582.70255219$) = $-4.35955233668183543752197049983 \\cdot 10^{66}$"
      ],
      "text/plain": [
       "<IPython.core.display.Markdown object>"
      ]
     },
     "metadata": {},
     "output_type": "display_data"
    },
    {
     "data": {
      "text/markdown": [
       "Let's use the previous result as an approximation (step $18$)"
      ],
      "text/plain": [
       "<IPython.core.display.Markdown object>"
      ]
     },
     "metadata": {},
     "output_type": "display_data"
    },
    {
     "data": {
      "text/markdown": [
       "Couldn't find a good approximation yet for p(x) = $- 1.0 x^{10} + 2.5 x^{9} - 1.0 x^{8} - 2.2 x^{7} + 6.1 x^{6} + 1.0 x^{5} - 20.5 x^{4} - 4.0 x^{3} + 3.0 x^{2} + 3.7 x + 10.1$"
      ],
      "text/plain": [
       "<IPython.core.display.Markdown object>"
      ]
     },
     "metadata": {},
     "output_type": "display_data"
    },
    {
     "data": {
      "text/markdown": [
       "p($-3382385.68530382$) = $-1.95988955052077511212187905185 \\cdot 10^{65}$"
      ],
      "text/plain": [
       "<IPython.core.display.Markdown object>"
      ]
     },
     "metadata": {},
     "output_type": "display_data"
    },
    {
     "data": {
      "text/markdown": [
       "Let's use the previous result as an approximation (step $19$)"
      ],
      "text/plain": [
       "<IPython.core.display.Markdown object>"
      ]
     },
     "metadata": {},
     "output_type": "display_data"
    },
    {
     "data": {
      "text/markdown": [
       "Couldn't find a good approximation yet for p(x) = $- 1.0 x^{10} + 2.5 x^{9} - 1.0 x^{8} - 2.2 x^{7} + 6.1 x^{6} + 1.0 x^{5} - 20.5 x^{4} - 4.0 x^{3} + 3.0 x^{2} + 3.7 x + 10.1$"
      ],
      "text/plain": [
       "<IPython.core.display.Markdown object>"
      ]
     },
     "metadata": {},
     "output_type": "display_data"
    },
    {
     "data": {
      "text/markdown": [
       "p($-2480287.8517047$) = $-8.81092083221582810436791064575 \\cdot 10^{63}$"
      ],
      "text/plain": [
       "<IPython.core.display.Markdown object>"
      ]
     },
     "metadata": {},
     "output_type": "display_data"
    },
    {
     "data": {
      "text/markdown": [
       "Let's use the previous result as an approximation (step $20$)"
      ],
      "text/plain": [
       "<IPython.core.display.Markdown object>"
      ]
     },
     "metadata": {},
     "output_type": "display_data"
    },
    {
     "data": {
      "text/markdown": [
       "Couldn't find a good approximation yet for p(x) = $- 1.0 x^{10} + 2.5 x^{9} - 1.0 x^{8} - 2.2 x^{7} + 6.1 x^{6} + 1.0 x^{5} - 20.5 x^{4} - 4.0 x^{3} + 3.0 x^{2} + 3.7 x + 10.1$"
      ],
      "text/plain": [
       "<IPython.core.display.Markdown object>"
      ]
     },
     "metadata": {},
     "output_type": "display_data"
    },
    {
     "data": {
      "text/markdown": [
       "p($-1818783.64548868$) = $-3.96105616721847320743207545552 \\cdot 10^{62}$"
      ],
      "text/plain": [
       "<IPython.core.display.Markdown object>"
      ]
     },
     "metadata": {},
     "output_type": "display_data"
    },
    {
     "data": {
      "text/markdown": [
       "Let's use the previous result as an approximation (step $21$)"
      ],
      "text/plain": [
       "<IPython.core.display.Markdown object>"
      ]
     },
     "metadata": {},
     "output_type": "display_data"
    },
    {
     "data": {
      "text/markdown": [
       "Couldn't find a good approximation yet for p(x) = $- 1.0 x^{10} + 2.5 x^{9} - 1.0 x^{8} - 2.2 x^{7} + 6.1 x^{6} + 1.0 x^{5} - 20.5 x^{4} - 4.0 x^{3} + 3.0 x^{2} + 3.7 x + 10.1$"
      ],
      "text/plain": [
       "<IPython.core.display.Markdown object>"
      ]
     },
     "metadata": {},
     "output_type": "display_data"
    },
    {
     "data": {
      "text/markdown": [
       "p($-1333705.64336596$) = $-1.78074077144030966307138976825 \\cdot 10^{61}$"
      ],
      "text/plain": [
       "<IPython.core.display.Markdown object>"
      ]
     },
     "metadata": {},
     "output_type": "display_data"
    },
    {
     "data": {
      "text/markdown": [
       "Let's use the previous result as an approximation (step $22$)"
      ],
      "text/plain": [
       "<IPython.core.display.Markdown object>"
      ]
     },
     "metadata": {},
     "output_type": "display_data"
    },
    {
     "data": {
      "text/markdown": [
       "Couldn't find a good approximation yet for p(x) = $- 1.0 x^{10} + 2.5 x^{9} - 1.0 x^{8} - 2.2 x^{7} + 6.1 x^{6} + 1.0 x^{5} - 20.5 x^{4} - 4.0 x^{3} + 3.0 x^{2} + 3.7 x + 10.1$"
      ],
      "text/plain": [
       "<IPython.core.display.Markdown object>"
      ]
     },
     "metadata": {},
     "output_type": "display_data"
    },
    {
     "data": {
      "text/markdown": [
       "p($-978000.167977771$) = $-8.00553579955055549851436288877 \\cdot 10^{59}$"
      ],
      "text/plain": [
       "<IPython.core.display.Markdown object>"
      ]
     },
     "metadata": {},
     "output_type": "display_data"
    },
    {
     "data": {
      "text/markdown": [
       "Let's use the previous result as an approximation (step $23$)"
      ],
      "text/plain": [
       "<IPython.core.display.Markdown object>"
      ]
     },
     "metadata": {},
     "output_type": "display_data"
    },
    {
     "data": {
      "text/markdown": [
       "Couldn't find a good approximation yet for p(x) = $- 1.0 x^{10} + 2.5 x^{9} - 1.0 x^{8} - 2.2 x^{7} + 6.1 x^{6} + 1.0 x^{5} - 20.5 x^{4} - 4.0 x^{3} + 3.0 x^{2} + 3.7 x + 10.1$"
      ],
      "text/plain": [
       "<IPython.core.display.Markdown object>"
      ]
     },
     "metadata": {},
     "output_type": "display_data"
    },
    {
     "data": {
      "text/markdown": [
       "p($-717162.97340814$) = $-3.59898557194528127447799021741 \\cdot 10^{58}$"
      ],
      "text/plain": [
       "<IPython.core.display.Markdown object>"
      ]
     },
     "metadata": {},
     "output_type": "display_data"
    },
    {
     "data": {
      "text/markdown": [
       "Let's use the previous result as an approximation (step $24$)"
      ],
      "text/plain": [
       "<IPython.core.display.Markdown object>"
      ]
     },
     "metadata": {},
     "output_type": "display_data"
    },
    {
     "data": {
      "text/markdown": [
       "Couldn't find a good approximation yet for p(x) = $- 1.0 x^{10} + 2.5 x^{9} - 1.0 x^{8} - 2.2 x^{7} + 6.1 x^{6} + 1.0 x^{5} - 20.5 x^{4} - 4.0 x^{3} + 3.0 x^{2} + 3.7 x + 10.1$"
      ],
      "text/plain": [
       "<IPython.core.display.Markdown object>"
      ]
     },
     "metadata": {},
     "output_type": "display_data"
    },
    {
     "data": {
      "text/markdown": [
       "p($-525892.254292277$) = $-1.61796755037895519670052667114 \\cdot 10^{57}$"
      ],
      "text/plain": [
       "<IPython.core.display.Markdown object>"
      ]
     },
     "metadata": {},
     "output_type": "display_data"
    },
    {
     "data": {
      "text/markdown": [
       "Let's use the previous result as an approximation (step $25$)"
      ],
      "text/plain": [
       "<IPython.core.display.Markdown object>"
      ]
     },
     "metadata": {},
     "output_type": "display_data"
    },
    {
     "data": {
      "text/markdown": [
       "Couldn't find a good approximation yet for p(x) = $- 1.0 x^{10} + 2.5 x^{9} - 1.0 x^{8} - 2.2 x^{7} + 6.1 x^{6} + 1.0 x^{5} - 20.5 x^{4} - 4.0 x^{3} + 3.0 x^{2} + 3.7 x + 10.1$"
      ],
      "text/plain": [
       "<IPython.core.display.Markdown object>"
      ]
     },
     "metadata": {},
     "output_type": "display_data"
    },
    {
     "data": {
      "text/markdown": [
       "p($-385634.312738138$) = $-7.27376907116649766707124469706 \\cdot 10^{55}$"
      ],
      "text/plain": [
       "<IPython.core.display.Markdown object>"
      ]
     },
     "metadata": {},
     "output_type": "display_data"
    },
    {
     "data": {
      "text/markdown": [
       "Let's use the previous result as an approximation (step $26$)"
      ],
      "text/plain": [
       "<IPython.core.display.Markdown object>"
      ]
     },
     "metadata": {},
     "output_type": "display_data"
    },
    {
     "data": {
      "text/markdown": [
       "Couldn't find a good approximation yet for p(x) = $- 1.0 x^{10} + 2.5 x^{9} - 1.0 x^{8} - 2.2 x^{7} + 6.1 x^{6} + 1.0 x^{5} - 20.5 x^{4} - 4.0 x^{3} + 3.0 x^{2} + 3.7 x + 10.1$"
      ],
      "text/plain": [
       "<IPython.core.display.Markdown object>"
      ]
     },
     "metadata": {},
     "output_type": "display_data"
    },
    {
     "data": {
      "text/markdown": [
       "p($-282783.80713053$) = $-3.27001097693574420221168505854 \\cdot 10^{54}$"
      ],
      "text/plain": [
       "<IPython.core.display.Markdown object>"
      ]
     },
     "metadata": {},
     "output_type": "display_data"
    },
    {
     "data": {
      "text/markdown": [
       "Let's use the previous result as an approximation (step $27$)"
      ],
      "text/plain": [
       "<IPython.core.display.Markdown object>"
      ]
     },
     "metadata": {},
     "output_type": "display_data"
    },
    {
     "data": {
      "text/markdown": [
       "Couldn't find a good approximation yet for p(x) = $- 1.0 x^{10} + 2.5 x^{9} - 1.0 x^{8} - 2.2 x^{7} + 6.1 x^{6} + 1.0 x^{5} - 20.5 x^{4} - 4.0 x^{3} + 3.0 x^{2} + 3.7 x + 10.1$"
      ],
      "text/plain": [
       "<IPython.core.display.Markdown object>"
      ]
     },
     "metadata": {},
     "output_type": "display_data"
    },
    {
     "data": {
      "text/markdown": [
       "p($-207364.002829105$) = $-1.47007303705370132644965911386 \\cdot 10^{53}$"
      ],
      "text/plain": [
       "<IPython.core.display.Markdown object>"
      ]
     },
     "metadata": {},
     "output_type": "display_data"
    },
    {
     "data": {
      "text/markdown": [
       "Let's use the previous result as an approximation (step $28$)"
      ],
      "text/plain": [
       "<IPython.core.display.Markdown object>"
      ]
     },
     "metadata": {},
     "output_type": "display_data"
    },
    {
     "data": {
      "text/markdown": [
       "Couldn't find a good approximation yet for p(x) = $- 1.0 x^{10} + 2.5 x^{9} - 1.0 x^{8} - 2.2 x^{7} + 6.1 x^{6} + 1.0 x^{5} - 20.5 x^{4} - 4.0 x^{3} + 3.0 x^{2} + 3.7 x + 10.1$"
      ],
      "text/plain": [
       "<IPython.core.display.Markdown object>"
      ]
     },
     "metadata": {},
     "output_type": "display_data"
    },
    {
     "data": {
      "text/markdown": [
       "p($-152059.006054857$) = $-6.6088913753317997066870960082 \\cdot 10^{51}$"
      ],
      "text/plain": [
       "<IPython.core.display.Markdown object>"
      ]
     },
     "metadata": {},
     "output_type": "display_data"
    },
    {
     "data": {
      "text/markdown": [
       "Let's use the previous result as an approximation (step $29$)"
      ],
      "text/plain": [
       "<IPython.core.display.Markdown object>"
      ]
     },
     "metadata": {},
     "output_type": "display_data"
    },
    {
     "data": {
      "text/markdown": [
       "Couldn't find a good approximation yet for p(x) = $- 1.0 x^{10} + 2.5 x^{9} - 1.0 x^{8} - 2.2 x^{7} + 6.1 x^{6} + 1.0 x^{5} - 20.5 x^{4} - 4.0 x^{3} + 3.0 x^{2} + 3.7 x + 10.1$"
      ],
      "text/plain": [
       "<IPython.core.display.Markdown object>"
      ]
     },
     "metadata": {},
     "output_type": "display_data"
    },
    {
     "data": {
      "text/markdown": [
       "p($-111504.105435272$) = $-2.97110715658230109833119226047 \\cdot 10^{50}$"
      ],
      "text/plain": [
       "<IPython.core.display.Markdown object>"
      ]
     },
     "metadata": {},
     "output_type": "display_data"
    },
    {
     "data": {
      "text/markdown": [
       "Let's use the previous result as an approximation (step $30$)"
      ],
      "text/plain": [
       "<IPython.core.display.Markdown object>"
      ]
     },
     "metadata": {},
     "output_type": "display_data"
    },
    {
     "data": {
      "text/markdown": [
       "Couldn't find a good approximation yet for p(x) = $- 1.0 x^{10} + 2.5 x^{9} - 1.0 x^{8} - 2.2 x^{7} + 6.1 x^{6} + 1.0 x^{5} - 20.5 x^{4} - 4.0 x^{3} + 3.0 x^{2} + 3.7 x + 10.1$"
      ],
      "text/plain": [
       "<IPython.core.display.Markdown object>"
      ]
     },
     "metadata": {},
     "output_type": "display_data"
    },
    {
     "data": {
      "text/markdown": [
       "p($-81765.3827124189$) = $-1.33569720465169482485195515771 \\cdot 10^{49}$"
      ],
      "text/plain": [
       "<IPython.core.display.Markdown object>"
      ]
     },
     "metadata": {},
     "output_type": "display_data"
    },
    {
     "data": {
      "text/markdown": [
       "Let's use the previous result as an approximation (step $31$)"
      ],
      "text/plain": [
       "<IPython.core.display.Markdown object>"
      ]
     },
     "metadata": {},
     "output_type": "display_data"
    },
    {
     "data": {
      "text/markdown": [
       "Couldn't find a good approximation yet for p(x) = $- 1.0 x^{10} + 2.5 x^{9} - 1.0 x^{8} - 2.2 x^{7} + 6.1 x^{6} + 1.0 x^{5} - 20.5 x^{4} - 4.0 x^{3} + 3.0 x^{2} + 3.7 x + 10.1$"
      ],
      "text/plain": [
       "<IPython.core.display.Markdown object>"
      ]
     },
     "metadata": {},
     "output_type": "display_data"
    },
    {
     "data": {
      "text/markdown": [
       "p($-59958.1136606266$) = $-6.00478854677243842139971873374 \\cdot 10^{47}$"
      ],
      "text/plain": [
       "<IPython.core.display.Markdown object>"
      ]
     },
     "metadata": {},
     "output_type": "display_data"
    },
    {
     "data": {
      "text/markdown": [
       "Let's use the previous result as an approximation (step $32$)"
      ],
      "text/plain": [
       "<IPython.core.display.Markdown object>"
      ]
     },
     "metadata": {},
     "output_type": "display_data"
    },
    {
     "data": {
      "text/markdown": [
       "Couldn't find a good approximation yet for p(x) = $- 1.0 x^{10} + 2.5 x^{9} - 1.0 x^{8} - 2.2 x^{7} + 6.1 x^{6} + 1.0 x^{5} - 20.5 x^{4} - 4.0 x^{3} + 3.0 x^{2} + 3.7 x + 10.1$"
      ],
      "text/plain": [
       "<IPython.core.display.Markdown object>"
      ]
     },
     "metadata": {},
     "output_type": "display_data"
    },
    {
     "data": {
      "text/markdown": [
       "p($-43966.9432286478$) = $-2.69952541381633890772874246308 \\cdot 10^{46}$"
      ],
      "text/plain": [
       "<IPython.core.display.Markdown object>"
      ]
     },
     "metadata": {},
     "output_type": "display_data"
    },
    {
     "data": {
      "text/markdown": [
       "Let's use the previous result as an approximation (step $33$)"
      ],
      "text/plain": [
       "<IPython.core.display.Markdown object>"
      ]
     },
     "metadata": {},
     "output_type": "display_data"
    },
    {
     "data": {
      "text/markdown": [
       "Couldn't find a good approximation yet for p(x) = $- 1.0 x^{10} + 2.5 x^{9} - 1.0 x^{8} - 2.2 x^{7} + 6.1 x^{6} + 1.0 x^{5} - 20.5 x^{4} - 4.0 x^{3} + 3.0 x^{2} + 3.7 x + 10.1$"
      ],
      "text/plain": [
       "<IPython.core.display.Markdown object>"
      ]
     },
     "metadata": {},
     "output_type": "display_data"
    },
    {
     "data": {
      "text/markdown": [
       "p($-32240.6912541106$) = $-1.21360434309815396172581543478 \\cdot 10^{45}$"
      ],
      "text/plain": [
       "<IPython.core.display.Markdown object>"
      ]
     },
     "metadata": {},
     "output_type": "display_data"
    },
    {
     "data": {
      "text/markdown": [
       "Let's use the previous result as an approximation (step $34$)"
      ],
      "text/plain": [
       "<IPython.core.display.Markdown object>"
      ]
     },
     "metadata": {},
     "output_type": "display_data"
    },
    {
     "data": {
      "text/markdown": [
       "Couldn't find a good approximation yet for p(x) = $- 1.0 x^{10} + 2.5 x^{9} - 1.0 x^{8} - 2.2 x^{7} + 6.1 x^{6} + 1.0 x^{5} - 20.5 x^{4} - 4.0 x^{3} + 3.0 x^{2} + 3.7 x + 10.1$"
      ],
      "text/plain": [
       "<IPython.core.display.Markdown object>"
      ]
     },
     "metadata": {},
     "output_type": "display_data"
    },
    {
     "data": {
      "text/markdown": [
       "p($-23641.8844345296$) = $-5.45590530103704965010578287314 \\cdot 10^{43}$"
      ],
      "text/plain": [
       "<IPython.core.display.Markdown object>"
      ]
     },
     "metadata": {},
     "output_type": "display_data"
    },
    {
     "data": {
      "text/markdown": [
       "Let's use the previous result as an approximation (step $35$)"
      ],
      "text/plain": [
       "<IPython.core.display.Markdown object>"
      ]
     },
     "metadata": {},
     "output_type": "display_data"
    },
    {
     "data": {
      "text/markdown": [
       "Couldn't find a good approximation yet for p(x) = $- 1.0 x^{10} + 2.5 x^{9} - 1.0 x^{8} - 2.2 x^{7} + 6.1 x^{6} + 1.0 x^{5} - 20.5 x^{4} - 4.0 x^{3} + 3.0 x^{2} + 3.7 x + 10.1$"
      ],
      "text/plain": [
       "<IPython.core.display.Markdown object>"
      ]
     },
     "metadata": {},
     "output_type": "display_data"
    },
    {
     "data": {
      "text/markdown": [
       "p($-17336.4188113897$) = $-2.45276830310326449519891676989 \\cdot 10^{42}$"
      ],
      "text/plain": [
       "<IPython.core.display.Markdown object>"
      ]
     },
     "metadata": {},
     "output_type": "display_data"
    },
    {
     "data": {
      "text/markdown": [
       "Let's use the previous result as an approximation (step $36$)"
      ],
      "text/plain": [
       "<IPython.core.display.Markdown object>"
      ]
     },
     "metadata": {},
     "output_type": "display_data"
    },
    {
     "data": {
      "text/markdown": [
       "Couldn't find a good approximation yet for p(x) = $- 1.0 x^{10} + 2.5 x^{9} - 1.0 x^{8} - 2.2 x^{7} + 6.1 x^{6} + 1.0 x^{5} - 20.5 x^{4} - 4.0 x^{3} + 3.0 x^{2} + 3.7 x + 10.1$"
      ],
      "text/plain": [
       "<IPython.core.display.Markdown object>"
      ]
     },
     "metadata": {},
     "output_type": "display_data"
    },
    {
     "data": {
      "text/markdown": [
       "p($-12712.6497755151$) = $-1.10267169539778318226304095494 \\cdot 10^{41}$"
      ],
      "text/plain": [
       "<IPython.core.display.Markdown object>"
      ]
     },
     "metadata": {},
     "output_type": "display_data"
    },
    {
     "data": {
      "text/markdown": [
       "Let's use the previous result as an approximation (step $37$)"
      ],
      "text/plain": [
       "<IPython.core.display.Markdown object>"
      ]
     },
     "metadata": {},
     "output_type": "display_data"
    },
    {
     "data": {
      "text/markdown": [
       "Couldn't find a good approximation yet for p(x) = $- 1.0 x^{10} + 2.5 x^{9} - 1.0 x^{8} - 2.2 x^{7} + 6.1 x^{6} + 1.0 x^{5} - 20.5 x^{4} - 4.0 x^{3} + 3.0 x^{2} + 3.7 x + 10.1$"
      ],
      "text/plain": [
       "<IPython.core.display.Markdown object>"
      ]
     },
     "metadata": {},
     "output_type": "display_data"
    },
    {
     "data": {
      "text/markdown": [
       "p($-9322.0611389041$) = $-4.95719414716505824837581187736 \\cdot 10^{39}$"
      ],
      "text/plain": [
       "<IPython.core.display.Markdown object>"
      ]
     },
     "metadata": {},
     "output_type": "display_data"
    },
    {
     "data": {
      "text/markdown": [
       "Let's use the previous result as an approximation (step $38$)"
      ],
      "text/plain": [
       "<IPython.core.display.Markdown object>"
      ]
     },
     "metadata": {},
     "output_type": "display_data"
    },
    {
     "data": {
      "text/markdown": [
       "Couldn't find a good approximation yet for p(x) = $- 1.0 x^{10} + 2.5 x^{9} - 1.0 x^{8} - 2.2 x^{7} + 6.1 x^{6} + 1.0 x^{5} - 20.5 x^{4} - 4.0 x^{3} + 3.0 x^{2} + 3.7 x + 10.1$"
      ],
      "text/plain": [
       "<IPython.core.display.Markdown object>"
      ]
     },
     "metadata": {},
     "output_type": "display_data"
    },
    {
     "data": {
      "text/markdown": [
       "p($-6835.75803709108$) = $-2.22856666298905402786595922116 \\cdot 10^{38}$"
      ],
      "text/plain": [
       "<IPython.core.display.Markdown object>"
      ]
     },
     "metadata": {},
     "output_type": "display_data"
    },
    {
     "data": {
      "text/markdown": [
       "Let's use the previous result as an approximation (step $39$)"
      ],
      "text/plain": [
       "<IPython.core.display.Markdown object>"
      ]
     },
     "metadata": {},
     "output_type": "display_data"
    },
    {
     "data": {
      "text/markdown": [
       "Couldn't find a good approximation yet for p(x) = $- 1.0 x^{10} + 2.5 x^{9} - 1.0 x^{8} - 2.2 x^{7} + 6.1 x^{6} + 1.0 x^{5} - 20.5 x^{4} - 4.0 x^{3} + 3.0 x^{2} + 3.7 x + 10.1$"
      ],
      "text/plain": [
       "<IPython.core.display.Markdown object>"
      ]
     },
     "metadata": {},
     "output_type": "display_data"
    },
    {
     "data": {
      "text/markdown": [
       "p($-5012.56337390418$) = $-1.00187913189902765028170818849 \\cdot 10^{37}$"
      ],
      "text/plain": [
       "<IPython.core.display.Markdown object>"
      ]
     },
     "metadata": {},
     "output_type": "display_data"
    },
    {
     "data": {
      "text/markdown": [
       "Let's use the previous result as an approximation (step $40$)"
      ],
      "text/plain": [
       "<IPython.core.display.Markdown object>"
      ]
     },
     "metadata": {},
     "output_type": "display_data"
    },
    {
     "data": {
      "text/markdown": [
       "Couldn't find a good approximation yet for p(x) = $- 1.0 x^{10} + 2.5 x^{9} - 1.0 x^{8} - 2.2 x^{7} + 6.1 x^{6} + 1.0 x^{5} - 20.5 x^{4} - 4.0 x^{3} + 3.0 x^{2} + 3.7 x + 10.1$"
      ],
      "text/plain": [
       "<IPython.core.display.Markdown object>"
      ]
     },
     "metadata": {},
     "output_type": "display_data"
    },
    {
     "data": {
      "text/markdown": [
       "p($-3675.62309067999$) = $-4.50406896342351041442345860276 \\cdot 10^{35}$"
      ],
      "text/plain": [
       "<IPython.core.display.Markdown object>"
      ]
     },
     "metadata": {},
     "output_type": "display_data"
    },
    {
     "data": {
      "text/markdown": [
       "Let's use the previous result as an approximation (step $41$)"
      ],
      "text/plain": [
       "<IPython.core.display.Markdown object>"
      ]
     },
     "metadata": {},
     "output_type": "display_data"
    },
    {
     "data": {
      "text/markdown": [
       "Couldn't find a good approximation yet for p(x) = $- 1.0 x^{10} + 2.5 x^{9} - 1.0 x^{8} - 2.2 x^{7} + 6.1 x^{6} + 1.0 x^{5} - 20.5 x^{4} - 4.0 x^{3} + 3.0 x^{2} + 3.7 x + 10.1$"
      ],
      "text/plain": [
       "<IPython.core.display.Markdown object>"
      ]
     },
     "metadata": {},
     "output_type": "display_data"
    },
    {
     "data": {
      "text/markdown": [
       "p($-2695.25091745926$) = $-2.02485874244306194980131303577 \\cdot 10^{34}$"
      ],
      "text/plain": [
       "<IPython.core.display.Markdown object>"
      ]
     },
     "metadata": {},
     "output_type": "display_data"
    },
    {
     "data": {
      "text/markdown": [
       "Let's use the previous result as an approximation (step $42$)"
      ],
      "text/plain": [
       "<IPython.core.display.Markdown object>"
      ]
     },
     "metadata": {},
     "output_type": "display_data"
    },
    {
     "data": {
      "text/markdown": [
       "Couldn't find a good approximation yet for p(x) = $- 1.0 x^{10} + 2.5 x^{9} - 1.0 x^{8} - 2.2 x^{7} + 6.1 x^{6} + 1.0 x^{5} - 20.5 x^{4} - 4.0 x^{3} + 3.0 x^{2} + 3.7 x + 10.1$"
      ],
      "text/plain": [
       "<IPython.core.display.Markdown object>"
      ]
     },
     "metadata": {},
     "output_type": "display_data"
    },
    {
     "data": {
      "text/markdown": [
       "p($-1976.34850773275$) = $-9.10299763724014418351538189631 \\cdot 10^{32}$"
      ],
      "text/plain": [
       "<IPython.core.display.Markdown object>"
      ]
     },
     "metadata": {},
     "output_type": "display_data"
    },
    {
     "data": {
      "text/markdown": [
       "Let's use the previous result as an approximation (step $43$)"
      ],
      "text/plain": [
       "<IPython.core.display.Markdown object>"
      ]
     },
     "metadata": {},
     "output_type": "display_data"
    },
    {
     "data": {
      "text/markdown": [
       "Couldn't find a good approximation yet for p(x) = $- 1.0 x^{10} + 2.5 x^{9} - 1.0 x^{8} - 2.2 x^{7} + 6.1 x^{6} + 1.0 x^{5} - 20.5 x^{4} - 4.0 x^{3} + 3.0 x^{2} + 3.7 x + 10.1$"
      ],
      "text/plain": [
       "<IPython.core.display.Markdown object>"
      ]
     },
     "metadata": {},
     "output_type": "display_data"
    },
    {
     "data": {
      "text/markdown": [
       "p($-1449.18068099144$) = $-4.09236277739548539926964590346 \\cdot 10^{31}$"
      ],
      "text/plain": [
       "<IPython.core.display.Markdown object>"
      ]
     },
     "metadata": {},
     "output_type": "display_data"
    },
    {
     "data": {
      "text/markdown": [
       "Let's use the previous result as an approximation (step $44$)"
      ],
      "text/plain": [
       "<IPython.core.display.Markdown object>"
      ]
     },
     "metadata": {},
     "output_type": "display_data"
    },
    {
     "data": {
      "text/markdown": [
       "Couldn't find a good approximation yet for p(x) = $- 1.0 x^{10} + 2.5 x^{9} - 1.0 x^{8} - 2.2 x^{7} + 6.1 x^{6} + 1.0 x^{5} - 20.5 x^{4} - 4.0 x^{3} + 3.0 x^{2} + 3.7 x + 10.1$"
      ],
      "text/plain": [
       "<IPython.core.display.Markdown object>"
      ]
     },
     "metadata": {},
     "output_type": "display_data"
    },
    {
     "data": {
      "text/markdown": [
       "p($-1062.61095047751$) = $-1.83977120244776461905435190886 \\cdot 10^{30}$"
      ],
      "text/plain": [
       "<IPython.core.display.Markdown object>"
      ]
     },
     "metadata": {},
     "output_type": "display_data"
    },
    {
     "data": {
      "text/markdown": [
       "Let's use the previous result as an approximation (step $45$)"
      ],
      "text/plain": [
       "<IPython.core.display.Markdown object>"
      ]
     },
     "metadata": {},
     "output_type": "display_data"
    },
    {
     "data": {
      "text/markdown": [
       "Couldn't find a good approximation yet for p(x) = $- 1.0 x^{10} + 2.5 x^{9} - 1.0 x^{8} - 2.2 x^{7} + 6.1 x^{6} + 1.0 x^{5} - 20.5 x^{4} - 4.0 x^{3} + 3.0 x^{2} + 3.7 x + 10.1$"
      ],
      "text/plain": [
       "<IPython.core.display.Markdown object>"
      ]
     },
     "metadata": {},
     "output_type": "display_data"
    },
    {
     "data": {
      "text/markdown": [
       "p($-779.141166833311$) = $-82709138679927683471630139392.0$"
      ],
      "text/plain": [
       "<IPython.core.display.Markdown object>"
      ]
     },
     "metadata": {},
     "output_type": "display_data"
    },
    {
     "data": {
      "text/markdown": [
       "Let's use the previous result as an approximation (step $46$)"
      ],
      "text/plain": [
       "<IPython.core.display.Markdown object>"
      ]
     },
     "metadata": {},
     "output_type": "display_data"
    },
    {
     "data": {
      "text/markdown": [
       "Couldn't find a good approximation yet for p(x) = $- 1.0 x^{10} + 2.5 x^{9} - 1.0 x^{8} - 2.2 x^{7} + 6.1 x^{6} + 1.0 x^{5} - 20.5 x^{4} - 4.0 x^{3} + 3.0 x^{2} + 3.7 x + 10.1$"
      ],
      "text/plain": [
       "<IPython.core.display.Markdown object>"
      ]
     },
     "metadata": {},
     "output_type": "display_data"
    },
    {
     "data": {
      "text/markdown": [
       "p($-571.274111719995$) = $-3718289176067640771316023296.0$"
      ],
      "text/plain": [
       "<IPython.core.display.Markdown object>"
      ]
     },
     "metadata": {},
     "output_type": "display_data"
    },
    {
     "data": {
      "text/markdown": [
       "Let's use the previous result as an approximation (step $47$)"
      ],
      "text/plain": [
       "<IPython.core.display.Markdown object>"
      ]
     },
     "metadata": {},
     "output_type": "display_data"
    },
    {
     "data": {
      "text/markdown": [
       "Couldn't find a good approximation yet for p(x) = $- 1.0 x^{10} + 2.5 x^{9} - 1.0 x^{8} - 2.2 x^{7} + 6.1 x^{6} + 1.0 x^{5} - 20.5 x^{4} - 4.0 x^{3} + 3.0 x^{2} + 3.7 x + 10.1$"
      ],
      "text/plain": [
       "<IPython.core.display.Markdown object>"
      ]
     },
     "metadata": {},
     "output_type": "display_data"
    },
    {
     "data": {
      "text/markdown": [
       "p($-418.846204655787$) = $-167160166240627785975463936.0$"
      ],
      "text/plain": [
       "<IPython.core.display.Markdown object>"
      ]
     },
     "metadata": {},
     "output_type": "display_data"
    },
    {
     "data": {
      "text/markdown": [
       "Let's use the previous result as an approximation (step $48$)"
      ],
      "text/plain": [
       "<IPython.core.display.Markdown object>"
      ]
     },
     "metadata": {},
     "output_type": "display_data"
    },
    {
     "data": {
      "text/markdown": [
       "Couldn't find a good approximation yet for p(x) = $- 1.0 x^{10} + 2.5 x^{9} - 1.0 x^{8} - 2.2 x^{7} + 6.1 x^{6} + 1.0 x^{5} - 20.5 x^{4} - 4.0 x^{3} + 3.0 x^{2} + 3.7 x + 10.1$"
      ],
      "text/plain": [
       "<IPython.core.display.Markdown object>"
      ]
     },
     "metadata": {},
     "output_type": "display_data"
    },
    {
     "data": {
      "text/markdown": [
       "p($-307.071589529141$) = $-7514885474644056510300160.0$"
      ],
      "text/plain": [
       "<IPython.core.display.Markdown object>"
      ]
     },
     "metadata": {},
     "output_type": "display_data"
    },
    {
     "data": {
      "text/markdown": [
       "Let's use the previous result as an approximation (step $49$)"
      ],
      "text/plain": [
       "<IPython.core.display.Markdown object>"
      ]
     },
     "metadata": {},
     "output_type": "display_data"
    },
    {
     "data": {
      "text/markdown": [
       "Couldn't find a good approximation yet for p(x) = $- 1.0 x^{10} + 2.5 x^{9} - 1.0 x^{8} - 2.2 x^{7} + 6.1 x^{6} + 1.0 x^{5} - 20.5 x^{4} - 4.0 x^{3} + 3.0 x^{2} + 3.7 x + 10.1$"
      ],
      "text/plain": [
       "<IPython.core.display.Markdown object>"
      ]
     },
     "metadata": {},
     "output_type": "display_data"
    },
    {
     "data": {
      "text/markdown": [
       "p($-225.107872701824$) = $-337840589950618844528640.0$"
      ],
      "text/plain": [
       "<IPython.core.display.Markdown object>"
      ]
     },
     "metadata": {},
     "output_type": "display_data"
    },
    {
     "data": {
      "text/markdown": [
       "Let's use the previous result as an approximation (step $50$)"
      ],
      "text/plain": [
       "<IPython.core.display.Markdown object>"
      ]
     },
     "metadata": {},
     "output_type": "display_data"
    },
    {
     "data": {
      "text/markdown": [
       "Couldn't find a good approximation yet for p(x) = $- 1.0 x^{10} + 2.5 x^{9} - 1.0 x^{8} - 2.2 x^{7} + 6.1 x^{6} + 1.0 x^{5} - 20.5 x^{4} - 4.0 x^{3} + 3.0 x^{2} + 3.7 x + 10.1$"
      ],
      "text/plain": [
       "<IPython.core.display.Markdown object>"
      ]
     },
     "metadata": {},
     "output_type": "display_data"
    },
    {
     "data": {
      "text/markdown": [
       "p($-165.004386019828$) = $-15188017161281220902912.0$"
      ],
      "text/plain": [
       "<IPython.core.display.Markdown object>"
      ]
     },
     "metadata": {},
     "output_type": "display_data"
    },
    {
     "data": {
      "text/markdown": [
       "Let's use the previous result as an approximation (step $51$)"
      ],
      "text/plain": [
       "<IPython.core.display.Markdown object>"
      ]
     },
     "metadata": {},
     "output_type": "display_data"
    },
    {
     "data": {
      "text/markdown": [
       "Couldn't find a good approximation yet for p(x) = $- 1.0 x^{10} + 2.5 x^{9} - 1.0 x^{8} - 2.2 x^{7} + 6.1 x^{6} + 1.0 x^{5} - 20.5 x^{4} - 4.0 x^{3} + 3.0 x^{2} + 3.7 x + 10.1$"
      ],
      "text/plain": [
       "<IPython.core.display.Markdown object>"
      ]
     },
     "metadata": {},
     "output_type": "display_data"
    },
    {
     "data": {
      "text/markdown": [
       "p($-120.93095384992$) = $-682794389322072981504.0$"
      ],
      "text/plain": [
       "<IPython.core.display.Markdown object>"
      ]
     },
     "metadata": {},
     "output_type": "display_data"
    },
    {
     "data": {
      "text/markdown": [
       "Let's use the previous result as an approximation (step $52$)"
      ],
      "text/plain": [
       "<IPython.core.display.Markdown object>"
      ]
     },
     "metadata": {},
     "output_type": "display_data"
    },
    {
     "data": {
      "text/markdown": [
       "Couldn't find a good approximation yet for p(x) = $- 1.0 x^{10} + 2.5 x^{9} - 1.0 x^{8} - 2.2 x^{7} + 6.1 x^{6} + 1.0 x^{5} - 20.5 x^{4} - 4.0 x^{3} + 3.0 x^{2} + 3.7 x + 10.1$"
      ],
      "text/plain": [
       "<IPython.core.display.Markdown object>"
      ]
     },
     "metadata": {},
     "output_type": "display_data"
    },
    {
     "data": {
      "text/markdown": [
       "p($-88.6123528088309$) = $-30695738357588750336.0$"
      ],
      "text/plain": [
       "<IPython.core.display.Markdown object>"
      ]
     },
     "metadata": {},
     "output_type": "display_data"
    },
    {
     "data": {
      "text/markdown": [
       "Let's use the previous result as an approximation (step $53$)"
      ],
      "text/plain": [
       "<IPython.core.display.Markdown object>"
      ]
     },
     "metadata": {},
     "output_type": "display_data"
    },
    {
     "data": {
      "text/markdown": [
       "Couldn't find a good approximation yet for p(x) = $- 1.0 x^{10} + 2.5 x^{9} - 1.0 x^{8} - 2.2 x^{7} + 6.1 x^{6} + 1.0 x^{5} - 20.5 x^{4} - 4.0 x^{3} + 3.0 x^{2} + 3.7 x + 10.1$"
      ],
      "text/plain": [
       "<IPython.core.display.Markdown object>"
      ]
     },
     "metadata": {},
     "output_type": "display_data"
    },
    {
     "data": {
      "text/markdown": [
       "p($-64.913605549223$) = $-1379954830876864768.0$"
      ],
      "text/plain": [
       "<IPython.core.display.Markdown object>"
      ]
     },
     "metadata": {},
     "output_type": "display_data"
    },
    {
     "data": {
      "text/markdown": [
       "Let's use the previous result as an approximation (step $54$)"
      ],
      "text/plain": [
       "<IPython.core.display.Markdown object>"
      ]
     },
     "metadata": {},
     "output_type": "display_data"
    },
    {
     "data": {
      "text/markdown": [
       "Couldn't find a good approximation yet for p(x) = $- 1.0 x^{10} + 2.5 x^{9} - 1.0 x^{8} - 2.2 x^{7} + 6.1 x^{6} + 1.0 x^{5} - 20.5 x^{4} - 4.0 x^{3} + 3.0 x^{2} + 3.7 x + 10.1$"
      ],
      "text/plain": [
       "<IPython.core.display.Markdown object>"
      ]
     },
     "metadata": {},
     "output_type": "display_data"
    },
    {
     "data": {
      "text/markdown": [
       "p($-47.535881291241$) = $-62036761582882360.0$"
      ],
      "text/plain": [
       "<IPython.core.display.Markdown object>"
      ]
     },
     "metadata": {},
     "output_type": "display_data"
    },
    {
     "data": {
      "text/markdown": [
       "Let's use the previous result as an approximation (step $55$)"
      ],
      "text/plain": [
       "<IPython.core.display.Markdown object>"
      ]
     },
     "metadata": {},
     "output_type": "display_data"
    },
    {
     "data": {
      "text/markdown": [
       "Couldn't find a good approximation yet for p(x) = $- 1.0 x^{10} + 2.5 x^{9} - 1.0 x^{8} - 2.2 x^{7} + 6.1 x^{6} + 1.0 x^{5} - 20.5 x^{4} - 4.0 x^{3} + 3.0 x^{2} + 3.7 x + 10.1$"
      ],
      "text/plain": [
       "<IPython.core.display.Markdown object>"
      ]
     },
     "metadata": {},
     "output_type": "display_data"
    },
    {
     "data": {
      "text/markdown": [
       "p($-34.7935050612725$) = $-2788872010910995.0$"
      ],
      "text/plain": [
       "<IPython.core.display.Markdown object>"
      ]
     },
     "metadata": {},
     "output_type": "display_data"
    },
    {
     "data": {
      "text/markdown": [
       "Let's use the previous result as an approximation (step $56$)"
      ],
      "text/plain": [
       "<IPython.core.display.Markdown object>"
      ]
     },
     "metadata": {},
     "output_type": "display_data"
    },
    {
     "data": {
      "text/markdown": [
       "Couldn't find a good approximation yet for p(x) = $- 1.0 x^{10} + 2.5 x^{9} - 1.0 x^{8} - 2.2 x^{7} + 6.1 x^{6} + 1.0 x^{5} - 20.5 x^{4} - 4.0 x^{3} + 3.0 x^{2} + 3.7 x + 10.1$"
      ],
      "text/plain": [
       "<IPython.core.display.Markdown object>"
      ]
     },
     "metadata": {},
     "output_type": "display_data"
    },
    {
     "data": {
      "text/markdown": [
       "p($-25.4504456861328$) = $-125371545008469.40625$"
      ],
      "text/plain": [
       "<IPython.core.display.Markdown object>"
      ]
     },
     "metadata": {},
     "output_type": "display_data"
    },
    {
     "data": {
      "text/markdown": [
       "Let's use the previous result as an approximation (step $57$)"
      ],
      "text/plain": [
       "<IPython.core.display.Markdown object>"
      ]
     },
     "metadata": {},
     "output_type": "display_data"
    },
    {
     "data": {
      "text/markdown": [
       "Couldn't find a good approximation yet for p(x) = $- 1.0 x^{10} + 2.5 x^{9} - 1.0 x^{8} - 2.2 x^{7} + 6.1 x^{6} + 1.0 x^{5} - 20.5 x^{4} - 4.0 x^{3} + 3.0 x^{2} + 3.7 x + 10.1$"
      ],
      "text/plain": [
       "<IPython.core.display.Markdown object>"
      ]
     },
     "metadata": {},
     "output_type": "display_data"
    },
    {
     "data": {
      "text/markdown": [
       "p($-18.6004229068082$) = $-5635753562623.2197265625$"
      ],
      "text/plain": [
       "<IPython.core.display.Markdown object>"
      ]
     },
     "metadata": {},
     "output_type": "display_data"
    },
    {
     "data": {
      "text/markdown": [
       "Let's use the previous result as an approximation (step $58$)"
      ],
      "text/plain": [
       "<IPython.core.display.Markdown object>"
      ]
     },
     "metadata": {},
     "output_type": "display_data"
    },
    {
     "data": {
      "text/markdown": [
       "Couldn't find a good approximation yet for p(x) = $- 1.0 x^{10} + 2.5 x^{9} - 1.0 x^{8} - 2.2 x^{7} + 6.1 x^{6} + 1.0 x^{5} - 20.5 x^{4} - 4.0 x^{3} + 3.0 x^{2} + 3.7 x + 10.1$"
      ],
      "text/plain": [
       "<IPython.core.display.Markdown object>"
      ]
     },
     "metadata": {},
     "output_type": "display_data"
    },
    {
     "data": {
      "text/markdown": [
       "p($-13.5790065330034$) = $-253321030442.42828369140625$"
      ],
      "text/plain": [
       "<IPython.core.display.Markdown object>"
      ]
     },
     "metadata": {},
     "output_type": "display_data"
    },
    {
     "data": {
      "text/markdown": [
       "Let's use the previous result as an approximation (step $59$)"
      ],
      "text/plain": [
       "<IPython.core.display.Markdown object>"
      ]
     },
     "metadata": {},
     "output_type": "display_data"
    },
    {
     "data": {
      "text/markdown": [
       "Couldn't find a good approximation yet for p(x) = $- 1.0 x^{10} + 2.5 x^{9} - 1.0 x^{8} - 2.2 x^{7} + 6.1 x^{6} + 1.0 x^{5} - 20.5 x^{4} - 4.0 x^{3} + 3.0 x^{2} + 3.7 x + 10.1$"
      ],
      "text/plain": [
       "<IPython.core.display.Markdown object>"
      ]
     },
     "metadata": {},
     "output_type": "display_data"
    },
    {
     "data": {
      "text/markdown": [
       "p($-9.89918590156308$) = $-11384757755.19612884521484375$"
      ],
      "text/plain": [
       "<IPython.core.display.Markdown object>"
      ]
     },
     "metadata": {},
     "output_type": "display_data"
    },
    {
     "data": {
      "text/markdown": [
       "Let's use the previous result as an approximation (step $60$)"
      ],
      "text/plain": [
       "<IPython.core.display.Markdown object>"
      ]
     },
     "metadata": {},
     "output_type": "display_data"
    },
    {
     "data": {
      "text/markdown": [
       "Couldn't find a good approximation yet for p(x) = $- 1.0 x^{10} + 2.5 x^{9} - 1.0 x^{8} - 2.2 x^{7} + 6.1 x^{6} + 1.0 x^{5} - 20.5 x^{4} - 4.0 x^{3} + 3.0 x^{2} + 3.7 x + 10.1$"
      ],
      "text/plain": [
       "<IPython.core.display.Markdown object>"
      ]
     },
     "metadata": {},
     "output_type": "display_data"
    },
    {
     "data": {
      "text/markdown": [
       "p($-7.20416462330771$) = $-511496929.09692287445068359375$"
      ],
      "text/plain": [
       "<IPython.core.display.Markdown object>"
      ]
     },
     "metadata": {},
     "output_type": "display_data"
    },
    {
     "data": {
      "text/markdown": [
       "Let's use the previous result as an approximation (step $61$)"
      ],
      "text/plain": [
       "<IPython.core.display.Markdown object>"
      ]
     },
     "metadata": {},
     "output_type": "display_data"
    },
    {
     "data": {
      "text/markdown": [
       "Couldn't find a good approximation yet for p(x) = $- 1.0 x^{10} + 2.5 x^{9} - 1.0 x^{8} - 2.2 x^{7} + 6.1 x^{6} + 1.0 x^{5} - 20.5 x^{4} - 4.0 x^{3} + 3.0 x^{2} + 3.7 x + 10.1$"
      ],
      "text/plain": [
       "<IPython.core.display.Markdown object>"
      ]
     },
     "metadata": {},
     "output_type": "display_data"
    },
    {
     "data": {
      "text/markdown": [
       "p($-5.23278885858845$) = $-22966801.9268977977335453033447$"
      ],
      "text/plain": [
       "<IPython.core.display.Markdown object>"
      ]
     },
     "metadata": {},
     "output_type": "display_data"
    },
    {
     "data": {
      "text/markdown": [
       "Let's use the previous result as an approximation (step $62$)"
      ],
      "text/plain": [
       "<IPython.core.display.Markdown object>"
      ]
     },
     "metadata": {},
     "output_type": "display_data"
    },
    {
     "data": {
      "text/markdown": [
       "Couldn't find a good approximation yet for p(x) = $- 1.0 x^{10} + 2.5 x^{9} - 1.0 x^{8} - 2.2 x^{7} + 6.1 x^{6} + 1.0 x^{5} - 20.5 x^{4} - 4.0 x^{3} + 3.0 x^{2} + 3.7 x + 10.1$"
      ],
      "text/plain": [
       "<IPython.core.display.Markdown object>"
      ]
     },
     "metadata": {},
     "output_type": "display_data"
    },
    {
     "data": {
      "text/markdown": [
       "p($-3.79413672533524$) = $-1030163.58571123925503343343735$"
      ],
      "text/plain": [
       "<IPython.core.display.Markdown object>"
      ]
     },
     "metadata": {},
     "output_type": "display_data"
    },
    {
     "data": {
      "text/markdown": [
       "Let's use the previous result as an approximation (step $63$)"
      ],
      "text/plain": [
       "<IPython.core.display.Markdown object>"
      ]
     },
     "metadata": {},
     "output_type": "display_data"
    },
    {
     "data": {
      "text/markdown": [
       "Couldn't find a good approximation yet for p(x) = $- 1.0 x^{10} + 2.5 x^{9} - 1.0 x^{8} - 2.2 x^{7} + 6.1 x^{6} + 1.0 x^{5} - 20.5 x^{4} - 4.0 x^{3} + 3.0 x^{2} + 3.7 x + 10.1$"
      ],
      "text/plain": [
       "<IPython.core.display.Markdown object>"
      ]
     },
     "metadata": {},
     "output_type": "display_data"
    },
    {
     "data": {
      "text/markdown": [
       "p($-2.74820796277269$) = $-46172.3173606131240376271307468$"
      ],
      "text/plain": [
       "<IPython.core.display.Markdown object>"
      ]
     },
     "metadata": {},
     "output_type": "display_data"
    },
    {
     "data": {
      "text/markdown": [
       "Let's use the previous result as an approximation (step $64$)"
      ],
      "text/plain": [
       "<IPython.core.display.Markdown object>"
      ]
     },
     "metadata": {},
     "output_type": "display_data"
    },
    {
     "data": {
      "text/markdown": [
       "Couldn't find a good approximation yet for p(x) = $- 1.0 x^{10} + 2.5 x^{9} - 1.0 x^{8} - 2.2 x^{7} + 6.1 x^{6} + 1.0 x^{5} - 20.5 x^{4} - 4.0 x^{3} + 3.0 x^{2} + 3.7 x + 10.1$"
      ],
      "text/plain": [
       "<IPython.core.display.Markdown object>"
      ]
     },
     "metadata": {},
     "output_type": "display_data"
    },
    {
     "data": {
      "text/markdown": [
       "p($-1.98837426090264$) = $-2083.06730801322328261449001729$"
      ],
      "text/plain": [
       "<IPython.core.display.Markdown object>"
      ]
     },
     "metadata": {},
     "output_type": "display_data"
    },
    {
     "data": {
      "text/markdown": [
       "Let's use the previous result as an approximation (step $65$)"
      ],
      "text/plain": [
       "<IPython.core.display.Markdown object>"
      ]
     },
     "metadata": {},
     "output_type": "display_data"
    },
    {
     "data": {
      "text/markdown": [
       "Couldn't find a good approximation yet for p(x) = $- 1.0 x^{10} + 2.5 x^{9} - 1.0 x^{8} - 2.2 x^{7} + 6.1 x^{6} + 1.0 x^{5} - 20.5 x^{4} - 4.0 x^{3} + 3.0 x^{2} + 3.7 x + 10.1$"
      ],
      "text/plain": [
       "<IPython.core.display.Markdown object>"
      ]
     },
     "metadata": {},
     "output_type": "display_data"
    },
    {
     "data": {
      "text/markdown": [
       "p($-1.41603807246261$) = $-97.3988299735166407344877370633$"
      ],
      "text/plain": [
       "<IPython.core.display.Markdown object>"
      ]
     },
     "metadata": {},
     "output_type": "display_data"
    },
    {
     "data": {
      "text/markdown": [
       "Let's use the previous result as an approximation (step $66$)"
      ],
      "text/plain": [
       "<IPython.core.display.Markdown object>"
      ]
     },
     "metadata": {},
     "output_type": "display_data"
    },
    {
     "data": {
      "text/markdown": [
       "Couldn't find a good approximation yet for p(x) = $- 1.0 x^{10} + 2.5 x^{9} - 1.0 x^{8} - 2.2 x^{7} + 6.1 x^{6} + 1.0 x^{5} - 20.5 x^{4} - 4.0 x^{3} + 3.0 x^{2} + 3.7 x + 10.1$"
      ],
      "text/plain": [
       "<IPython.core.display.Markdown object>"
      ]
     },
     "metadata": {},
     "output_type": "display_data"
    },
    {
     "data": {
      "text/markdown": [
       "p($-0.96395536683551$) = $-2.2680988112029734082852883148$"
      ],
      "text/plain": [
       "<IPython.core.display.Markdown object>"
      ]
     },
     "metadata": {},
     "output_type": "display_data"
    },
    {
     "data": {
      "text/markdown": [
       "Let's use the previous result as an approximation (step $67$)"
      ],
      "text/plain": [
       "<IPython.core.display.Markdown object>"
      ]
     },
     "metadata": {},
     "output_type": "display_data"
    },
    {
     "data": {
      "text/markdown": [
       "Found a good approximation for p(x) = $- 1.0 x^{10} + 2.5 x^{9} - 1.0 x^{8} - 2.2 x^{7} + 6.1 x^{6} + 1.0 x^{5} - 20.5 x^{4} - 4.0 x^{3} + 3.0 x^{2} + 3.7 x + 10.1$"
      ],
      "text/plain": [
       "<IPython.core.display.Markdown object>"
      ]
     },
     "metadata": {},
     "output_type": "display_data"
    },
    {
     "data": {
      "image/png": "[encoded data removed]",
      "text/latex": [
       "$\\displaystyle -0.915339171776564$"
      ],
      "text/plain": [
       "-0.915339171776564"
      ]
     },
     "metadata": {},
     "output_type": "display_data"
    },
    {
     "data": {
      "text/markdown": [
       "p($-0.915339171776564$) = $-0.00000000168312297432748891878873109818$"
      ],
      "text/plain": [
       "<IPython.core.display.Markdown object>"
      ]
     },
     "metadata": {},
     "output_type": "display_data"
    },
    {
     "name": "stdout",
     "output_type": "stream",
     "text": [
      "\n",
      "\n",
      "\n",
      "\n",
      "\n",
      "Insert an expression with explicit math symbols (example: \"x^5-10*x^3+.02*x^4+x**7\"):\n",
      "10000+3.7*x+3*x**2-4*x^3-20.5*x**4+x**5\n",
      "Insert the depth for the algorithm:\n",
      "5\n"
     ]
    },
    {
     "data": {
      "text/markdown": [
       "Couldn't find a good approximation yet for p(x) = $1.0 x^{5} - 20.5 x^{4} - 4.0 x^{3} + 3.0 x^{2} + 3.7 x + 10000.0$"
      ],
      "text/plain": [
       "<IPython.core.display.Markdown object>"
      ]
     },
     "metadata": {},
     "output_type": "display_data"
    },
    {
     "data": {
      "text/markdown": [
       "p($2.17460294589256 \\cdot 10^{22}$) = $4.86295062572420479449319368162 \\cdot 10^{111}$"
      ],
      "text/plain": [
       "<IPython.core.display.Markdown object>"
      ]
     },
     "metadata": {},
     "output_type": "display_data"
    },
    {
     "data": {
      "text/markdown": [
       "Let's use the previous result as an approximation (step $1$)"
      ],
      "text/plain": [
       "<IPython.core.display.Markdown object>"
      ]
     },
     "metadata": {},
     "output_type": "display_data"
    },
    {
     "data": {
      "text/markdown": [
       "Couldn't find a good approximation yet for p(x) = $1.0 x^{5} - 20.5 x^{4} - 4.0 x^{3} + 3.0 x^{2} + 3.7 x + 10000.0$"
      ],
      "text/plain": [
       "<IPython.core.display.Markdown object>"
      ]
     },
     "metadata": {},
     "output_type": "display_data"
    },
    {
     "data": {
      "text/markdown": [
       "p($1.28831133117045 \\cdot 10^{22}$) = $3.54898474798780950062683774627 \\cdot 10^{110}$"
      ],
      "text/plain": [
       "<IPython.core.display.Markdown object>"
      ]
     },
     "metadata": {},
     "output_type": "display_data"
    },
    {
     "data": {
      "text/markdown": [
       "Let's use the previous result as an approximation (step $2$)"
      ],
      "text/plain": [
       "<IPython.core.display.Markdown object>"
      ]
     },
     "metadata": {},
     "output_type": "display_data"
    },
    {
     "data": {
      "text/markdown": [
       "Couldn't find a good approximation yet for p(x) = $1.0 x^{5} - 20.5 x^{4} - 4.0 x^{3} + 3.0 x^{2} + 3.7 x + 10000.0$"
      ],
      "text/plain": [
       "<IPython.core.display.Markdown object>"
      ]
     },
     "metadata": {},
     "output_type": "display_data"
    },
    {
     "data": {
      "text/markdown": [
       "p($7.6324098114423 \\cdot 10^{21}$) = $2.59005153678161796001038286848 \\cdot 10^{109}$"
      ],
      "text/plain": [
       "<IPython.core.display.Markdown object>"
      ]
     },
     "metadata": {},
     "output_type": "display_data"
    },
    {
     "data": {
      "text/markdown": [
       "Let's use the previous result as an approximation (step $3$)"
      ],
      "text/plain": [
       "<IPython.core.display.Markdown object>"
      ]
     },
     "metadata": {},
     "output_type": "display_data"
    },
    {
     "data": {
      "text/markdown": [
       "Couldn't find a good approximation yet for p(x) = $1.0 x^{5} - 20.5 x^{4} - 4.0 x^{3} + 3.0 x^{2} + 3.7 x + 10000.0$"
      ],
      "text/plain": [
       "<IPython.core.display.Markdown object>"
      ]
     },
     "metadata": {},
     "output_type": "display_data"
    },
    {
     "data": {
      "text/markdown": [
       "p($4.52170823312378 \\cdot 10^{21}$) = $1.89022141247248249209627675733 \\cdot 10^{108}$"
      ],
      "text/plain": [
       "<IPython.core.display.Markdown object>"
      ]
     },
     "metadata": {},
     "output_type": "display_data"
    },
    {
     "data": {
      "text/markdown": [
       "Let's use the previous result as an approximation (step $4$)"
      ],
      "text/plain": [
       "<IPython.core.display.Markdown object>"
      ]
     },
     "metadata": {},
     "output_type": "display_data"
    },
    {
     "data": {
      "text/markdown": [
       "Couldn't find a good approximation yet for p(x) = $1.0 x^{5} - 20.5 x^{4} - 4.0 x^{3} + 3.0 x^{2} + 3.7 x + 10000.0$"
      ],
      "text/plain": [
       "<IPython.core.display.Markdown object>"
      ]
     },
     "metadata": {},
     "output_type": "display_data"
    },
    {
     "data": {
      "text/markdown": [
       "p($2.67881912143233 \\cdot 10^{21}$) = $1.37948490114184670862349862584 \\cdot 10^{107}$"
      ],
      "text/plain": [
       "<IPython.core.display.Markdown object>"
      ]
     },
     "metadata": {},
     "output_type": "display_data"
    },
    {
     "data": {
      "text/markdown": [
       "Let's use the previous result as an approximation (step $5$)"
      ],
      "text/plain": [
       "<IPython.core.display.Markdown object>"
      ]
     },
     "metadata": {},
     "output_type": "display_data"
    },
    {
     "data": {
      "text/markdown": [
       "Couldn't find a good approximation yet for p(x) = $1.0 x^{5} - 20.5 x^{4} - 4.0 x^{3} + 3.0 x^{2} + 3.7 x + 10000.0$"
      ],
      "text/plain": [
       "<IPython.core.display.Markdown object>"
      ]
     },
     "metadata": {},
     "output_type": "display_data"
    },
    {
     "data": {
      "text/markdown": [
       "p($1.58702674196959 \\cdot 10^{21}$) = $1.00674904004455068538302084136 \\cdot 10^{106}$"
      ],
      "text/plain": [
       "<IPython.core.display.Markdown object>"
      ]
     },
     "metadata": {},
     "output_type": "display_data"
    },
    {
     "data": {
      "text/markdown": [
       "Let's use the previous result as an approximation (step $6$)"
      ],
      "text/plain": [
       "<IPython.core.display.Markdown object>"
      ]
     },
     "metadata": {},
     "output_type": "display_data"
    },
    {
     "data": {
      "text/markdown": [
       "Couldn't find a good approximation yet for p(x) = $1.0 x^{5} - 20.5 x^{4} - 4.0 x^{3} + 3.0 x^{2} + 3.7 x + 10000.0$"
      ],
      "text/plain": [
       "<IPython.core.display.Markdown object>"
      ]
     },
     "metadata": {},
     "output_type": "display_data"
    },
    {
     "data": {
      "text/markdown": [
       "p($9.40210505284102 \\cdot 10^{20}$) = $7.34726149442942138209426780042 \\cdot 10^{104}$"
      ],
      "text/plain": [
       "<IPython.core.display.Markdown object>"
      ]
     },
     "metadata": {},
     "output_type": "display_data"
    },
    {
     "data": {
      "text/markdown": [
       "Let's use the previous result as an approximation (step $7$)"
      ],
      "text/plain": [
       "<IPython.core.display.Markdown object>"
      ]
     },
     "metadata": {},
     "output_type": "display_data"
    },
    {
     "data": {
      "text/markdown": [
       "Couldn't find a good approximation yet for p(x) = $1.0 x^{5} - 20.5 x^{4} - 4.0 x^{3} + 3.0 x^{2} + 3.7 x + 10000.0$"
      ],
      "text/plain": [
       "<IPython.core.display.Markdown object>"
      ]
     },
     "metadata": {},
     "output_type": "display_data"
    },
    {
     "data": {
      "text/markdown": [
       "p($5.57013798740088 \\cdot 10^{20}$) = $5.3620365473739495004047147614 \\cdot 10^{103}$"
      ],
      "text/plain": [
       "<IPython.core.display.Markdown object>"
      ]
     },
     "metadata": {},
     "output_type": "display_data"
    },
    {
     "data": {
      "text/markdown": [
       "Let's use the previous result as an approximation (step $8$)"
      ],
      "text/plain": [
       "<IPython.core.display.Markdown object>"
      ]
     },
     "metadata": {},
     "output_type": "display_data"
    },
    {
     "data": {
      "text/markdown": [
       "Couldn't find a good approximation yet for p(x) = $1.0 x^{5} - 20.5 x^{4} - 4.0 x^{3} + 3.0 x^{2} + 3.7 x + 10000.0$"
      ],
      "text/plain": [
       "<IPython.core.display.Markdown object>"
      ]
     },
     "metadata": {},
     "output_type": "display_data"
    },
    {
     "data": {
      "text/markdown": [
       "p($3.29994581259344 \\cdot 10^{20}$) = $3.91321800063504010906188789769 \\cdot 10^{102}$"
      ],
      "text/plain": [
       "<IPython.core.display.Markdown object>"
      ]
     },
     "metadata": {},
     "output_type": "display_data"
    },
    {
     "data": {
      "text/markdown": [
       "Let's use the previous result as an approximation (step $9$)"
      ],
      "text/plain": [
       "<IPython.core.display.Markdown object>"
      ]
     },
     "metadata": {},
     "output_type": "display_data"
    },
    {
     "data": {
      "text/markdown": [
       "Couldn't find a good approximation yet for p(x) = $1.0 x^{5} - 20.5 x^{4} - 4.0 x^{3} + 3.0 x^{2} + 3.7 x + 10000.0$"
      ],
      "text/plain": [
       "<IPython.core.display.Markdown object>"
      ]
     },
     "metadata": {},
     "output_type": "display_data"
    },
    {
     "data": {
      "text/markdown": [
       "p($1.95500405747296 \\cdot 10^{20}$) = $2.85586921782428653458924199403 \\cdot 10^{101}$"
      ],
      "text/plain": [
       "<IPython.core.display.Markdown object>"
      ]
     },
     "metadata": {},
     "output_type": "display_data"
    },
    {
     "data": {
      "text/markdown": [
       "Let's use the previous result as an approximation (step $10$)"
      ],
      "text/plain": [
       "<IPython.core.display.Markdown object>"
      ]
     },
     "metadata": {},
     "output_type": "display_data"
    },
    {
     "data": {
      "text/markdown": [
       "Couldn't find a good approximation yet for p(x) = $1.0 x^{5} - 20.5 x^{4} - 4.0 x^{3} + 3.0 x^{2} + 3.7 x + 10000.0$"
      ],
      "text/plain": [
       "<IPython.core.display.Markdown object>"
      ]
     },
     "metadata": {},
     "output_type": "display_data"
    },
    {
     "data": {
      "text/markdown": [
       "p($1.1582132197898 \\cdot 10^{20}$) = $2.08421534092727193553253155216 \\cdot 10^{100}$"
      ],
      "text/plain": [
       "<IPython.core.display.Markdown object>"
      ]
     },
     "metadata": {},
     "output_type": "display_data"
    },
    {
     "data": {
      "text/markdown": [
       "Let's use the previous result as an approximation (step $11$)"
      ],
      "text/plain": [
       "<IPython.core.display.Markdown object>"
      ]
     },
     "metadata": {},
     "output_type": "display_data"
    },
    {
     "data": {
      "text/markdown": [
       "Couldn't find a good approximation yet for p(x) = $1.0 x^{5} - 20.5 x^{4} - 4.0 x^{3} + 3.0 x^{2} + 3.7 x + 10000.0$"
      ],
      "text/plain": [
       "<IPython.core.display.Markdown object>"
      ]
     },
     "metadata": {},
     "output_type": "display_data"
    },
    {
     "data": {
      "text/markdown": [
       "p($6.86166280508815 \\cdot 10^{19}$) = $1.5210618050171044116463138431 \\cdot 10^{99}$"
      ],
      "text/plain": [
       "<IPython.core.display.Markdown object>"
      ]
     },
     "metadata": {},
     "output_type": "display_data"
    },
    {
     "data": {
      "text/markdown": [
       "Let's use the previous result as an approximation (step $12$)"
      ],
      "text/plain": [
       "<IPython.core.display.Markdown object>"
      ]
     },
     "metadata": {},
     "output_type": "display_data"
    },
    {
     "data": {
      "text/markdown": [
       "Couldn't find a good approximation yet for p(x) = $1.0 x^{5} - 20.5 x^{4} - 4.0 x^{3} + 3.0 x^{2} + 3.7 x + 10000.0$"
      ],
      "text/plain": [
       "<IPython.core.display.Markdown object>"
      ]
     },
     "metadata": {},
     "output_type": "display_data"
    },
    {
     "data": {
      "text/markdown": [
       "p($4.06509057626496 \\cdot 10^{19}$) = $1.11007196293476784624298403131 \\cdot 10^{98}$"
      ],
      "text/plain": [
       "<IPython.core.display.Markdown object>"
      ]
     },
     "metadata": {},
     "output_type": "display_data"
    },
    {
     "data": {
      "text/markdown": [
       "Let's use the previous result as an approximation (step $13$)"
      ],
      "text/plain": [
       "<IPython.core.display.Markdown object>"
      ]
     },
     "metadata": {},
     "output_type": "display_data"
    },
    {
     "data": {
      "text/markdown": [
       "Couldn't find a good approximation yet for p(x) = $1.0 x^{5} - 20.5 x^{4} - 4.0 x^{3} + 3.0 x^{2} + 3.7 x + 10000.0$"
      ],
      "text/plain": [
       "<IPython.core.display.Markdown object>"
      ]
     },
     "metadata": {},
     "output_type": "display_data"
    },
    {
     "data": {
      "text/markdown": [
       "p($2.40830274856765 \\cdot 10^{19}$) = $8.10131290411300895338227086979 \\cdot 10^{96}$"
      ],
      "text/plain": [
       "<IPython.core.display.Markdown object>"
      ]
     },
     "metadata": {},
     "output_type": "display_data"
    },
    {
     "data": {
      "text/markdown": [
       "Let's use the previous result as an approximation (step $14$)"
      ],
      "text/plain": [
       "<IPython.core.display.Markdown object>"
      ]
     },
     "metadata": {},
     "output_type": "display_data"
    },
    {
     "data": {
      "text/markdown": [
       "Couldn't find a good approximation yet for p(x) = $1.0 x^{5} - 20.5 x^{4} - 4.0 x^{3} + 3.0 x^{2} + 3.7 x + 10000.0$"
      ],
      "text/plain": [
       "<IPython.core.display.Markdown object>"
      ]
     },
     "metadata": {},
     "output_type": "display_data"
    },
    {
     "data": {
      "text/markdown": [
       "p($1.42676332050822 \\cdot 10^{19}$) = $5.91234379047230482702795274018 \\cdot 10^{95}$"
      ],
      "text/plain": [
       "<IPython.core.display.Markdown object>"
      ]
     },
     "metadata": {},
     "output_type": "display_data"
    },
    {
     "data": {
      "text/markdown": [
       "Let's use the previous result as an approximation (step $15$)"
      ],
      "text/plain": [
       "<IPython.core.display.Markdown object>"
      ]
     },
     "metadata": {},
     "output_type": "display_data"
    },
    {
     "data": {
      "text/markdown": [
       "Couldn't find a good approximation yet for p(x) = $1.0 x^{5} - 20.5 x^{4} - 4.0 x^{3} + 3.0 x^{2} + 3.7 x + 10000.0$"
      ],
      "text/plain": [
       "<IPython.core.display.Markdown object>"
      ]
     },
     "metadata": {},
     "output_type": "display_data"
    },
    {
     "data": {
      "text/markdown": [
       "p($8.45264813137954 \\cdot 10^{18}$) = $4.31483260929095982085202599054 \\cdot 10^{94}$"
      ],
      "text/plain": [
       "<IPython.core.display.Markdown object>"
      ]
     },
     "metadata": {},
     "output_type": "display_data"
    },
    {
     "data": {
      "text/markdown": [
       "Let's use the previous result as an approximation (step $16$)"
      ],
      "text/plain": [
       "<IPython.core.display.Markdown object>"
      ]
     },
     "metadata": {},
     "output_type": "display_data"
    },
    {
     "data": {
      "text/markdown": [
       "Couldn't find a good approximation yet for p(x) = $1.0 x^{5} - 20.5 x^{4} - 4.0 x^{3} + 3.0 x^{2} + 3.7 x + 10000.0$"
      ],
      "text/plain": [
       "<IPython.core.display.Markdown object>"
      ]
     },
     "metadata": {},
     "output_type": "display_data"
    },
    {
     "data": {
      "text/markdown": [
       "p($5.00764628624347 \\cdot 10^{18}$) = $3.14896783847431992509803703018 \\cdot 10^{93}$"
      ],
      "text/plain": [
       "<IPython.core.display.Markdown object>"
      ]
     },
     "metadata": {},
     "output_type": "display_data"
    },
    {
     "data": {
      "text/markdown": [
       "Let's use the previous result as an approximation (step $17$)"
      ],
      "text/plain": [
       "<IPython.core.display.Markdown object>"
      ]
     },
     "metadata": {},
     "output_type": "display_data"
    },
    {
     "data": {
      "text/markdown": [
       "Couldn't find a good approximation yet for p(x) = $1.0 x^{5} - 20.5 x^{4} - 4.0 x^{3} + 3.0 x^{2} + 3.7 x + 10000.0$"
      ],
      "text/plain": [
       "<IPython.core.display.Markdown object>"
      ]
     },
     "metadata": {},
     "output_type": "display_data"
    },
    {
     "data": {
      "text/markdown": [
       "p($2.9667059291199 \\cdot 10^{18}$) = $2.29811891807665396124137623093 \\cdot 10^{92}$"
      ],
      "text/plain": [
       "<IPython.core.display.Markdown object>"
      ]
     },
     "metadata": {},
     "output_type": "display_data"
    },
    {
     "data": {
      "text/markdown": [
       "Let's use the previous result as an approximation (step $18$)"
      ],
      "text/plain": [
       "<IPython.core.display.Markdown object>"
      ]
     },
     "metadata": {},
     "output_type": "display_data"
    },
    {
     "data": {
      "text/markdown": [
       "Couldn't find a good approximation yet for p(x) = $1.0 x^{5} - 20.5 x^{4} - 4.0 x^{3} + 3.0 x^{2} + 3.7 x + 10000.0$"
      ],
      "text/plain": [
       "<IPython.core.display.Markdown object>"
      ]
     },
     "metadata": {},
     "output_type": "display_data"
    },
    {
     "data": {
      "text/markdown": [
       "p($1.75758102045934 \\cdot 10^{18}$) = $1.67716878435336715385032953281 \\cdot 10^{91}$"
      ],
      "text/plain": [
       "<IPython.core.display.Markdown object>"
      ]
     },
     "metadata": {},
     "output_type": "display_data"
    },
    {
     "data": {
      "text/markdown": [
       "Let's use the previous result as an approximation (step $19$)"
      ],
      "text/plain": [
       "<IPython.core.display.Markdown object>"
      ]
     },
     "metadata": {},
     "output_type": "display_data"
    },
    {
     "data": {
      "text/markdown": [
       "Couldn't find a good approximation yet for p(x) = $1.0 x^{5} - 20.5 x^{4} - 4.0 x^{3} + 3.0 x^{2} + 3.7 x + 10000.0$"
      ],
      "text/plain": [
       "<IPython.core.display.Markdown object>"
      ]
     },
     "metadata": {},
     "output_type": "display_data"
    },
    {
     "data": {
      "text/markdown": [
       "p($1.04125286337203 \\cdot 10^{18}$) = $1.22399894499955772994882530666 \\cdot 10^{90}$"
      ],
      "text/plain": [
       "<IPython.core.display.Markdown object>"
      ]
     },
     "metadata": {},
     "output_type": "display_data"
    },
    {
     "data": {
      "text/markdown": [
       "Let's use the previous result as an approximation (step $20$)"
      ],
      "text/plain": [
       "<IPython.core.display.Markdown object>"
      ]
     },
     "metadata": {},
     "output_type": "display_data"
    },
    {
     "data": {
      "text/markdown": [
       "Couldn't find a good approximation yet for p(x) = $1.0 x^{5} - 20.5 x^{4} - 4.0 x^{3} + 3.0 x^{2} + 3.7 x + 10000.0$"
      ],
      "text/plain": [
       "<IPython.core.display.Markdown object>"
      ]
     },
     "metadata": {},
     "output_type": "display_data"
    },
    {
     "data": {
      "text/markdown": [
       "p($6.16874848362382 \\cdot 10^{17}$) = $8.9327528113853664078494039595 \\cdot 10^{88}$"
      ],
      "text/plain": [
       "<IPython.core.display.Markdown object>"
      ]
     },
     "metadata": {},
     "output_type": "display_data"
    },
    {
     "data": {
      "text/markdown": [
       "Let's use the previous result as an approximation (step $21$)"
      ],
      "text/plain": [
       "<IPython.core.display.Markdown object>"
      ]
     },
     "metadata": {},
     "output_type": "display_data"
    },
    {
     "data": {
      "text/markdown": [
       "Couldn't find a good approximation yet for p(x) = $1.0 x^{5} - 20.5 x^{4} - 4.0 x^{3} + 3.0 x^{2} + 3.7 x + 10000.0$"
      ],
      "text/plain": [
       "<IPython.core.display.Markdown object>"
      ]
     },
     "metadata": {},
     "output_type": "display_data"
    },
    {
     "data": {
      "text/markdown": [
       "p($3.65458374164538 \\cdot 10^{17}$) = $6.51912921292117406617841661562 \\cdot 10^{87}$"
      ],
      "text/plain": [
       "<IPython.core.display.Markdown object>"
      ]
     },
     "metadata": {},
     "output_type": "display_data"
    },
    {
     "data": {
      "text/markdown": [
       "Let's use the previous result as an approximation (step $22$)"
      ],
      "text/plain": [
       "<IPython.core.display.Markdown object>"
      ]
     },
     "metadata": {},
     "output_type": "display_data"
    },
    {
     "data": {
      "text/markdown": [
       "Couldn't find a good approximation yet for p(x) = $1.0 x^{5} - 20.5 x^{4} - 4.0 x^{3} + 3.0 x^{2} + 3.7 x + 10000.0$"
      ],
      "text/plain": [
       "<IPython.core.display.Markdown object>"
      ]
     },
     "metadata": {},
     "output_type": "display_data"
    },
    {
     "data": {
      "text/markdown": [
       "p($2.16510404989843 \\cdot 10^{17}$) = $4.75766503250760731929288947356 \\cdot 10^{86}$"
      ],
      "text/plain": [
       "<IPython.core.display.Markdown object>"
      ]
     },
     "metadata": {},
     "output_type": "display_data"
    },
    {
     "data": {
      "text/markdown": [
       "Let's use the previous result as an approximation (step $23$)"
      ],
      "text/plain": [
       "<IPython.core.display.Markdown object>"
      ]
     },
     "metadata": {},
     "output_type": "display_data"
    },
    {
     "data": {
      "text/markdown": [
       "Couldn't find a good approximation yet for p(x) = $1.0 x^{5} - 20.5 x^{4} - 4.0 x^{3} + 3.0 x^{2} + 3.7 x + 10000.0$"
      ],
      "text/plain": [
       "<IPython.core.display.Markdown object>"
      ]
     },
     "metadata": {},
     "output_type": "display_data"
    },
    {
     "data": {
      "text/markdown": [
       "p($1.28268385082238 \\cdot 10^{17}$) = $3.47214724885055665259546658322 \\cdot 10^{85}$"
      ],
      "text/plain": [
       "<IPython.core.display.Markdown object>"
      ]
     },
     "metadata": {},
     "output_type": "display_data"
    },
    {
     "data": {
      "text/markdown": [
       "Let's use the previous result as an approximation (step $24$)"
      ],
      "text/plain": [
       "<IPython.core.display.Markdown object>"
      ]
     },
     "metadata": {},
     "output_type": "display_data"
    },
    {
     "data": {
      "text/markdown": [
       "Couldn't find a good approximation yet for p(x) = $1.0 x^{5} - 20.5 x^{4} - 4.0 x^{3} + 3.0 x^{2} + 3.7 x + 10000.0$"
      ],
      "text/plain": [
       "<IPython.core.display.Markdown object>"
      ]
     },
     "metadata": {},
     "output_type": "display_data"
    },
    {
     "data": {
      "text/markdown": [
       "p($7.59907063698729 \\cdot 10^{16}$) = $2.53397547648417003367284336484 \\cdot 10^{84}$"
      ],
      "text/plain": [
       "<IPython.core.display.Markdown object>"
      ]
     },
     "metadata": {},
     "output_type": "display_data"
    },
    {
     "data": {
      "text/markdown": [
       "Let's use the previous result as an approximation (step $25$)"
      ],
      "text/plain": [
       "<IPython.core.display.Markdown object>"
      ]
     },
     "metadata": {},
     "output_type": "display_data"
    },
    {
     "data": {
      "text/markdown": [
       "Couldn't find a good approximation yet for p(x) = $1.0 x^{5} - 20.5 x^{4} - 4.0 x^{3} + 3.0 x^{2} + 3.7 x + 10000.0$"
      ],
      "text/plain": [
       "<IPython.core.display.Markdown object>"
      ]
     },
     "metadata": {},
     "output_type": "display_data"
    },
    {
     "data": {
      "text/markdown": [
       "p($4.50195693263769 \\cdot 10^{16}$) = $1.84929706467628272674210876094 \\cdot 10^{83}$"
      ],
      "text/plain": [
       "<IPython.core.display.Markdown object>"
      ]
     },
     "metadata": {},
     "output_type": "display_data"
    },
    {
     "data": {
      "text/markdown": [
       "Let's use the previous result as an approximation (step $26$)"
      ],
      "text/plain": [
       "<IPython.core.display.Markdown object>"
      ]
     },
     "metadata": {},
     "output_type": "display_data"
    },
    {
     "data": {
      "text/markdown": [
       "Couldn't find a good approximation yet for p(x) = $1.0 x^{5} - 20.5 x^{4} - 4.0 x^{3} + 3.0 x^{2} + 3.7 x + 10000.0$"
      ],
      "text/plain": [
       "<IPython.core.display.Markdown object>"
      ]
     },
     "metadata": {},
     "output_type": "display_data"
    },
    {
     "data": {
      "text/markdown": [
       "p($2.6671177557786 \\cdot 10^{16}$) = $1.34961828366442922139404732239 \\cdot 10^{82}$"
      ],
      "text/plain": [
       "<IPython.core.display.Markdown object>"
      ]
     },
     "metadata": {},
     "output_type": "display_data"
    },
    {
     "data": {
      "text/markdown": [
       "Let's use the previous result as an approximation (step $27$)"
      ],
      "text/plain": [
       "<IPython.core.display.Markdown object>"
      ]
     },
     "metadata": {},
     "output_type": "display_data"
    },
    {
     "data": {
      "text/markdown": [
       "Couldn't find a good approximation yet for p(x) = $1.0 x^{5} - 20.5 x^{4} - 4.0 x^{3} + 3.0 x^{2} + 3.7 x + 10000.0$"
      ],
      "text/plain": [
       "<IPython.core.display.Markdown object>"
      ]
     },
     "metadata": {},
     "output_type": "display_data"
    },
    {
     "data": {
      "text/markdown": [
       "p($1.58009444106825 \\cdot 10^{16}$) = $9.84952361842508073133782972507 \\cdot 10^{80}$"
      ],
      "text/plain": [
       "<IPython.core.display.Markdown object>"
      ]
     },
     "metadata": {},
     "output_type": "display_data"
    },
    {
     "data": {
      "text/markdown": [
       "Let's use the previous result as an approximation (step $28$)"
      ],
      "text/plain": [
       "<IPython.core.display.Markdown object>"
      ]
     },
     "metadata": {},
     "output_type": "display_data"
    },
    {
     "data": {
      "text/markdown": [
       "Couldn't find a good approximation yet for p(x) = $1.0 x^{5} - 20.5 x^{4} - 4.0 x^{3} + 3.0 x^{2} + 3.7 x + 10000.0$"
      ],
      "text/plain": [
       "<IPython.core.display.Markdown object>"
      ]
     },
     "metadata": {},
     "output_type": "display_data"
    },
    {
     "data": {
      "text/markdown": [
       "p($9.36103566213154 \\cdot 10^{15}$) = $7.18818918535299206170510986278 \\cdot 10^{79}$"
      ],
      "text/plain": [
       "<IPython.core.display.Markdown object>"
      ]
     },
     "metadata": {},
     "output_type": "display_data"
    },
    {
     "data": {
      "text/markdown": [
       "Let's use the previous result as an approximation (step $29$)"
      ],
      "text/plain": [
       "<IPython.core.display.Markdown object>"
      ]
     },
     "metadata": {},
     "output_type": "display_data"
    },
    {
     "data": {
      "text/markdown": [
       "Couldn't find a good approximation yet for p(x) = $1.0 x^{5} - 20.5 x^{4} - 4.0 x^{3} + 3.0 x^{2} + 3.7 x + 10000.0$"
      ],
      "text/plain": [
       "<IPython.core.display.Markdown object>"
      ]
     },
     "metadata": {},
     "output_type": "display_data"
    },
    {
     "data": {
      "text/markdown": [
       "p($5.54580703470203 \\cdot 10^{15}$) = $5.24594546560290396763653217743 \\cdot 10^{78}$"
      ],
      "text/plain": [
       "<IPython.core.display.Markdown object>"
      ]
     },
     "metadata": {},
     "output_type": "display_data"
    },
    {
     "data": {
      "text/markdown": [
       "Let's use the previous result as an approximation (step $30$)"
      ],
      "text/plain": [
       "<IPython.core.display.Markdown object>"
      ]
     },
     "metadata": {},
     "output_type": "display_data"
    },
    {
     "data": {
      "text/markdown": [
       "Couldn't find a good approximation yet for p(x) = $1.0 x^{5} - 20.5 x^{4} - 4.0 x^{3} + 3.0 x^{2} + 3.7 x + 10000.0$"
      ],
      "text/plain": [
       "<IPython.core.display.Markdown object>"
      ]
     },
     "metadata": {},
     "output_type": "display_data"
    },
    {
     "data": {
      "text/markdown": [
       "p($3.28553129976511 \\cdot 10^{15}$) = $3.82849464843742429762521103622 \\cdot 10^{77}$"
      ],
      "text/plain": [
       "<IPython.core.display.Markdown object>"
      ]
     },
     "metadata": {},
     "output_type": "display_data"
    },
    {
     "data": {
      "text/markdown": [
       "Let's use the previous result as an approximation (step $31$)"
      ],
      "text/plain": [
       "<IPython.core.display.Markdown object>"
      ]
     },
     "metadata": {},
     "output_type": "display_data"
    },
    {
     "data": {
      "text/markdown": [
       "Couldn't find a good approximation yet for p(x) = $1.0 x^{5} - 20.5 x^{4} - 4.0 x^{3} + 3.0 x^{2} + 3.7 x + 10000.0$"
      ],
      "text/plain": [
       "<IPython.core.display.Markdown object>"
      ]
     },
     "metadata": {},
     "output_type": "display_data"
    },
    {
     "data": {
      "text/markdown": [
       "p($1.9464643926826 \\cdot 10^{15}$) = $2.79403805648014758974810770726 \\cdot 10^{76}$"
      ],
      "text/plain": [
       "<IPython.core.display.Markdown object>"
      ]
     },
     "metadata": {},
     "output_type": "display_data"
    },
    {
     "data": {
      "text/markdown": [
       "Let's use the previous result as an approximation (step $32$)"
      ],
      "text/plain": [
       "<IPython.core.display.Markdown object>"
      ]
     },
     "metadata": {},
     "output_type": "display_data"
    },
    {
     "data": {
      "text/markdown": [
       "Couldn't find a good approximation yet for p(x) = $1.0 x^{5} - 20.5 x^{4} - 4.0 x^{3} + 3.0 x^{2} + 3.7 x + 10000.0$"
      ],
      "text/plain": [
       "<IPython.core.display.Markdown object>"
      ]
     },
     "metadata": {},
     "output_type": "display_data"
    },
    {
     "data": {
      "text/markdown": [
       "p($1.1531540217718 \\cdot 10^{15}$) = $2.0390909163855309570119523745 \\cdot 10^{75}$"
      ],
      "text/plain": [
       "<IPython.core.display.Markdown object>"
      ]
     },
     "metadata": {},
     "output_type": "display_data"
    },
    {
     "data": {
      "text/markdown": [
       "Let's use the previous result as an approximation (step $33$)"
      ],
      "text/plain": [
       "<IPython.core.display.Markdown object>"
      ]
     },
     "metadata": {},
     "output_type": "display_data"
    },
    {
     "data": {
      "text/markdown": [
       "Couldn't find a good approximation yet for p(x) = $1.0 x^{5} - 20.5 x^{4} - 4.0 x^{3} + 3.0 x^{2} + 3.7 x + 10000.0$"
      ],
      "text/plain": [
       "<IPython.core.display.Markdown object>"
      ]
     },
     "metadata": {},
     "output_type": "display_data"
    },
    {
     "data": {
      "text/markdown": [
       "p($683169033519181.0$) = $1.48812996861037090354207445511 \\cdot 10^{74}$"
      ],
      "text/plain": [
       "<IPython.core.display.Markdown object>"
      ]
     },
     "metadata": {},
     "output_type": "display_data"
    },
    {
     "data": {
      "text/markdown": [
       "Let's use the previous result as an approximation (step $34$)"
      ],
      "text/plain": [
       "<IPython.core.display.Markdown object>"
      ]
     },
     "metadata": {},
     "output_type": "display_data"
    },
    {
     "data": {
      "text/markdown": [
       "Couldn't find a good approximation yet for p(x) = $1.0 x^{5} - 20.5 x^{4} - 4.0 x^{3} + 3.0 x^{2} + 3.7 x + 10000.0$"
      ],
      "text/plain": [
       "<IPython.core.display.Markdown object>"
      ]
     },
     "metadata": {},
     "output_type": "display_data"
    },
    {
     "data": {
      "text/markdown": [
       "p($404733383006745.0$) = $1.08603828582678241098777421662 \\cdot 10^{73}$"
      ],
      "text/plain": [
       "<IPython.core.display.Markdown object>"
      ]
     },
     "metadata": {},
     "output_type": "display_data"
    },
    {
     "data": {
      "text/markdown": [
       "Let's use the previous result as an approximation (step $35$)"
      ],
      "text/plain": [
       "<IPython.core.display.Markdown object>"
      ]
     },
     "metadata": {},
     "output_type": "display_data"
    },
    {
     "data": {
      "text/markdown": [
       "Couldn't find a good approximation yet for p(x) = $1.0 x^{5} - 20.5 x^{4} - 4.0 x^{3} + 3.0 x^{2} + 3.7 x + 10000.0$"
      ],
      "text/plain": [
       "<IPython.core.display.Markdown object>"
      ]
     },
     "metadata": {},
     "output_type": "display_data"
    },
    {
     "data": {
      "text/markdown": [
       "p($239778302708279.0$) = $7.92591496146659951926432074983 \\cdot 10^{71}$"
      ],
      "text/plain": [
       "<IPython.core.display.Markdown object>"
      ]
     },
     "metadata": {},
     "output_type": "display_data"
    },
    {
     "data": {
      "text/markdown": [
       "Let's use the previous result as an approximation (step $36$)"
      ],
      "text/plain": [
       "<IPython.core.display.Markdown object>"
      ]
     },
     "metadata": {},
     "output_type": "display_data"
    },
    {
     "data": {
      "text/markdown": [
       "Couldn't find a good approximation yet for p(x) = $1.0 x^{5} - 20.5 x^{4} - 4.0 x^{3} + 3.0 x^{2} + 3.7 x + 10000.0$"
      ],
      "text/plain": [
       "<IPython.core.display.Markdown object>"
      ]
     },
     "metadata": {},
     "output_type": "display_data"
    },
    {
     "data": {
      "text/markdown": [
       "p($142053106720642.0$) = $5.78433824997026738532048758424 \\cdot 10^{70}$"
      ],
      "text/plain": [
       "<IPython.core.display.Markdown object>"
      ]
     },
     "metadata": {},
     "output_type": "display_data"
    },
    {
     "data": {
      "text/markdown": [
       "Let's use the previous result as an approximation (step $37$)"
      ],
      "text/plain": [
       "<IPython.core.display.Markdown object>"
      ]
     },
     "metadata": {},
     "output_type": "display_data"
    },
    {
     "data": {
      "text/markdown": [
       "Couldn't find a good approximation yet for p(x) = $1.0 x^{5} - 20.5 x^{4} - 4.0 x^{3} + 3.0 x^{2} + 3.7 x + 10000.0$"
      ],
      "text/plain": [
       "<IPython.core.display.Markdown object>"
      ]
     },
     "metadata": {},
     "output_type": "display_data"
    },
    {
     "data": {
      "text/markdown": [
       "p($84157260690666.3$) = $4.22141407682703298247310944298 \\cdot 10^{69}$"
      ],
      "text/plain": [
       "<IPython.core.display.Markdown object>"
      ]
     },
     "metadata": {},
     "output_type": "display_data"
    },
    {
     "data": {
      "text/markdown": [
       "Let's use the previous result as an approximation (step $38$)"
      ],
      "text/plain": [
       "<IPython.core.display.Markdown object>"
      ]
     },
     "metadata": {},
     "output_type": "display_data"
    },
    {
     "data": {
      "text/markdown": [
       "Couldn't find a good approximation yet for p(x) = $1.0 x^{5} - 20.5 x^{4} - 4.0 x^{3} + 3.0 x^{2} + 3.7 x + 10000.0$"
      ],
      "text/plain": [
       "<IPython.core.display.Markdown object>"
      ]
     },
     "metadata": {},
     "output_type": "display_data"
    },
    {
     "data": {
      "text/markdown": [
       "p($49857723568728.7$) = $3.08079092852584825161084086583 \\cdot 10^{68}$"
      ],
      "text/plain": [
       "<IPython.core.display.Markdown object>"
      ]
     },
     "metadata": {},
     "output_type": "display_data"
    },
    {
     "data": {
      "text/markdown": [
       "Let's use the previous result as an approximation (step $39$)"
      ],
      "text/plain": [
       "<IPython.core.display.Markdown object>"
      ]
     },
     "metadata": {},
     "output_type": "display_data"
    },
    {
     "data": {
      "text/markdown": [
       "Couldn't find a good approximation yet for p(x) = $1.0 x^{5} - 20.5 x^{4} - 4.0 x^{3} + 3.0 x^{2} + 3.7 x + 10000.0$"
      ],
      "text/plain": [
       "<IPython.core.display.Markdown object>"
      ]
     },
     "metadata": {},
     "output_type": "display_data"
    },
    {
     "data": {
      "text/markdown": [
       "p($29537470433986.2$) = $2.24836336179110876059904276685 \\cdot 10^{67}$"
      ],
      "text/plain": [
       "<IPython.core.display.Markdown object>"
      ]
     },
     "metadata": {},
     "output_type": "display_data"
    },
    {
     "data": {
      "text/markdown": [
       "Let's use the previous result as an approximation (step $40$)"
      ],
      "text/plain": [
       "<IPython.core.display.Markdown object>"
      ]
     },
     "metadata": {},
     "output_type": "display_data"
    },
    {
     "data": {
      "text/markdown": [
       "Couldn't find a good approximation yet for p(x) = $1.0 x^{5} - 20.5 x^{4} - 4.0 x^{3} + 3.0 x^{2} + 3.7 x + 10000.0$"
      ],
      "text/plain": [
       "<IPython.core.display.Markdown object>"
      ]
     },
     "metadata": {},
     "output_type": "display_data"
    },
    {
     "data": {
      "text/markdown": [
       "p($17499037204054.4$) = $1.64085714477986040728317794039 \\cdot 10^{66}$"
      ],
      "text/plain": [
       "<IPython.core.display.Markdown object>"
      ]
     },
     "metadata": {},
     "output_type": "display_data"
    },
    {
     "data": {
      "text/markdown": [
       "Let's use the previous result as an approximation (step $41$)"
      ],
      "text/plain": [
       "<IPython.core.display.Markdown object>"
      ]
     },
     "metadata": {},
     "output_type": "display_data"
    },
    {
     "data": {
      "text/markdown": [
       "Couldn't find a good approximation yet for p(x) = $1.0 x^{5} - 20.5 x^{4} - 4.0 x^{3} + 3.0 x^{2} + 3.7 x + 10000.0$"
      ],
      "text/plain": [
       "<IPython.core.display.Markdown object>"
      ]
     },
     "metadata": {},
     "output_type": "display_data"
    },
    {
     "data": {
      "text/markdown": [
       "p($10367045605793.0$) = $1.19749868519039512085088427189 \\cdot 10^{65}$"
      ],
      "text/plain": [
       "<IPython.core.display.Markdown object>"
      ]
     },
     "metadata": {},
     "output_type": "display_data"
    },
    {
     "data": {
      "text/markdown": [
       "Let's use the previous result as an approximation (step $42$)"
      ],
      "text/plain": [
       "<IPython.core.display.Markdown object>"
      ]
     },
     "metadata": {},
     "output_type": "display_data"
    },
    {
     "data": {
      "text/markdown": [
       "Couldn't find a good approximation yet for p(x) = $1.0 x^{5} - 20.5 x^{4} - 4.0 x^{3} + 3.0 x^{2} + 3.7 x + 10000.0$"
      ],
      "text/plain": [
       "<IPython.core.display.Markdown object>"
      ]
     },
     "metadata": {},
     "output_type": "display_data"
    },
    {
     "data": {
      "text/markdown": [
       "p($6141802736878.79$) = $8.73935373103496054593467139325 \\cdot 10^{63}$"
      ],
      "text/plain": [
       "<IPython.core.display.Markdown object>"
      ]
     },
     "metadata": {},
     "output_type": "display_data"
    },
    {
     "data": {
      "text/markdown": [
       "Let's use the previous result as an approximation (step $43$)"
      ],
      "text/plain": [
       "<IPython.core.display.Markdown object>"
      ]
     },
     "metadata": {},
     "output_type": "display_data"
    },
    {
     "data": {
      "text/markdown": [
       "Couldn't find a good approximation yet for p(x) = $1.0 x^{5} - 20.5 x^{4} - 4.0 x^{3} + 3.0 x^{2} + 3.7 x + 10000.0$"
      ],
      "text/plain": [
       "<IPython.core.display.Markdown object>"
      ]
     },
     "metadata": {},
     "output_type": "display_data"
    },
    {
     "data": {
      "text/markdown": [
       "p($3638620132785.01$) = $6.37798642960609802648299430239 \\cdot 10^{62}$"
      ],
      "text/plain": [
       "<IPython.core.display.Markdown object>"
      ]
     },
     "metadata": {},
     "output_type": "display_data"
    },
    {
     "data": {
      "text/markdown": [
       "Let's use the previous result as an approximation (step $44$)"
      ],
      "text/plain": [
       "<IPython.core.display.Markdown object>"
      ]
     },
     "metadata": {},
     "output_type": "display_data"
    },
    {
     "data": {
      "text/markdown": [
       "Couldn't find a good approximation yet for p(x) = $1.0 x^{5} - 20.5 x^{4} - 4.0 x^{3} + 3.0 x^{2} + 3.7 x + 10000.0$"
      ],
      "text/plain": [
       "<IPython.core.display.Markdown object>"
      ]
     },
     "metadata": {},
     "output_type": "display_data"
    },
    {
     "data": {
      "text/markdown": [
       "p($2155646646092.18$) = $4.65465893110406557888712521902 \\cdot 10^{61}$"
      ],
      "text/plain": [
       "<IPython.core.display.Markdown object>"
      ]
     },
     "metadata": {},
     "output_type": "display_data"
    },
    {
     "data": {
      "text/markdown": [
       "Let's use the previous result as an approximation (step $45$)"
      ],
      "text/plain": [
       "<IPython.core.display.Markdown object>"
      ]
     },
     "metadata": {},
     "output_type": "display_data"
    },
    {
     "data": {
      "text/markdown": [
       "Couldn't find a good approximation yet for p(x) = $1.0 x^{5} - 20.5 x^{4} - 4.0 x^{3} + 3.0 x^{2} + 3.7 x + 10000.0$"
      ],
      "text/plain": [
       "<IPython.core.display.Markdown object>"
      ]
     },
     "metadata": {},
     "output_type": "display_data"
    },
    {
     "data": {
      "text/markdown": [
       "p($1277080951908.62$) = $3.39697332442347847657008602032 \\cdot 10^{60}$"
      ],
      "text/plain": [
       "<IPython.core.display.Markdown object>"
      ]
     },
     "metadata": {},
     "output_type": "display_data"
    },
    {
     "data": {
      "text/markdown": [
       "Let's use the previous result as an approximation (step $46$)"
      ],
      "text/plain": [
       "<IPython.core.display.Markdown object>"
      ]
     },
     "metadata": {},
     "output_type": "display_data"
    },
    {
     "data": {
      "text/markdown": [
       "Couldn't find a good approximation yet for p(x) = $1.0 x^{5} - 20.5 x^{4} - 4.0 x^{3} + 3.0 x^{2} + 3.7 x + 10000.0$"
      ],
      "text/plain": [
       "<IPython.core.display.Markdown object>"
      ]
     },
     "metadata": {},
     "output_type": "display_data"
    },
    {
     "data": {
      "text/markdown": [
       "p($756587709161.846$) = $2.47911349416692528847102679904 \\cdot 10^{59}$"
      ],
      "text/plain": [
       "<IPython.core.display.Markdown object>"
      ]
     },
     "metadata": {},
     "output_type": "display_data"
    },
    {
     "data": {
      "text/markdown": [
       "Let's use the previous result as an approximation (step $47$)"
      ],
      "text/plain": [
       "<IPython.core.display.Markdown object>"
      ]
     },
     "metadata": {},
     "output_type": "display_data"
    },
    {
     "data": {
      "text/markdown": [
       "Couldn't find a good approximation yet for p(x) = $1.0 x^{5} - 20.5 x^{4} - 4.0 x^{3} + 3.0 x^{2} + 3.7 x + 10000.0$"
      ],
      "text/plain": [
       "<IPython.core.display.Markdown object>"
      ]
     },
     "metadata": {},
     "output_type": "display_data"
    },
    {
     "data": {
      "text/markdown": [
       "p($448229190796.511$) = $1.80925875183421270760137511266 \\cdot 10^{58}$"
      ],
      "text/plain": [
       "<IPython.core.display.Markdown object>"
      ]
     },
     "metadata": {},
     "output_type": "display_data"
    },
    {
     "data": {
      "text/markdown": [
       "Let's use the previous result as an approximation (step $48$)"
      ],
      "text/plain": [
       "<IPython.core.display.Markdown object>"
      ]
     },
     "metadata": {},
     "output_type": "display_data"
    },
    {
     "data": {
      "text/markdown": [
       "Couldn't find a good approximation yet for p(x) = $1.0 x^{5} - 20.5 x^{4} - 4.0 x^{3} + 3.0 x^{2} + 3.7 x + 10000.0$"
      ],
      "text/plain": [
       "<IPython.core.display.Markdown object>"
      ]
     },
     "metadata": {},
     "output_type": "display_data"
    },
    {
     "data": {
      "text/markdown": [
       "p($265546750297.04$) = $1.32039829511262148149472103 \\cdot 10^{57}$"
      ],
      "text/plain": [
       "<IPython.core.display.Markdown object>"
      ]
     },
     "metadata": {},
     "output_type": "display_data"
    },
    {
     "data": {
      "text/markdown": [
       "Let's use the previous result as an approximation (step $49$)"
      ],
      "text/plain": [
       "<IPython.core.display.Markdown object>"
      ]
     },
     "metadata": {},
     "output_type": "display_data"
    },
    {
     "data": {
      "text/markdown": [
       "Couldn't find a good approximation yet for p(x) = $1.0 x^{5} - 20.5 x^{4} - 4.0 x^{3} + 3.0 x^{2} + 3.7 x + 10000.0$"
      ],
      "text/plain": [
       "<IPython.core.display.Markdown object>"
      ]
     },
     "metadata": {},
     "output_type": "display_data"
    },
    {
     "data": {
      "text/markdown": [
       "p($157319242123.248$) = $9.6362759387999286191253148425 \\cdot 10^{55}$"
      ],
      "text/plain": [
       "<IPython.core.display.Markdown object>"
      ]
     },
     "metadata": {},
     "output_type": "display_data"
    },
    {
     "data": {
      "text/markdown": [
       "Let's use the previous result as an approximation (step $50$)"
      ],
      "text/plain": [
       "<IPython.core.display.Markdown object>"
      ]
     },
     "metadata": {},
     "output_type": "display_data"
    },
    {
     "data": {
      "text/markdown": [
       "Couldn't find a good approximation yet for p(x) = $1.0 x^{5} - 20.5 x^{4} - 4.0 x^{3} + 3.0 x^{2} + 3.7 x + 10000.0$"
      ],
      "text/plain": [
       "<IPython.core.display.Markdown object>"
      ]
     },
     "metadata": {},
     "output_type": "display_data"
    },
    {
     "data": {
      "text/markdown": [
       "p($93201456672.8059$) = $7.03256088048599079948512810963 \\cdot 10^{54}$"
      ],
      "text/plain": [
       "<IPython.core.display.Markdown object>"
      ]
     },
     "metadata": {},
     "output_type": "display_data"
    },
    {
     "data": {
      "text/markdown": [
       "Let's use the previous result as an approximation (step $51$)"
      ],
      "text/plain": [
       "<IPython.core.display.Markdown object>"
      ]
     },
     "metadata": {},
     "output_type": "display_data"
    },
    {
     "data": {
      "text/markdown": [
       "Couldn't find a good approximation yet for p(x) = $1.0 x^{5} - 20.5 x^{4} - 4.0 x^{3} + 3.0 x^{2} + 3.7 x + 10000.0$"
      ],
      "text/plain": [
       "<IPython.core.display.Markdown object>"
      ]
     },
     "metadata": {},
     "output_type": "display_data"
    },
    {
     "data": {
      "text/markdown": [
       "p($55215823625.9161$) = $5.13236782049862345565782701681 \\cdot 10^{53}$"
      ],
      "text/plain": [
       "<IPython.core.display.Markdown object>"
      ]
     },
     "metadata": {},
     "output_type": "display_data"
    },
    {
     "data": {
      "text/markdown": [
       "Let's use the previous result as an approximation (step $52$)"
      ],
      "text/plain": [
       "<IPython.core.display.Markdown object>"
      ]
     },
     "metadata": {},
     "output_type": "display_data"
    },
    {
     "data": {
      "text/markdown": [
       "Couldn't find a good approximation yet for p(x) = $1.0 x^{5} - 20.5 x^{4} - 4.0 x^{3} + 3.0 x^{2} + 3.7 x + 10000.0$"
      ],
      "text/plain": [
       "<IPython.core.display.Markdown object>"
      ]
     },
     "metadata": {},
     "output_type": "display_data"
    },
    {
     "data": {
      "text/markdown": [
       "p($32711797514.6554$) = $3.7456056040668764609528868352 \\cdot 10^{52}$"
      ],
      "text/plain": [
       "<IPython.core.display.Markdown object>"
      ]
     },
     "metadata": {},
     "output_type": "display_data"
    },
    {
     "data": {
      "text/markdown": [
       "Let's use the previous result as an approximation (step $53$)"
      ],
      "text/plain": [
       "<IPython.core.display.Markdown object>"
      ]
     },
     "metadata": {},
     "output_type": "display_data"
    },
    {
     "data": {
      "text/markdown": [
       "Couldn't find a good approximation yet for p(x) = $1.0 x^{5} - 20.5 x^{4} - 4.0 x^{3} + 3.0 x^{2} + 3.7 x + 10000.0$"
      ],
      "text/plain": [
       "<IPython.core.display.Markdown object>"
      ]
     },
     "metadata": {},
     "output_type": "display_data"
    },
    {
     "data": {
      "text/markdown": [
       "p($19379620304.6254$) = $2.73354557426364332371719174716 \\cdot 10^{51}$"
      ],
      "text/plain": [
       "<IPython.core.display.Markdown object>"
      ]
     },
     "metadata": {},
     "output_type": "display_data"
    },
    {
     "data": {
      "text/markdown": [
       "Let's use the previous result as an approximation (step $54$)"
      ],
      "text/plain": [
       "<IPython.core.display.Markdown object>"
      ]
     },
     "metadata": {},
     "output_type": "display_data"
    },
    {
     "data": {
      "text/markdown": [
       "Couldn't find a good approximation yet for p(x) = $1.0 x^{5} - 20.5 x^{4} - 4.0 x^{3} + 3.0 x^{2} + 3.7 x + 10000.0$"
      ],
      "text/plain": [
       "<IPython.core.display.Markdown object>"
      ]
     },
     "metadata": {},
     "output_type": "display_data"
    },
    {
     "data": {
      "text/markdown": [
       "p($11481169232.7658$) = $1.99494346080195114675360774863 \\cdot 10^{50}$"
      ],
      "text/plain": [
       "<IPython.core.display.Markdown object>"
      ]
     },
     "metadata": {},
     "output_type": "display_data"
    },
    {
     "data": {
      "text/markdown": [
       "Let's use the previous result as an approximation (step $55$)"
      ],
      "text/plain": [
       "<IPython.core.display.Markdown object>"
      ]
     },
     "metadata": {},
     "output_type": "display_data"
    },
    {
     "data": {
      "text/markdown": [
       "Couldn't find a good approximation yet for p(x) = $1.0 x^{5} - 20.5 x^{4} - 4.0 x^{3} + 3.0 x^{2} + 3.7 x + 10000.0$"
      ],
      "text/plain": [
       "<IPython.core.display.Markdown object>"
      ]
     },
     "metadata": {},
     "output_type": "display_data"
    },
    {
     "data": {
      "text/markdown": [
       "p($6801848792.31848$) = $1.45591112482861604731521972575 \\cdot 10^{49}$"
      ],
      "text/plain": [
       "<IPython.core.display.Markdown object>"
      ]
     },
     "metadata": {},
     "output_type": "display_data"
    },
    {
     "data": {
      "text/markdown": [
       "Let's use the previous result as an approximation (step $56$)"
      ],
      "text/plain": [
       "<IPython.core.display.Markdown object>"
      ]
     },
     "metadata": {},
     "output_type": "display_data"
    },
    {
     "data": {
      "text/markdown": [
       "Couldn't find a good approximation yet for p(x) = $1.0 x^{5} - 20.5 x^{4} - 4.0 x^{3} + 3.0 x^{2} + 3.7 x + 10000.0$"
      ],
      "text/plain": [
       "<IPython.core.display.Markdown object>"
      ]
     },
     "metadata": {},
     "output_type": "display_data"
    },
    {
     "data": {
      "text/markdown": [
       "p($4029654651.31797$) = $1.06252495123226740490219594905 \\cdot 10^{48}$"
      ],
      "text/plain": [
       "<IPython.core.display.Markdown object>"
      ]
     },
     "metadata": {},
     "output_type": "display_data"
    },
    {
     "data": {
      "text/markdown": [
       "Let's use the previous result as an approximation (step $57$)"
      ],
      "text/plain": [
       "<IPython.core.display.Markdown object>"
      ]
     },
     "metadata": {},
     "output_type": "display_data"
    },
    {
     "data": {
      "text/markdown": [
       "Couldn't find a good approximation yet for p(x) = $1.0 x^{5} - 20.5 x^{4} - 4.0 x^{3} + 3.0 x^{2} + 3.7 x + 10000.0$"
      ],
      "text/plain": [
       "<IPython.core.display.Markdown object>"
      ]
     },
     "metadata": {},
     "output_type": "display_data"
    },
    {
     "data": {
      "text/markdown": [
       "p($2387309260.95551$) = $7.75431448210156359134113822118 \\cdot 10^{46}$"
      ],
      "text/plain": [
       "<IPython.core.display.Markdown object>"
      ]
     },
     "metadata": {},
     "output_type": "display_data"
    },
    {
     "data": {
      "text/markdown": [
       "Let's use the previous result as an approximation (step $58$)"
      ],
      "text/plain": [
       "<IPython.core.display.Markdown object>"
      ]
     },
     "metadata": {},
     "output_type": "display_data"
    },
    {
     "data": {
      "text/markdown": [
       "Couldn't find a good approximation yet for p(x) = $1.0 x^{5} - 20.5 x^{4} - 4.0 x^{3} + 3.0 x^{2} + 3.7 x + 10000.0$"
      ],
      "text/plain": [
       "<IPython.core.display.Markdown object>"
      ]
     },
     "metadata": {},
     "output_type": "display_data"
    },
    {
     "data": {
      "text/markdown": [
       "p($1414326041.14704$) = $5.65910410081146268196259751997 \\cdot 10^{45}$"
      ],
      "text/plain": [
       "<IPython.core.display.Markdown object>"
      ]
     },
     "metadata": {},
     "output_type": "display_data"
    },
    {
     "data": {
      "text/markdown": [
       "Let's use the previous result as an approximation (step $59$)"
      ],
      "text/plain": [
       "<IPython.core.display.Markdown object>"
      ]
     },
     "metadata": {},
     "output_type": "display_data"
    },
    {
     "data": {
      "text/markdown": [
       "Couldn't find a good approximation yet for p(x) = $1.0 x^{5} - 20.5 x^{4} - 4.0 x^{3} + 3.0 x^{2} + 3.7 x + 10000.0$"
      ],
      "text/plain": [
       "<IPython.core.display.Markdown object>"
      ]
     },
     "metadata": {},
     "output_type": "display_data"
    },
    {
     "data": {
      "text/markdown": [
       "p($837896532.723173$) = $4.13001810769242613390223221323 \\cdot 10^{44}$"
      ],
      "text/plain": [
       "<IPython.core.display.Markdown object>"
      ]
     },
     "metadata": {},
     "output_type": "display_data"
    },
    {
     "data": {
      "text/markdown": [
       "Let's use the previous result as an approximation (step $60$)"
      ],
      "text/plain": [
       "<IPython.core.display.Markdown object>"
      ]
     },
     "metadata": {},
     "output_type": "display_data"
    },
    {
     "data": {
      "text/markdown": [
       "Couldn't find a good approximation yet for p(x) = $1.0 x^{5} - 20.5 x^{4} - 4.0 x^{3} + 3.0 x^{2} + 3.7 x + 10000.0$"
      ],
      "text/plain": [
       "<IPython.core.display.Markdown object>"
      ]
     },
     "metadata": {},
     "output_type": "display_data"
    },
    {
     "data": {
      "text/markdown": [
       "p($496399401.614175$) = $3.01409008670144082088149758296 \\cdot 10^{43}$"
      ],
      "text/plain": [
       "<IPython.core.display.Markdown object>"
      ]
     },
     "metadata": {},
     "output_type": "display_data"
    },
    {
     "data": {
      "text/markdown": [
       "Let's use the previous result as an approximation (step $61$)"
      ],
      "text/plain": [
       "<IPython.core.display.Markdown object>"
      ]
     },
     "metadata": {},
     "output_type": "display_data"
    },
    {
     "data": {
      "text/markdown": [
       "Couldn't find a good approximation yet for p(x) = $1.0 x^{5} - 20.5 x^{4} - 4.0 x^{3} + 3.0 x^{2} + 3.7 x + 10000.0$"
      ],
      "text/plain": [
       "<IPython.core.display.Markdown object>"
      ]
     },
     "metadata": {},
     "output_type": "display_data"
    },
    {
     "data": {
      "text/markdown": [
       "p($294084480.44619$) = $2.19968504104885152736067084569 \\cdot 10^{42}$"
      ],
      "text/plain": [
       "<IPython.core.display.Markdown object>"
      ]
     },
     "metadata": {},
     "output_type": "display_data"
    },
    {
     "data": {
      "text/markdown": [
       "Let's use the previous result as an approximation (step $62$)"
      ],
      "text/plain": [
       "<IPython.core.display.Markdown object>"
      ]
     },
     "metadata": {},
     "output_type": "display_data"
    },
    {
     "data": {
      "text/markdown": [
       "Couldn't find a good approximation yet for p(x) = $1.0 x^{5} - 20.5 x^{4} - 4.0 x^{3} + 3.0 x^{2} + 3.7 x + 10000.0$"
      ],
      "text/plain": [
       "<IPython.core.display.Markdown object>"
      ]
     },
     "metadata": {},
     "output_type": "display_data"
    },
    {
     "data": {
      "text/markdown": [
       "p($174225999.66105$) = $1.60533167245487649048627582132 \\cdot 10^{41}$"
      ],
      "text/plain": [
       "<IPython.core.display.Markdown object>"
      ]
     },
     "metadata": {},
     "output_type": "display_data"
    },
    {
     "data": {
      "text/markdown": [
       "Let's use the previous result as an approximation (step $63$)"
      ],
      "text/plain": [
       "<IPython.core.display.Markdown object>"
      ]
     },
     "metadata": {},
     "output_type": "display_data"
    },
    {
     "data": {
      "text/markdown": [
       "Couldn't find a good approximation yet for p(x) = $1.0 x^{5} - 20.5 x^{4} - 4.0 x^{3} + 3.0 x^{2} + 3.7 x + 10000.0$"
      ],
      "text/plain": [
       "<IPython.core.display.Markdown object>"
      ]
     },
     "metadata": {},
     "output_type": "display_data"
    },
    {
     "data": {
      "text/markdown": [
       "p($103217616.62541$) = $1.1715721707858524692383035252 \\cdot 10^{40}$"
      ],
      "text/plain": [
       "<IPython.core.display.Markdown object>"
      ]
     },
     "metadata": {},
     "output_type": "display_data"
    },
    {
     "data": {
      "text/markdown": [
       "Let's use the previous result as an approximation (step $64$)"
      ],
      "text/plain": [
       "<IPython.core.display.Markdown object>"
      ]
     },
     "metadata": {},
     "output_type": "display_data"
    },
    {
     "data": {
      "text/markdown": [
       "Couldn't find a good approximation yet for p(x) = $1.0 x^{5} - 20.5 x^{4} - 4.0 x^{3} + 3.0 x^{2} + 3.7 x + 10000.0$"
      ],
      "text/plain": [
       "<IPython.core.display.Markdown object>"
      ]
     },
     "metadata": {},
     "output_type": "display_data"
    },
    {
     "data": {
      "text/markdown": [
       "p($61149751.0200142$) = $8.55014184863690468560886023985 \\cdot 10^{38}$"
      ],
      "text/plain": [
       "<IPython.core.display.Markdown object>"
      ]
     },
     "metadata": {},
     "output_type": "display_data"
    },
    {
     "data": {
      "text/markdown": [
       "Let's use the previous result as an approximation (step $65$)"
      ],
      "text/plain": [
       "<IPython.core.display.Markdown object>"
      ]
     },
     "metadata": {},
     "output_type": "display_data"
    },
    {
     "data": {
      "text/markdown": [
       "Couldn't find a good approximation yet for p(x) = $1.0 x^{5} - 20.5 x^{4} - 4.0 x^{3} + 3.0 x^{2} + 3.7 x + 10000.0$"
      ],
      "text/plain": [
       "<IPython.core.display.Markdown object>"
      ]
     },
     "metadata": {},
     "output_type": "display_data"
    },
    {
     "data": {
      "text/markdown": [
       "p($36227266.6465086$) = $6.23989946626807215561094892148 \\cdot 10^{37}$"
      ],
      "text/plain": [
       "<IPython.core.display.Markdown object>"
      ]
     },
     "metadata": {},
     "output_type": "display_data"
    },
    {
     "data": {
      "text/markdown": [
       "Let's use the previous result as an approximation (step $66$)"
      ],
      "text/plain": [
       "<IPython.core.display.Markdown object>"
      ]
     },
     "metadata": {},
     "output_type": "display_data"
    },
    {
     "data": {
      "text/markdown": [
       "Couldn't find a good approximation yet for p(x) = $1.0 x^{5} - 20.5 x^{4} - 4.0 x^{3} + 3.0 x^{2} + 3.7 x + 10000.0$"
      ],
      "text/plain": [
       "<IPython.core.display.Markdown object>"
      ]
     },
     "metadata": {},
     "output_type": "display_data"
    },
    {
     "data": {
      "text/markdown": [
       "p($21462309.6321943$) = $4.55388296924447027069853985742 \\cdot 10^{36}$"
      ],
      "text/plain": [
       "<IPython.core.display.Markdown object>"
      ]
     },
     "metadata": {},
     "output_type": "display_data"
    },
    {
     "data": {
      "text/markdown": [
       "Let's use the previous result as an approximation (step $67$)"
      ],
      "text/plain": [
       "<IPython.core.display.Markdown object>"
      ]
     },
     "metadata": {},
     "output_type": "display_data"
    },
    {
     "data": {
      "text/markdown": [
       "Couldn't find a good approximation yet for p(x) = $1.0 x^{5} - 20.5 x^{4} - 4.0 x^{3} + 3.0 x^{2} + 3.7 x + 10000.0$"
      ],
      "text/plain": [
       "<IPython.core.display.Markdown object>"
      ]
     },
     "metadata": {},
     "output_type": "display_data"
    },
    {
     "data": {
      "text/markdown": [
       "p($12715029.3704282$) = $3.32342695738602511865212064521 \\cdot 10^{35}$"
      ],
      "text/plain": [
       "<IPython.core.display.Markdown object>"
      ]
     },
     "metadata": {},
     "output_type": "display_data"
    },
    {
     "data": {
      "text/markdown": [
       "Let's use the previous result as an approximation (step $68$)"
      ],
      "text/plain": [
       "<IPython.core.display.Markdown object>"
      ]
     },
     "metadata": {},
     "output_type": "display_data"
    },
    {
     "data": {
      "text/markdown": [
       "Couldn't find a good approximation yet for p(x) = $1.0 x^{5} - 20.5 x^{4} - 4.0 x^{3} + 3.0 x^{2} + 3.7 x + 10000.0$"
      ],
      "text/plain": [
       "<IPython.core.display.Markdown object>"
      ]
     },
     "metadata": {},
     "output_type": "display_data"
    },
    {
     "data": {
      "text/markdown": [
       "p($7532832.63909389$) = $2.42543930436389078117008158889 \\cdot 10^{34}$"
      ],
      "text/plain": [
       "<IPython.core.display.Markdown object>"
      ]
     },
     "metadata": {},
     "output_type": "display_data"
    },
    {
     "data": {
      "text/markdown": [
       "Let's use the previous result as an approximation (step $69$)"
      ],
      "text/plain": [
       "<IPython.core.display.Markdown object>"
      ]
     },
     "metadata": {},
     "output_type": "display_data"
    },
    {
     "data": {
      "text/markdown": [
       "Couldn't find a good approximation yet for p(x) = $1.0 x^{5} - 20.5 x^{4} - 4.0 x^{3} + 3.0 x^{2} + 3.7 x + 10000.0$"
      ],
      "text/plain": [
       "<IPython.core.display.Markdown object>"
      ]
     },
     "metadata": {},
     "output_type": "display_data"
    },
    {
     "data": {
      "text/markdown": [
       "p($4462716.88212835$) = $1.77008729079402132182710952867 \\cdot 10^{33}$"
      ],
      "text/plain": [
       "<IPython.core.display.Markdown object>"
      ]
     },
     "metadata": {},
     "output_type": "display_data"
    },
    {
     "data": {
      "text/markdown": [
       "Let's use the previous result as an approximation (step $70$)"
      ],
      "text/plain": [
       "<IPython.core.display.Markdown object>"
      ]
     },
     "metadata": {},
     "output_type": "display_data"
    },
    {
     "data": {
      "text/markdown": [
       "Couldn't find a good approximation yet for p(x) = $1.0 x^{5} - 20.5 x^{4} - 4.0 x^{3} + 3.0 x^{2} + 3.7 x + 10000.0$"
      ],
      "text/plain": [
       "<IPython.core.display.Markdown object>"
      ]
     },
     "metadata": {},
     "output_type": "display_data"
    },
    {
     "data": {
      "text/markdown": [
       "p($2643872.23963045$) = $1.29181093560669909563567218098 \\cdot 10^{32}$"
      ],
      "text/plain": [
       "<IPython.core.display.Markdown object>"
      ]
     },
     "metadata": {},
     "output_type": "display_data"
    },
    {
     "data": {
      "text/markdown": [
       "Let's use the previous result as an approximation (step $71$)"
      ],
      "text/plain": [
       "<IPython.core.display.Markdown object>"
      ]
     },
     "metadata": {},
     "output_type": "display_data"
    },
    {
     "data": {
      "text/markdown": [
       "Couldn't find a good approximation yet for p(x) = $1.0 x^{5} - 20.5 x^{4} - 4.0 x^{3} + 3.0 x^{2} + 3.7 x + 10000.0$"
      ],
      "text/plain": [
       "<IPython.core.display.Markdown object>"
      ]
     },
     "metadata": {},
     "output_type": "display_data"
    },
    {
     "data": {
      "text/markdown": [
       "p($1566324.65008857$) = $9.42764519031158954642911107482 \\cdot 10^{30}$"
      ],
      "text/plain": [
       "<IPython.core.display.Markdown object>"
      ]
     },
     "metadata": {},
     "output_type": "display_data"
    },
    {
     "data": {
      "text/markdown": [
       "Let's use the previous result as an approximation (step $72$)"
      ],
      "text/plain": [
       "<IPython.core.display.Markdown object>"
      ]
     },
     "metadata": {},
     "output_type": "display_data"
    },
    {
     "data": {
      "text/markdown": [
       "Couldn't find a good approximation yet for p(x) = $1.0 x^{5} - 20.5 x^{4} - 4.0 x^{3} + 3.0 x^{2} + 3.7 x + 10000.0$"
      ],
      "text/plain": [
       "<IPython.core.display.Markdown object>"
      ]
     },
     "metadata": {},
     "output_type": "display_data"
    },
    {
     "data": {
      "text/markdown": [
       "p($927947.528377724$) = $688030201509210443124018511872.0$"
      ],
      "text/plain": [
       "<IPython.core.display.Markdown object>"
      ]
     },
     "metadata": {},
     "output_type": "display_data"
    },
    {
     "data": {
      "text/markdown": [
       "Let's use the previous result as an approximation (step $73$)"
      ],
      "text/plain": [
       "<IPython.core.display.Markdown object>"
      ]
     },
     "metadata": {},
     "output_type": "display_data"
    },
    {
     "data": {
      "text/markdown": [
       "Couldn't find a good approximation yet for p(x) = $1.0 x^{5} - 20.5 x^{4} - 4.0 x^{3} + 3.0 x^{2} + 3.7 x + 10000.0$"
      ],
      "text/plain": [
       "<IPython.core.display.Markdown object>"
      ]
     },
     "metadata": {},
     "output_type": "display_data"
    },
    {
     "data": {
      "text/markdown": [
       "p($549750.450616601$) = $50212491944966820735389532160.0$"
      ],
      "text/plain": [
       "<IPython.core.display.Markdown object>"
      ]
     },
     "metadata": {},
     "output_type": "display_data"
    },
    {
     "data": {
      "text/markdown": [
       "Let's use the previous result as an approximation (step $74$)"
      ],
      "text/plain": [
       "<IPython.core.display.Markdown object>"
      ]
     },
     "metadata": {},
     "output_type": "display_data"
    },
    {
     "data": {
      "text/markdown": [
       "Couldn't find a good approximation yet for p(x) = $1.0 x^{5} - 20.5 x^{4} - 4.0 x^{3} + 3.0 x^{2} + 3.7 x + 10000.0$"
      ],
      "text/plain": [
       "<IPython.core.display.Markdown object>"
      ]
     },
     "metadata": {},
     "output_type": "display_data"
    },
    {
     "data": {
      "text/markdown": [
       "p($325693.1892392$) = $3664511153197723635268190208.0$"
      ],
      "text/plain": [
       "<IPython.core.display.Markdown object>"
      ]
     },
     "metadata": {},
     "output_type": "display_data"
    },
    {
     "data": {
      "text/markdown": [
       "Let's use the previous result as an approximation (step $75$)"
      ],
      "text/plain": [
       "<IPython.core.display.Markdown object>"
      ]
     },
     "metadata": {},
     "output_type": "display_data"
    },
    {
     "data": {
      "text/markdown": [
       "Couldn't find a good approximation yet for p(x) = $1.0 x^{5} - 20.5 x^{4} - 4.0 x^{3} + 3.0 x^{2} + 3.7 x + 10000.0$"
      ],
      "text/plain": [
       "<IPython.core.display.Markdown object>"
      ]
     },
     "metadata": {},
     "output_type": "display_data"
    },
    {
     "data": {
      "text/markdown": [
       "p($192953.780826546$) = $267436278690593538826043392.0$"
      ],
      "text/plain": [
       "<IPython.core.display.Markdown object>"
      ]
     },
     "metadata": {},
     "output_type": "display_data"
    },
    {
     "data": {
      "text/markdown": [
       "Let's use the previous result as an approximation (step $76$)"
      ],
      "text/plain": [
       "<IPython.core.display.Markdown object>"
      ]
     },
     "metadata": {},
     "output_type": "display_data"
    },
    {
     "data": {
      "text/markdown": [
       "Couldn't find a good approximation yet for p(x) = $1.0 x^{5} - 20.5 x^{4} - 4.0 x^{3} + 3.0 x^{2} + 3.7 x + 10000.0$"
      ],
      "text/plain": [
       "<IPython.core.display.Markdown object>"
      ]
     },
     "metadata": {},
     "output_type": "display_data"
    },
    {
     "data": {
      "text/markdown": [
       "p($114314.282928163$) = $19517518199265577846964224.0$"
      ],
      "text/plain": [
       "<IPython.core.display.Markdown object>"
      ]
     },
     "metadata": {},
     "output_type": "display_data"
    },
    {
     "data": {
      "text/markdown": [
       "Let's use the previous result as an approximation (step $77$)"
      ],
      "text/plain": [
       "<IPython.core.display.Markdown object>"
      ]
     },
     "metadata": {},
     "output_type": "display_data"
    },
    {
     "data": {
      "text/markdown": [
       "Couldn't find a good approximation yet for p(x) = $1.0 x^{5} - 20.5 x^{4} - 4.0 x^{3} + 3.0 x^{2} + 3.7 x + 10000.0$"
      ],
      "text/plain": [
       "<IPython.core.display.Markdown object>"
      ]
     },
     "metadata": {},
     "output_type": "display_data"
    },
    {
     "data": {
      "text/markdown": [
       "p($67725.4763851344$) = $1424389832144418374680576.0$"
      ],
      "text/plain": [
       "<IPython.core.display.Markdown object>"
      ]
     },
     "metadata": {},
     "output_type": "display_data"
    },
    {
     "data": {
      "text/markdown": [
       "Let's use the previous result as an approximation (step $78$)"
      ],
      "text/plain": [
       "<IPython.core.display.Markdown object>"
      ]
     },
     "metadata": {},
     "output_type": "display_data"
    },
    {
     "data": {
      "text/markdown": [
       "Couldn't find a good approximation yet for p(x) = $1.0 x^{5} - 20.5 x^{4} - 4.0 x^{3} + 3.0 x^{2} + 3.7 x + 10000.0$"
      ],
      "text/plain": [
       "<IPython.core.display.Markdown object>"
      ]
     },
     "metadata": {},
     "output_type": "display_data"
    },
    {
     "data": {
      "text/markdown": [
       "p($40124.6276695204$) = $103952068338101637873664.0$"
      ],
      "text/plain": [
       "<IPython.core.display.Markdown object>"
      ]
     },
     "metadata": {},
     "output_type": "display_data"
    },
    {
     "data": {
      "text/markdown": [
       "Let's use the previous result as an approximation (step $79$)"
      ],
      "text/plain": [
       "<IPython.core.display.Markdown object>"
      ]
     },
     "metadata": {},
     "output_type": "display_data"
    },
    {
     "data": {
      "text/markdown": [
       "Couldn't find a good approximation yet for p(x) = $1.0 x^{5} - 20.5 x^{4} - 4.0 x^{3} + 3.0 x^{2} + 3.7 x + 10000.0$"
      ],
      "text/plain": [
       "<IPython.core.display.Markdown object>"
      ]
     },
     "metadata": {},
     "output_type": "display_data"
    },
    {
     "data": {
      "text/markdown": [
       "p($23772.9136891054$) = $7586429039480930304000.0$"
      ],
      "text/plain": [
       "<IPython.core.display.Markdown object>"
      ]
     },
     "metadata": {},
     "output_type": "display_data"
    },
    {
     "data": {
      "text/markdown": [
       "Let's use the previous result as an approximation (step $80$)"
      ],
      "text/plain": [
       "<IPython.core.display.Markdown object>"
      ]
     },
     "metadata": {},
     "output_type": "display_data"
    },
    {
     "data": {
      "text/markdown": [
       "Couldn't find a good approximation yet for p(x) = $1.0 x^{5} - 20.5 x^{4} - 4.0 x^{3} + 3.0 x^{2} + 3.7 x + 10000.0$"
      ],
      "text/plain": [
       "<IPython.core.display.Markdown object>"
      ]
     },
     "metadata": {},
     "output_type": "display_data"
    },
    {
     "data": {
      "text/markdown": [
       "p($14085.5833354198$) = $553658090532052008960.0$"
      ],
      "text/plain": [
       "<IPython.core.display.Markdown object>"
      ]
     },
     "metadata": {},
     "output_type": "display_data"
    },
    {
     "data": {
      "text/markdown": [
       "Let's use the previous result as an approximation (step $81$)"
      ],
      "text/plain": [
       "<IPython.core.display.Markdown object>"
      ]
     },
     "metadata": {},
     "output_type": "display_data"
    },
    {
     "data": {
      "text/markdown": [
       "Couldn't find a good approximation yet for p(x) = $1.0 x^{5} - 20.5 x^{4} - 4.0 x^{3} + 3.0 x^{2} + 3.7 x + 10000.0$"
      ],
      "text/plain": [
       "<IPython.core.display.Markdown object>"
      ]
     },
     "metadata": {},
     "output_type": "display_data"
    },
    {
     "data": {
      "text/markdown": [
       "p($8346.46883416213$) = $40406000059183964160.0$"
      ],
      "text/plain": [
       "<IPython.core.display.Markdown object>"
      ]
     },
     "metadata": {},
     "output_type": "display_data"
    },
    {
     "data": {
      "text/markdown": [
       "Let's use the previous result as an approximation (step $82$)"
      ],
      "text/plain": [
       "<IPython.core.display.Markdown object>"
      ]
     },
     "metadata": {},
     "output_type": "display_data"
    },
    {
     "data": {
      "text/markdown": [
       "Couldn't find a good approximation yet for p(x) = $1.0 x^{5} - 20.5 x^{4} - 4.0 x^{3} + 3.0 x^{2} + 3.7 x + 10000.0$"
      ],
      "text/plain": [
       "<IPython.core.display.Markdown object>"
      ]
     },
     "metadata": {},
     "output_type": "display_data"
    },
    {
     "data": {
      "text/markdown": [
       "p($4946.41706708059$) = $2948831467963369984.0$"
      ],
      "text/plain": [
       "<IPython.core.display.Markdown object>"
      ]
     },
     "metadata": {},
     "output_type": "display_data"
    },
    {
     "data": {
      "text/markdown": [
       "Let's use the previous result as an approximation (step $83$)"
      ],
      "text/plain": [
       "<IPython.core.display.Markdown object>"
      ]
     },
     "metadata": {},
     "output_type": "display_data"
    },
    {
     "data": {
      "text/markdown": [
       "Couldn't find a good approximation yet for p(x) = $1.0 x^{5} - 20.5 x^{4} - 4.0 x^{3} + 3.0 x^{2} + 3.7 x + 10000.0$"
      ],
      "text/plain": [
       "<IPython.core.display.Markdown object>"
      ]
     },
     "metadata": {},
     "output_type": "display_data"
    },
    {
     "data": {
      "text/markdown": [
       "p($2932.1095603316$) = $215205669901356416.0$"
      ],
      "text/plain": [
       "<IPython.core.display.Markdown object>"
      ]
     },
     "metadata": {},
     "output_type": "display_data"
    },
    {
     "data": {
      "text/markdown": [
       "Let's use the previous result as an approximation (step $84$)"
      ],
      "text/plain": [
       "<IPython.core.display.Markdown object>"
      ]
     },
     "metadata": {},
     "output_type": "display_data"
    },
    {
     "data": {
      "text/markdown": [
       "Couldn't find a good approximation yet for p(x) = $1.0 x^{5} - 20.5 x^{4} - 4.0 x^{3} + 3.0 x^{2} + 3.7 x + 10000.0$"
      ],
      "text/plain": [
       "<IPython.core.display.Markdown object>"
      ]
     },
     "metadata": {},
     "output_type": "display_data"
    },
    {
     "data": {
      "text/markdown": [
       "p($1738.76770280637$) = $15705671319966892.0$"
      ],
      "text/plain": [
       "<IPython.core.display.Markdown object>"
      ]
     },
     "metadata": {},
     "output_type": "display_data"
    },
    {
     "data": {
      "text/markdown": [
       "Let's use the previous result as an approximation (step $85$)"
      ],
      "text/plain": [
       "<IPython.core.display.Markdown object>"
      ]
     },
     "metadata": {},
     "output_type": "display_data"
    },
    {
     "data": {
      "text/markdown": [
       "Couldn't find a good approximation yet for p(x) = $1.0 x^{5} - 20.5 x^{4} - 4.0 x^{3} + 3.0 x^{2} + 3.7 x + 10000.0$"
      ],
      "text/plain": [
       "<IPython.core.display.Markdown object>"
      ]
     },
     "metadata": {},
     "output_type": "display_data"
    },
    {
     "data": {
      "text/markdown": [
       "p($1031.7981512414$) = $1146189778519883.75$"
      ],
      "text/plain": [
       "<IPython.core.display.Markdown object>"
      ]
     },
     "metadata": {},
     "output_type": "display_data"
    },
    {
     "data": {
      "text/markdown": [
       "Let's use the previous result as an approximation (step $86$)"
      ],
      "text/plain": [
       "<IPython.core.display.Markdown object>"
      ]
     },
     "metadata": {},
     "output_type": "display_data"
    },
    {
     "data": {
      "text/markdown": [
       "Couldn't find a good approximation yet for p(x) = $1.0 x^{5} - 20.5 x^{4} - 4.0 x^{3} + 3.0 x^{2} + 3.7 x + 10000.0$"
      ],
      "text/plain": [
       "<IPython.core.display.Markdown object>"
      ]
     },
     "metadata": {},
     "output_type": "display_data"
    },
    {
     "data": {
      "text/markdown": [
       "p($612.978427756408$) = $83646645366714.546875$"
      ],
      "text/plain": [
       "<IPython.core.display.Markdown object>"
      ]
     },
     "metadata": {},
     "output_type": "display_data"
    },
    {
     "data": {
      "text/markdown": [
       "Let's use the previous result as an approximation (step $87$)"
      ],
      "text/plain": [
       "<IPython.core.display.Markdown object>"
      ]
     },
     "metadata": {},
     "output_type": "display_data"
    },
    {
     "data": {
      "text/markdown": [
       "Couldn't find a good approximation yet for p(x) = $1.0 x^{5} - 20.5 x^{4} - 4.0 x^{3} + 3.0 x^{2} + 3.7 x + 10000.0$"
      ],
      "text/plain": [
       "<IPython.core.display.Markdown object>"
      ]
     },
     "metadata": {},
     "output_type": "display_data"
    },
    {
     "data": {
      "text/markdown": [
       "p($364.878768873922$) = $6104034068771.7919921875$"
      ],
      "text/plain": [
       "<IPython.core.display.Markdown object>"
      ]
     },
     "metadata": {},
     "output_type": "display_data"
    },
    {
     "data": {
      "text/markdown": [
       "Let's use the previous result as an approximation (step $88$)"
      ],
      "text/plain": [
       "<IPython.core.display.Markdown object>"
      ]
     },
     "metadata": {},
     "output_type": "display_data"
    },
    {
     "data": {
      "text/markdown": [
       "Couldn't find a good approximation yet for p(x) = $1.0 x^{5} - 20.5 x^{4} - 4.0 x^{3} + 3.0 x^{2} + 3.7 x + 10000.0$"
      ],
      "text/plain": [
       "<IPython.core.display.Markdown object>"
      ]
     },
     "metadata": {},
     "output_type": "display_data"
    },
    {
     "data": {
      "text/markdown": [
       "p($217.937243356181$) = $445363547023.00115966796875$"
      ],
      "text/plain": [
       "<IPython.core.display.Markdown object>"
      ]
     },
     "metadata": {},
     "output_type": "display_data"
    },
    {
     "data": {
      "text/markdown": [
       "Let's use the previous result as an approximation (step $89$)"
      ],
      "text/plain": [
       "<IPython.core.display.Markdown object>"
      ]
     },
     "metadata": {},
     "output_type": "display_data"
    },
    {
     "data": {
      "text/markdown": [
       "Couldn't find a good approximation yet for p(x) = $1.0 x^{5} - 20.5 x^{4} - 4.0 x^{3} + 3.0 x^{2} + 3.7 x + 10000.0$"
      ],
      "text/plain": [
       "<IPython.core.display.Markdown object>"
      ]
     },
     "metadata": {},
     "output_type": "display_data"
    },
    {
     "data": {
      "text/markdown": [
       "p($130.957214871994$) = $32478242999.150020599365234375$"
      ],
      "text/plain": [
       "<IPython.core.display.Markdown object>"
      ]
     },
     "metadata": {},
     "output_type": "display_data"
    },
    {
     "data": {
      "text/markdown": [
       "Let's use the previous result as an approximation (step $90$)"
      ],
      "text/plain": [
       "<IPython.core.display.Markdown object>"
      ]
     },
     "metadata": {},
     "output_type": "display_data"
    },
    {
     "data": {
      "text/markdown": [
       "Couldn't find a good approximation yet for p(x) = $1.0 x^{5} - 20.5 x^{4} - 4.0 x^{3} + 3.0 x^{2} + 3.7 x + 10000.0$"
      ],
      "text/plain": [
       "<IPython.core.display.Markdown object>"
      ]
     },
     "metadata": {},
     "output_type": "display_data"
    },
    {
     "data": {
      "text/markdown": [
       "p($79.561167714118$) = $2364515428.23742008209228515625$"
      ],
      "text/plain": [
       "<IPython.core.display.Markdown object>"
      ]
     },
     "metadata": {},
     "output_type": "display_data"
    },
    {
     "data": {
      "text/markdown": [
       "Let's use the previous result as an approximation (step $91$)"
      ],
      "text/plain": [
       "<IPython.core.display.Markdown object>"
      ]
     },
     "metadata": {},
     "output_type": "display_data"
    },
    {
     "data": {
      "text/markdown": [
       "Couldn't find a good approximation yet for p(x) = $1.0 x^{5} - 20.5 x^{4} - 4.0 x^{3} + 3.0 x^{2} + 3.7 x + 10000.0$"
      ],
      "text/plain": [
       "<IPython.core.display.Markdown object>"
      ]
     },
     "metadata": {},
     "output_type": "display_data"
    },
    {
     "data": {
      "text/markdown": [
       "p($49.3714092155709$) = $171077961.799340575933456420898$"
      ],
      "text/plain": [
       "<IPython.core.display.Markdown object>"
      ]
     },
     "metadata": {},
     "output_type": "display_data"
    },
    {
     "data": {
      "text/markdown": [
       "Let's use the previous result as an approximation (step $92$)"
      ],
      "text/plain": [
       "<IPython.core.display.Markdown object>"
      ]
     },
     "metadata": {},
     "output_type": "display_data"
    },
    {
     "data": {
      "text/markdown": [
       "Couldn't find a good approximation yet for p(x) = $1.0 x^{5} - 20.5 x^{4} - 4.0 x^{3} + 3.0 x^{2} + 3.7 x + 10000.0$"
      ],
      "text/plain": [
       "<IPython.core.display.Markdown object>"
      ]
     },
     "metadata": {},
     "output_type": "display_data"
    },
    {
     "data": {
      "text/markdown": [
       "p($32.036315729918$) = $12033388.6863889433443546295166$"
      ],
      "text/plain": [
       "<IPython.core.display.Markdown object>"
      ]
     },
     "metadata": {},
     "output_type": "display_data"
    },
    {
     "data": {
      "text/markdown": [
       "Let's use the previous result as an approximation (step $93$)"
      ],
      "text/plain": [
       "<IPython.core.display.Markdown object>"
      ]
     },
     "metadata": {},
     "output_type": "display_data"
    },
    {
     "data": {
      "text/markdown": [
       "Couldn't find a good approximation yet for p(x) = $1.0 x^{5} - 20.5 x^{4} - 4.0 x^{3} + 3.0 x^{2} + 3.7 x + 10000.0$"
      ],
      "text/plain": [
       "<IPython.core.display.Markdown object>"
      ]
     },
     "metadata": {},
     "output_type": "display_data"
    },
    {
     "data": {
      "text/markdown": [
       "p($23.0978905097849$) = $701846.161777722765691578388214$"
      ],
      "text/plain": [
       "<IPython.core.display.Markdown object>"
      ]
     },
     "metadata": {},
     "output_type": "display_data"
    },
    {
     "data": {
      "text/markdown": [
       "Let's use the previous result as an approximation (step $94$)"
      ],
      "text/plain": [
       "<IPython.core.display.Markdown object>"
      ]
     },
     "metadata": {},
     "output_type": "display_data"
    },
    {
     "data": {
      "text/markdown": [
       "Couldn't find a good approximation yet for p(x) = $1.0 x^{5} - 20.5 x^{4} - 4.0 x^{3} + 3.0 x^{2} + 3.7 x + 10000.0$"
      ],
      "text/plain": [
       "<IPython.core.display.Markdown object>"
      ]
     },
     "metadata": {},
     "output_type": "display_data"
    },
    {
     "data": {
      "text/markdown": [
       "p($20.6581165174639$) = $4889.18894538232052582316100597$"
      ],
      "text/plain": [
       "<IPython.core.display.Markdown object>"
      ]
     },
     "metadata": {},
     "output_type": "display_data"
    },
    {
     "data": {
      "text/markdown": [
       "Let's use the previous result as an approximation (step $95$)"
      ],
      "text/plain": [
       "<IPython.core.display.Markdown object>"
      ]
     },
     "metadata": {},
     "output_type": "display_data"
    },
    {
     "data": {
      "text/markdown": [
       "Found a good approximation for p(x) = $1.0 x^{5} - 20.5 x^{4} - 4.0 x^{3} + 3.0 x^{2} + 3.7 x + 10000.0$"
      ],
      "text/plain": [
       "<IPython.core.display.Markdown object>"
      ]
     },
     "metadata": {},
     "output_type": "display_data"
    },
    {
     "data": {
      "image/png": "[encoded data removed]",
      "text/latex": [
       "$\\displaystyle 20.631216413435$"
      ],
      "text/plain": [
       "20.6312164134350"
      ]
     },
     "metadata": {},
     "output_type": "display_data"
    },
    {
     "data": {
      "text/markdown": [
       "p($20.631216413435$) = $0.000000003390596248209476470947265625$"
      ],
      "text/plain": [
       "<IPython.core.display.Markdown object>"
      ]
     },
     "metadata": {},
     "output_type": "display_data"
    },
    {
     "name": "stdout",
     "output_type": "stream",
     "text": [
      "\n",
      "\n",
      "\n",
      "\n",
      "\n",
      "Insert an expression with explicit math symbols (example: \"x^5-10*x^3+.02*x^4+x**7\"):\n",
      "3d\n",
      "Invalid expression. Turning off.\n"
     ]
    }
   ],
   "source": [
    "run()"
   ]
  },
  {
   "cell_type": "code",
   "execution_count": null,
   "metadata": {},
   "outputs": [],
   "source": []
  }
 ],
 "metadata": {
  "kernelspec": {
   "display_name": "Python 3 (ipykernel)",
   "language": "python",
   "name": "python3"
  },
  "language_info": {
   "codemirror_mode": {
    "name": "ipython",
    "version": 3
   },
   "file_extension": ".py",
   "mimetype": "text/x-python",
   "name": "python",
   "nbconvert_exporter": "python",
   "pygments_lexer": "ipython3",
   "version": "3.9.7"
  }
 },
 "nbformat": 4,
 "nbformat_minor": 4
}
