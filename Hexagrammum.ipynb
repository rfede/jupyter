{
 "cells": [
  {
   "cell_type": "code",
   "execution_count": 10,
   "id": "577d541c",
   "metadata": {},
   "outputs": [],
   "source": [
    "def onlyNumb(obj):\n",
    "    return obj.replace(' ','').replace('.','').replace('(','').replace(')','')\n",
    "\n",
    "def countPoints(obj):\n",
    "    return len(set(onlyNumb(obj)))\n",
    "\n",
    "def isLine(obj):\n",
    "    return obj[len(obj)//2] == ' '\n",
    "\n",
    "def depth(obj):\n",
    "    for i in range(100):\n",
    "        if obj[i] != '(': return i\n",
    "\n",
    "def distinct(obj1, obj2): #determines if it's a new object\n",
    "    mid = len(obj1)//2\n",
    "    if mid == 0: return True\n",
    "    a, b = obj1[1:mid], obj1[mid+1:-1]\n",
    "    return (not a in obj2) and (not b in obj2)\n",
    "\n",
    "def product(a, b):\n",
    "    sep = ' '\n",
    "    if isLine(a):\n",
    "        sep = '.'\n",
    "    return '('+a+sep+b+')'\n",
    "\n",
    "def combine(seq):\n",
    "    result = []\n",
    "    length = len(seq)\n",
    "    for i in range(length):\n",
    "        for j in range(i+1, length):\n",
    "            if distinct(seq[i], seq[j]):\n",
    "                result.append(product(seq[i], seq[j]))\n",
    "    return result\n",
    "\n",
    "def geogebra(obj):\n",
    "    mid = len(obj)//2\n",
    "    if mid == 2:\n",
    "        return 'Line(A_'+obj[1]+', A_'+obj[3]+')'\n",
    "    if obj[mid] == '.':\n",
    "        return 'Intersect('+geogebra(obj[1:mid])+','+geogebra(obj[mid+1:-1])+')'\n",
    "    return 'Line('+geogebra(obj[1:mid])+','+geogebra(obj[mid+1:-1])+')'\n",
    "\n",
    "def getCaption(obj):\n",
    "    mid = len(obj)//2\n",
    "    if mid == 2:\n",
    "        return obj[1]+obj[3]\n",
    "    if obj[mid] == '.':\n",
    "        return getCaption(obj[1:mid])+'.'+getCaption(obj[mid+1:-1])\n",
    "    return '\\{'+getCaption(obj[1:mid])+'\\;'+getCaption(obj[mid+1:-1])+'\\}'\n",
    "\n",
    "def label(letter, obj):\n",
    "    return letter+'_{'+getCaption(obj).replace('\\{','(').replace('\\}',')').replace('\\;',' ')+'}'\n",
    "\n",
    "def getScript(points, letter, depth):\n",
    "    book = {}\n",
    "    keys = []\n",
    "    elements = points\n",
    "    for i in range(depth):\n",
    "        elements = combine(elements)\n",
    "    for el in elements:\n",
    "        caption = getCaption(el)\n",
    "        key = label(letter, el)\n",
    "        book[key]=[el, geogebra(el),'$'+caption+'$']\n",
    "        keys.append(key)\n",
    "\n",
    "    start = 'Execute[{'\n",
    "    for el in range(len(keys)):\n",
    "        start+='\"'+keys[el]+'='+book[keys[el]][1]+'\",'\n",
    "\n",
    "    print(start[:-1]+'}]')\n",
    "    start = 'Execute[{'\n",
    "    end = '},'\n",
    "    for el in range(len(keys)):\n",
    "        if (el % 9 == 0) and (el != 0):\n",
    "            print(start[:-1], end[:-1]+']')\n",
    "            start = 'Execute[{'\n",
    "            end = '},'\n",
    "        start+='\"SetCaption['+keys[el]+',%'+str(el%9+1)+']\",'\n",
    "        end += '\"'+book[keys[el]][2]+'\",'\n",
    "\n",
    "    print(start[:-1], end[:-1]+']')\n",
    "\n",
    "def redPoints(seq): #getScript(redPoints(elements[4]),'R',0)\n",
    "    def groups(obj):\n",
    "        a, b, c, d = list(obj[:4])\n",
    "        right = obj[4:]\n",
    "        if a in (right[2:]):\n",
    "            a, b = b, a\n",
    "        if c in (right[:2]):\n",
    "            c, d = d, c\n",
    "        return sorted(a + c), sorted(b + d)\n",
    "    def concurrent(linea, lineb): \n",
    "        a, b = groups(linea)\n",
    "        c, d = groups(lineb)\n",
    "        if ((a == c) or (a == d)  or (b == c) or (b == d)) and (len(set(linea).intersection(set(lineb)))==3):\n",
    "            return True\n",
    "        return False\n",
    "    result = []\n",
    "    length = len(seq)\n",
    "    mid = len(seq[0])//2\n",
    "    for i in range(length):\n",
    "        for j in range(i+1, length):\n",
    "            if concurrent(onlyNumb(seq[i]), onlyNumb(seq[j])):\n",
    "                result.append(product(seq[i], seq[j]))\n",
    "    return result\n",
    "\n",
    "\n",
    "points = ('1','2','3','4','5','6')\n",
    "\n"
   ]
  },
  {
   "cell_type": "code",
   "execution_count": 18,
   "id": "d04db100",
   "metadata": {},
   "outputs": [],
   "source": [
    "firstLines = combine(points)\n",
    "secondPoints = combine(firstLines)\n",
    "secondLines = combine(secondPoints)\n",
    "elements = {2:[], 3:[], 4:[], 5:[], 6:[]}\n",
    "for element in firstLines:\n",
    "    elements[countPoints(element)].append(element)\n",
    "for element in secondPoints:\n",
    "    elements[countPoints(element)].append(element)\n"
   ]
  },
  {
   "cell_type": "code",
   "execution_count": 19,
   "id": "551230bc",
   "metadata": {},
   "outputs": [
    {
     "name": "stdout",
     "output_type": "stream",
     "text": [
      "Execute[{\"a_{12}=Line(A_1, A_2)\",\"a_{13}=Line(A_1, A_3)\",\"a_{14}=Line(A_1, A_4)\",\"a_{15}=Line(A_1, A_5)\",\"a_{16}=Line(A_1, A_6)\",\"a_{23}=Line(A_2, A_3)\",\"a_{24}=Line(A_2, A_4)\",\"a_{25}=Line(A_2, A_5)\",\"a_{26}=Line(A_2, A_6)\",\"a_{34}=Line(A_3, A_4)\",\"a_{35}=Line(A_3, A_5)\",\"a_{36}=Line(A_3, A_6)\",\"a_{45}=Line(A_4, A_5)\",\"a_{46}=Line(A_4, A_6)\",\"a_{56}=Line(A_5, A_6)\"}]\n",
      "Execute[{\"SetCaption[a_{12},%1]\",\"SetCaption[a_{13},%2]\",\"SetCaption[a_{14},%3]\",\"SetCaption[a_{15},%4]\",\"SetCaption[a_{16},%5]\",\"SetCaption[a_{23},%6]\",\"SetCaption[a_{24},%7]\",\"SetCaption[a_{25},%8]\",\"SetCaption[a_{26},%9]\" },\"$12$\",\"$13$\",\"$14$\",\"$15$\",\"$16$\",\"$23$\",\"$24$\",\"$25$\",\"$26$\"]\n",
      "Execute[{\"SetCaption[a_{34},%1]\",\"SetCaption[a_{35},%2]\",\"SetCaption[a_{36},%3]\",\"SetCaption[a_{45},%4]\",\"SetCaption[a_{46},%5]\",\"SetCaption[a_{56},%6]\" },\"$34$\",\"$35$\",\"$36$\",\"$45$\",\"$46$\",\"$56$\"]\n"
     ]
    }
   ],
   "source": [
    "getScript(elements[2],'a',0)"
   ]
  },
  {
   "cell_type": "code",
   "execution_count": 20,
   "id": "552ca9d1",
   "metadata": {},
   "outputs": [
    {
     "name": "stdout",
     "output_type": "stream",
     "text": [
      "Execute[{\"B_{12.34}=Intersect(Line(A_1, A_2),Line(A_3, A_4))\",\"B_{12.35}=Intersect(Line(A_1, A_2),Line(A_3, A_5))\",\"B_{12.36}=Intersect(Line(A_1, A_2),Line(A_3, A_6))\",\"B_{12.45}=Intersect(Line(A_1, A_2),Line(A_4, A_5))\",\"B_{12.46}=Intersect(Line(A_1, A_2),Line(A_4, A_6))\",\"B_{12.56}=Intersect(Line(A_1, A_2),Line(A_5, A_6))\",\"B_{13.24}=Intersect(Line(A_1, A_3),Line(A_2, A_4))\",\"B_{13.25}=Intersect(Line(A_1, A_3),Line(A_2, A_5))\",\"B_{13.26}=Intersect(Line(A_1, A_3),Line(A_2, A_6))\",\"B_{13.45}=Intersect(Line(A_1, A_3),Line(A_4, A_5))\",\"B_{13.46}=Intersect(Line(A_1, A_3),Line(A_4, A_6))\",\"B_{13.56}=Intersect(Line(A_1, A_3),Line(A_5, A_6))\",\"B_{14.23}=Intersect(Line(A_1, A_4),Line(A_2, A_3))\",\"B_{14.25}=Intersect(Line(A_1, A_4),Line(A_2, A_5))\",\"B_{14.26}=Intersect(Line(A_1, A_4),Line(A_2, A_6))\",\"B_{14.35}=Intersect(Line(A_1, A_4),Line(A_3, A_5))\",\"B_{14.36}=Intersect(Line(A_1, A_4),Line(A_3, A_6))\",\"B_{14.56}=Intersect(Line(A_1, A_4),Line(A_5, A_6))\",\"B_{15.23}=Intersect(Line(A_1, A_5),Line(A_2, A_3))\",\"B_{15.24}=Intersect(Line(A_1, A_5),Line(A_2, A_4))\",\"B_{15.26}=Intersect(Line(A_1, A_5),Line(A_2, A_6))\",\"B_{15.34}=Intersect(Line(A_1, A_5),Line(A_3, A_4))\",\"B_{15.36}=Intersect(Line(A_1, A_5),Line(A_3, A_6))\",\"B_{15.46}=Intersect(Line(A_1, A_5),Line(A_4, A_6))\",\"B_{16.23}=Intersect(Line(A_1, A_6),Line(A_2, A_3))\",\"B_{16.24}=Intersect(Line(A_1, A_6),Line(A_2, A_4))\",\"B_{16.25}=Intersect(Line(A_1, A_6),Line(A_2, A_5))\",\"B_{16.34}=Intersect(Line(A_1, A_6),Line(A_3, A_4))\",\"B_{16.35}=Intersect(Line(A_1, A_6),Line(A_3, A_5))\",\"B_{16.45}=Intersect(Line(A_1, A_6),Line(A_4, A_5))\",\"B_{23.45}=Intersect(Line(A_2, A_3),Line(A_4, A_5))\",\"B_{23.46}=Intersect(Line(A_2, A_3),Line(A_4, A_6))\",\"B_{23.56}=Intersect(Line(A_2, A_3),Line(A_5, A_6))\",\"B_{24.35}=Intersect(Line(A_2, A_4),Line(A_3, A_5))\",\"B_{24.36}=Intersect(Line(A_2, A_4),Line(A_3, A_6))\",\"B_{24.56}=Intersect(Line(A_2, A_4),Line(A_5, A_6))\",\"B_{25.34}=Intersect(Line(A_2, A_5),Line(A_3, A_4))\",\"B_{25.36}=Intersect(Line(A_2, A_5),Line(A_3, A_6))\",\"B_{25.46}=Intersect(Line(A_2, A_5),Line(A_4, A_6))\",\"B_{26.34}=Intersect(Line(A_2, A_6),Line(A_3, A_4))\",\"B_{26.35}=Intersect(Line(A_2, A_6),Line(A_3, A_5))\",\"B_{26.45}=Intersect(Line(A_2, A_6),Line(A_4, A_5))\",\"B_{34.56}=Intersect(Line(A_3, A_4),Line(A_5, A_6))\",\"B_{35.46}=Intersect(Line(A_3, A_5),Line(A_4, A_6))\",\"B_{36.45}=Intersect(Line(A_3, A_6),Line(A_4, A_5))\"}]\n",
      "Execute[{\"SetCaption[B_{12.34},%1]\",\"SetCaption[B_{12.35},%2]\",\"SetCaption[B_{12.36},%3]\",\"SetCaption[B_{12.45},%4]\",\"SetCaption[B_{12.46},%5]\",\"SetCaption[B_{12.56},%6]\",\"SetCaption[B_{13.24},%7]\",\"SetCaption[B_{13.25},%8]\",\"SetCaption[B_{13.26},%9]\" },\"$12.34$\",\"$12.35$\",\"$12.36$\",\"$12.45$\",\"$12.46$\",\"$12.56$\",\"$13.24$\",\"$13.25$\",\"$13.26$\"]\n",
      "Execute[{\"SetCaption[B_{13.45},%1]\",\"SetCaption[B_{13.46},%2]\",\"SetCaption[B_{13.56},%3]\",\"SetCaption[B_{14.23},%4]\",\"SetCaption[B_{14.25},%5]\",\"SetCaption[B_{14.26},%6]\",\"SetCaption[B_{14.35},%7]\",\"SetCaption[B_{14.36},%8]\",\"SetCaption[B_{14.56},%9]\" },\"$13.45$\",\"$13.46$\",\"$13.56$\",\"$14.23$\",\"$14.25$\",\"$14.26$\",\"$14.35$\",\"$14.36$\",\"$14.56$\"]\n",
      "Execute[{\"SetCaption[B_{15.23},%1]\",\"SetCaption[B_{15.24},%2]\",\"SetCaption[B_{15.26},%3]\",\"SetCaption[B_{15.34},%4]\",\"SetCaption[B_{15.36},%5]\",\"SetCaption[B_{15.46},%6]\",\"SetCaption[B_{16.23},%7]\",\"SetCaption[B_{16.24},%8]\",\"SetCaption[B_{16.25},%9]\" },\"$15.23$\",\"$15.24$\",\"$15.26$\",\"$15.34$\",\"$15.36$\",\"$15.46$\",\"$16.23$\",\"$16.24$\",\"$16.25$\"]\n",
      "Execute[{\"SetCaption[B_{16.34},%1]\",\"SetCaption[B_{16.35},%2]\",\"SetCaption[B_{16.45},%3]\",\"SetCaption[B_{23.45},%4]\",\"SetCaption[B_{23.46},%5]\",\"SetCaption[B_{23.56},%6]\",\"SetCaption[B_{24.35},%7]\",\"SetCaption[B_{24.36},%8]\",\"SetCaption[B_{24.56},%9]\" },\"$16.34$\",\"$16.35$\",\"$16.45$\",\"$23.45$\",\"$23.46$\",\"$23.56$\",\"$24.35$\",\"$24.36$\",\"$24.56$\"]\n",
      "Execute[{\"SetCaption[B_{25.34},%1]\",\"SetCaption[B_{25.36},%2]\",\"SetCaption[B_{25.46},%3]\",\"SetCaption[B_{26.34},%4]\",\"SetCaption[B_{26.35},%5]\",\"SetCaption[B_{26.45},%6]\",\"SetCaption[B_{34.56},%7]\",\"SetCaption[B_{35.46},%8]\",\"SetCaption[B_{36.45},%9]\" },\"$25.34$\",\"$25.36$\",\"$25.46$\",\"$26.34$\",\"$26.35$\",\"$26.45$\",\"$34.56$\",\"$35.46$\",\"$36.45$\"]\n"
     ]
    }
   ],
   "source": [
    "getScript(elements[4],'B',0)"
   ]
  },
  {
   "cell_type": "code",
   "execution_count": 21,
   "id": "039c1f23",
   "metadata": {},
   "outputs": [],
   "source": [
    "elements = {2:[], 3:[], 4:[], 5:[], 6:[]}\n",
    "for element in secondLines:\n",
    "    elements[countPoints(element)].append(element)"
   ]
  },
  {
   "cell_type": "code",
   "execution_count": 22,
   "id": "19db0465",
   "metadata": {},
   "outputs": [
    {
     "name": "stdout",
     "output_type": "stream",
     "text": [
      "Execute[{\"B_{(12.34 13.24)}=Line(Intersect(Line(A_1, A_2),Line(A_3, A_4)),Intersect(Line(A_1, A_3),Line(A_2, A_4)))\",\"B_{(12.34 14.23)}=Line(Intersect(Line(A_1, A_2),Line(A_3, A_4)),Intersect(Line(A_1, A_4),Line(A_2, A_3)))\",\"B_{(12.35 13.25)}=Line(Intersect(Line(A_1, A_2),Line(A_3, A_5)),Intersect(Line(A_1, A_3),Line(A_2, A_5)))\",\"B_{(12.35 15.23)}=Line(Intersect(Line(A_1, A_2),Line(A_3, A_5)),Intersect(Line(A_1, A_5),Line(A_2, A_3)))\",\"B_{(12.36 13.26)}=Line(Intersect(Line(A_1, A_2),Line(A_3, A_6)),Intersect(Line(A_1, A_3),Line(A_2, A_6)))\",\"B_{(12.36 16.23)}=Line(Intersect(Line(A_1, A_2),Line(A_3, A_6)),Intersect(Line(A_1, A_6),Line(A_2, A_3)))\",\"B_{(12.45 14.25)}=Line(Intersect(Line(A_1, A_2),Line(A_4, A_5)),Intersect(Line(A_1, A_4),Line(A_2, A_5)))\",\"B_{(12.45 15.24)}=Line(Intersect(Line(A_1, A_2),Line(A_4, A_5)),Intersect(Line(A_1, A_5),Line(A_2, A_4)))\",\"B_{(12.46 14.26)}=Line(Intersect(Line(A_1, A_2),Line(A_4, A_6)),Intersect(Line(A_1, A_4),Line(A_2, A_6)))\",\"B_{(12.46 16.24)}=Line(Intersect(Line(A_1, A_2),Line(A_4, A_6)),Intersect(Line(A_1, A_6),Line(A_2, A_4)))\",\"B_{(12.56 15.26)}=Line(Intersect(Line(A_1, A_2),Line(A_5, A_6)),Intersect(Line(A_1, A_5),Line(A_2, A_6)))\",\"B_{(12.56 16.25)}=Line(Intersect(Line(A_1, A_2),Line(A_5, A_6)),Intersect(Line(A_1, A_6),Line(A_2, A_5)))\",\"B_{(13.24 14.23)}=Line(Intersect(Line(A_1, A_3),Line(A_2, A_4)),Intersect(Line(A_1, A_4),Line(A_2, A_3)))\",\"B_{(13.25 15.23)}=Line(Intersect(Line(A_1, A_3),Line(A_2, A_5)),Intersect(Line(A_1, A_5),Line(A_2, A_3)))\",\"B_{(13.26 16.23)}=Line(Intersect(Line(A_1, A_3),Line(A_2, A_6)),Intersect(Line(A_1, A_6),Line(A_2, A_3)))\",\"B_{(13.45 14.35)}=Line(Intersect(Line(A_1, A_3),Line(A_4, A_5)),Intersect(Line(A_1, A_4),Line(A_3, A_5)))\",\"B_{(13.45 15.34)}=Line(Intersect(Line(A_1, A_3),Line(A_4, A_5)),Intersect(Line(A_1, A_5),Line(A_3, A_4)))\",\"B_{(13.46 14.36)}=Line(Intersect(Line(A_1, A_3),Line(A_4, A_6)),Intersect(Line(A_1, A_4),Line(A_3, A_6)))\",\"B_{(13.46 16.34)}=Line(Intersect(Line(A_1, A_3),Line(A_4, A_6)),Intersect(Line(A_1, A_6),Line(A_3, A_4)))\",\"B_{(13.56 15.36)}=Line(Intersect(Line(A_1, A_3),Line(A_5, A_6)),Intersect(Line(A_1, A_5),Line(A_3, A_6)))\",\"B_{(13.56 16.35)}=Line(Intersect(Line(A_1, A_3),Line(A_5, A_6)),Intersect(Line(A_1, A_6),Line(A_3, A_5)))\",\"B_{(14.25 15.24)}=Line(Intersect(Line(A_1, A_4),Line(A_2, A_5)),Intersect(Line(A_1, A_5),Line(A_2, A_4)))\",\"B_{(14.26 16.24)}=Line(Intersect(Line(A_1, A_4),Line(A_2, A_6)),Intersect(Line(A_1, A_6),Line(A_2, A_4)))\",\"B_{(14.35 15.34)}=Line(Intersect(Line(A_1, A_4),Line(A_3, A_5)),Intersect(Line(A_1, A_5),Line(A_3, A_4)))\",\"B_{(14.36 16.34)}=Line(Intersect(Line(A_1, A_4),Line(A_3, A_6)),Intersect(Line(A_1, A_6),Line(A_3, A_4)))\",\"B_{(14.56 15.46)}=Line(Intersect(Line(A_1, A_4),Line(A_5, A_6)),Intersect(Line(A_1, A_5),Line(A_4, A_6)))\",\"B_{(14.56 16.45)}=Line(Intersect(Line(A_1, A_4),Line(A_5, A_6)),Intersect(Line(A_1, A_6),Line(A_4, A_5)))\",\"B_{(15.26 16.25)}=Line(Intersect(Line(A_1, A_5),Line(A_2, A_6)),Intersect(Line(A_1, A_6),Line(A_2, A_5)))\",\"B_{(15.36 16.35)}=Line(Intersect(Line(A_1, A_5),Line(A_3, A_6)),Intersect(Line(A_1, A_6),Line(A_3, A_5)))\",\"B_{(15.46 16.45)}=Line(Intersect(Line(A_1, A_5),Line(A_4, A_6)),Intersect(Line(A_1, A_6),Line(A_4, A_5)))\",\"B_{(23.45 24.35)}=Line(Intersect(Line(A_2, A_3),Line(A_4, A_5)),Intersect(Line(A_2, A_4),Line(A_3, A_5)))\",\"B_{(23.45 25.34)}=Line(Intersect(Line(A_2, A_3),Line(A_4, A_5)),Intersect(Line(A_2, A_5),Line(A_3, A_4)))\",\"B_{(23.46 24.36)}=Line(Intersect(Line(A_2, A_3),Line(A_4, A_6)),Intersect(Line(A_2, A_4),Line(A_3, A_6)))\",\"B_{(23.46 26.34)}=Line(Intersect(Line(A_2, A_3),Line(A_4, A_6)),Intersect(Line(A_2, A_6),Line(A_3, A_4)))\",\"B_{(23.56 25.36)}=Line(Intersect(Line(A_2, A_3),Line(A_5, A_6)),Intersect(Line(A_2, A_5),Line(A_3, A_6)))\",\"B_{(23.56 26.35)}=Line(Intersect(Line(A_2, A_3),Line(A_5, A_6)),Intersect(Line(A_2, A_6),Line(A_3, A_5)))\",\"B_{(24.35 25.34)}=Line(Intersect(Line(A_2, A_4),Line(A_3, A_5)),Intersect(Line(A_2, A_5),Line(A_3, A_4)))\",\"B_{(24.36 26.34)}=Line(Intersect(Line(A_2, A_4),Line(A_3, A_6)),Intersect(Line(A_2, A_6),Line(A_3, A_4)))\",\"B_{(24.56 25.46)}=Line(Intersect(Line(A_2, A_4),Line(A_5, A_6)),Intersect(Line(A_2, A_5),Line(A_4, A_6)))\",\"B_{(24.56 26.45)}=Line(Intersect(Line(A_2, A_4),Line(A_5, A_6)),Intersect(Line(A_2, A_6),Line(A_4, A_5)))\",\"B_{(25.36 26.35)}=Line(Intersect(Line(A_2, A_5),Line(A_3, A_6)),Intersect(Line(A_2, A_6),Line(A_3, A_5)))\",\"B_{(25.46 26.45)}=Line(Intersect(Line(A_2, A_5),Line(A_4, A_6)),Intersect(Line(A_2, A_6),Line(A_4, A_5)))\",\"B_{(34.56 35.46)}=Line(Intersect(Line(A_3, A_4),Line(A_5, A_6)),Intersect(Line(A_3, A_5),Line(A_4, A_6)))\",\"B_{(34.56 36.45)}=Line(Intersect(Line(A_3, A_4),Line(A_5, A_6)),Intersect(Line(A_3, A_6),Line(A_4, A_5)))\",\"B_{(35.46 36.45)}=Line(Intersect(Line(A_3, A_5),Line(A_4, A_6)),Intersect(Line(A_3, A_6),Line(A_4, A_5)))\"}]\n",
      "Execute[{\"SetCaption[B_{(12.34 13.24)},%1]\",\"SetCaption[B_{(12.34 14.23)},%2]\",\"SetCaption[B_{(12.35 13.25)},%3]\",\"SetCaption[B_{(12.35 15.23)},%4]\",\"SetCaption[B_{(12.36 13.26)},%5]\",\"SetCaption[B_{(12.36 16.23)},%6]\",\"SetCaption[B_{(12.45 14.25)},%7]\",\"SetCaption[B_{(12.45 15.24)},%8]\",\"SetCaption[B_{(12.46 14.26)},%9]\" },\"$\\{12.34\\;13.24\\}$\",\"$\\{12.34\\;14.23\\}$\",\"$\\{12.35\\;13.25\\}$\",\"$\\{12.35\\;15.23\\}$\",\"$\\{12.36\\;13.26\\}$\",\"$\\{12.36\\;16.23\\}$\",\"$\\{12.45\\;14.25\\}$\",\"$\\{12.45\\;15.24\\}$\",\"$\\{12.46\\;14.26\\}$\"]\n",
      "Execute[{\"SetCaption[B_{(12.46 16.24)},%1]\",\"SetCaption[B_{(12.56 15.26)},%2]\",\"SetCaption[B_{(12.56 16.25)},%3]\",\"SetCaption[B_{(13.24 14.23)},%4]\",\"SetCaption[B_{(13.25 15.23)},%5]\",\"SetCaption[B_{(13.26 16.23)},%6]\",\"SetCaption[B_{(13.45 14.35)},%7]\",\"SetCaption[B_{(13.45 15.34)},%8]\",\"SetCaption[B_{(13.46 14.36)},%9]\" },\"$\\{12.46\\;16.24\\}$\",\"$\\{12.56\\;15.26\\}$\",\"$\\{12.56\\;16.25\\}$\",\"$\\{13.24\\;14.23\\}$\",\"$\\{13.25\\;15.23\\}$\",\"$\\{13.26\\;16.23\\}$\",\"$\\{13.45\\;14.35\\}$\",\"$\\{13.45\\;15.34\\}$\",\"$\\{13.46\\;14.36\\}$\"]\n",
      "Execute[{\"SetCaption[B_{(13.46 16.34)},%1]\",\"SetCaption[B_{(13.56 15.36)},%2]\",\"SetCaption[B_{(13.56 16.35)},%3]\",\"SetCaption[B_{(14.25 15.24)},%4]\",\"SetCaption[B_{(14.26 16.24)},%5]\",\"SetCaption[B_{(14.35 15.34)},%6]\",\"SetCaption[B_{(14.36 16.34)},%7]\",\"SetCaption[B_{(14.56 15.46)},%8]\",\"SetCaption[B_{(14.56 16.45)},%9]\" },\"$\\{13.46\\;16.34\\}$\",\"$\\{13.56\\;15.36\\}$\",\"$\\{13.56\\;16.35\\}$\",\"$\\{14.25\\;15.24\\}$\",\"$\\{14.26\\;16.24\\}$\",\"$\\{14.35\\;15.34\\}$\",\"$\\{14.36\\;16.34\\}$\",\"$\\{14.56\\;15.46\\}$\",\"$\\{14.56\\;16.45\\}$\"]\n",
      "Execute[{\"SetCaption[B_{(15.26 16.25)},%1]\",\"SetCaption[B_{(15.36 16.35)},%2]\",\"SetCaption[B_{(15.46 16.45)},%3]\",\"SetCaption[B_{(23.45 24.35)},%4]\",\"SetCaption[B_{(23.45 25.34)},%5]\",\"SetCaption[B_{(23.46 24.36)},%6]\",\"SetCaption[B_{(23.46 26.34)},%7]\",\"SetCaption[B_{(23.56 25.36)},%8]\",\"SetCaption[B_{(23.56 26.35)},%9]\" },\"$\\{15.26\\;16.25\\}$\",\"$\\{15.36\\;16.35\\}$\",\"$\\{15.46\\;16.45\\}$\",\"$\\{23.45\\;24.35\\}$\",\"$\\{23.45\\;25.34\\}$\",\"$\\{23.46\\;24.36\\}$\",\"$\\{23.46\\;26.34\\}$\",\"$\\{23.56\\;25.36\\}$\",\"$\\{23.56\\;26.35\\}$\"]\n",
      "Execute[{\"SetCaption[B_{(24.35 25.34)},%1]\",\"SetCaption[B_{(24.36 26.34)},%2]\",\"SetCaption[B_{(24.56 25.46)},%3]\",\"SetCaption[B_{(24.56 26.45)},%4]\",\"SetCaption[B_{(25.36 26.35)},%5]\",\"SetCaption[B_{(25.46 26.45)},%6]\",\"SetCaption[B_{(34.56 35.46)},%7]\",\"SetCaption[B_{(34.56 36.45)},%8]\",\"SetCaption[B_{(35.46 36.45)},%9]\" },\"$\\{24.35\\;25.34\\}$\",\"$\\{24.36\\;26.34\\}$\",\"$\\{24.56\\;25.46\\}$\",\"$\\{24.56\\;26.45\\}$\",\"$\\{25.36\\;26.35\\}$\",\"$\\{25.46\\;26.45\\}$\",\"$\\{34.56\\;35.46\\}$\",\"$\\{34.56\\;36.45\\}$\",\"$\\{35.46\\;36.45\\}$\"]\n"
     ]
    }
   ],
   "source": [
    "getScript(elements[4],'B',0)"
   ]
  },
  {
   "cell_type": "code",
   "execution_count": null,
   "id": "5bf5b354",
   "metadata": {},
   "outputs": [],
   "source": [
    "\n",
    "\n",
    "\n",
    "\n",
    "\n",
    "\n",
    "\n",
    "\n",
    "\n",
    "\n",
    "\n",
    "\n",
    "\n",
    "Execute[{\"SetCaption[b_{(14.25 23.46)},%1]\",\"SetCaption[b_{(14.25 23.56)},%2]\",\"SetCaption[b_{(14.25 24.36)},%3]\",\"SetCaption[b_{(14.25 26.34)},%4]\",\"SetCaption[b_{(14.25 26.35)},%5]\",\"SetCaption[b_{(14.25 34.56)},%6]\",\"SetCaption[b_{(14.25 35.46)},%7]\",\"SetCaption[b_{(14.25 36.45)},%8]\",\"SetCaption[b_{(14.26 15.23)},%9]\" },\"$\\{14.25\\;23.46\\}$\",\"$\\{14.25\\;23.56\\}$\",\"$\\{14.25\\;24.36\\}$\",\"$\\{14.25\\;26.34\\}$\",\"$\\{14.25\\;26.35\\}$\",\"$\\{14.25\\;34.56\\}$\",\"$\\{14.25\\;35.46\\}$\",\"$\\{14.25\\;36.45\\}$\",\"$\\{14.26\\;15.23\\}$\"]\n",
    "Execute[{\"SetCaption[b_{(14.26 15.34)},%1]\",\"SetCaption[b_{(14.26 15.36)},%2]\",\"SetCaption[b_{(14.26 16.35)},%3]\",\"SetCaption[b_{(14.26 23.45)},%4]\",\"SetCaption[b_{(14.26 23.56)},%5]\",\"SetCaption[b_{(14.26 24.35)},%6]\",\"SetCaption[b_{(14.26 25.34)},%7]\",\"SetCaption[b_{(14.26 25.36)},%8]\",\"SetCaption[b_{(14.26 34.56)},%9]\" },\"$\\{14.26\\;15.34\\}$\",\"$\\{14.26\\;15.36\\}$\",\"$\\{14.26\\;16.35\\}$\",\"$\\{14.26\\;23.45\\}$\",\"$\\{14.26\\;23.56\\}$\",\"$\\{14.26\\;24.35\\}$\",\"$\\{14.26\\;25.34\\}$\",\"$\\{14.26\\;25.36\\}$\",\"$\\{14.26\\;34.56\\}$\"]\n",
    "Execute[{\"SetCaption[b_{(14.26 35.46)},%1]\",\"SetCaption[b_{(14.26 36.45)},%2]\",\"SetCaption[b_{(14.35 15.26)},%3]\",\"SetCaption[b_{(14.35 16.23)},%4]\",\"SetCaption[b_{(14.35 16.24)},%5]\",\"SetCaption[b_{(14.35 16.25)},%6]\",\"SetCaption[b_{(14.35 23.46)},%7]\",\"SetCaption[b_{(14.35 23.56)},%8]\",\"SetCaption[b_{(14.35 24.36)},%9]\" },\"$\\{14.26\\;35.46\\}$\",\"$\\{14.26\\;36.45\\}$\",\"$\\{14.35\\;15.26\\}$\",\"$\\{14.35\\;16.23\\}$\",\"$\\{14.35\\;16.24\\}$\",\"$\\{14.35\\;16.25\\}$\",\"$\\{14.35\\;23.46\\}$\",\"$\\{14.35\\;23.56\\}$\",\"$\\{14.35\\;24.36\\}$\"]\n",
    "Execute[{\"SetCaption[b_{(14.35 24.56)},%1]\",\"SetCaption[b_{(14.35 25.36)},%2]\",\"SetCaption[b_{(14.35 25.46)},%3]\",\"SetCaption[b_{(14.35 26.34)},%4]\",\"SetCaption[b_{(14.35 26.45)},%5]\",\"SetCaption[b_{(14.36 15.23)},%6]\",\"SetCaption[b_{(14.36 15.24)},%7]\",\"SetCaption[b_{(14.36 15.26)},%8]\",\"SetCaption[b_{(14.36 16.25)},%9]\" },\"$\\{14.35\\;24.56\\}$\",\"$\\{14.35\\;25.36\\}$\",\"$\\{14.35\\;25.46\\}$\",\"$\\{14.35\\;26.34\\}$\",\"$\\{14.35\\;26.45\\}$\",\"$\\{14.36\\;15.23\\}$\",\"$\\{14.36\\;15.24\\}$\",\"$\\{14.36\\;15.26\\}$\",\"$\\{14.36\\;16.25\\}$\"]\n",
    "Execute[{\"SetCaption[b_{(14.36 23.45)},%1]\",\"SetCaption[b_{(14.36 23.56)},%2]\",\"SetCaption[b_{(14.36 24.35)},%3]\",\"SetCaption[b_{(14.36 24.56)},%4]\",\"SetCaption[b_{(14.36 25.34)},%5]\",\"SetCaption[b_{(14.36 25.46)},%6]\",\"SetCaption[b_{(14.36 26.35)},%7]\",\"SetCaption[b_{(14.36 26.45)},%8]\",\"SetCaption[b_{(14.56 15.23)},%9]\" },\"$\\{14.36\\;23.45\\}$\",\"$\\{14.36\\;23.56\\}$\",\"$\\{14.36\\;24.35\\}$\",\"$\\{14.36\\;24.56\\}$\",\"$\\{14.36\\;25.34\\}$\",\"$\\{14.36\\;25.46\\}$\",\"$\\{14.36\\;26.35\\}$\",\"$\\{14.36\\;26.45\\}$\",\"$\\{14.56\\;15.23\\}$\"]\n",
    "Execute[{\"SetCaption[b_{(14.56 16.23)},%1]\",\"SetCaption[b_{(14.56 23.45)},%2]\",\"SetCaption[b_{(14.56 23.46)},%3]\",\"SetCaption[b_{(14.56 24.35)},%4]\",\"SetCaption[b_{(14.56 24.36)},%5]\",\"SetCaption[b_{(14.56 25.34)},%6]\",\"SetCaption[b_{(14.56 25.36)},%7]\",\"SetCaption[b_{(14.56 26.34)},%8]\",\"SetCaption[b_{(14.56 26.35)},%9]\" },\"$\\{14.56\\;16.23\\}$\",\"$\\{14.56\\;23.45\\}$\",\"$\\{14.56\\;23.46\\}$\",\"$\\{14.56\\;24.35\\}$\",\"$\\{14.56\\;24.36\\}$\",\"$\\{14.56\\;25.34\\}$\",\"$\\{14.56\\;25.36\\}$\",\"$\\{14.56\\;26.34\\}$\",\"$\\{14.56\\;26.35\\}$\"]\n",
    "Execute[{\"SetCaption[b_{(15.23 16.24)},%1]\",\"SetCaption[b_{(15.23 16.34)},%2]\",\"SetCaption[b_{(15.23 16.45)},%3]\",\"SetCaption[b_{(15.23 24.36)},%4]\",\"SetCaption[b_{(15.23 24.56)},%5]\",\"SetCaption[b_{(15.23 25.46)},%6]\",\"SetCaption[b_{(15.23 26.34)},%7]\",\"SetCaption[b_{(15.23 26.45)},%8]\",\"SetCaption[b_{(15.23 34.56)},%9]\" },\"$\\{15.23\\;16.24\\}$\",\"$\\{15.23\\;16.34\\}$\",\"$\\{15.23\\;16.45\\}$\",\"$\\{15.23\\;24.36\\}$\",\"$\\{15.23\\;24.56\\}$\",\"$\\{15.23\\;25.46\\}$\",\"$\\{15.23\\;26.34\\}$\",\"$\\{15.23\\;26.45\\}$\",\"$\\{15.23\\;34.56\\}$\"]\n",
    "Execute[{\"SetCaption[b_{(15.23 35.46)},%1]\",\"SetCaption[b_{(15.23 36.45)},%2]\",\"SetCaption[b_{(15.24 16.23)},%3]\",\"SetCaption[b_{(15.24 16.34)},%4]\",\"SetCaption[b_{(15.24 16.35)},%5]\",\"SetCaption[b_{(15.24 23.46)},%6]\",\"SetCaption[b_{(15.24 23.56)},%7]\",\"SetCaption[b_{(15.24 25.36)},%8]\",\"SetCaption[b_{(15.24 26.34)},%9]\" },\"$\\{15.23\\;35.46\\}$\",\"$\\{15.23\\;36.45\\}$\",\"$\\{15.24\\;16.23\\}$\",\"$\\{15.24\\;16.34\\}$\",\"$\\{15.24\\;16.35\\}$\",\"$\\{15.24\\;23.46\\}$\",\"$\\{15.24\\;23.56\\}$\",\"$\\{15.24\\;25.36\\}$\",\"$\\{15.24\\;26.34\\}$\"]\n",
    "Execute[{\"SetCaption[b_{(15.24 26.35)},%1]\",\"SetCaption[b_{(15.24 34.56)},%2]\",\"SetCaption[b_{(15.24 35.46)},%3]\",\"SetCaption[b_{(15.24 36.45)},%4]\",\"SetCaption[b_{(15.26 16.34)},%5]\",\"SetCaption[b_{(15.26 23.45)},%6]\",\"SetCaption[b_{(15.26 23.46)},%7]\",\"SetCaption[b_{(15.26 24.35)},%8]\",\"SetCaption[b_{(15.26 24.36)},%9]\" },\"$\\{15.24\\;26.35\\}$\",\"$\\{15.24\\;34.56\\}$\",\"$\\{15.24\\;35.46\\}$\",\"$\\{15.24\\;36.45\\}$\",\"$\\{15.26\\;16.34\\}$\",\"$\\{15.26\\;23.45\\}$\",\"$\\{15.26\\;23.46\\}$\",\"$\\{15.26\\;24.35\\}$\",\"$\\{15.26\\;24.36\\}$\"]\n",
    "Execute[{\"SetCaption[b_{(15.26 25.34)},%1]\",\"SetCaption[b_{(15.26 34.56)},%2]\",\"SetCaption[b_{(15.26 35.46)},%3]\",\"SetCaption[b_{(15.26 36.45)},%4]\",\"SetCaption[b_{(15.34 16.23)},%5]\",\"SetCaption[b_{(15.34 16.24)},%6]\",\"SetCaption[b_{(15.34 16.25)},%7]\",\"SetCaption[b_{(15.34 23.46)},%8]\",\"SetCaption[b_{(15.34 23.56)},%9]\" },\"$\\{15.26\\;25.34\\}$\",\"$\\{15.26\\;34.56\\}$\",\"$\\{15.26\\;35.46\\}$\",\"$\\{15.26\\;36.45\\}$\",\"$\\{15.34\\;16.23\\}$\",\"$\\{15.34\\;16.24\\}$\",\"$\\{15.34\\;16.25\\}$\",\"$\\{15.34\\;23.46\\}$\",\"$\\{15.34\\;23.56\\}$\"]\n",
    "Execute[{\"SetCaption[b_{(15.34 24.36)},%1]\",\"SetCaption[b_{(15.34 24.56)},%2]\",\"SetCaption[b_{(15.34 25.36)},%3]\",\"SetCaption[b_{(15.34 25.46)},%4]\",\"SetCaption[b_{(15.34 26.35)},%5]\",\"SetCaption[b_{(15.34 26.45)},%6]\",\"SetCaption[b_{(15.36 16.24)},%7]\",\"SetCaption[b_{(15.36 23.45)},%8]\",\"SetCaption[b_{(15.36 23.46)},%9]\" },\"$\\{15.34\\;24.36\\}$\",\"$\\{15.34\\;24.56\\}$\",\"$\\{15.34\\;25.36\\}$\",\"$\\{15.34\\;25.46\\}$\",\"$\\{15.34\\;26.35\\}$\",\"$\\{15.34\\;26.45\\}$\",\"$\\{15.36\\;16.24\\}$\",\"$\\{15.36\\;23.45\\}$\",\"$\\{15.36\\;23.46\\}$\"]\n",
    "Execute[{\"SetCaption[b_{(15.36 24.35)},%1]\",\"SetCaption[b_{(15.36 24.56)},%2]\",\"SetCaption[b_{(15.36 25.34)},%3]\",\"SetCaption[b_{(15.36 25.46)},%4]\",\"SetCaption[b_{(15.36 26.34)},%5]\",\"SetCaption[b_{(15.36 26.45)},%6]\",\"SetCaption[b_{(15.46 16.23)},%7]\",\"SetCaption[b_{(15.46 23.45)},%8]\",\"SetCaption[b_{(15.46 23.56)},%9]\" },\"$\\{15.36\\;24.35\\}$\",\"$\\{15.36\\;24.56\\}$\",\"$\\{15.36\\;25.34\\}$\",\"$\\{15.36\\;25.46\\}$\",\"$\\{15.36\\;26.34\\}$\",\"$\\{15.36\\;26.45\\}$\",\"$\\{15.46\\;16.23\\}$\",\"$\\{15.46\\;23.45\\}$\",\"$\\{15.46\\;23.56\\}$\"]\n",
    "Execute[{\"SetCaption[b_{(15.46 24.35)},%1]\",\"SetCaption[b_{(15.46 24.36)},%2]\",\"SetCaption[b_{(15.46 25.34)},%3]\",\"SetCaption[b_{(15.46 25.36)},%4]\",\"SetCaption[b_{(15.46 26.34)},%5]\",\"SetCaption[b_{(15.46 26.35)},%6]\",\"SetCaption[b_{(16.23 24.35)},%7]\",\"SetCaption[b_{(16.23 24.56)},%8]\",\"SetCaption[b_{(16.23 25.34)},%9]\" },\"$\\{15.46\\;24.35\\}$\",\"$\\{15.46\\;24.36\\}$\",\"$\\{15.46\\;25.34\\}$\",\"$\\{15.46\\;25.36\\}$\",\"$\\{15.46\\;26.34\\}$\",\"$\\{15.46\\;26.35\\}$\",\"$\\{16.23\\;24.35\\}$\",\"$\\{16.23\\;24.56\\}$\",\"$\\{16.23\\;25.34\\}$\"]\n",
    "Execute[{\"SetCaption[b_{(16.23 25.46)},%1]\",\"SetCaption[b_{(16.23 26.45)},%2]\",\"SetCaption[b_{(16.23 34.56)},%3]\",\"SetCaption[b_{(16.23 35.46)},%4]\",\"SetCaption[b_{(16.23 36.45)},%5]\",\"SetCaption[b_{(16.24 23.45)},%6]\",\"SetCaption[b_{(16.24 23.56)},%7]\",\"SetCaption[b_{(16.24 25.34)},%8]\",\"SetCaption[b_{(16.24 25.36)},%9]\" },\"$\\{16.23\\;25.46\\}$\",\"$\\{16.23\\;26.45\\}$\",\"$\\{16.23\\;34.56\\}$\",\"$\\{16.23\\;35.46\\}$\",\"$\\{16.23\\;36.45\\}$\",\"$\\{16.24\\;23.45\\}$\",\"$\\{16.24\\;23.56\\}$\",\"$\\{16.24\\;25.34\\}$\",\"$\\{16.24\\;25.36\\}$\"]\n",
    "Execute[{\"SetCaption[b_{(16.24 26.35)},%1]\",\"SetCaption[b_{(16.24 34.56)},%2]\",\"SetCaption[b_{(16.24 35.46)},%3]\",\"SetCaption[b_{(16.24 36.45)},%4]\",\"SetCaption[b_{(16.25 23.45)},%5]\",\"SetCaption[b_{(16.25 23.46)},%6]\",\"SetCaption[b_{(16.25 24.35)},%7]\",\"SetCaption[b_{(16.25 24.36)},%8]\",\"SetCaption[b_{(16.25 26.34)},%9]\" },\"$\\{16.24\\;26.35\\}$\",\"$\\{16.24\\;34.56\\}$\",\"$\\{16.24\\;35.46\\}$\",\"$\\{16.24\\;36.45\\}$\",\"$\\{16.25\\;23.45\\}$\",\"$\\{16.25\\;23.46\\}$\",\"$\\{16.25\\;24.35\\}$\",\"$\\{16.25\\;24.36\\}$\",\"$\\{16.25\\;26.34\\}$\"]\n",
    "Execute[{\"SetCaption[b_{(16.25 34.56)},%1]\",\"SetCaption[b_{(16.25 35.46)},%2]\",\"SetCaption[b_{(16.25 36.45)},%3]\",\"SetCaption[b_{(16.34 23.45)},%4]\",\"SetCaption[b_{(16.34 23.56)},%5]\",\"SetCaption[b_{(16.34 24.35)},%6]\",\"SetCaption[b_{(16.34 24.56)},%7]\",\"SetCaption[b_{(16.34 25.36)},%8]\",\"SetCaption[b_{(16.34 25.46)},%9]\" },\"$\\{16.25\\;34.56\\}$\",\"$\\{16.25\\;35.46\\}$\",\"$\\{16.25\\;36.45\\}$\",\"$\\{16.34\\;23.45\\}$\",\"$\\{16.34\\;23.56\\}$\",\"$\\{16.34\\;24.35\\}$\",\"$\\{16.34\\;24.56\\}$\",\"$\\{16.34\\;25.36\\}$\",\"$\\{16.34\\;25.46\\}$\"]\n",
    "Execute[{\"SetCaption[b_{(16.34 26.35)},%1]\",\"SetCaption[b_{(16.34 26.45)},%2]\",\"SetCaption[b_{(16.35 23.45)},%3]\",\"SetCaption[b_{(16.35 23.46)},%4]\",\"SetCaption[b_{(16.35 24.36)},%5]\",\"SetCaption[b_{(16.35 24.56)},%6]\",\"SetCaption[b_{(16.35 25.34)},%7]\",\"SetCaption[b_{(16.35 25.46)},%8]\",\"SetCaption[b_{(16.35 26.34)},%9]\" },\"$\\{16.34\\;26.35\\}$\",\"$\\{16.34\\;26.45\\}$\",\"$\\{16.35\\;23.45\\}$\",\"$\\{16.35\\;23.46\\}$\",\"$\\{16.35\\;24.36\\}$\",\"$\\{16.35\\;24.56\\}$\",\"$\\{16.35\\;25.34\\}$\",\"$\\{16.35\\;25.46\\}$\",\"$\\{16.35\\;26.34\\}$\"]\n",
    "Execute[{\"SetCaption[b_{(16.35 26.45)},%1]\",\"SetCaption[b_{(16.45 23.46)},%2]\",\"SetCaption[b_{(16.45 23.56)},%3]\",\"SetCaption[b_{(16.45 24.35)},%4]\",\"SetCaption[b_{(16.45 24.36)},%5]\",\"SetCaption[b_{(16.45 25.34)},%6]\",\"SetCaption[b_{(16.45 25.36)},%7]\",\"SetCaption[b_{(16.45 26.34)},%8]\",\"SetCaption[b_{(16.45 26.35)},%9]\" },\"$\\{16.35\\;26.45\\}$\",\"$\\{16.45\\;23.46\\}$\",\"$\\{16.45\\;23.56\\}$\",\"$\\{16.45\\;24.35\\}$\",\"$\\{16.45\\;24.36\\}$\",\"$\\{16.45\\;25.34\\}$\",\"$\\{16.45\\;25.36\\}$\",\"$\\{16.45\\;26.34\\}$\",\"$\\{16.45\\;26.35\\}$\"]\n"
   ]
  }
 ],
 "metadata": {
  "kernelspec": {
   "display_name": "Python 3 (ipykernel)",
   "language": "python",
   "name": "python3"
  },
  "language_info": {
   "codemirror_mode": {
    "name": "ipython",
    "version": 3
   },
   "file_extension": ".py",
   "mimetype": "text/x-python",
   "name": "python",
   "nbconvert_exporter": "python",
   "pygments_lexer": "ipython3",
   "version": "3.9.7"
  }
 },
 "nbformat": 4,
 "nbformat_minor": 5
}
