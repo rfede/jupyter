{
 "cells": [
  {
   "cell_type": "code",
   "execution_count": 1,
   "id": "28835583",
   "metadata": {},
   "outputs": [
    {
     "name": "stdout",
     "output_type": "stream",
     "text": [
      "IPython console for SymPy 1.9 (Python 3.9.7-64-bit) (ground types: python)\n",
      "\n",
      "These commands were executed:\n",
      ">>> from __future__ import division\n",
      ">>> from sympy import *\n",
      ">>> x, y, z, t = symbols('x y z t')\n",
      ">>> k, m, n = symbols('k m n', integer=True)\n",
      ">>> f, g, h = symbols('f g h', cls=Function)\n",
      ">>> init_printing()\n",
      "\n",
      "Documentation can be found at https://docs.sympy.org/1.9/\n",
      "\n"
     ]
    }
   ],
   "source": [
    "from sympy import *\n",
    "from IPython.display import display\n",
    "init_session(use_latex=True)\n",
    "from math import comb"
   ]
  },
  {
   "cell_type": "code",
   "execution_count": 3,
   "id": "f7ac6ab4",
   "metadata": {},
   "outputs": [
    {
     "data": {
      "text/latex": [
       "$\\displaystyle \\left( \\left[\\begin{matrix}1 & 0 & 0 & 0 & 0 & 0 & 0 & 0 & 0\\\\0 & \\frac{1}{2} & 0 & 0 & 0 & 0 & 0 & 0 & 0\\\\0 & 0 & \\frac{1}{3} & 0 & 0 & 0 & 0 & 0 & 0\\\\0 & 0 & 0 & \\frac{1}{4} & 0 & 0 & 0 & 0 & 0\\\\0 & 0 & 0 & 0 & \\frac{1}{5} & 0 & 0 & 0 & 0\\\\0 & 0 & 0 & 0 & 0 & \\frac{1}{6} & 0 & 0 & 0\\\\0 & 0 & 0 & 0 & 0 & 0 & \\frac{1}{7} & 0 & 0\\\\0 & 0 & 0 & 0 & 0 & 0 & 0 & \\frac{1}{8} & 0\\\\0 & 0 & 0 & 0 & 0 & 0 & 0 & 0 & \\frac{1}{9}\\end{matrix}\\right], \\  \\left[\\begin{matrix}1 & 0 & 0 & 0 & 0 & 0 & 0 & 0 & 0\\\\1 & 0 & 0 & 0 & 0 & 0 & 0 & 0 & 0\\\\-1 & 3 & 0 & 0 & 0 & 0 & 0 & 0 & 0\\\\1 & -4 & 6 & 0 & 0 & 0 & 0 & 0 & 0\\\\-1 & 5 & -10 & 10 & 0 & 0 & 0 & 0 & 0\\\\1 & -6 & 15 & -20 & 15 & 0 & 0 & 0 & 0\\\\-1 & 7 & -21 & 35 & -35 & 21 & 0 & 0 & 0\\\\1 & -8 & 28 & -56 & 70 & -56 & 28 & 0 & 0\\\\-1 & 9 & -36 & 84 & -126 & 126 & -84 & 36 & 0\\end{matrix}\\right], \\  \\left[\\begin{matrix}1\\\\1\\\\1\\\\1\\\\1\\\\1\\\\1\\\\1\\\\1\\end{matrix}\\right], \\  \\left[\\begin{matrix}1\\\\\\frac{1}{2}\\\\\\frac{1}{6}\\\\0\\\\- \\frac{1}{30}\\\\0\\\\\\frac{1}{42}\\\\0\\\\- \\frac{1}{30}\\end{matrix}\\right]\\right)$"
      ],
      "text/plain": [
       "⎛⎡1   0    0    0    0    0    0    0    0 ⎤  ⎡1   0    0    0    0     0    0\n",
       "⎜⎢                                         ⎥  ⎢                               \n",
       "⎜⎢0  1/2   0    0    0    0    0    0    0 ⎥  ⎢1   0    0    0    0     0    0\n",
       "⎜⎢                                         ⎥  ⎢                               \n",
       "⎜⎢0   0   1/3   0    0    0    0    0    0 ⎥  ⎢-1  3    0    0    0     0    0\n",
       "⎜⎢                                         ⎥  ⎢                               \n",
       "⎜⎢0   0    0   1/4   0    0    0    0    0 ⎥  ⎢1   -4   6    0    0     0    0\n",
       "⎜⎢                                         ⎥  ⎢                               \n",
       "⎜⎢0   0    0    0   1/5   0    0    0    0 ⎥, ⎢-1  5   -10  10    0     0    0\n",
       "⎜⎢                                         ⎥  ⎢                               \n",
       "⎜⎢0   0    0    0    0   1/6   0    0    0 ⎥  ⎢1   -6  15   -20   15    0    0\n",
       "⎜⎢                                         ⎥  ⎢                               \n",
       "⎜⎢0   0    0    0    0    0   1/7   0    0 ⎥  ⎢-1  7   -21  35   -35   21    0\n",
       "⎜⎢                                         ⎥  ⎢                               \n",
       "⎜⎢0   0    0    0    0    0    0   1/8   0 ⎥  ⎢1   -8  28   -56   70   -56  28\n",
       "⎜⎢                                         ⎥  ⎢                               \n",
       "⎝⎣0   0    0    0    0    0    0    0   1/9⎦  ⎣-1  9   -36  84   -126  126  -8\n",
       "\n",
       "   0   0⎤  ⎡1⎤  ⎡  1  ⎤⎞\n",
       "        ⎥  ⎢ ⎥  ⎢     ⎥⎟\n",
       "   0   0⎥  ⎢1⎥  ⎢ 1/2 ⎥⎟\n",
       "        ⎥  ⎢ ⎥  ⎢     ⎥⎟\n",
       "   0   0⎥  ⎢1⎥  ⎢ 1/6 ⎥⎟\n",
       "        ⎥  ⎢ ⎥  ⎢     ⎥⎟\n",
       "   0   0⎥  ⎢1⎥  ⎢  0  ⎥⎟\n",
       "        ⎥  ⎢ ⎥  ⎢     ⎥⎟\n",
       "   0   0⎥, ⎢1⎥, ⎢-1/30⎥⎟\n",
       "        ⎥  ⎢ ⎥  ⎢     ⎥⎟\n",
       "   0   0⎥  ⎢1⎥  ⎢  0  ⎥⎟\n",
       "        ⎥  ⎢ ⎥  ⎢     ⎥⎟\n",
       "   0   0⎥  ⎢1⎥  ⎢1/42 ⎥⎟\n",
       "        ⎥  ⎢ ⎥  ⎢     ⎥⎟\n",
       "   0   0⎥  ⎢1⎥  ⎢  0  ⎥⎟\n",
       "        ⎥  ⎢ ⎥  ⎢     ⎥⎟\n",
       "4  36  0⎦  ⎣1⎦  ⎣-1/30⎦⎠"
      ]
     },
     "metadata": {},
     "output_type": "display_data"
    }
   ],
   "source": [
    "def makeN(size):\n",
    "    return Matrix([[Rational(1,(i+1)) if i == j else 0 for i in range(size)]for j in range(size)])\n",
    "\n",
    "def makeH(size):\n",
    "    P = Matrix([[comb(j+1,i) * (-1)**(1+i+j) if i < j else 0 for i in range(size)]for j in range(size)])\n",
    "    P[0,0] = Rational(1,1)\n",
    "    return P\n",
    "\n",
    "def col(size):\n",
    "    return Matrix([[1] for j in range(size)])\n",
    "\n",
    "n = 9\n",
    "\"\"\"\n",
    "N = [1  0  0  0  0  .]     H = [ 1  0   0   0   0  .]     v = [ 1]\n",
    "    [0 1/2 0  0  0  .]         [ 1  0   0   0   0  .]         [ 1]\n",
    "    [0  0 1/3 0  0  .]         [-1  3   0   0   0  .]         [ 1]\n",
    "    [0  0  0 1/4 0  .]         [ 1 -4   6   0   0  .]         [ 1]\n",
    "    [0  0  0  0 1/5 .]         [-1  5 -10  10   0  .]         [ 1]\n",
    "    [.  .  .  .  .  .]         [ .  .   .   .   .  .]         [ .]\n",
    "\"\"\"\n",
    "N = makeN(n) \n",
    "H = makeH(n)\n",
    "product = (N * H) # take the product\n",
    "B_n = product**n # nth power of the product\n",
    "v = col(n) # to take the first column of the product \n",
    "\n",
    "display((N, H, v, B_n * v ))"
   ]
  },
  {
   "cell_type": "code",
   "execution_count": 5,
   "id": "e48f855b",
   "metadata": {},
   "outputs": [
    {
     "ename": "TypeError",
     "evalue": "col() missing 1 required positional argument: 'size'",
     "output_type": "error",
     "traceback": [
      "\u001b[1;31m---------------------------------------------------------------------------\u001b[0m",
      "\u001b[1;31mTypeError\u001b[0m                                 Traceback (most recent call last)",
      "\u001b[1;32m~\\AppData\\Local\\Temp/ipykernel_20760/2785074993.py\u001b[0m in \u001b[0;36m<module>\u001b[1;34m\u001b[0m\n\u001b[0;32m      2\u001b[0m \u001b[0mN\u001b[0m \u001b[1;33m=\u001b[0m \u001b[0mmakeN\u001b[0m\u001b[1;33m(\u001b[0m\u001b[0mn\u001b[0m\u001b[1;33m)\u001b[0m\u001b[1;33m\u001b[0m\u001b[1;33m\u001b[0m\u001b[0m\n\u001b[0;32m      3\u001b[0m \u001b[0mH\u001b[0m \u001b[1;33m=\u001b[0m \u001b[0mmakeH\u001b[0m\u001b[1;33m(\u001b[0m\u001b[0mn\u001b[0m\u001b[1;33m)\u001b[0m\u001b[1;33m\u001b[0m\u001b[1;33m\u001b[0m\u001b[0m\n\u001b[1;32m----> 4\u001b[1;33m \u001b[0mv\u001b[0m \u001b[1;33m=\u001b[0m \u001b[0mcol\u001b[0m\u001b[1;33m(\u001b[0m\u001b[1;33m)\u001b[0m\u001b[1;33m\u001b[0m\u001b[1;33m\u001b[0m\u001b[0m\n\u001b[0m\u001b[0;32m      5\u001b[0m \u001b[1;33m(\u001b[0m\u001b[1;33m(\u001b[0m\u001b[0mN\u001b[0m \u001b[1;33m*\u001b[0m \u001b[0mH\u001b[0m\u001b[1;33m)\u001b[0m\u001b[1;33m**\u001b[0m\u001b[0mn\u001b[0m \u001b[1;33m*\u001b[0m \u001b[0mv\u001b[0m\u001b[1;33m)\u001b[0m\u001b[1;33m\u001b[0m\u001b[1;33m\u001b[0m\u001b[0m\n",
      "\u001b[1;31mTypeError\u001b[0m: col() missing 1 required positional argument: 'size'"
     ]
    }
   ],
   "source": [
    "n = 201\n",
    "N = makeN(n)\n",
    "H = makeH(n)\n",
    "v = col()\n",
    "((N * H)**n * v)"
   ]
  },
  {
   "cell_type": "code",
   "execution_count": null,
   "id": "970a8b89",
   "metadata": {},
   "outputs": [],
   "source": []
  }
 ],
 "metadata": {
  "kernelspec": {
   "display_name": "Python 3 (ipykernel)",
   "language": "python",
   "name": "python3"
  },
  "language_info": {
   "codemirror_mode": {
    "name": "ipython",
    "version": 3
   },
   "file_extension": ".py",
   "mimetype": "text/x-python",
   "name": "python",
   "nbconvert_exporter": "python",
   "pygments_lexer": "ipython3",
   "version": "3.9.7"
  }
 },
 "nbformat": 4,
 "nbformat_minor": 5
}
