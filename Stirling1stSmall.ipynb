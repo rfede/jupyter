{
 "cells": [
  {
   "cell_type": "code",
   "execution_count": 5,
   "id": "26eed6fa",
   "metadata": {},
   "outputs": [
    {
     "name": "stdout",
     "output_type": "stream",
     "text": [
      "IPython console for SymPy 1.10.1 (Python 3.9.12-64-bit) (ground types: python)\n",
      "\n",
      "These commands were executed:\n",
      ">>> from sympy import *\n",
      ">>> x, y, z, t = symbols('x y z t')\n",
      ">>> k, m, n = symbols('k m n', integer=True)\n",
      ">>> f, g, h = symbols('f g h', cls=Function)\n",
      ">>> init_printing()\n",
      "\n",
      "Documentation can be found at https://docs.sympy.org/1.10.1/\n",
      "\n"
     ]
    }
   ],
   "source": [
    "from sympy import *\n",
    "from IPython.display import display, Markdown, Math\n",
    "init_session(use_latex=True)\n",
    "from math import comb, factorial\n",
    "from sympy.functions.combinatorial.numbers import stirling"
   ]
  },
  {
   "cell_type": "code",
   "execution_count": 6,
   "id": "b9621314",
   "metadata": {},
   "outputs": [],
   "source": [
    "last_col = 11\n",
    "values = []\n",
    "for j in range(last_col):\n",
    "    l = [Rational(factorial(j+1)*stirling(k+j,k,kind=1), comb(k+j,j)) for k in range(0,last_col)]\n",
    "    curr_row = [l[0]]\n",
    "    for row in range(last_col):\n",
    "        tmp = [l[k+1]-l[k] for k in range(last_col-row-1)]+[0] * (row)\n",
    "        #display(row, tmp)\n",
    "        if not sum(tmp):\n",
    "            values.append(curr_row)\n",
    "            break\n",
    "        l = tmp\n",
    "        curr_row.append(l[0])"
   ]
  },
  {
   "cell_type": "code",
   "execution_count": 7,
   "id": "1ea9c561",
   "metadata": {
    "scrolled": false
   },
   "outputs": [
    {
     "data": {
      "text/markdown": [
       "$S$$\\left[\\begin{smallmatrix}n\\\\n\\end{smallmatrix}\\right]$ = $1$"
      ],
      "text/plain": [
       "<IPython.core.display.Markdown object>"
      ]
     },
     "metadata": {},
     "output_type": "display_data"
    },
    {
     "data": {
      "text/markdown": [
       "$S$$\\left[\\begin{smallmatrix}n\\\\n - 1\\end{smallmatrix}\\right]$ = $x \\left(x + 1\\right) / 2$"
      ],
      "text/plain": [
       "<IPython.core.display.Markdown object>"
      ]
     },
     "metadata": {},
     "output_type": "display_data"
    },
    {
     "data": {
      "text/markdown": [
       "$S$$\\left[\\begin{smallmatrix}n\\\\n - 2\\end{smallmatrix}\\right]$ = $\\left(2 x / 3 + {\\binom{x}{2}} / 2\\right) {\\binom{x + 2}{2}}$"
      ],
      "text/plain": [
       "<IPython.core.display.Markdown object>"
      ]
     },
     "metadata": {},
     "output_type": "display_data"
    },
    {
     "data": {
      "text/markdown": [
       "$S$$\\left[\\begin{smallmatrix}n\\\\n - 3\\end{smallmatrix}\\right]$ = $\\left(3 x / 2 + 2 {\\binom{x}{2}} + 3 {\\binom{x}{3}} / 4\\right) {\\binom{x + 3}{3}}$"
      ],
      "text/plain": [
       "<IPython.core.display.Markdown object>"
      ]
     },
     "metadata": {},
     "output_type": "display_data"
    },
    {
     "data": {
      "text/markdown": [
       "$S$$\\left[\\begin{smallmatrix}n\\\\n - 4\\end{smallmatrix}\\right]$ = $\\left(24 x / 5 + 26 {\\binom{x}{2}} / 3 + 6 {\\binom{x}{3}} + 3 {\\binom{x}{4}} / 2\\right) {\\binom{x + 4}{4}}$"
      ],
      "text/plain": [
       "<IPython.core.display.Markdown object>"
      ]
     },
     "metadata": {},
     "output_type": "display_data"
    },
    {
     "data": {
      "text/markdown": [
       "$S$$\\left[\\begin{smallmatrix}n\\\\n - 5\\end{smallmatrix}\\right]$ = $\\left(20 x + 44 {\\binom{x}{2}} + 85 {\\binom{x}{3}} / 2 + 20 {\\binom{x}{4}} + 15 {\\binom{x}{5}} / 4\\right) {\\binom{x + 5}{5}}$"
      ],
      "text/plain": [
       "<IPython.core.display.Markdown object>"
      ]
     },
     "metadata": {},
     "output_type": "display_data"
    },
    {
     "data": {
      "text/markdown": [
       "$S$$\\left[\\begin{smallmatrix}n\\\\n - 6\\end{smallmatrix}\\right]$ = $\\left(720 x / 7 + 261 {\\binom{x}{2}} + 944 {\\binom{x}{3}} / 3 + 210 {\\binom{x}{4}} + 75 {\\binom{x}{5}} + 45 {\\binom{x}{6}} / 4\\right) {\\binom{x + 6}{6}}$"
      ],
      "text/plain": [
       "<IPython.core.display.Markdown object>"
      ]
     },
     "metadata": {},
     "output_type": "display_data"
    },
    {
     "data": {
      "text/markdown": [
       "$S$$\\left[\\begin{smallmatrix}n\\\\n - 7\\end{smallmatrix}\\right]$ = $\\left(630 x + 1784 {\\binom{x}{2}} + 5061 {\\binom{x}{3}} / 2 + 6412 {\\binom{x}{4}} / 3 + 4375 {\\binom{x}{5}} / 4 + 315 {\\binom{x}{6}} + 315 {\\binom{x}{7}} / 8\\right) {\\binom{x + 7}{7}}$"
      ],
      "text/plain": [
       "<IPython.core.display.Markdown object>"
      ]
     },
     "metadata": {},
     "output_type": "display_data"
    },
    {
     "data": {
      "text/markdown": [
       "$S$$\\left[\\begin{smallmatrix}n\\\\n - 8\\end{smallmatrix}\\right]$ = $\\left(4480 x + 69264 {\\binom{x}{2}} / 5 + 22296 {\\binom{x}{3}} + 201796 {\\binom{x}{4}} / 9 + 43960 {\\binom{x}{5}} / 3 + 6090 {\\binom{x}{6}} + 1470 {\\binom{x}{7}} + 315 {\\binom{x}{8}} / 2\\right) {\\binom{x + 8}{8}}$"
      ],
      "text/plain": [
       "<IPython.core.display.Markdown object>"
      ]
     },
     "metadata": {},
     "output_type": "display_data"
    },
    {
     "data": {
      "text/markdown": [
       "$S$$\\left[\\begin{smallmatrix}n\\\\n - 9\\end{smallmatrix}\\right]$ = $\\left(36288 x + 120672 {\\binom{x}{2}} + 1075554 {\\binom{x}{3}} / 5 + 248016 {\\binom{x}{4}} + 194530 {\\binom{x}{5}} + 103908 {\\binom{x}{6}} + 72765 {\\binom{x}{7}} / 2 + 7560 {\\binom{x}{8}} + 2835 {\\binom{x}{9}} / 4\\right) {\\binom{x + 9}{9}}$"
      ],
      "text/plain": [
       "<IPython.core.display.Markdown object>"
      ]
     },
     "metadata": {},
     "output_type": "display_data"
    },
    {
     "data": {
      "text/markdown": [
       "$S$$\\left[\\begin{smallmatrix}n\\\\n - 10\\end{smallmatrix}\\right]$ = $\\left(3628800 x / 11 + 1166640 {\\binom{x}{2}} + 2264112 {\\binom{x}{3}} + 2917608 {\\binom{x}{4}} + 7927000 {\\binom{x}{5}} / 3 + 1703625 {\\binom{x}{6}} + 770280 {\\binom{x}{7}} + 233100 {\\binom{x}{8}} + 42525 {\\binom{x}{9}} + 14175 {\\binom{x}{10}} / 4\\right) {\\binom{x + 10}{10}}$"
      ],
      "text/plain": [
       "<IPython.core.display.Markdown object>"
      ]
     },
     "metadata": {},
     "output_type": "display_data"
    }
   ],
   "source": [
    "s1st = []\n",
    "for col in range(last_col):\n",
    "    q = sum([values[col][k]*binomial(x,k) for k in range(col+1)])\n",
    "    q = (q/factorial(col+1)*binomial(col+x,col))\n",
    "    s1st.append(q)\n",
    "    display(\n",
    "            Markdown(\n",
    "                    '{}'.format(latex(Symbol('S'), mode='inline'))+\\\n",
    "                    '{}'.format(latex(Matrix([[Symbol('n')],[Symbol('n')-col]]), mode='inline'))+\\\n",
    "                    ' = {}'.format(latex(q, mode='inline')))\n",
    "            )"
   ]
  },
  {
   "cell_type": "code",
   "execution_count": 8,
   "id": "efb24ae9",
   "metadata": {
    "scrolled": false
   },
   "outputs": [
    {
     "data": {
      "text/markdown": [
       "$S$$\\left[\\begin{smallmatrix}1053680920\\\\1053680912\\end{smallmatrix}\\right]$ = $223658468944275256871952646164703558629395935702944786132480810072949203526010692354772908246195738382098779753974413381666930106709909711$"
      ],
      "text/plain": [
       "<IPython.core.display.Markdown object>"
      ]
     },
     "metadata": {},
     "output_type": "display_data"
    },
    {
     "data": {
      "text/markdown": [
       "$S$$\\left[\\begin{smallmatrix}3494657054\\\\3494657048\\end{smallmatrix}\\right]$ = $72001622295869651399150038276562470558516559605208162200338568280028005290093837614082542901853476172877225715$"
      ],
      "text/plain": [
       "<IPython.core.display.Markdown object>"
      ]
     },
     "metadata": {},
     "output_type": "display_data"
    },
    {
     "data": {
      "text/markdown": [
       "$S$$\\left[\\begin{smallmatrix}1392414964\\\\1392414962\\end{smallmatrix}\\right]$ = $469877597598752184951213623812278631$"
      ],
      "text/plain": [
       "<IPython.core.display.Markdown object>"
      ]
     },
     "metadata": {},
     "output_type": "display_data"
    },
    {
     "data": {
      "text/markdown": [
       "$S$$\\left[\\begin{smallmatrix}4291573214\\\\4291573212\\end{smallmatrix}\\right]$ = $42401001685093990130094626422564307631$"
      ],
      "text/plain": [
       "<IPython.core.display.Markdown object>"
      ]
     },
     "metadata": {},
     "output_type": "display_data"
    },
    {
     "data": {
      "text/markdown": [
       "$S$$\\left[\\begin{smallmatrix}608758077\\\\608758069\\end{smallmatrix}\\right]$ = $34463173192613906676027472457408334983891826064174154429884502613852596253670805990534200487048005620224487898721992575422674567925305$"
      ],
      "text/plain": [
       "<IPython.core.display.Markdown object>"
      ]
     },
     "metadata": {},
     "output_type": "display_data"
    },
    {
     "data": {
      "text/markdown": [
       "$S$$\\left[\\begin{smallmatrix}481971940\\\\481971932\\end{smallmatrix}\\right]$ = $821462127956865081643357571674740968466067727430665453571500035063781409410030512585256940207640821848662393481678124519473479589378$"
      ],
      "text/plain": [
       "<IPython.core.display.Markdown object>"
      ]
     },
     "metadata": {},
     "output_type": "display_data"
    },
    {
     "data": {
      "text/markdown": [
       "$S$$\\left[\\begin{smallmatrix}2516659610\\\\2516659604\\end{smallmatrix}\\right]$ = $1400816585141758018055615781586355598855278910159156774764508946171353307154761694952334210063711768351013580$"
      ],
      "text/plain": [
       "<IPython.core.display.Markdown object>"
      ]
     },
     "metadata": {},
     "output_type": "display_data"
    },
    {
     "data": {
      "text/markdown": [
       "$S$$\\left[\\begin{smallmatrix}1145145127\\\\1145145120\\end{smallmatrix}\\right]$ = $10337294557754116006921614971414887605579322313028167916331603310419029771881509379236885979945000391963428560541417491500$"
      ],
      "text/plain": [
       "<IPython.core.display.Markdown object>"
      ]
     },
     "metadata": {},
     "output_type": "display_data"
    },
    {
     "data": {
      "text/markdown": [
       "$S$$\\left[\\begin{smallmatrix}2210719603\\\\2210719600\\end{smallmatrix}\\right]$ = $2431984119826346819125099743951016656692780111310359700$"
      ],
      "text/plain": [
       "<IPython.core.display.Markdown object>"
      ]
     },
     "metadata": {},
     "output_type": "display_data"
    },
    {
     "data": {
      "text/markdown": [
       "$S$$\\left[\\begin{smallmatrix}681112860\\\\681112851\\end{smallmatrix}\\right]$ = $5356861447133714516905631260156510164131065546783455556534811754734948388340903659825454496615193264822450399355510996871319887071904868263043303727830$"
      ],
      "text/plain": [
       "<IPython.core.display.Markdown object>"
      ]
     },
     "metadata": {},
     "output_type": "display_data"
    },
    {
     "data": {
      "text/markdown": [
       "$S$$\\left[\\begin{smallmatrix}76945670\\\\76945664\\end{smallmatrix}\\right]$ = $934754597781742698194104420179956720442509423621749603235103060804526658988128758713301280$"
      ],
      "text/plain": [
       "<IPython.core.display.Markdown object>"
      ]
     },
     "metadata": {},
     "output_type": "display_data"
    },
    {
     "data": {
      "text/markdown": [
       "$S$$\\left[\\begin{smallmatrix}1771957538\\\\1771957529\\end{smallmatrix}\\right]$ = $159634435852407529880123506934711023051008914685025298851973414474818100835542427113427470559726171660556023720519533639385950781321943849225148127803318215798$"
      ],
      "text/plain": [
       "<IPython.core.display.Markdown object>"
      ]
     },
     "metadata": {},
     "output_type": "display_data"
    },
    {
     "data": {
      "text/markdown": [
       "$S$$\\left[\\begin{smallmatrix}900402052\\\\900402044\\end{smallmatrix}\\right]$ = $18081027496955949578966351238496833082102959902886638841354121102882620924194959958443124099164402933630146804904799187548814884925663720$"
      ],
      "text/plain": [
       "<IPython.core.display.Markdown object>"
      ]
     },
     "metadata": {},
     "output_type": "display_data"
    },
    {
     "data": {
      "text/markdown": [
       "$S$$\\left[\\begin{smallmatrix}1677898473\\\\1677898469\\end{smallmatrix}\\right]$ = $163604107499426268120023525385056286185467855492106661592057968212725861$"
      ],
      "text/plain": [
       "<IPython.core.display.Markdown object>"
      ]
     },
     "metadata": {},
     "output_type": "display_data"
    },
    {
     "data": {
      "text/markdown": [
       "$S$$\\left[\\begin{smallmatrix}1051647518\\\\1051647510\\end{smallmatrix}\\right]$ = $216851640281111169258038848669580474866129826074544191332527334187162913938942080485255693427648210209833056187881470449172009345616949833$"
      ],
      "text/plain": [
       "<IPython.core.display.Markdown object>"
      ]
     },
     "metadata": {},
     "output_type": "display_data"
    },
    {
     "data": {
      "text/markdown": [
       "$S$$\\left[\\begin{smallmatrix}200709596\\\\200709594\\end{smallmatrix}\\right]$ = $202853522187287534603890903526265$"
      ],
      "text/plain": [
       "<IPython.core.display.Markdown object>"
      ]
     },
     "metadata": {},
     "output_type": "display_data"
    },
    {
     "data": {
      "text/markdown": [
       "$S$$\\left[\\begin{smallmatrix}3818006945\\\\3818006939\\end{smallmatrix}\\right]$ = $208222710329697418535316543929057985075053892526080248967294785813388358699519472988270348693590812659200244680$"
      ],
      "text/plain": [
       "<IPython.core.display.Markdown object>"
      ]
     },
     "metadata": {},
     "output_type": "display_data"
    },
    {
     "data": {
      "text/markdown": [
       "$S$$\\left[\\begin{smallmatrix}4100888221\\\\4100888220\\end{smallmatrix}\\right]$ = $8408642098517828310$"
      ],
      "text/plain": [
       "<IPython.core.display.Markdown object>"
      ]
     },
     "metadata": {},
     "output_type": "display_data"
    },
    {
     "data": {
      "text/markdown": [
       "$S$$\\left[\\begin{smallmatrix}3180884725\\\\3180884724\\end{smallmatrix}\\right]$ = $5059013815278720450$"
      ],
      "text/plain": [
       "<IPython.core.display.Markdown object>"
      ]
     },
     "metadata": {},
     "output_type": "display_data"
    },
    {
     "data": {
      "text/markdown": [
       "$S$$\\left[\\begin{smallmatrix}3066642246\\\\3066642241\\end{smallmatrix}\\right]$ = $19155783287532827138435093208310626938694381866121621000382673400734743671682996008170873520$"
      ],
      "text/plain": [
       "<IPython.core.display.Markdown object>"
      ]
     },
     "metadata": {},
     "output_type": "display_data"
    },
    {
     "data": {
      "text/markdown": [
       "$S$$\\left[\\begin{smallmatrix}1593444798\\\\1593444789\\end{smallmatrix}\\right]$ = $23606597742732046667208566134216723975877258974401185963337221878116649900864959426253718783925745352293847960457318654721135324448246683424253996102479361603$"
      ],
      "text/plain": [
       "<IPython.core.display.Markdown object>"
      ]
     },
     "metadata": {},
     "output_type": "display_data"
    },
    {
     "data": {
      "text/markdown": [
       "$S$$\\left[\\begin{smallmatrix}3516205605\\\\3516205598\\end{smallmatrix}\\right]$ = $68454051291112359885275098223933386061514465293765242109460526730256577839540121173081045410035148248596475877569020147797181000$"
      ],
      "text/plain": [
       "<IPython.core.display.Markdown object>"
      ]
     },
     "metadata": {},
     "output_type": "display_data"
    },
    {
     "data": {
      "text/markdown": [
       "$S$$\\left[\\begin{smallmatrix}3011327961\\\\3011327954\\end{smallmatrix}\\right]$ = $7815779216723542354836004167623166473847742506731443791192642461406321371542584366997402799381669913176559726501011553763212000$"
      ],
      "text/plain": [
       "<IPython.core.display.Markdown object>"
      ]
     },
     "metadata": {},
     "output_type": "display_data"
    },
    {
     "data": {
      "text/markdown": [
       "$S$$\\left[\\begin{smallmatrix}2714360516\\\\2714360508\\end{smallmatrix}\\right]$ = $841240112191115733748368906707975887142337031268703128567311722198626381183578984051088047145762389046051839072652689380722182829431960406975428$"
      ],
      "text/plain": [
       "<IPython.core.display.Markdown object>"
      ]
     },
     "metadata": {},
     "output_type": "display_data"
    },
    {
     "data": {
      "text/markdown": [
       "$S$$\\left[\\begin{smallmatrix}2167088434\\\\2167088428\\end{smallmatrix}\\right]$ = $232812950880616161883331398448193334542377749511595647859036729332662245058565710046221191183131939288240564$"
      ],
      "text/plain": [
       "<IPython.core.display.Markdown object>"
      ]
     },
     "metadata": {},
     "output_type": "display_data"
    },
    {
     "data": {
      "text/markdown": [
       "$S$$\\left[\\begin{smallmatrix}2080368784\\\\2080368775\\end{smallmatrix}\\right]$ = $2867430551122783195406287462770933664214449269420077158247307143247442286325284690698854962791951186738143184542651908496690236398025880309322568345630818720440$"
      ],
      "text/plain": [
       "<IPython.core.display.Markdown object>"
      ]
     },
     "metadata": {},
     "output_type": "display_data"
    },
    {
     "data": {
      "text/markdown": [
       "$S$$\\left[\\begin{smallmatrix}2967731974\\\\2967731972\\end{smallmatrix}\\right]$ = $9696359648328662964301755561701623701$"
      ],
      "text/plain": [
       "<IPython.core.display.Markdown object>"
      ]
     },
     "metadata": {},
     "output_type": "display_data"
    },
    {
     "data": {
      "text/markdown": [
       "$S$$\\left[\\begin{smallmatrix}2283864360\\\\2283864355\\end{smallmatrix}\\right]$ = $1005476316792611859133026769615917635172508277648176149467512858438403580151194004220666700$"
      ],
      "text/plain": [
       "<IPython.core.display.Markdown object>"
      ]
     },
     "metadata": {},
     "output_type": "display_data"
    },
    {
     "data": {
      "text/markdown": [
       "$S$$\\left[\\begin{smallmatrix}3912141138\\\\3912141129\\end{smallmatrix}\\right]$ = $247986625599447105539991585450728783415909911767237381810076989487436105627738572358577442556322416951416240368067797981109387729473593033017287197857088099364734213$"
      ],
      "text/plain": [
       "<IPython.core.display.Markdown object>"
      ]
     },
     "metadata": {},
     "output_type": "display_data"
    },
    {
     "data": {
      "text/markdown": [
       "$S$$\\left[\\begin{smallmatrix}1202756559\\\\1202756553\\end{smallmatrix}\\right]$ = $198893379552929010586011405294611838182913077295352363450374936994699027371186263293456722114968465894439$"
      ],
      "text/plain": [
       "<IPython.core.display.Markdown object>"
      ]
     },
     "metadata": {},
     "output_type": "display_data"
    },
    {
     "data": {
      "text/markdown": [
       "$S$$\\left[\\begin{smallmatrix}2918046860\\\\2918046852\\end{smallmatrix}\\right]$ = $2677415008283129984312685890445778408969121889559670135762199688544215066180619068345654666675099870368986011254632088411446572541535874129569956$"
      ],
      "text/plain": [
       "<IPython.core.display.Markdown object>"
      ]
     },
     "metadata": {},
     "output_type": "display_data"
    },
    {
     "data": {
      "text/markdown": [
       "$S$$\\left[\\begin{smallmatrix}4263127063\\\\4263127062\\end{smallmatrix}\\right]$ = $9087126175509939453$"
      ],
      "text/plain": [
       "<IPython.core.display.Markdown object>"
      ]
     },
     "metadata": {},
     "output_type": "display_data"
    },
    {
     "data": {
      "text/markdown": [
       "$S$$\\left[\\begin{smallmatrix}1064368911\\\\1064368910\\end{smallmatrix}\\right]$ = $566440588819478505$"
      ],
      "text/plain": [
       "<IPython.core.display.Markdown object>"
      ]
     },
     "metadata": {},
     "output_type": "display_data"
    },
    {
     "data": {
      "text/markdown": [
       "$S$$\\left[\\begin{smallmatrix}3698973642\\\\3698973635\\end{smallmatrix}\\right]$ = $139154355072816896244869563165305096158951525633412138382768715980084686001757093911650034922572923641354132697895971863670107340$"
      ],
      "text/plain": [
       "<IPython.core.display.Markdown object>"
      ]
     },
     "metadata": {},
     "output_type": "display_data"
    },
    {
     "data": {
      "text/markdown": [
       "$S$$\\left[\\begin{smallmatrix}3538891146\\\\3538891144\\end{smallmatrix}\\right]$ = $19605540940187491044101684349112265990$"
      ],
      "text/plain": [
       "<IPython.core.display.Markdown object>"
      ]
     },
     "metadata": {},
     "output_type": "display_data"
    },
    {
     "data": {
      "text/markdown": [
       "$S$$\\left[\\begin{smallmatrix}2011835209\\\\2011835207\\end{smallmatrix}\\right]$ = $2047762709359319044669088070534304946$"
      ],
      "text/plain": [
       "<IPython.core.display.Markdown object>"
      ]
     },
     "metadata": {},
     "output_type": "display_data"
    },
    {
     "data": {
      "text/markdown": [
       "$S$$\\left[\\begin{smallmatrix}388795310\\\\388795309\\end{smallmatrix}\\right]$ = $75580896344600395$"
      ],
      "text/plain": [
       "<IPython.core.display.Markdown object>"
      ]
     },
     "metadata": {},
     "output_type": "display_data"
    },
    {
     "data": {
      "text/markdown": [
       "$S$$\\left[\\begin{smallmatrix}1561294758\\\\1561294755\\end{smallmatrix}\\right]$ = $301764515797573763610658689883167133625345129904144585$"
      ],
      "text/plain": [
       "<IPython.core.display.Markdown object>"
      ]
     },
     "metadata": {},
     "output_type": "display_data"
    },
    {
     "data": {
      "text/markdown": [
       "$S$$\\left[\\begin{smallmatrix}3497321\\\\3497318\\end{smallmatrix}\\right]$ = $38121577810951340359980024554521188600$"
      ],
      "text/plain": [
       "<IPython.core.display.Markdown object>"
      ]
     },
     "metadata": {},
     "output_type": "display_data"
    },
    {
     "data": {
      "text/markdown": [
       "$S$$\\left[\\begin{smallmatrix}3812281969\\\\3812281966\\end{smallmatrix}\\right]$ = $63954167774331726626989055950446825080185483274936294496$"
      ],
      "text/plain": [
       "<IPython.core.display.Markdown object>"
      ]
     },
     "metadata": {},
     "output_type": "display_data"
    },
    {
     "data": {
      "text/markdown": [
       "$S$$\\left[\\begin{smallmatrix}3391736454\\\\3391736446\\end{smallmatrix}\\right]$ = $29716187662737129268101711085674450148757388375687076653331404982764522697145164680233733056279425994356160345415552587355179999009267363286334680$"
      ],
      "text/plain": [
       "<IPython.core.display.Markdown object>"
      ]
     },
     "metadata": {},
     "output_type": "display_data"
    },
    {
     "data": {
      "text/markdown": [
       "$S$$\\left[\\begin{smallmatrix}2551324075\\\\2551324066\\end{smallmatrix}\\right]$ = $112914128229748730528705539120435367968168235319931729551480249685363208032434754112843620995730150031538934696026768578456741352718567046608055988710208638751750$"
      ],
      "text/plain": [
       "<IPython.core.display.Markdown object>"
      ]
     },
     "metadata": {},
     "output_type": "display_data"
    },
    {
     "data": {
      "text/markdown": [
       "$S$$\\left[\\begin{smallmatrix}3049148173\\\\3049148167\\end{smallmatrix}\\right]$ = $14016186845078298386532430088596670604627267578868818834672509833266133218344633121165355472255633021170702007$"
      ],
      "text/plain": [
       "<IPython.core.display.Markdown object>"
      ]
     },
     "metadata": {},
     "output_type": "display_data"
    },
    {
     "data": {
      "text/markdown": [
       "$S$$\\left[\\begin{smallmatrix}2023819602\\\\2023819597\\end{smallmatrix}\\right]$ = $300183454994590799672621437138053662595112607248748540768953678221985510664399093799442830$"
      ],
      "text/plain": [
       "<IPython.core.display.Markdown object>"
      ]
     },
     "metadata": {},
     "output_type": "display_data"
    },
    {
     "data": {
      "text/markdown": [
       "$S$$\\left[\\begin{smallmatrix}2761421401\\\\2761421397\\end{smallmatrix}\\right]$ = $8805018325972508424663780990875530250935144350161500560968362964464963095$"
      ],
      "text/plain": [
       "<IPython.core.display.Markdown object>"
      ]
     },
     "metadata": {},
     "output_type": "display_data"
    },
    {
     "data": {
      "text/markdown": [
       "$S$$\\left[\\begin{smallmatrix}1045652836\\\\1045652833\\end{smallmatrix}\\right]$ = $27232272098292785896576192755641479635829488868854150$"
      ],
      "text/plain": [
       "<IPython.core.display.Markdown object>"
      ]
     },
     "metadata": {},
     "output_type": "display_data"
    },
    {
     "data": {
      "text/markdown": [
       "$S$$\\left[\\begin{smallmatrix}1905474416\\\\1905474415\\end{smallmatrix}\\right]$ = $1815416374062533320$"
      ],
      "text/plain": [
       "<IPython.core.display.Markdown object>"
      ]
     },
     "metadata": {},
     "output_type": "display_data"
    },
    {
     "data": {
      "text/markdown": [
       "$S$$\\left[\\begin{smallmatrix}2200304849\\\\2200304841\\end{smallmatrix}\\right]$ = $29239180476954752133348758716853235191474276026309329376110104607502483932570347064256695407656002824275901930644045458914881013481969453086421$"
      ],
      "text/plain": [
       "<IPython.core.display.Markdown object>"
      ]
     },
     "metadata": {},
     "output_type": "display_data"
    },
    {
     "data": {
      "text/markdown": [
       "$S$$\\left[\\begin{smallmatrix}2987199785\\\\2987199779\\end{smallmatrix}\\right]$ = $10956169890578946954502261161899983768067458075152737542135007749778182676172037163989698831177389609517465780$"
      ],
      "text/plain": [
       "<IPython.core.display.Markdown object>"
      ]
     },
     "metadata": {},
     "output_type": "display_data"
    },
    {
     "data": {
      "text/markdown": [
       "$S$$\\left[\\begin{smallmatrix}16770678\\\\16770672\\end{smallmatrix}\\right]$ = $10742226423843217010318636319818190605227790025646713525401577589333297895482432830$"
      ],
      "text/plain": [
       "<IPython.core.display.Markdown object>"
      ]
     },
     "metadata": {},
     "output_type": "display_data"
    },
    {
     "data": {
      "text/markdown": [
       "$S$$\\left[\\begin{smallmatrix}2665914284\\\\2665914275\\end{smallmatrix}\\right]$ = $248999380151902345116849535562016637288547590685953980262029575133667691870499815970195072040003911207618108315900990850595609582542358560270213285386923333587740$"
      ],
      "text/plain": [
       "<IPython.core.display.Markdown object>"
      ]
     },
     "metadata": {},
     "output_type": "display_data"
    },
    {
     "data": {
      "text/markdown": [
       "$S$$\\left[\\begin{smallmatrix}1077335755\\\\1077335746\\end{smallmatrix}\\right]$ = $20572463858718173541493271490825201081836846356131904255197943564144082766472996987363074500434637745812136822407566143982418008201337640855750545877370500$"
      ],
      "text/plain": [
       "<IPython.core.display.Markdown object>"
      ]
     },
     "metadata": {},
     "output_type": "display_data"
    },
    {
     "data": {
      "text/markdown": [
       "$S$$\\left[\\begin{smallmatrix}3963526843\\\\3963526838\\end{smallmatrix}\\right]$ = $249164870533428613070492663078885631967118362970635746323549094182050139337558042605157615861$"
      ],
      "text/plain": [
       "<IPython.core.display.Markdown object>"
      ]
     },
     "metadata": {},
     "output_type": "display_data"
    },
    {
     "data": {
      "text/markdown": [
       "$S$$\\left[\\begin{smallmatrix}2649127402\\\\2649127400\\end{smallmatrix}\\right]$ = $6156322922187738521138627643036384750$"
      ],
      "text/plain": [
       "<IPython.core.display.Markdown object>"
      ]
     },
     "metadata": {},
     "output_type": "display_data"
    },
    {
     "data": {
      "text/markdown": [
       "$S$$\\left[\\begin{smallmatrix}3888040876\\\\3888040871\\end{smallmatrix}\\right]$ = $205578169583913345459858234617738502706446256581143523274545869579648693137458029226986268750$"
      ],
      "text/plain": [
       "<IPython.core.display.Markdown object>"
      ]
     },
     "metadata": {},
     "output_type": "display_data"
    },
    {
     "data": {
      "text/markdown": [
       "$S$$\\left[\\begin{smallmatrix}1487403460\\\\1487403457\\end{smallmatrix}\\right]$ = $225596046776153630062612504346382363546905480321554950$"
      ],
      "text/plain": [
       "<IPython.core.display.Markdown object>"
      ]
     },
     "metadata": {},
     "output_type": "display_data"
    },
    {
     "data": {
      "text/markdown": [
       "$S$$\\left[\\begin{smallmatrix}1928926923\\\\1928926919\\end{smallmatrix}\\right]$ = $499108505970125978705851125557041559776220859115216306617252727265207221$"
      ],
      "text/plain": [
       "<IPython.core.display.Markdown object>"
      ]
     },
     "metadata": {},
     "output_type": "display_data"
    },
    {
     "data": {
      "text/markdown": [
       "$S$$\\left[\\begin{smallmatrix}3250692270\\\\3250692267\\end{smallmatrix}\\right]$ = $24581813128920217938405166427441429765433783965026503675$"
      ],
      "text/plain": [
       "<IPython.core.display.Markdown object>"
      ]
     },
     "metadata": {},
     "output_type": "display_data"
    },
    {
     "data": {
      "text/markdown": [
       "$S$$\\left[\\begin{smallmatrix}2045843702\\\\2045843700\\end{smallmatrix}\\right]$ = $2189776638773007159543307745105163625$"
      ],
      "text/plain": [
       "<IPython.core.display.Markdown object>"
      ]
     },
     "metadata": {},
     "output_type": "display_data"
    },
    {
     "data": {
      "text/markdown": [
       "$S$$\\left[\\begin{smallmatrix}2614879959\\\\2614879950\\end{smallmatrix}\\right]$ = $175832282851307053196706779780901218318838342390168719221541234203110685100093814093452482706220074680738193867707818076435722011000975272874566729826328501374445$"
      ],
      "text/plain": [
       "<IPython.core.display.Markdown object>"
      ]
     },
     "metadata": {},
     "output_type": "display_data"
    },
    {
     "data": {
      "text/markdown": [
       "$S$$\\left[\\begin{smallmatrix}2731688164\\\\2731688156\\end{smallmatrix}\\right]$ = $931402584999306953359635649400738409329688604082562833031866796319890929325106464748661211514994450794346430302862775516905547768646271019518306$"
      ],
      "text/plain": [
       "<IPython.core.display.Markdown object>"
      ]
     },
     "metadata": {},
     "output_type": "display_data"
    },
    {
     "data": {
      "text/markdown": [
       "$S$$\\left[\\begin{smallmatrix}1186554570\\\\1186554567\\end{smallmatrix}\\right]$ = $58141342848834271768191458928185222386771216809577050$"
      ],
      "text/plain": [
       "<IPython.core.display.Markdown object>"
      ]
     },
     "metadata": {},
     "output_type": "display_data"
    },
    {
     "data": {
      "text/markdown": [
       "$S$$\\left[\\begin{smallmatrix}1383678980\\\\1383678978\\end{smallmatrix}\\right]$ = $458196097329516813876005283622740235$"
      ],
      "text/plain": [
       "<IPython.core.display.Markdown object>"
      ]
     },
     "metadata": {},
     "output_type": "display_data"
    },
    {
     "data": {
      "text/markdown": [
       "$S$$\\left[\\begin{smallmatrix}3140593643\\\\3140593636\\end{smallmatrix}\\right]$ = $14077448622287700581845388602387496175507774557647096493328908534753918140518066935861940499972839140671989943859431185782962980$"
      ],
      "text/plain": [
       "<IPython.core.display.Markdown object>"
      ]
     },
     "metadata": {},
     "output_type": "display_data"
    },
    {
     "data": {
      "text/markdown": [
       "$S$$\\left[\\begin{smallmatrix}4026547919\\\\4026547915\\end{smallmatrix}\\right]$ = $179941671138649263625405516863853064844386942780252278774872972651898125867$"
      ],
      "text/plain": [
       "<IPython.core.display.Markdown object>"
      ]
     },
     "metadata": {},
     "output_type": "display_data"
    },
    {
     "data": {
      "text/markdown": [
       "$S$$\\left[\\begin{smallmatrix}3317142813\\\\3317142804\\end{smallmatrix}\\right]$ = $12726883001360963393844778547675055859242506845649041647108641349688973280940289533189184253062813564771574722679077149833909978407463515375604358651206502945779258$"
      ],
      "text/plain": [
       "<IPython.core.display.Markdown object>"
      ]
     },
     "metadata": {},
     "output_type": "display_data"
    },
    {
     "data": {
      "text/markdown": [
       "$S$$\\left[\\begin{smallmatrix}591740758\\\\591740754\\end{smallmatrix}\\right]$ = $39148996689373961331074816769210268378557814148164937827205026847244$"
      ],
      "text/plain": [
       "<IPython.core.display.Markdown object>"
      ]
     },
     "metadata": {},
     "output_type": "display_data"
    },
    {
     "data": {
      "text/markdown": [
       "$S$$\\left[\\begin{smallmatrix}3408578436\\\\3408578434\\end{smallmatrix}\\right]$ = $16873422503151380342938102518195746795$"
      ],
      "text/plain": [
       "<IPython.core.display.Markdown object>"
      ]
     },
     "metadata": {},
     "output_type": "display_data"
    },
    {
     "data": {
      "text/markdown": [
       "$S$$\\left[\\begin{smallmatrix}2342358040\\\\2342358032\\end{smallmatrix}\\right]$ = $79559487666004106535734848067208658852869014554622300407400122157457807046402752310979959439340911239344412294236295668663886161348333359424703$"
      ],
      "text/plain": [
       "<IPython.core.display.Markdown object>"
      ]
     },
     "metadata": {},
     "output_type": "display_data"
    },
    {
     "data": {
      "text/markdown": [
       "$S$$\\left[\\begin{smallmatrix}1561408869\\\\1561408864\\end{smallmatrix}\\right]$ = $22430305534439904772548143540126212444921578758046279491074700028010625173909182257366712$"
      ],
      "text/plain": [
       "<IPython.core.display.Markdown object>"
      ]
     },
     "metadata": {},
     "output_type": "display_data"
    },
    {
     "data": {
      "text/markdown": [
       "$S$$\\left[\\begin{smallmatrix}1349081180\\\\1349081171\\end{smallmatrix}\\right]$ = $1179376572454408539552493938083028031568363971979576598077490323404221502462529252382867682030315012475573620823044004890333464968774232317185508642914665950$"
      ],
      "text/plain": [
       "<IPython.core.display.Markdown object>"
      ]
     },
     "metadata": {},
     "output_type": "display_data"
    },
    {
     "data": {
      "text/markdown": [
       "$S$$\\left[\\begin{smallmatrix}4261035776\\\\4261035773\\end{smallmatrix}\\right]$ = $124695231384275293197946458699278716627391911936087040000$"
      ],
      "text/plain": [
       "<IPython.core.display.Markdown object>"
      ]
     },
     "metadata": {},
     "output_type": "display_data"
    },
    {
     "data": {
      "text/markdown": [
       "$S$$\\left[\\begin{smallmatrix}4236305723\\\\4236305719\\end{smallmatrix}\\right]$ = $270126461752711996825759772838914103662864365659763882406780824903763270911$"
      ],
      "text/plain": [
       "<IPython.core.display.Markdown object>"
      ]
     },
     "metadata": {},
     "output_type": "display_data"
    },
    {
     "data": {
      "text/markdown": [
       "$S$$\\left[\\begin{smallmatrix}10796625\\\\10796621\\end{smallmatrix}\\right]$ = $480808825686932896920843663066025934884574202990107550$"
      ],
      "text/plain": [
       "<IPython.core.display.Markdown object>"
      ]
     },
     "metadata": {},
     "output_type": "display_data"
    },
    {
     "data": {
      "text/markdown": [
       "$S$$\\left[\\begin{smallmatrix}2485942582\\\\2485942573\\end{smallmatrix}\\right]$ = $70763072090969868976122681813517045137307209925061864144769906316965508712150585612467519095289209391735562170867228800492078285360514673196550768773935888047245$"
      ],
      "text/plain": [
       "<IPython.core.display.Markdown object>"
      ]
     },
     "metadata": {},
     "output_type": "display_data"
    },
    {
     "data": {
      "text/markdown": [
       "$S$$\\left[\\begin{smallmatrix}281044347\\\\281044339\\end{smallmatrix}\\right]$ = $146769937214806527893587792502786609876345741545059859921510628853595329144504913948015403834625314596076279684405807726250751021$"
      ],
      "text/plain": [
       "<IPython.core.display.Markdown object>"
      ]
     },
     "metadata": {},
     "output_type": "display_data"
    },
    {
     "data": {
      "text/markdown": [
       "$S$$\\left[\\begin{smallmatrix}499032787\\\\499032782\\end{smallmatrix}\\right]$ = $249436245840114730788847595208256124047264032097319845277580703122618054977730065178$"
      ],
      "text/plain": [
       "<IPython.core.display.Markdown object>"
      ]
     },
     "metadata": {},
     "output_type": "display_data"
    },
    {
     "data": {
      "text/markdown": [
       "$S$$\\left[\\begin{smallmatrix}2764606481\\\\2764606479\\end{smallmatrix}\\right]$ = $7302024733285533810872539377892036660$"
      ],
      "text/plain": [
       "<IPython.core.display.Markdown object>"
      ]
     },
     "metadata": {},
     "output_type": "display_data"
    },
    {
     "data": {
      "text/markdown": [
       "$S$$\\left[\\begin{smallmatrix}2191470434\\\\2191470430\\end{smallmatrix}\\right]$ = $1385331468571864157921208171929830407944536054107157525601157727172421364$"
      ],
      "text/plain": [
       "<IPython.core.display.Markdown object>"
      ]
     },
     "metadata": {},
     "output_type": "display_data"
    },
    {
     "data": {
      "text/markdown": [
       "$S$$\\left[\\begin{smallmatrix}2307436002\\\\2307435994\\end{smallmatrix}\\right]$ = $62562505677731919595874374907506235023418937457585555646661120114597438419248718532381035628337978982236831289072559322131792078462389972992650$"
      ],
      "text/plain": [
       "<IPython.core.display.Markdown object>"
      ]
     },
     "metadata": {},
     "output_type": "display_data"
    },
    {
     "data": {
      "text/markdown": [
       "$S$$\\left[\\begin{smallmatrix}2769833640\\\\2769833632\\end{smallmatrix}\\right]$ = $1162782461444740932978540688159101013021310412447446637247544858910277602902995890928940314918234705280303665450891361248512970561957210376213178$"
      ],
      "text/plain": [
       "<IPython.core.display.Markdown object>"
      ]
     },
     "metadata": {},
     "output_type": "display_data"
    },
    {
     "data": {
      "text/markdown": [
       "$S$$\\left[\\begin{smallmatrix}3363906465\\\\3363906457\\end{smallmatrix}\\right]$ = $26046063192646138977470132733634697512895030490152688675620553661384278321098564297865288029594085691533091135139252977812082287265015606901868078$"
      ],
      "text/plain": [
       "<IPython.core.display.Markdown object>"
      ]
     },
     "metadata": {},
     "output_type": "display_data"
    },
    {
     "data": {
      "text/markdown": [
       "$S$$\\left[\\begin{smallmatrix}3108863280\\\\3108863276\\end{smallmatrix}\\right]$ = $22723841961856865084247481579087959335381687115957522236269520671079108994$"
      ],
      "text/plain": [
       "<IPython.core.display.Markdown object>"
      ]
     },
     "metadata": {},
     "output_type": "display_data"
    },
    {
     "data": {
      "text/markdown": [
       "$S$$\\left[\\begin{smallmatrix}2577850042\\\\2577850039\\end{smallmatrix}\\right]$ = $6113707572989258786475901110089744636468372213291884230$"
      ],
      "text/plain": [
       "<IPython.core.display.Markdown object>"
      ]
     },
     "metadata": {},
     "output_type": "display_data"
    },
    {
     "data": {
      "text/markdown": [
       "$S$$\\left[\\begin{smallmatrix}1492599250\\\\1492599248\\end{smallmatrix}\\right]$ = $620415855586228618203595771473223500$"
      ],
      "text/plain": [
       "<IPython.core.display.Markdown object>"
      ]
     },
     "metadata": {},
     "output_type": "display_data"
    },
    {
     "data": {
      "text/markdown": [
       "$S$$\\left[\\begin{smallmatrix}3088642698\\\\3088642694\\end{smallmatrix}\\right]$ = $21568013233664347852756218671458417365651694731143250063093953147985718041$"
      ],
      "text/plain": [
       "<IPython.core.display.Markdown object>"
      ]
     },
     "metadata": {},
     "output_type": "display_data"
    },
    {
     "data": {
      "text/markdown": [
       "$S$$\\left[\\begin{smallmatrix}3678833183\\\\3678833178\\end{smallmatrix}\\right]$ = $118241444062234167405242668859155966222206025772855237176051708795688762196179487342736990677$"
      ],
      "text/plain": [
       "<IPython.core.display.Markdown object>"
      ]
     },
     "metadata": {},
     "output_type": "display_data"
    },
    {
     "data": {
      "text/markdown": [
       "$S$$\\left[\\begin{smallmatrix}1656900102\\\\1656900094\\end{smallmatrix}\\right]$ = $312594040604607339882325565175929725674045028298952244204914686671346982233852774356319977910535352496230467786770402279629834672380902297440$"
      ],
      "text/plain": [
       "<IPython.core.display.Markdown object>"
      ]
     },
     "metadata": {},
     "output_type": "display_data"
    },
    {
     "data": {
      "text/markdown": [
       "$S$$\\left[\\begin{smallmatrix}534719221\\\\534719220\\end{smallmatrix}\\right]$ = $142962322386063810$"
      ],
      "text/plain": [
       "<IPython.core.display.Markdown object>"
      ]
     },
     "metadata": {},
     "output_type": "display_data"
    },
    {
     "data": {
      "text/markdown": [
       "$S$$\\left[\\begin{smallmatrix}144000235\\\\144000228\\end{smallmatrix}\\right]$ = $2555313563000352752140198828657352700876631894029752666420418637317347762594526314953768736763351924792425700$"
      ],
      "text/plain": [
       "<IPython.core.display.Markdown object>"
      ]
     },
     "metadata": {},
     "output_type": "display_data"
    },
    {
     "data": {
      "text/markdown": [
       "$S$$\\left[\\begin{smallmatrix}1909370724\\\\1909370721\\end{smallmatrix}\\right]$ = $1009486038761519059504893458185159789361696710377486726$"
      ],
      "text/plain": [
       "<IPython.core.display.Markdown object>"
      ]
     },
     "metadata": {},
     "output_type": "display_data"
    },
    {
     "data": {
      "text/markdown": [
       "$S$$\\left[\\begin{smallmatrix}2926055883\\\\2926055876\\end{smallmatrix}\\right]$ = $5227765706597564848937416680102907416584674050333991568588990484195478373856626443653677167104033465787861466585417301791682540$"
      ],
      "text/plain": [
       "<IPython.core.display.Markdown object>"
      ]
     },
     "metadata": {},
     "output_type": "display_data"
    },
    {
     "data": {
      "text/markdown": [
       "$S$$\\left[\\begin{smallmatrix}728847338\\\\728847336\\end{smallmatrix}\\right]$ = $35274128993356448183942127181324142$"
      ],
      "text/plain": [
       "<IPython.core.display.Markdown object>"
      ]
     },
     "metadata": {},
     "output_type": "display_data"
    },
    {
     "data": {
      "text/markdown": [
       "$S$$\\left[\\begin{smallmatrix}3237107201\\\\3237107200\\end{smallmatrix}\\right]$ = $5239431513764473600$"
      ],
      "text/plain": [
       "<IPython.core.display.Markdown object>"
      ]
     },
     "metadata": {},
     "output_type": "display_data"
    },
    {
     "data": {
      "text/markdown": [
       "$S$$\\left[\\begin{smallmatrix}616572086\\\\616572085\\end{smallmatrix}\\right]$ = $190080568308909655$"
      ],
      "text/plain": [
       "<IPython.core.display.Markdown object>"
      ]
     },
     "metadata": {},
     "output_type": "display_data"
    },
    {
     "data": {
      "text/markdown": [
       "$S$$\\left[\\begin{smallmatrix}3451489503\\\\3451489496\\end{smallmatrix}\\right]$ = $52777800385734578541445165097141154449525039981039218660874196825733663174237390456785647862482578704508874012407168993393225125$"
      ],
      "text/plain": [
       "<IPython.core.display.Markdown object>"
      ]
     },
     "metadata": {},
     "output_type": "display_data"
    },
    {
     "data": {
      "text/markdown": [
       "$S$$\\left[\\begin{smallmatrix}3850362314\\\\3850362309\\end{smallmatrix}\\right]$ = $186502541008220952679038900644549142843262492405327221640953944511597467792202410752577104693$"
      ],
      "text/plain": [
       "<IPython.core.display.Markdown object>"
      ]
     },
     "metadata": {},
     "output_type": "display_data"
    },
    {
     "data": {
      "text/markdown": [
       "$S$$\\left[\\begin{smallmatrix}3799084906\\\\3799084899\\end{smallmatrix}\\right]$ = $202239268730514303664500607651864795108226251299362166159749485094981297714182155058729625035167866363898589673870899151535412500$"
      ],
      "text/plain": [
       "<IPython.core.display.Markdown object>"
      ]
     },
     "metadata": {},
     "output_type": "display_data"
    },
    {
     "data": {
      "text/markdown": [
       "$S$$\\left[\\begin{smallmatrix}2263951127\\\\2263951119\\end{smallmatrix}\\right]$ = $46143683433479628895775642124812787342588359762844748856350742165185388998653649471283173890457740246305215815815926539715730818845447619088325$"
      ],
      "text/plain": [
       "<IPython.core.display.Markdown object>"
      ]
     },
     "metadata": {},
     "output_type": "display_data"
    },
    {
     "data": {
      "text/markdown": [
       "$S$$\\left[\\begin{smallmatrix}2414710960\\\\2414710957\\end{smallmatrix}\\right]$ = $4129996477396890964162275116344367781888905015901511200$"
      ],
      "text/plain": [
       "<IPython.core.display.Markdown object>"
      ]
     },
     "metadata": {},
     "output_type": "display_data"
    }
   ],
   "source": [
    "for k in range(100):\n",
    "    n = random.randrange(1,2**32)\n",
    "    col = random.randrange(1,10)\n",
    "    display(\n",
    "        Markdown(\n",
    "                        '{}'.format(latex(Symbol('S'), mode='inline'))+\\\n",
    "                        '{}'.format(latex(Matrix([[n],[n-col]]), mode='inline'))+\\\n",
    "                        ' = {}'.format(latex(s1st[col].subs(x,n-col), mode='inline')))\n",
    "                )\n",
    "    "
   ]
  },
  {
   "cell_type": "code",
   "execution_count": null,
   "id": "5af6e503",
   "metadata": {},
   "outputs": [],
   "source": []
  }
 ],
 "metadata": {
  "kernelspec": {
   "display_name": "Python 3 (ipykernel)",
   "language": "python",
   "name": "python3"
  },
  "language_info": {
   "codemirror_mode": {
    "name": "ipython",
    "version": 3
   },
   "file_extension": ".py",
   "mimetype": "text/x-python",
   "name": "python",
   "nbconvert_exporter": "python",
   "pygments_lexer": "ipython3",
   "version": "3.9.12"
  }
 },
 "nbformat": 4,
 "nbformat_minor": 5
}
