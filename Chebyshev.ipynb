{
 "cells": [
  {
   "cell_type": "code",
   "execution_count": 2,
   "id": "37295c33",
   "metadata": {},
   "outputs": [
    {
     "name": "stdout",
     "output_type": "stream",
     "text": [
      "IPython console for SymPy 1.9 (Python 3.9.7-64-bit) (ground types: python)\n",
      "\n",
      "These commands were executed:\n",
      ">>> from __future__ import division\n",
      ">>> from sympy import *\n",
      ">>> x, y, z, t = symbols('x y z t')\n",
      ">>> k, m, n = symbols('k m n', integer=True)\n",
      ">>> f, g, h = symbols('f g h', cls=Function)\n",
      ">>> init_printing()\n",
      "\n",
      "Documentation can be found at https://docs.sympy.org/1.9/\n",
      "\n"
     ]
    },
    {
     "data": {
      "text/latex": [
       "$\\displaystyle $"
      ],
      "text/plain": []
     },
     "execution_count": 2,
     "metadata": {},
     "output_type": "execute_result"
    }
   ],
   "source": [
    "from sympy import *\n",
    "from IPython.display import display\n",
    "init_session(use_latex=True)\n",
    "import random\n",
    "from math import comb\n",
    "Symbol('')"
   ]
  },
  {
   "cell_type": "code",
   "execution_count": 3,
   "id": "f75471bc",
   "metadata": {},
   "outputs": [
    {
     "data": {
      "text/latex": [
       "$\\displaystyle \\left[\\begin{matrix}{T}_{1} & x\\end{matrix}\\right]$"
      ],
      "text/plain": [
       "[T[1]  x]"
      ]
     },
     "metadata": {},
     "output_type": "display_data"
    },
    {
     "data": {
      "text/latex": [
       "$\\displaystyle \\left[\\begin{matrix}{T}_{2} & 2 x^{2} - 1\\end{matrix}\\right]$"
      ],
      "text/plain": [
       "⎡         2    ⎤\n",
       "⎣T[2]  2⋅x  - 1⎦"
      ]
     },
     "metadata": {},
     "output_type": "display_data"
    },
    {
     "data": {
      "text/latex": [
       "$\\displaystyle \\left[\\begin{matrix}{T}_{3} & x \\left(4 x^{2} - 3\\right)\\end{matrix}\\right]$"
      ],
      "text/plain": [
       "⎡        ⎛   2    ⎞⎤\n",
       "⎣T[3]  x⋅⎝4⋅x  - 3⎠⎦"
      ]
     },
     "metadata": {},
     "output_type": "display_data"
    },
    {
     "data": {
      "text/latex": [
       "$\\displaystyle \\left[\\begin{matrix}{T}_{4} & 8 x^{2} \\left(x - 1\\right) \\left(x + 1\\right) + 1\\end{matrix}\\right]$"
      ],
      "text/plain": [
       "⎡         2                    ⎤\n",
       "⎣T[4]  8⋅x ⋅(x - 1)⋅(x + 1) + 1⎦"
      ]
     },
     "metadata": {},
     "output_type": "display_data"
    },
    {
     "data": {
      "text/latex": [
       "$\\displaystyle \\left[\\begin{matrix}{T}_{5} & x \\left(16 x^{4} - 20 x^{2} + 5\\right)\\end{matrix}\\right]$"
      ],
      "text/plain": [
       "⎡        ⎛    4       2    ⎞⎤\n",
       "⎣T[5]  x⋅⎝16⋅x  - 20⋅x  + 5⎠⎦"
      ]
     },
     "metadata": {},
     "output_type": "display_data"
    },
    {
     "data": {
      "text/latex": [
       "$\\displaystyle \\left[\\begin{matrix}{T}_{6} & 2 x^{2} \\left(4 x^{2} - 3\\right)^{2} - 1\\end{matrix}\\right]$"
      ],
      "text/plain": [
       "⎡                     2    ⎤\n",
       "⎢         2 ⎛   2    ⎞     ⎥\n",
       "⎣T[6]  2⋅x ⋅⎝4⋅x  - 3⎠  - 1⎦"
      ]
     },
     "metadata": {},
     "output_type": "display_data"
    },
    {
     "data": {
      "text/latex": [
       "$\\displaystyle \\left[\\begin{matrix}{T}_{7} & x \\left(64 x^{6} - 112 x^{4} + 56 x^{2} - 7\\right)\\end{matrix}\\right]$"
      ],
      "text/plain": [
       "⎡        ⎛    6        4       2    ⎞⎤\n",
       "⎣T[7]  x⋅⎝64⋅x  - 112⋅x  + 56⋅x  - 7⎠⎦"
      ]
     },
     "metadata": {},
     "output_type": "display_data"
    },
    {
     "data": {
      "text/latex": [
       "$\\displaystyle \\left[\\begin{matrix}{T}_{8} & 32 x^{2} \\left(x - 1\\right) \\left(x + 1\\right) \\left(2 x^{2} - 1\\right)^{2} + 1\\end{matrix}\\right]$"
      ],
      "text/plain": [
       "⎡                                      2    ⎤\n",
       "⎢          2                 ⎛   2    ⎞     ⎥\n",
       "⎣T[8]  32⋅x ⋅(x - 1)⋅(x + 1)⋅⎝2⋅x  - 1⎠  + 1⎦"
      ]
     },
     "metadata": {},
     "output_type": "display_data"
    },
    {
     "data": {
      "text/latex": [
       "$\\displaystyle \\left[\\begin{matrix}{T}_{9} & x \\left(4 x^{2} - 3\\right) \\left(64 x^{6} - 96 x^{4} + 36 x^{2} - 3\\right)\\end{matrix}\\right]$"
      ],
      "text/plain": [
       "⎡        ⎛   2    ⎞ ⎛    6       4       2    ⎞⎤\n",
       "⎣T[9]  x⋅⎝4⋅x  - 3⎠⋅⎝64⋅x  - 96⋅x  + 36⋅x  - 3⎠⎦"
      ]
     },
     "metadata": {},
     "output_type": "display_data"
    },
    {
     "data": {
      "text/latex": [
       "$\\displaystyle \\left[\\begin{matrix}{T}_{10} & 2 x^{2} \\left(16 x^{4} - 20 x^{2} + 5\\right)^{2} - 1\\end{matrix}\\right]$"
      ],
      "text/plain": [
       "⎡                               2    ⎤\n",
       "⎢          2 ⎛    4       2    ⎞     ⎥\n",
       "⎣T[10]  2⋅x ⋅⎝16⋅x  - 20⋅x  + 5⎠  - 1⎦"
      ]
     },
     "metadata": {},
     "output_type": "display_data"
    },
    {
     "data": {
      "text/latex": [
       "$\\displaystyle \\left[\\begin{matrix}{T}_{11} & x \\left(1024 x^{10} - 2816 x^{8} + 2816 x^{6} - 1232 x^{4} + 220 x^{2} - 11\\right)\\end{matrix}\\right]$"
      ],
      "text/plain": [
       "⎡         ⎛      10         8         6         4        2     ⎞⎤\n",
       "⎣T[11]  x⋅⎝1024⋅x   - 2816⋅x  + 2816⋅x  - 1232⋅x  + 220⋅x  - 11⎠⎦"
      ]
     },
     "metadata": {},
     "output_type": "display_data"
    },
    {
     "data": {
      "text/latex": [
       "$\\displaystyle \\left[\\begin{matrix}{T}_{12} & 8 x^{2} \\left(x - 1\\right) \\left(x + 1\\right) \\left(2 x - 1\\right)^{2} \\left(2 x + 1\\right)^{2} \\left(4 x^{2} - 3\\right)^{2} + 1\\end{matrix}\\right]$"
      ],
      "text/plain": [
       "⎡                                                            2    ⎤\n",
       "⎢          2                          2          2 ⎛   2    ⎞     ⎥\n",
       "⎣T[12]  8⋅x ⋅(x - 1)⋅(x + 1)⋅(2⋅x - 1) ⋅(2⋅x + 1) ⋅⎝4⋅x  - 3⎠  + 1⎦"
      ]
     },
     "metadata": {},
     "output_type": "display_data"
    },
    {
     "data": {
      "text/latex": [
       "$\\displaystyle \\left[\\begin{matrix}{T}_{13} & x \\left(4096 x^{12} - 13312 x^{10} + 16640 x^{8} - 9984 x^{6} + 2912 x^{4} - 364 x^{2} + 13\\right)\\end{matrix}\\right]$"
      ],
      "text/plain": [
       "⎡         ⎛      12          10          8         6         4        2     ⎞⎤\n",
       "⎣T[13]  x⋅⎝4096⋅x   - 13312⋅x   + 16640⋅x  - 9984⋅x  + 2912⋅x  - 364⋅x  + 13⎠⎦"
      ]
     },
     "metadata": {},
     "output_type": "display_data"
    },
    {
     "data": {
      "text/latex": [
       "$\\displaystyle \\left[\\begin{matrix}{T}_{14} & 2 x^{2} \\left(64 x^{6} - 112 x^{4} + 56 x^{2} - 7\\right)^{2} - 1\\end{matrix}\\right]$"
      ],
      "text/plain": [
       "⎡                                        2    ⎤\n",
       "⎢          2 ⎛    6        4       2    ⎞     ⎥\n",
       "⎣T[14]  2⋅x ⋅⎝64⋅x  - 112⋅x  + 56⋅x  - 7⎠  - 1⎦"
      ]
     },
     "metadata": {},
     "output_type": "display_data"
    },
    {
     "data": {
      "text/latex": [
       "$\\displaystyle \\left[\\begin{matrix}{T}_{15} & x \\left(4 x^{2} - 3\\right) \\left(16 x^{4} - 20 x^{2} + 5\\right) \\left(256 x^{8} - 448 x^{6} + 224 x^{4} - 32 x^{2} + 1\\right)\\end{matrix}\\right]$"
      ],
      "text/plain": [
       "⎡         ⎛   2    ⎞ ⎛    4       2    ⎞ ⎛     8        6        4       2    \n",
       "⎣T[15]  x⋅⎝4⋅x  - 3⎠⋅⎝16⋅x  - 20⋅x  + 5⎠⋅⎝256⋅x  - 448⋅x  + 224⋅x  - 32⋅x  + 1\n",
       "\n",
       "⎞⎤\n",
       "⎠⎦"
      ]
     },
     "metadata": {},
     "output_type": "display_data"
    },
    {
     "data": {
      "text/latex": [
       "$\\displaystyle \\left[\\begin{matrix}{T}_{16} & 128 x^{2} \\left(x - 1\\right) \\left(x + 1\\right) \\left(2 x^{2} - 1\\right)^{2} \\left(8 x^{4} - 8 x^{2} + 1\\right)^{2} + 1\\end{matrix}\\right]$"
      ],
      "text/plain": [
       "⎡                                        2                  2    ⎤\n",
       "⎢            2                 ⎛   2    ⎞  ⎛   4      2    ⎞     ⎥\n",
       "⎣T[16]  128⋅x ⋅(x - 1)⋅(x + 1)⋅⎝2⋅x  - 1⎠ ⋅⎝8⋅x  - 8⋅x  + 1⎠  + 1⎦"
      ]
     },
     "metadata": {},
     "output_type": "display_data"
    },
    {
     "data": {
      "text/latex": [
       "$\\displaystyle \\left[\\begin{matrix}{T}_{17} & x \\left(65536 x^{16} - 278528 x^{14} + 487424 x^{12} - 452608 x^{10} + 239360 x^{8} - 71808 x^{6} + 11424 x^{4} - 816 x^{2} + 17\\right)\\end{matrix}\\right]$"
      ],
      "text/plain": [
       "⎡         ⎛       16           14           12           10           8       \n",
       "⎣T[17]  x⋅⎝65536⋅x   - 278528⋅x   + 487424⋅x   - 452608⋅x   + 239360⋅x  - 7180\n",
       "\n",
       "   6          4        2     ⎞⎤\n",
       "8⋅x  + 11424⋅x  - 816⋅x  + 17⎠⎦"
      ]
     },
     "metadata": {},
     "output_type": "display_data"
    },
    {
     "data": {
      "text/latex": [
       "$\\displaystyle \\left[\\begin{matrix}{T}_{18} & 2 x^{2} \\left(4 x^{2} - 3\\right)^{2} \\left(64 x^{6} - 96 x^{4} + 36 x^{2} - 3\\right)^{2} - 1\\end{matrix}\\right]$"
      ],
      "text/plain": [
       "⎡                      2                            2    ⎤\n",
       "⎢          2 ⎛   2    ⎞  ⎛    6       4       2    ⎞     ⎥\n",
       "⎣T[18]  2⋅x ⋅⎝4⋅x  - 3⎠ ⋅⎝64⋅x  - 96⋅x  + 36⋅x  - 3⎠  - 1⎦"
      ]
     },
     "metadata": {},
     "output_type": "display_data"
    },
    {
     "data": {
      "text/latex": [
       "$\\displaystyle \\left[\\begin{matrix}{T}_{19} & x \\left(262144 x^{18} - 1245184 x^{16} + 2490368 x^{14} - 2723840 x^{12} + 1770496 x^{10} - 695552 x^{8} + 160512 x^{6} - 20064 x^{4} + 1140 x^{2} - 19\\right)\\end{matrix}\\right]$"
      ],
      "text/plain": [
       "⎡         ⎛        18            16            14            12            10 \n",
       "⎣T[19]  x⋅⎝262144⋅x   - 1245184⋅x   + 2490368⋅x   - 2723840⋅x   + 1770496⋅x   \n",
       "\n",
       "          8           6          4         2     ⎞⎤\n",
       "- 695552⋅x  + 160512⋅x  - 20064⋅x  + 1140⋅x  - 19⎠⎦"
      ]
     },
     "metadata": {},
     "output_type": "display_data"
    },
    {
     "data": {
      "text/latex": [
       "$\\displaystyle \\left[\\begin{matrix}{T}_{20} & 8 x^{2} \\left(x - 1\\right) \\left(x + 1\\right) \\left(4 x^{2} - 2 x - 1\\right)^{2} \\left(4 x^{2} + 2 x - 1\\right)^{2} \\left(16 x^{4} - 20 x^{2} + 5\\right)^{2} + 1\\end{matrix}\\right]$"
      ],
      "text/plain": [
       "⎡                                            2                 2              \n",
       "⎢          2                 ⎛   2          ⎞  ⎛   2          ⎞  ⎛    4       \n",
       "⎣T[20]  8⋅x ⋅(x - 1)⋅(x + 1)⋅⎝4⋅x  - 2⋅x - 1⎠ ⋅⎝4⋅x  + 2⋅x - 1⎠ ⋅⎝16⋅x  - 20⋅x\n",
       "\n",
       "      2    ⎤\n",
       "2    ⎞     ⎥\n",
       "  + 5⎠  + 1⎦"
      ]
     },
     "metadata": {},
     "output_type": "display_data"
    },
    {
     "data": {
      "text/latex": [
       "$\\displaystyle \\left[\\begin{matrix}{T}_{21} & x \\left(4 x^{2} - 3\\right) \\left(64 x^{6} - 112 x^{4} + 56 x^{2} - 7\\right) \\left(4096 x^{12} - 11264 x^{10} + 11264 x^{8} - 4992 x^{6} + 960 x^{4} - 64 x^{2} + 1\\right)\\end{matrix}\\right]$"
      ],
      "text/plain": [
       "⎡         ⎛   2    ⎞ ⎛    6        4       2    ⎞ ⎛      12          10       \n",
       "⎣T[21]  x⋅⎝4⋅x  - 3⎠⋅⎝64⋅x  - 112⋅x  + 56⋅x  - 7⎠⋅⎝4096⋅x   - 11264⋅x   + 1126\n",
       "\n",
       "   8         6        4       2    ⎞⎤\n",
       "4⋅x  - 4992⋅x  + 960⋅x  - 64⋅x  + 1⎠⎦"
      ]
     },
     "metadata": {},
     "output_type": "display_data"
    },
    {
     "data": {
      "text/latex": [
       "$\\displaystyle \\left[\\begin{matrix}{T}_{22} & 2 x^{2} \\left(1024 x^{10} - 2816 x^{8} + 2816 x^{6} - 1232 x^{4} + 220 x^{2} - 11\\right)^{2} - 1\\end{matrix}\\right]$"
      ],
      "text/plain": [
       "⎡                                                                  2    ⎤\n",
       "⎢          2 ⎛      10         8         6         4        2     ⎞     ⎥\n",
       "⎣T[22]  2⋅x ⋅⎝1024⋅x   - 2816⋅x  + 2816⋅x  - 1232⋅x  + 220⋅x  - 11⎠  - 1⎦"
      ]
     },
     "metadata": {},
     "output_type": "display_data"
    },
    {
     "data": {
      "text/latex": [
       "$\\displaystyle \\left[\\begin{matrix}{T}_{23} & x \\left(4194304 x^{22} - 24117248 x^{20} + 60293120 x^{18} - 85917696 x^{16} + 76873728 x^{14} - 44843008 x^{12} + 17145856 x^{10} - 4209920 x^{8} + 631488 x^{6} - 52624 x^{4} + 2024 x^{2} - 23\\right)\\end{matrix}\\right]$"
      ],
      "text/plain": [
       "⎡         ⎛         22             20             18             16           \n",
       "⎣T[23]  x⋅⎝4194304⋅x   - 24117248⋅x   + 60293120⋅x   - 85917696⋅x   + 76873728\n",
       "\n",
       "  14             12             10            8           6          4        \n",
       "⋅x   - 44843008⋅x   + 17145856⋅x   - 4209920⋅x  + 631488⋅x  - 52624⋅x  + 2024⋅\n",
       "\n",
       " 2     ⎞⎤\n",
       "x  - 23⎠⎦"
      ]
     },
     "metadata": {},
     "output_type": "display_data"
    },
    {
     "data": {
      "text/latex": [
       "$\\displaystyle \\left[\\begin{matrix}{T}_{24} & 32 x^{2} \\left(x - 1\\right) \\left(x + 1\\right) \\left(2 x - 1\\right)^{2} \\left(2 x + 1\\right)^{2} \\left(2 x^{2} - 1\\right)^{2} \\left(4 x^{2} - 3\\right)^{2} \\left(16 x^{4} - 16 x^{2} + 1\\right)^{2} + 1\\end{matrix}\\right]$"
      ],
      "text/plain": [
       "⎡                                                             2           2   \n",
       "⎢           2                          2          2 ⎛   2    ⎞  ⎛   2    ⎞  ⎛ \n",
       "⎣T[24]  32⋅x ⋅(x - 1)⋅(x + 1)⋅(2⋅x - 1) ⋅(2⋅x + 1) ⋅⎝2⋅x  - 1⎠ ⋅⎝4⋅x  - 3⎠ ⋅⎝1\n",
       "\n",
       "                 2    ⎤\n",
       "   4       2    ⎞     ⎥\n",
       "6⋅x  - 16⋅x  + 1⎠  + 1⎦"
      ]
     },
     "metadata": {},
     "output_type": "display_data"
    },
    {
     "data": {
      "text/latex": [
       "$\\displaystyle \\left[\\begin{matrix}{T}_{25} & x \\left(16 x^{4} - 20 x^{2} + 5\\right) \\left(1048576 x^{20} - 5242880 x^{18} + 11141120 x^{16} - 13107200 x^{14} + 9318400 x^{12} - 4101120 x^{10} + 1100800 x^{8} - 171200 x^{6} + 14000 x^{4} - 500 x^{2} + 5\\right)\\end{matrix}\\right]$"
      ],
      "text/plain": [
       "⎡         ⎛    4       2    ⎞ ⎛         20            18             16       \n",
       "⎣T[25]  x⋅⎝16⋅x  - 20⋅x  + 5⎠⋅⎝1048576⋅x   - 5242880⋅x   + 11141120⋅x   - 1310\n",
       "\n",
       "      14            12            10            8           6          4      \n",
       "7200⋅x   + 9318400⋅x   - 4101120⋅x   + 1100800⋅x  - 171200⋅x  + 14000⋅x  - 500\n",
       "\n",
       "  2    ⎞⎤\n",
       "⋅x  + 5⎠⎦"
      ]
     },
     "metadata": {},
     "output_type": "display_data"
    },
    {
     "data": {
      "text/latex": [
       "$\\displaystyle \\left[\\begin{matrix}{T}_{26} & 2 x^{2} \\left(4096 x^{12} - 13312 x^{10} + 16640 x^{8} - 9984 x^{6} + 2912 x^{4} - 364 x^{2} + 13\\right)^{2} - 1\\end{matrix}\\right]$"
      ],
      "text/plain": [
       "⎡                                                                             \n",
       "⎢          2 ⎛      12          10          8         6         4        2    \n",
       "⎣T[26]  2⋅x ⋅⎝4096⋅x   - 13312⋅x   + 16640⋅x  - 9984⋅x  + 2912⋅x  - 364⋅x  + 1\n",
       "\n",
       "  2    ⎤\n",
       " ⎞     ⎥\n",
       "3⎠  - 1⎦"
      ]
     },
     "metadata": {},
     "output_type": "display_data"
    },
    {
     "data": {
      "text/latex": [
       "$\\displaystyle \\left[\\begin{matrix}{T}_{27} & x \\left(4 x^{2} - 3\\right) \\left(64 x^{6} - 96 x^{4} + 36 x^{2} - 3\\right) \\left(262144 x^{18} - 1179648 x^{16} + 2211840 x^{14} - 2236416 x^{12} + 1317888 x^{10} - 456192 x^{8} + 88704 x^{6} - 8640 x^{4} + 324 x^{2} - 3\\right)\\end{matrix}\\right]$"
      ],
      "text/plain": [
       "⎡         ⎛   2    ⎞ ⎛    6       4       2    ⎞ ⎛        18            16    \n",
       "⎣T[27]  x⋅⎝4⋅x  - 3⎠⋅⎝64⋅x  - 96⋅x  + 36⋅x  - 3⎠⋅⎝262144⋅x   - 1179648⋅x   + 2\n",
       "\n",
       "        14            12            10           8          6         4       \n",
       "211840⋅x   - 2236416⋅x   + 1317888⋅x   - 456192⋅x  + 88704⋅x  - 8640⋅x  + 324⋅\n",
       "\n",
       " 2    ⎞⎤\n",
       "x  - 3⎠⎦"
      ]
     },
     "metadata": {},
     "output_type": "display_data"
    },
    {
     "data": {
      "text/latex": [
       "$\\displaystyle \\left[\\begin{matrix}{T}_{28} & 8 x^{2} \\left(x - 1\\right) \\left(x + 1\\right) \\left(8 x^{3} - 4 x^{2} - 4 x + 1\\right)^{2} \\left(8 x^{3} + 4 x^{2} - 4 x - 1\\right)^{2} \\left(64 x^{6} - 112 x^{4} + 56 x^{2} - 7\\right)^{2} + 1\\end{matrix}\\right]$"
      ],
      "text/plain": [
       "⎡                                                   2                        2\n",
       "⎢          2                 ⎛   3      2          ⎞  ⎛   3      2          ⎞ \n",
       "⎣T[28]  8⋅x ⋅(x - 1)⋅(x + 1)⋅⎝8⋅x  - 4⋅x  - 4⋅x + 1⎠ ⋅⎝8⋅x  + 4⋅x  - 4⋅x - 1⎠ \n",
       "\n",
       "                             2    ⎤\n",
       " ⎛    6        4       2    ⎞     ⎥\n",
       "⋅⎝64⋅x  - 112⋅x  + 56⋅x  - 7⎠  + 1⎦"
      ]
     },
     "metadata": {},
     "output_type": "display_data"
    },
    {
     "data": {
      "text/latex": [
       "$\\displaystyle \\left[\\begin{matrix}{T}_{29} & x \\left(268435456 x^{28} - 1946157056 x^{26} + 6325010432 x^{24} - 12163481600 x^{22} + 15386804224 x^{20} - 13463453696 x^{18} + 8341487616 x^{16} - 3683254272 x^{14} + 1151016960 x^{12} - 249387008 x^{10} + 36095488 x^{8} - 3281408 x^{6} + 168896 x^{4} - 4060 x^{2} + 29\\right)\\end{matrix}\\right]$"
      ],
      "text/plain": [
       "⎡         ⎛           28               26               24                22  \n",
       "⎣T[29]  x⋅⎝268435456⋅x   - 1946157056⋅x   + 6325010432⋅x   - 12163481600⋅x   +\n",
       "\n",
       "              20                18               16               14          \n",
       " 15386804224⋅x   - 13463453696⋅x   + 8341487616⋅x   - 3683254272⋅x   + 1151016\n",
       "\n",
       "     12              10             8            6           4         2     ⎞\n",
       "960⋅x   - 249387008⋅x   + 36095488⋅x  - 3281408⋅x  + 168896⋅x  - 4060⋅x  + 29⎠\n",
       "\n",
       "⎤\n",
       "⎦"
      ]
     },
     "metadata": {},
     "output_type": "display_data"
    },
    {
     "data": {
      "text/latex": [
       "$\\displaystyle \\left[\\begin{matrix}{T}_{30} & 2 x^{2} \\left(4 x^{2} - 3\\right)^{2} \\left(16 x^{4} - 20 x^{2} + 5\\right)^{2} \\left(256 x^{8} - 448 x^{6} + 224 x^{4} - 32 x^{2} + 1\\right)^{2} - 1\\end{matrix}\\right]$"
      ],
      "text/plain": [
       "⎡                      2                    2                                 \n",
       "⎢          2 ⎛   2    ⎞  ⎛    4       2    ⎞  ⎛     8        6        4       \n",
       "⎣T[30]  2⋅x ⋅⎝4⋅x  - 3⎠ ⋅⎝16⋅x  - 20⋅x  + 5⎠ ⋅⎝256⋅x  - 448⋅x  + 224⋅x  - 32⋅x\n",
       "\n",
       "      2    ⎤\n",
       "2    ⎞     ⎥\n",
       "  + 1⎠  - 1⎦"
      ]
     },
     "metadata": {},
     "output_type": "display_data"
    },
    {
     "data": {
      "text/latex": [
       "$\\displaystyle \\left[\\begin{matrix}{T}_{31} & x \\left(1073741824 x^{30} - 8321499136 x^{28} + 29125246976 x^{26} - 60850962432 x^{24} + 84515225600 x^{22} - 82239815680 x^{20} + 57567870976 x^{18} - 29297934336 x^{16} + 10827497472 x^{14} - 2870927360 x^{12} + 533172224 x^{10} - 66646528 x^{8} + 5261568 x^{6} - 236096 x^{4} + 4960 x^{2} - 31\\right)\\end{matrix}\\right]$"
      ],
      "text/plain": [
       "⎡         ⎛            30               28                26                24\n",
       "⎣T[31]  x⋅⎝1073741824⋅x   - 8321499136⋅x   + 29125246976⋅x   - 60850962432⋅x  \n",
       "\n",
       "                22                20                18                16      \n",
       " + 84515225600⋅x   - 82239815680⋅x   + 57567870976⋅x   - 29297934336⋅x   + 108\n",
       "\n",
       "          14               12              10             8            6      \n",
       "27497472⋅x   - 2870927360⋅x   + 533172224⋅x   - 66646528⋅x  + 5261568⋅x  - 236\n",
       "\n",
       "     4         2     ⎞⎤\n",
       "096⋅x  + 4960⋅x  - 31⎠⎦"
      ]
     },
     "metadata": {},
     "output_type": "display_data"
    },
    {
     "data": {
      "text/latex": [
       "$\\displaystyle \\left[\\begin{matrix}{T}_{32} & 512 x^{2} \\left(x - 1\\right) \\left(x + 1\\right) \\left(2 x^{2} - 1\\right)^{2} \\left(8 x^{4} - 8 x^{2} + 1\\right)^{2} \\left(128 x^{8} - 256 x^{6} + 160 x^{4} - 32 x^{2} + 1\\right)^{2} + 1\\end{matrix}\\right]$"
      ],
      "text/plain": [
       "⎡                                        2                  2                 \n",
       "⎢            2                 ⎛   2    ⎞  ⎛   4      2    ⎞  ⎛     8        6\n",
       "⎣T[32]  512⋅x ⋅(x - 1)⋅(x + 1)⋅⎝2⋅x  - 1⎠ ⋅⎝8⋅x  - 8⋅x  + 1⎠ ⋅⎝128⋅x  - 256⋅x \n",
       "\n",
       "                      2    ⎤\n",
       "        4       2    ⎞     ⎥\n",
       " + 160⋅x  - 32⋅x  + 1⎠  + 1⎦"
      ]
     },
     "metadata": {},
     "output_type": "display_data"
    },
    {
     "data": {
      "text/latex": [
       "$\\displaystyle \\left[\\begin{matrix}{T}_{33} & x \\left(4 x^{2} - 3\\right) \\left(1024 x^{10} - 2816 x^{8} + 2816 x^{6} - 1232 x^{4} + 220 x^{2} - 11\\right) \\left(1048576 x^{20} - 4980736 x^{18} + 9961472 x^{16} - 10911744 x^{14} + 7135232 x^{12} - 2848768 x^{10} + 682240 x^{8} - 92352 x^{6} + 6240 x^{4} - 160 x^{2} + 1\\right)\\end{matrix}\\right]$"
      ],
      "text/plain": [
       "⎡         ⎛   2    ⎞ ⎛      10         8         6         4        2     ⎞ ⎛ \n",
       "⎣T[33]  x⋅⎝4⋅x  - 3⎠⋅⎝1024⋅x   - 2816⋅x  + 2816⋅x  - 1232⋅x  + 220⋅x  - 11⎠⋅⎝1\n",
       "\n",
       "        20            18            16             14            12           \n",
       "048576⋅x   - 4980736⋅x   + 9961472⋅x   - 10911744⋅x   + 7135232⋅x   - 2848768⋅\n",
       "\n",
       " 10           8          6         4        2    ⎞⎤\n",
       "x   + 682240⋅x  - 92352⋅x  + 6240⋅x  - 160⋅x  + 1⎠⎦"
      ]
     },
     "metadata": {},
     "output_type": "display_data"
    },
    {
     "data": {
      "text/latex": [
       "$\\displaystyle \\left[\\begin{matrix}{T}_{34} & 2 x^{2} \\left(65536 x^{16} - 278528 x^{14} + 487424 x^{12} - 452608 x^{10} + 239360 x^{8} - 71808 x^{6} + 11424 x^{4} - 816 x^{2} + 17\\right)^{2} - 1\\end{matrix}\\right]$"
      ],
      "text/plain": [
       "⎡                                                                             \n",
       "⎢          2 ⎛       16           14           12           10           8    \n",
       "⎣T[34]  2⋅x ⋅⎝65536⋅x   - 278528⋅x   + 487424⋅x   - 452608⋅x   + 239360⋅x  - 7\n",
       "\n",
       "                                 2    ⎤\n",
       "      6          4        2     ⎞     ⎥\n",
       "1808⋅x  + 11424⋅x  - 816⋅x  + 17⎠  - 1⎦"
      ]
     },
     "metadata": {},
     "output_type": "display_data"
    },
    {
     "data": {
      "text/latex": [
       "$\\displaystyle \\left[\\begin{matrix}{T}_{35} & x \\left(16 x^{4} - 20 x^{2} + 5\\right) \\left(64 x^{6} - 112 x^{4} + 56 x^{2} - 7\\right) \\left(16777216 x^{24} - 96468992 x^{22} + 241172480 x^{20} - 343670784 x^{18} + 307494912 x^{16} - 179388416 x^{14} + 68636672 x^{12} - 16907264 x^{10} + 2568192 x^{8} - 223872 x^{6} + 10048 x^{4} - 192 x^{2} + 1\\right)\\end{matrix}\\right]$"
      ],
      "text/plain": [
       "⎡         ⎛    4       2    ⎞ ⎛    6        4       2    ⎞ ⎛          24      \n",
       "⎣T[35]  x⋅⎝16⋅x  - 20⋅x  + 5⎠⋅⎝64⋅x  - 112⋅x  + 56⋅x  - 7⎠⋅⎝16777216⋅x   - 964\n",
       "\n",
       "       22              20              18              16              14     \n",
       "68992⋅x   + 241172480⋅x   - 343670784⋅x   + 307494912⋅x   - 179388416⋅x   + 68\n",
       "\n",
       "        12             10            8           6          4        2    ⎞⎤\n",
       "636672⋅x   - 16907264⋅x   + 2568192⋅x  - 223872⋅x  + 10048⋅x  - 192⋅x  + 1⎠⎦"
      ]
     },
     "metadata": {},
     "output_type": "display_data"
    },
    {
     "data": {
      "text/latex": [
       "$\\displaystyle \\left[\\begin{matrix}{T}_{36} & 8 x^{2} \\left(x - 1\\right) \\left(x + 1\\right) \\left(2 x - 1\\right)^{2} \\left(2 x + 1\\right)^{2} \\left(4 x^{2} - 3\\right)^{2} \\left(8 x^{3} - 6 x - 1\\right)^{2} \\left(8 x^{3} - 6 x + 1\\right)^{2} \\left(64 x^{6} - 96 x^{4} + 36 x^{2} - 3\\right)^{2} + 1\\end{matrix}\\right]$"
      ],
      "text/plain": [
       "⎡                                                            2                \n",
       "⎢          2                          2          2 ⎛   2    ⎞  ⎛   3          \n",
       "⎣T[36]  8⋅x ⋅(x - 1)⋅(x + 1)⋅(2⋅x - 1) ⋅(2⋅x + 1) ⋅⎝4⋅x  - 3⎠ ⋅⎝8⋅x  - 6⋅x - 1\n",
       "\n",
       " 2                 2                            2    ⎤\n",
       "⎞  ⎛   3          ⎞  ⎛    6       4       2    ⎞     ⎥\n",
       "⎠ ⋅⎝8⋅x  - 6⋅x + 1⎠ ⋅⎝64⋅x  - 96⋅x  + 36⋅x  - 3⎠  + 1⎦"
      ]
     },
     "metadata": {},
     "output_type": "display_data"
    }
   ],
   "source": [
    "def Chebyshev(n):\n",
    "    x = Symbol('x')\n",
    "    p = 0 \n",
    "    for i in range(1,n+1):\n",
    "        p += n*(((-1)**(n+i)+1)//2*(-1)**((n-i)//2))*2**(i-1)*\\\n",
    "            factorial((n-2+i)//2)/(factorial((n-i)//2)*factorial(i))*x**i\n",
    "    return p.factor() + (-((-1)**n+1)//2)**((n+4)//2)\n",
    "for n in range(1,37):\n",
    "    cheby = Chebyshev(n)\n",
    "    display(Matrix([[Indexed('T',n), Chebyshev(n)]]))"
   ]
  },
  {
   "cell_type": "code",
   "execution_count": 4,
   "id": "ff51c32a",
   "metadata": {},
   "outputs": [
    {
     "data": {
      "image/png": "[encoded data removed]",
      "text/latex": [
       "$\\displaystyle 16 x^{5} \\left(16 x^{4} - 20 x^{2} + 5\\right)^{5} - 20 x^{3} \\left(16 x^{4} - 20 x^{2} + 5\\right)^{3} + 5 x \\left(16 x^{4} - 20 x^{2} + 5\\right)$"
      ],
      "text/plain": [
       "                         5                            3                       \n",
       "    5 ⎛    4       2    ⎞        3 ⎛    4       2    ⎞        ⎛    4       2  \n",
       "16⋅x ⋅⎝16⋅x  - 20⋅x  + 5⎠  - 20⋅x ⋅⎝16⋅x  - 20⋅x  + 5⎠  + 5⋅x⋅⎝16⋅x  - 20⋅x  +\n",
       "\n",
       "   \n",
       "  ⎞\n",
       " 5⎠"
      ]
     },
     "execution_count": 4,
     "metadata": {},
     "output_type": "execute_result"
    }
   ],
   "source": [
    "chb25 = 4*x**3*(16*x**4 - 20*x**2 + 5)**3*(1024*x**10 - 2560*x**8 + 2240*x**6 - 800*x**4 + 100*x**2).factor()-5*4*x**3*(16*x**4 - 20*x**2 + 5)**3+5*x*(16*x**4 - 20*x**2 + 5)\n",
    "chb25"
   ]
  },
  {
   "cell_type": "code",
   "execution_count": 5,
   "id": "ac728265",
   "metadata": {},
   "outputs": [
    {
     "data": {
      "text/plain": [
       "True"
      ]
     },
     "execution_count": 5,
     "metadata": {},
     "output_type": "execute_result"
    }
   ],
   "source": [
    "chb25.expand()==Chebyshev(25).expand()"
   ]
  },
  {
   "cell_type": "code",
   "execution_count": 6,
   "id": "1b68bc2c",
   "metadata": {},
   "outputs": [
    {
     "data": {
      "image/png": "[encoded data removed]",
      "text/latex": [
       "$\\displaystyle 4 x^{3} \\left(4 x^{2} - 3\\right)^{3} - 3 x \\left(4 x^{2} - 3\\right)$"
      ],
      "text/plain": [
       "               3                 \n",
       "   3 ⎛   2    ⎞        ⎛   2    ⎞\n",
       "4⋅x ⋅⎝4⋅x  - 3⎠  - 3⋅x⋅⎝4⋅x  - 3⎠"
      ]
     },
     "execution_count": 6,
     "metadata": {},
     "output_type": "execute_result"
    }
   ],
   "source": [
    "chb9 = x*(4*x**2 - 3)*(64*x**6 - 96*x**4 + 36*x**2 ).factor()-x*(4*x**2 - 3)*3\n",
    "chb9"
   ]
  },
  {
   "cell_type": "code",
   "execution_count": 7,
   "id": "f7a3d56f",
   "metadata": {},
   "outputs": [
    {
     "data": {
      "text/plain": [
       "True"
      ]
     },
     "execution_count": 7,
     "metadata": {},
     "output_type": "execute_result"
    }
   ],
   "source": [
    "chb9.expand()==Chebyshev(9).expand()"
   ]
  },
  {
   "cell_type": "code",
   "execution_count": 8,
   "id": "5b9104ff",
   "metadata": {},
   "outputs": [
    {
     "data": {
      "image/png": "[encoded data removed]",
      "text/latex": [
       "$\\displaystyle 64 x^{7} \\left(64 x^{6} - 112 x^{4} + 56 x^{2} - 7\\right)^{7} - 112 x^{5} \\left(64 x^{6} - 112 x^{4} + 56 x^{2} - 7\\right)^{5} + 56 x^{3} \\left(64 x^{6} - 112 x^{4} + 56 x^{2} - 7\\right)^{3} - 7 x \\left(64 x^{6} - 112 x^{4} + 56 x^{2} - 7\\right)$"
      ],
      "text/plain": [
       "                                  7                                      5    \n",
       "    7 ⎛    6        4       2    ⎞         5 ⎛    6        4       2    ⎞     \n",
       "64⋅x ⋅⎝64⋅x  - 112⋅x  + 56⋅x  - 7⎠  - 112⋅x ⋅⎝64⋅x  - 112⋅x  + 56⋅x  - 7⎠  + 5\n",
       "\n",
       "                                 3                                   \n",
       "   3 ⎛    6        4       2    ⎞        ⎛    6        4       2    ⎞\n",
       "6⋅x ⋅⎝64⋅x  - 112⋅x  + 56⋅x  - 7⎠  - 7⋅x⋅⎝64⋅x  - 112⋅x  + 56⋅x  - 7⎠"
      ]
     },
     "execution_count": 8,
     "metadata": {},
     "output_type": "execute_result"
    }
   ],
   "source": [
    "chb49=16*x**5*(64*x**6 - 112*x**4 + 56*x**2 - 7)**5*(16384*x**14 - 57344*x**12 + 78848*x**10 - 53760*x**8 +\\\n",
    "      18816*x**6 - 3136*x**4 + 196*x**2 ).factor()-16*x**5*(64*x**6 - 112*x**4 + 56*x**2 - 7)**5*7+\\\n",
    "    8*x**3*(64*x**6 - 112*x**4 + 56*x**2 - 7)**3*7- 7*x*(64*x**6 - 112*x**4 + 56*x**2 - 7)\n",
    "chb49"
   ]
  },
  {
   "cell_type": "code",
   "execution_count": 9,
   "id": "0d52e0c6",
   "metadata": {},
   "outputs": [
    {
     "data": {
      "text/plain": [
       "True"
      ]
     },
     "execution_count": 9,
     "metadata": {},
     "output_type": "execute_result"
    }
   ],
   "source": [
    "chb49.expand()==Chebyshev(49).expand()"
   ]
  },
  {
   "cell_type": "code",
   "execution_count": null,
   "id": "ec1a8c38",
   "metadata": {},
   "outputs": [],
   "source": []
  }
 ],
 "metadata": {
  "kernelspec": {
   "display_name": "Python 3 (ipykernel)",
   "language": "python",
   "name": "python3"
  },
  "language_info": {
   "codemirror_mode": {
    "name": "ipython",
    "version": 3
   },
   "file_extension": ".py",
   "mimetype": "text/x-python",
   "name": "python",
   "nbconvert_exporter": "python",
   "pygments_lexer": "ipython3",
   "version": "3.9.7"
  }
 },
 "nbformat": 4,
 "nbformat_minor": 5
}
