{
 "cells": [
  {
   "attachments": {
    "Spread.jpg": {
     "image/jpeg": "[encoded data removed]"
    }
   },
   "cell_type": "markdown",
   "id": "643a76cf",
   "metadata": {},
   "source": [
    "![Spread.jpg](attachment:Spread.jpg)"
   ]
  },
  {
   "cell_type": "code",
   "execution_count": 1,
   "id": "37295c33",
   "metadata": {},
   "outputs": [
    {
     "name": "stdout",
     "output_type": "stream",
     "text": [
      "IPython console for SymPy 1.9 (Python 3.9.7-64-bit) (ground types: python)\n",
      "\n",
      "These commands were executed:\n",
      ">>> from __future__ import division\n",
      ">>> from sympy import *\n",
      ">>> x, y, z, t = symbols('x y z t')\n",
      ">>> k, m, n = symbols('k m n', integer=True)\n",
      ">>> f, g, h = symbols('f g h', cls=Function)\n",
      ">>> init_printing()\n",
      "\n",
      "Documentation can be found at https://docs.sympy.org/1.9/\n",
      "\n"
     ]
    }
   ],
   "source": [
    "from sympy import *\n",
    "from IPython.display import display, Markdown, Math\n",
    "init_session(use_latex=True)\n",
    "from math import comb"
   ]
  },
  {
   "cell_type": "code",
   "execution_count": 2,
   "id": "f75471bc",
   "metadata": {},
   "outputs": [
    {
     "data": {
      "text/markdown": [
       "${S}_{1}$= $s$ = $s$"
      ],
      "text/plain": [
       "<IPython.core.display.Markdown object>"
      ]
     },
     "metadata": {},
     "output_type": "display_data"
    },
    {
     "data": {
      "text/markdown": [
       "${S}_{2}$= $- 4 s^{2} + 4 s$ = $- 4 s^{2} + 4 s$"
      ],
      "text/plain": [
       "<IPython.core.display.Markdown object>"
      ]
     },
     "metadata": {},
     "output_type": "display_data"
    },
    {
     "data": {
      "text/markdown": [
       "${S}_{3}$= $16 s^{3} - 24 s^{2} + 9 s$ = $16 s^{3} - 24 s^{2} + 9 s$"
      ],
      "text/plain": [
       "<IPython.core.display.Markdown object>"
      ]
     },
     "metadata": {},
     "output_type": "display_data"
    },
    {
     "data": {
      "text/markdown": [
       "${S}_{4}$= $- 16 s^{2} + 16 s - 4 \\left(- 4 s^{2} + 4 s\\right)^{2}$ = $- 64 s^{4} + 128 s^{3} - 80 s^{2} + 16 s$"
      ],
      "text/plain": [
       "<IPython.core.display.Markdown object>"
      ]
     },
     "metadata": {},
     "output_type": "display_data"
    },
    {
     "data": {
      "text/markdown": [
       "${S}_{5}$= $256 s^{5} - 640 s^{4} + 560 s^{3} - 200 s^{2} + 25 s$ = $256 s^{5} - 640 s^{4} + 560 s^{3} - 200 s^{2} + 25 s$"
      ],
      "text/plain": [
       "<IPython.core.display.Markdown object>"
      ]
     },
     "metadata": {},
     "output_type": "display_data"
    },
    {
     "data": {
      "text/markdown": [
       "${S}_{6}$= $- 36 s^{2} + 36 s + 16 \\left(- 4 s^{2} + 4 s\\right)^{3} - 24 \\left(- 4 s^{2} + 4 s\\right)^{2}$ = $- 1024 s^{6} + 3072 s^{5} - 3456 s^{4} + 1792 s^{3} - 420 s^{2} + 36 s$"
      ],
      "text/plain": [
       "<IPython.core.display.Markdown object>"
      ]
     },
     "metadata": {},
     "output_type": "display_data"
    },
    {
     "data": {
      "text/markdown": [
       "${S}_{7}$= $4096 s^{7} - 14336 s^{6} + 19712 s^{5} - 13440 s^{4} + 4704 s^{3} - 784 s^{2} + 49 s$ = $4096 s^{7} - 14336 s^{6} + 19712 s^{5} - 13440 s^{4} + 4704 s^{3} - 784 s^{2} + 49 s$"
      ],
      "text/plain": [
       "<IPython.core.display.Markdown object>"
      ]
     },
     "metadata": {},
     "output_type": "display_data"
    },
    {
     "data": {
      "text/markdown": [
       "${S}_{8}$= $- 64 s^{2} + 64 s - 16 \\left(- 4 s^{2} + 4 s\\right)^{2} - 4 \\left(- 16 s^{2} + 16 s - 4 \\left(- 4 s^{2} + 4 s\\right)^{2}\\right)^{2}$ = $- 16384 s^{8} + 65536 s^{7} - 106496 s^{6} + 90112 s^{5} - 42240 s^{4} + 10752 s^{3} - 1344 s^{2} + 64 s$"
      ],
      "text/plain": [
       "<IPython.core.display.Markdown object>"
      ]
     },
     "metadata": {},
     "output_type": "display_data"
    },
    {
     "data": {
      "text/markdown": [
       "${S}_{9}$= $144 s^{3} - 216 s^{2} + 81 s + 16 \\left(16 s^{3} - 24 s^{2} + 9 s\\right)^{3} - 24 \\left(16 s^{3} - 24 s^{2} + 9 s\\right)^{2}$ = $65536 s^{9} - 294912 s^{8} + 552960 s^{7} - 559104 s^{6} + 329472 s^{5} - 114048 s^{4} + 22176 s^{3} - 2160 s^{2} + 81 s$"
      ],
      "text/plain": [
       "<IPython.core.display.Markdown object>"
      ]
     },
     "metadata": {},
     "output_type": "display_data"
    },
    {
     "data": {
      "text/markdown": [
       "${S}_{10}$= $- 100 s^{2} + 100 s + 256 \\left(- 4 s^{2} + 4 s\\right)^{5} - 640 \\left(- 4 s^{2} + 4 s\\right)^{4} + 560 \\left(- 4 s^{2} + 4 s\\right)^{3} - 200 \\left(- 4 s^{2} + 4 s\\right)^{2}$ = $- 262144 s^{10} + 1310720 s^{9} - 2785280 s^{8} + 3276800 s^{7} - 2329600 s^{6} + 1025024 s^{5} - 274560 s^{4} + 42240 s^{3} - 3300 s^{2} + 100 s$"
      ],
      "text/plain": [
       "<IPython.core.display.Markdown object>"
      ]
     },
     "metadata": {},
     "output_type": "display_data"
    },
    {
     "data": {
      "text/markdown": [
       "${S}_{11}$= $1048576 s^{11} - 5767168 s^{10} + 13697024 s^{9} - 18382848 s^{8} + 15319040 s^{7} - 8200192 s^{6} + 2818816 s^{5} - 604032 s^{4} + 75504 s^{3} - 4840 s^{2} + 121 s$ = $1048576 s^{11} - 5767168 s^{10} + 13697024 s^{9} - 18382848 s^{8} + 15319040 s^{7} - 8200192 s^{6} + 2818816 s^{5} - 604032 s^{4} + 75504 s^{3} - 4840 s^{2} + 121 s$"
      ],
      "text/plain": [
       "<IPython.core.display.Markdown object>"
      ]
     },
     "metadata": {},
     "output_type": "display_data"
    },
    {
     "data": {
      "text/markdown": [
       "${S}_{12}$= $- 144 s^{2} + 144 s - 36 \\left(- 4 s^{2} + 4 s\\right)^{2} + 16 \\left(- 16 s^{2} + 16 s - 4 \\left(- 4 s^{2} + 4 s\\right)^{2}\\right)^{3} - 24 \\left(- 16 s^{2} + 16 s - 4 \\left(- 4 s^{2} + 4 s\\right)^{2}\\right)^{2}$ = $- 4194304 s^{12} + 25165824 s^{11} - 66060288 s^{10} + 99614720 s^{9} - 95256576 s^{8} + 60162048 s^{7} - 25346048 s^{6} + 7028736 s^{5} - 1235520 s^{4} + 128128 s^{3} - 6864 s^{2} + 144 s$"
      ],
      "text/plain": [
       "<IPython.core.display.Markdown object>"
      ]
     },
     "metadata": {},
     "output_type": "display_data"
    },
    {
     "data": {
      "text/markdown": [
       "${S}_{13}$= $16777216 s^{13} - 109051904 s^{12} + 313524224 s^{11} - 524812288 s^{10} + 566558720 s^{9} - 412778496 s^{8} + 206389248 s^{7} - 70606848 s^{6} + 16180736 s^{5} - 2379520 s^{4} + 208208 s^{3} - 9464 s^{2} + 169 s$ = $16777216 s^{13} - 109051904 s^{12} + 313524224 s^{11} - 524812288 s^{10} + 566558720 s^{9} - 412778496 s^{8} + 206389248 s^{7} - 70606848 s^{6} + 16180736 s^{5} - 2379520 s^{4} + 208208 s^{3} - 9464 s^{2} + 169 s$"
      ],
      "text/plain": [
       "<IPython.core.display.Markdown object>"
      ]
     },
     "metadata": {},
     "output_type": "display_data"
    },
    {
     "data": {
      "text/markdown": [
       "${S}_{14}$= $- 196 s^{2} + 196 s + 4096 \\left(- 4 s^{2} + 4 s\\right)^{7} - 14336 \\left(- 4 s^{2} + 4 s\\right)^{6} + 19712 \\left(- 4 s^{2} + 4 s\\right)^{5} - 13440 \\left(- 4 s^{2} + 4 s\\right)^{4} + 4704 \\left(- 4 s^{2} + 4 s\\right)^{3} - 784 \\left(- 4 s^{2} + 4 s\\right)^{2}$ = $- 67108864 s^{14} + 469762048 s^{13} - 1468006400 s^{12} + 2701131776 s^{11} - 3249799168 s^{10} + 2684616704 s^{9} - 1555857408 s^{8} + 635043840 s^{7} - 180590592 s^{6} + 34850816 s^{5} - 4356352 s^{4} + 326144 s^{3} - 12740 s^{2} + 196 s$"
      ],
      "text/plain": [
       "<IPython.core.display.Markdown object>"
      ]
     },
     "metadata": {},
     "output_type": "display_data"
    },
    {
     "data": {
      "text/markdown": [
       "${S}_{15}$= $400 s^{3} - 600 s^{2} + 225 s + 256 \\left(16 s^{3} - 24 s^{2} + 9 s\\right)^{5} - 640 \\left(16 s^{3} - 24 s^{2} + 9 s\\right)^{4} + 560 \\left(16 s^{3} - 24 s^{2} + 9 s\\right)^{3} - 200 \\left(16 s^{3} - 24 s^{2} + 9 s\\right)^{2}$ = $268435456 s^{15} - 2013265920 s^{14} + 6794772480 s^{13} - 13631488000 s^{12} + 18087936000 s^{11} - 16713252864 s^{10} + 11026104320 s^{9} - 5239111680 s^{8} + 1786060800 s^{7} - 429977600 s^{6} + 70946304 s^{5} - 7637760 s^{4} + 495040 s^{3} - 16800 s^{2} + 225 s$"
      ],
      "text/plain": [
       "<IPython.core.display.Markdown object>"
      ]
     },
     "metadata": {},
     "output_type": "display_data"
    },
    {
     "data": {
      "text/markdown": [
       "${S}_{16}$= $- 256 s^{2} + 256 s - 64 \\left(- 4 s^{2} + 4 s\\right)^{2} - 16 \\left(- 16 s^{2} + 16 s - 4 \\left(- 4 s^{2} + 4 s\\right)^{2}\\right)^{2} - 4 \\left(- 64 s^{2} + 64 s - 16 \\left(- 4 s^{2} + 4 s\\right)^{2} - 4 \\left(- 16 s^{2} + 16 s - 4 \\left(- 4 s^{2} + 4 s\\right)^{2}\\right)^{2}\\right)^{2}$ = $- 1073741824 s^{16} + 8589934592 s^{15} - 31138512896 s^{14} + 67645734912 s^{13} - 98146713600 s^{12} + 100327751680 s^{11} - 74281123840 s^{10} + 40324038656 s^{9} - 16066609152 s^{8} + 4656988160 s^{7} - 963149824 s^{6} + 137592832 s^{5} - 12899328 s^{4} + 731136 s^{3} - 21760 s^{2} + 256 s$"
      ],
      "text/plain": [
       "<IPython.core.display.Markdown object>"
      ]
     },
     "metadata": {},
     "output_type": "display_data"
    },
    {
     "data": {
      "text/markdown": [
       "${S}_{17}$= $4294967296 s^{17} - 36507222016 s^{16} + 141465485312 s^{15} - 330846699520 s^{14} + 521083551744 s^{13} - 583972945920 s^{12} + 479692062720 s^{11} - 293145149440 s^{10} + 133888409600 s^{9} - 45522059264 s^{8} + 11380514816 s^{7} - 2046693376 s^{6} + 255836672 s^{5} - 21085440 s^{4} + 1054272 s^{3} - 27744 s^{2} + 289 s$ = $4294967296 s^{17} - 36507222016 s^{16} + 141465485312 s^{15} - 330846699520 s^{14} + 521083551744 s^{13} - 583972945920 s^{12} + 479692062720 s^{11} - 293145149440 s^{10} + 133888409600 s^{9} - 45522059264 s^{8} + 11380514816 s^{7} - 2046693376 s^{6} + 255836672 s^{5} - 21085440 s^{4} + 1054272 s^{3} - 27744 s^{2} + 289 s$"
      ],
      "text/plain": [
       "<IPython.core.display.Markdown object>"
      ]
     },
     "metadata": {},
     "output_type": "display_data"
    },
    {
     "data": {
      "text/markdown": [
       "${S}_{18}$= $- 324 s^{2} + 324 s + 144 \\left(- 4 s^{2} + 4 s\\right)^{3} - 216 \\left(- 4 s^{2} + 4 s\\right)^{2} + 16 \\left(- 36 s^{2} + 36 s + 16 \\left(- 4 s^{2} + 4 s\\right)^{3} - 24 \\left(- 4 s^{2} + 4 s\\right)^{2}\\right)^{3} - 24 \\left(- 36 s^{2} + 36 s + 16 \\left(- 4 s^{2} + 4 s\\right)^{3} - 24 \\left(- 4 s^{2} + 4 s\\right)^{2}\\right)^{2}$ = $- 17179869184 s^{18} + 154618822656 s^{17} - 637802643456 s^{16} + 1597727834112 s^{15} - 2714889093120 s^{14} + 3310413152256 s^{13} - 2988567429120 s^{12} + 2031636971520 s^{11} - 1047562813440 s^{10} + 409541017600 s^{9} - 120499568640 s^{8} + 26290814976 s^{7} - 4153583616 s^{6} + 458422272 s^{5} - 33488640 s^{4} + 1488384 s^{3} - 34884 s^{2} + 324 s$"
      ],
      "text/plain": [
       "<IPython.core.display.Markdown object>"
      ]
     },
     "metadata": {},
     "output_type": "display_data"
    },
    {
     "data": {
      "text/markdown": [
       "${S}_{19}$= $68719476736 s^{19} - 652835028992 s^{18} + 2856153251840 s^{17} - 7630009401344 s^{16} + 13913546555392 s^{15} - 18340584095744 s^{14} + 18054012469248 s^{13} - 13519709798400 s^{12} + 7773833134080 s^{11} - 3440144547840 s^{10} + 1167191900160 s^{9} - 300640337920 s^{8} + 57815449600 s^{7} - 8094162944 s^{6} + 794962432 s^{5} - 51845376 s^{4} + 2062032 s^{3} - 43320 s^{2} + 361 s$ = $68719476736 s^{19} - 652835028992 s^{18} + 2856153251840 s^{17} - 7630009401344 s^{16} + 13913546555392 s^{15} - 18340584095744 s^{14} + 18054012469248 s^{13} - 13519709798400 s^{12} + 7773833134080 s^{11} - 3440144547840 s^{10} + 1167191900160 s^{9} - 300640337920 s^{8} + 57815449600 s^{7} - 8094162944 s^{6} + 794962432 s^{5} - 51845376 s^{4} + 2062032 s^{3} - 43320 s^{2} + 361 s$"
      ],
      "text/plain": [
       "<IPython.core.display.Markdown object>"
      ]
     },
     "metadata": {},
     "output_type": "display_data"
    },
    {
     "data": {
      "text/markdown": [
       "${S}_{20}$= $- 400 s^{2} + 400 s - 100 \\left(- 4 s^{2} + 4 s\\right)^{2} + 256 \\left(- 16 s^{2} + 16 s - 4 \\left(- 4 s^{2} + 4 s\\right)^{2}\\right)^{5} - 640 \\left(- 16 s^{2} + 16 s - 4 \\left(- 4 s^{2} + 4 s\\right)^{2}\\right)^{4} + 560 \\left(- 16 s^{2} + 16 s - 4 \\left(- 4 s^{2} + 4 s\\right)^{2}\\right)^{3} - 200 \\left(- 16 s^{2} + 16 s - 4 \\left(- 4 s^{2} + 4 s\\right)^{2}\\right)^{2}$ = $- 274877906944 s^{20} + 2748779069440 s^{19} - 12713103196160 s^{18} + 36077725286400 s^{17} - 70276402380800 s^{16} + 99591701659648 s^{15} - 106182328975360 s^{14} + 86876450979840 s^{13} - 55146184704000 s^{12} + 27276607488000 s^{11} - 10501493882880 s^{10} + 3127404134400 s^{9} - 712042905600 s^{8} + 121716736000 s^{7} - 15214592000 s^{6} + 1338884096 s^{5} - 78450240 s^{4} + 2808960 s^{3} - 53200 s^{2} + 400 s$"
      ],
      "text/plain": [
       "<IPython.core.display.Markdown object>"
      ]
     },
     "metadata": {},
     "output_type": "display_data"
    },
    {
     "data": {
      "text/markdown": [
       "${S}_{21}$= $784 s^{3} - 1176 s^{2} + 441 s + 4096 \\left(16 s^{3} - 24 s^{2} + 9 s\\right)^{7} - 14336 \\left(16 s^{3} - 24 s^{2} + 9 s\\right)^{6} + 19712 \\left(16 s^{3} - 24 s^{2} + 9 s\\right)^{5} - 13440 \\left(16 s^{3} - 24 s^{2} + 9 s\\right)^{4} + 4704 \\left(16 s^{3} - 24 s^{2} + 9 s\\right)^{3} - 784 \\left(16 s^{3} - 24 s^{2} + 9 s\\right)^{2}$ = $1099511627776 s^{21} - 11544872091648 s^{20} + 56281251446784 s^{19} - 169084272508928 s^{18} + 350404906844160 s^{17} - 531289601998848 s^{16} + 609999172665344 s^{15} - 541529877774336 s^{14} + 376283628306432 s^{13} - 205879089561600 s^{12} + 88785357373440 s^{11} - 30072459755520 s^{10} + 7935787991040 s^{9} - 1610312417280 s^{8} + 246476390400 s^{7} - 27690557440 s^{6} + 2196606720 s^{5} - 116290944 s^{4} + 3768688 s^{3} - 64680 s^{2} + 441 s$"
      ],
      "text/plain": [
       "<IPython.core.display.Markdown object>"
      ]
     },
     "metadata": {},
     "output_type": "display_data"
    },
    {
     "data": {
      "text/markdown": [
       "${S}_{22}$= $- 484 s^{2} + 484 s + 1048576 \\left(- 4 s^{2} + 4 s\\right)^{11} - 5767168 \\left(- 4 s^{2} + 4 s\\right)^{10} + 13697024 \\left(- 4 s^{2} + 4 s\\right)^{9} - 18382848 \\left(- 4 s^{2} + 4 s\\right)^{8} + 15319040 \\left(- 4 s^{2} + 4 s\\right)^{7} - 8200192 \\left(- 4 s^{2} + 4 s\\right)^{6} + 2818816 \\left(- 4 s^{2} + 4 s\\right)^{5} - 604032 \\left(- 4 s^{2} + 4 s\\right)^{4} + 75504 \\left(- 4 s^{2} + 4 s\\right)^{3} - 4840 \\left(- 4 s^{2} + 4 s\\right)^{2}$ = $- 4398046511104 s^{22} + 48378511622144 s^{21} - 247939872063488 s^{20} + 786150813859840 s^{19} - 1727075069198336 s^{18} + 2789890496397312 s^{17} - 3432299492278272 s^{16} + 3286526154768384 s^{15} - 2482011939799040 s^{14} + 1489207163879424 s^{13} - 711753423912960 s^{12} + 270583946280960 s^{11} - 81386577592320 s^{10} + 19185421516800 s^{9} - 3494487490560 s^{8} + 481998274560 s^{7} - 48952949760 s^{6} + 3519493120 s^{5} - 169206400 s^{4} + 4987136 s^{3} - 77924 s^{2} + 484 s$"
      ],
      "text/plain": [
       "<IPython.core.display.Markdown object>"
      ]
     },
     "metadata": {},
     "output_type": "display_data"
    },
    {
     "data": {
      "text/markdown": [
       "${S}_{23}$= $17592186044416 s^{23} - 202310139510784 s^{22} + 1087416999870464 s^{21} - 3628938127474688 s^{20} + 8424320653066240 s^{19} - 14444627851476992 s^{18} + 18958574055063552 s^{17} - 19479414001631232 s^{16} + 15891100896067584 s^{15} - 10379322657341440 s^{14} + 5449144395104256 s^{13} - 2299963543388160 s^{12} + 777928845557760 s^{11} - 209442381496320 s^{10} + 44413005004800 s^{9} - 7306655662080 s^{8} + 913331957760 s^{7} - 84293314560 s^{6} + 5519205120 s^{5} - 242070400 s^{4} + 6517280 s^{3} - 93104 s^{2} + 529 s$ = $17592186044416 s^{23} - 202310139510784 s^{22} + 1087416999870464 s^{21} - 3628938127474688 s^{20} + 8424320653066240 s^{19} - 14444627851476992 s^{18} + 18958574055063552 s^{17} - 19479414001631232 s^{16} + 15891100896067584 s^{15} - 10379322657341440 s^{14} + 5449144395104256 s^{13} - 2299963543388160 s^{12} + 777928845557760 s^{11} - 209442381496320 s^{10} + 44413005004800 s^{9} - 7306655662080 s^{8} + 913331957760 s^{7} - 84293314560 s^{6} + 5519205120 s^{5} - 242070400 s^{4} + 6517280 s^{3} - 93104 s^{2} + 529 s$"
      ],
      "text/plain": [
       "<IPython.core.display.Markdown object>"
      ]
     },
     "metadata": {},
     "output_type": "display_data"
    },
    {
     "data": {
      "text/markdown": [
       "${S}_{24}$= $- 576 s^{2} + 576 s - 144 \\left(- 4 s^{2} + 4 s\\right)^{2} - 36 \\left(- 16 s^{2} + 16 s - 4 \\left(- 4 s^{2} + 4 s\\right)^{2}\\right)^{2} + 16 \\left(- 64 s^{2} + 64 s - 16 \\left(- 4 s^{2} + 4 s\\right)^{2} - 4 \\left(- 16 s^{2} + 16 s - 4 \\left(- 4 s^{2} + 4 s\\right)^{2}\\right)^{2}\\right)^{3} - 24 \\left(- 64 s^{2} + 64 s - 16 \\left(- 4 s^{2} + 4 s\\right)^{2} - 4 \\left(- 16 s^{2} + 16 s - 4 \\left(- 4 s^{2} + 4 s\\right)^{2}\\right)^{2}\\right)^{2}$ = $- 70368744177664 s^{24} + 844424930131968 s^{23} - 4749890231992320 s^{22} + 16642207998017536 s^{21} - 40707218995150848 s^{20} + 73841001898180608 s^{19} - 102996476854009856 s^{18} + 113044913620254720 s^{17} - 99090932095254528 s^{16} + 70012966266732544 s^{15} - 40073210955300864 s^{14} + 18608935799881728 s^{13} - 6999889045094400 s^{12} + 2123043270819840 s^{11} - 515150205419520 s^{10} + 98867211141120 s^{9} - 14772151664640 s^{8} + 1681838899200 s^{7} - 141710499840 s^{6} + 8487198720 s^{5} - 341003520 s^{4} + 8419840 s^{3} - 110400 s^{2} + 576 s$"
      ],
      "text/plain": [
       "<IPython.core.display.Markdown object>"
      ]
     },
     "metadata": {},
     "output_type": "display_data"
    },
    {
     "data": {
      "text/markdown": [
       "${S}_{25}$= $6400 s^{5} - 16000 s^{4} + 14000 s^{3} - 5000 s^{2} + 625 s + 256 \\left(256 s^{5} - 640 s^{4} + 560 s^{3} - 200 s^{2} + 25 s\\right)^{5} - 640 \\left(256 s^{5} - 640 s^{4} + 560 s^{3} - 200 s^{2} + 25 s\\right)^{4} + 560 \\left(256 s^{5} - 640 s^{4} + 560 s^{3} - 200 s^{2} + 25 s\\right)^{3} - 200 \\left(256 s^{5} - 640 s^{4} + 560 s^{3} - 200 s^{2} + 25 s\\right)^{2}$ = $281474976710656 s^{25} - 3518437208883200 s^{24} + 20670818602188800 s^{23} - 75866302316544000 s^{22} + 195025874976768000 s^{21} - 373149507455549440 s^{20} + 551243590559334400 s^{19} - 643727980337561600 s^{18} + 603494981566464000 s^{17} - 458754315255808000 s^{16} + 284427675458600960 s^{15} - 144202842452787200 s^{14} + 59768283385036800 s^{13} - 20191987630080000 s^{12} + 5528758517760000 s^{11} - 1216326873907200 s^{10} + 212410023936000 s^{9} - 28965003264000 s^{8} + 3017187840000 s^{7} - 233076480000 s^{6} + 12819206400 s^{5} - 473616000 s^{4} + 10764000 s^{3} - 130000 s^{2} + 625 s$"
      ],
      "text/plain": [
       "<IPython.core.display.Markdown object>"
      ]
     },
     "metadata": {},
     "output_type": "display_data"
    },
    {
     "data": {
      "text/markdown": [
       "${S}_{26}$= $- 676 s^{2} + 676 s + 16777216 \\left(- 4 s^{2} + 4 s\\right)^{13} - 109051904 \\left(- 4 s^{2} + 4 s\\right)^{12} + 313524224 \\left(- 4 s^{2} + 4 s\\right)^{11} - 524812288 \\left(- 4 s^{2} + 4 s\\right)^{10} + 566558720 \\left(- 4 s^{2} + 4 s\\right)^{9} - 412778496 \\left(- 4 s^{2} + 4 s\\right)^{8} + 206389248 \\left(- 4 s^{2} + 4 s\\right)^{7} - 70606848 \\left(- 4 s^{2} + 4 s\\right)^{6} + 16180736 \\left(- 4 s^{2} + 4 s\\right)^{5} - 2379520 \\left(- 4 s^{2} + 4 s\\right)^{4} + 208208 \\left(- 4 s^{2} + 4 s\\right)^{3} - 9464 \\left(- 4 s^{2} + 4 s\\right)^{2}$ = $- 1125899906842624 s^{26} + 14636698788954112 s^{25} - 89649780082343936 s^{24} + 343962421540421632 s^{23} - 927086214308167680 s^{22} + 1866007571777716224 s^{21} - 2910566158153285632 s^{20} + 3603558100570734592 s^{19} - 3598439410086969344 s^{18} + 2928962310535905280 s^{17} - 1956128400250765312 s^{16} + 1075653754461618176 s^{15} - 487405607490420736 s^{14} + 181695581490511872 s^{13} - 55499120286105600 s^{12} + 13799781260328960 s^{11} - 2767143638138880 s^{10} + 441812849786880 s^{9} - 55226606223360 s^{8} + 5284842700800 s^{7} - 375719285760 s^{6} + 19045678080 s^{5} - 649284480 s^{4} + 13628160 s^{3} - 152100 s^{2} + 676 s$"
      ],
      "text/plain": [
       "<IPython.core.display.Markdown object>"
      ]
     },
     "metadata": {},
     "output_type": "display_data"
    },
    {
     "data": {
      "text/markdown": [
       "${S}_{27}$= $1296 s^{3} - 1944 s^{2} + 729 s + 144 \\left(16 s^{3} - 24 s^{2} + 9 s\\right)^{3} - 216 \\left(16 s^{3} - 24 s^{2} + 9 s\\right)^{2} + 16 \\left(144 s^{3} - 216 s^{2} + 81 s + 16 \\left(16 s^{3} - 24 s^{2} + 9 s\\right)^{3} - 24 \\left(16 s^{3} - 24 s^{2} + 9 s\\right)^{2}\\right)^{3} - 24 \\left(144 s^{3} - 216 s^{2} + 81 s + 16 \\left(16 s^{3} - 24 s^{2} + 9 s\\right)^{3} - 24 \\left(16 s^{3} - 24 s^{2} + 9 s\\right)^{2}\\right)^{2}$ = $4503599627370496 s^{27} - 60798594969501696 s^{26} + 387591042930573312 s^{25} - 1551630809117491200 s^{24} + 4375598881711325184 s^{23} - 9242336413410656256 s^{22} + 15179253901191806976 s^{21} - 19862215211133960192 s^{20} + 21049630250930012160 s^{19} - 18269000081979998208 s^{18} + 13078943240508407808 s^{17} - 7756117503092195328 s^{16} + 3816502263426318336 s^{15} - 1557390698490101760 s^{14} + 525619360740409344 s^{13} - 146005377983447040 s^{12} + 33139378555453440 s^{11} - 6085211801518080 s^{10} + 892122100531200 s^{9} - 102627579985920 s^{8} + 9055374704640 s^{7} - 594544803840 s^{6} + 27869287680 s^{5} - 879465600 s^{4} + 17100720 s^{3} - 176904 s^{2} + 729 s$"
      ],
      "text/plain": [
       "<IPython.core.display.Markdown object>"
      ]
     },
     "metadata": {},
     "output_type": "display_data"
    },
    {
     "data": {
      "text/markdown": [
       "${S}_{28}$= $- 784 s^{2} + 784 s - 196 \\left(- 4 s^{2} + 4 s\\right)^{2} + 4096 \\left(- 16 s^{2} + 16 s - 4 \\left(- 4 s^{2} + 4 s\\right)^{2}\\right)^{7} - 14336 \\left(- 16 s^{2} + 16 s - 4 \\left(- 4 s^{2} + 4 s\\right)^{2}\\right)^{6} + 19712 \\left(- 16 s^{2} + 16 s - 4 \\left(- 4 s^{2} + 4 s\\right)^{2}\\right)^{5} - 13440 \\left(- 16 s^{2} + 16 s - 4 \\left(- 4 s^{2} + 4 s\\right)^{2}\\right)^{4} + 4704 \\left(- 16 s^{2} + 16 s - 4 \\left(- 4 s^{2} + 4 s\\right)^{2}\\right)^{3} - 784 \\left(- 16 s^{2} + 16 s - 4 \\left(- 4 s^{2} + 4 s\\right)^{2}\\right)^{2}$ = $- 18014398509481984 s^{28} + 252201579132747776 s^{27} - 1670835461754454016 s^{26} + 6967068623542157312 s^{25} - 20516007364997939200 s^{24} + 45376580995524853760 s^{23} - 78274602217280372736 s^{22} + 107941361075141738496 s^{21} - 121012385267834683392 s^{20} + 111571702729209282560 s^{19} - 85255333715906658304 s^{18} + 54253394182849691648 s^{17} - 28822115659638898688 s^{16} + 12786913566351425536 s^{15} - 4729853232451420160 s^{14} + 1453564651924094976 s^{13} - 369069149902602240 s^{12} + 76819823056650240 s^{11} - 12971768367022080 s^{10} + 1752941671219200 s^{9} - 186250052567040 s^{8} + 15204085923840 s^{7} - 924847472640 s^{6} + 40210759680 s^{5} - 1178049600 s^{4} + 21280896 s^{3} - 204624 s^{2} + 784 s$"
      ],
      "text/plain": [
       "<IPython.core.display.Markdown object>"
      ]
     },
     "metadata": {},
     "output_type": "display_data"
    },
    {
     "data": {
      "text/markdown": [
       "${S}_{29}$= $72057594037927936 s^{29} - 1044835113549955072 s^{28} + 7183241405655941120 s^{27} - 31149146822708035584 s^{26} + 95610575664145498112 s^{25} - 220986707902977802240 s^{24} + 399475971978459873280 s^{23} - 579072312321717043200 s^{22} + 684753009320430403584 s^{21} - 668449366241372536832 s^{20} + 543115110071115186176 s^{19} - 369255244081232084992 s^{18} + 210716307763746570240 s^{17} - 101035768081591304192 s^{16} + 40676737799082213376 s^{15} - 13716574374109118464 s^{14} + 3857786542718189568 s^{13} - 899412214048358400 s^{12} + 172387341025935360 s^{11} - 26870091617402880 s^{10} + 3358761452175360 s^{9} - 330688868843520 s^{8} + 25052187033600 s^{7} - 1415993180160 s^{6} + 57264430080 s^{5} - 1561757184 s^{4} + 26279568 s^{3} - 235480 s^{2} + 841 s$ = $72057594037927936 s^{29} - 1044835113549955072 s^{28} + 7183241405655941120 s^{27} - 31149146822708035584 s^{26} + 95610575664145498112 s^{25} - 220986707902977802240 s^{24} + 399475971978459873280 s^{23} - 579072312321717043200 s^{22} + 684753009320430403584 s^{21} - 668449366241372536832 s^{20} + 543115110071115186176 s^{19} - 369255244081232084992 s^{18} + 210716307763746570240 s^{17} - 101035768081591304192 s^{16} + 40676737799082213376 s^{15} - 13716574374109118464 s^{14} + 3857786542718189568 s^{13} - 899412214048358400 s^{12} + 172387341025935360 s^{11} - 26870091617402880 s^{10} + 3358761452175360 s^{9} - 330688868843520 s^{8} + 25052187033600 s^{7} - 1415993180160 s^{6} + 57264430080 s^{5} - 1561757184 s^{4} + 26279568 s^{3} - 235480 s^{2} + 841 s$"
      ],
      "text/plain": [
       "<IPython.core.display.Markdown object>"
      ]
     },
     "metadata": {},
     "output_type": "display_data"
    },
    {
     "data": {
      "text/markdown": [
       "${S}_{30}$= $- 900 s^{2} + 900 s + 400 \\left(- 4 s^{2} + 4 s\\right)^{3} - 600 \\left(- 4 s^{2} + 4 s\\right)^{2} + 256 \\left(- 36 s^{2} + 36 s + 16 \\left(- 4 s^{2} + 4 s\\right)^{3} - 24 \\left(- 4 s^{2} + 4 s\\right)^{2}\\right)^{5} - 640 \\left(- 36 s^{2} + 36 s + 16 \\left(- 4 s^{2} + 4 s\\right)^{3} - 24 \\left(- 4 s^{2} + 4 s\\right)^{2}\\right)^{4} + 560 \\left(- 36 s^{2} + 36 s + 16 \\left(- 4 s^{2} + 4 s\\right)^{3} - 24 \\left(- 4 s^{2} + 4 s\\right)^{2}\\right)^{3} - 200 \\left(- 36 s^{2} + 36 s + 16 \\left(- 4 s^{2} + 4 s\\right)^{3} - 24 \\left(- 4 s^{2} + 4 s\\right)^{2}\\right)^{2}$ = $- 288230376151711744 s^{30} + 4323455642275676160 s^{29} - 30804621451214192640 s^{28} + 138710868523011276800 s^{27} - 443069760840243609600 s^{26} + 1068200914316660047872 s^{25} - 2019361296354797158400 s^{24} + 3069864612248263065600 s^{23} - 3818882059707875328000 s^{22} + 3935362122531209216000 s^{21} - 3388346787499371134976 s^{20} + 2451679493737949429760 s^{19} - 1496120385501543792640 s^{18} + 771322293671008665600 s^{17} - 335956371699872563200 s^{16} + 123432859528249475072 s^{15} - 38134441686639575040 s^{14} + 9859657289705717760 s^{13} - 2119304642297856000 s^{12} + 375435225464832000 s^{11} - 54203460676485120 s^{10} + 6287336708505600 s^{9} - 575336433254400 s^{8} + 40564260864000 s^{7} - 2136196608000 s^{6} + 80565129216 s^{5} - 2050583040 s^{4} + 32220160 s^{3} - 269700 s^{2} + 900 s$"
      ],
      "text/plain": [
       "<IPython.core.display.Markdown object>"
      ]
     },
     "metadata": {},
     "output_type": "display_data"
    },
    {
     "data": {
      "text/markdown": [
       "${S}_{31}$= $1152921504606846976 s^{31} - 17870283321406128128 s^{30} + 131793339495370194944 s^{29} - 615407881880923537408 s^{28} + 2042517539001341050880 s^{27} - 5127794032124419375104 s^{26} + 10118236438388363231232 s^{25} - 16097194333799668776960 s^{24} + 21015781491349567569920 s^{23} - 22800140297218870476800 s^{22} + 20739358385739472568320 s^{21} - 15914962183709167452160 s^{20} + 10344725419410958843904 s^{19} - 5708274701605890162688 s^{18} + 2675753766377761013760 s^{17} - 1064608413431151722496 s^{16} + 358726748003975036928 s^{15} - 101990938157992902656 s^{14} + 24338746605884669952 s^{13} - 4840937972406681600 s^{12} + 795296952609669120 s^{11} - 106686176569589760 s^{10} + 11517257697853440 s^{9} - 982241041121280 s^{8} + 64621121126400 s^{7} - 3178660552704 s^{6} + 112068160512 s^{5} - 2668289536 s^{4} + 39239552 s^{3} - 307520 s^{2} + 961 s$ = $1152921504606846976 s^{31} - 17870283321406128128 s^{30} + 131793339495370194944 s^{29} - 615407881880923537408 s^{28} + 2042517539001341050880 s^{27} - 5127794032124419375104 s^{26} + 10118236438388363231232 s^{25} - 16097194333799668776960 s^{24} + 21015781491349567569920 s^{23} - 22800140297218870476800 s^{22} + 20739358385739472568320 s^{21} - 15914962183709167452160 s^{20} + 10344725419410958843904 s^{19} - 5708274701605890162688 s^{18} + 2675753766377761013760 s^{17} - 1064608413431151722496 s^{16} + 358726748003975036928 s^{15} - 101990938157992902656 s^{14} + 24338746605884669952 s^{13} - 4840937972406681600 s^{12} + 795296952609669120 s^{11} - 106686176569589760 s^{10} + 11517257697853440 s^{9} - 982241041121280 s^{8} + 64621121126400 s^{7} - 3178660552704 s^{6} + 112068160512 s^{5} - 2668289536 s^{4} + 39239552 s^{3} - 307520 s^{2} + 961 s$"
      ],
      "text/plain": [
       "<IPython.core.display.Markdown object>"
      ]
     },
     "metadata": {},
     "output_type": "display_data"
    },
    {
     "data": {
      "text/markdown": [
       "${S}_{32}$= $- 1024 s^{2} + 1024 s - 256 \\left(- 4 s^{2} + 4 s\\right)^{2} - 64 \\left(- 16 s^{2} + 16 s - 4 \\left(- 4 s^{2} + 4 s\\right)^{2}\\right)^{2} - 16 \\left(- 64 s^{2} + 64 s - 16 \\left(- 4 s^{2} + 4 s\\right)^{2} - 4 \\left(- 16 s^{2} + 16 s - 4 \\left(- 4 s^{2} + 4 s\\right)^{2}\\right)^{2}\\right)^{2} - 4 \\left(- 256 s^{2} + 256 s - 64 \\left(- 4 s^{2} + 4 s\\right)^{2} - 16 \\left(- 16 s^{2} + 16 s - 4 \\left(- 4 s^{2} + 4 s\\right)^{2}\\right)^{2} - 4 \\left(- 64 s^{2} + 64 s - 16 \\left(- 4 s^{2} + 4 s\\right)^{2} - 4 \\left(- 16 s^{2} + 16 s - 4 \\left(- 4 s^{2} + 4 s\\right)^{2}\\right)^{2}\\right)^{2}\\right)^{2}$ = $- 4611686018427387904 s^{32} + 73786976294838206464 s^{31} - 562625694248141324288 s^{30} + 2720894750872158863360 s^{29} - 9370081298315997085696 s^{28} + 24457500337977348325376 s^{27} - 50285464056962048065536 s^{26} + 83557049297658741522432 s^{25} - 114238153336642810675200 s^{24} + 130162259559326353981440 s^{23} - 124738832077687755898880 s^{22} + 101203203383784405729280 s^{21} - 69820479257562799144960 s^{20} + 41070870151507528908800 s^{19} - 20623444083221280587776 s^{18} + 8838618892809120251904 s^{17} - 3228167447178331029504 s^{16} + 1001984389111672209408 s^{15} - 263202421052884910080 s^{14} + 58181587811690348544 s^{13} - 10743759112954183680 s^{12} + 1641903386032865280 s^{11} - 205237923254108160 s^{10} + 20676142851686400 s^{9} - 1647630133493760 s^{8} + 101392623599616 s^{7} - 4669397139456 s^{6} + 154244349952 s^{5} - 3442954240 s^{4} + 47489024 s^{3} - 349184 s^{2} + 1024 s$"
      ],
      "text/plain": [
       "<IPython.core.display.Markdown object>"
      ]
     },
     "metadata": {},
     "output_type": "display_data"
    },
    {
     "data": {
      "text/markdown": [
       "${S}_{33}$= $1936 s^{3} - 2904 s^{2} + 1089 s + 1048576 \\left(16 s^{3} - 24 s^{2} + 9 s\\right)^{11} - 5767168 \\left(16 s^{3} - 24 s^{2} + 9 s\\right)^{10} + 13697024 \\left(16 s^{3} - 24 s^{2} + 9 s\\right)^{9} - 18382848 \\left(16 s^{3} - 24 s^{2} + 9 s\\right)^{8} + 15319040 \\left(16 s^{3} - 24 s^{2} + 9 s\\right)^{7} - 8200192 \\left(16 s^{3} - 24 s^{2} + 9 s\\right)^{6} + 2818816 \\left(16 s^{3} - 24 s^{2} + 9 s\\right)^{5} - 604032 \\left(16 s^{3} - 24 s^{2} + 9 s\\right)^{4} + 75504 \\left(16 s^{3} - 24 s^{2} + 9 s\\right)^{3} - 4840 \\left(16 s^{3} - 24 s^{2} + 9 s\\right)^{2}$ = $18446744073709551616 s^{33} - 304371277216207601664 s^{32} + 2396923808077634863104 s^{31} - 11990960108663511973888 s^{30} + 42790321355512935874560 s^{29} - 115954756066660463935488 s^{28} + 248014339364801547862016 s^{27} - 429671331272434642845696 s^{26} + 613948475503500362514432 s^{25} - 733028150576791368499200 s^{24} + 738264065938054163988480 s^{23} - 631490337393294264238080 s^{22} + 460948965412080535470080 s^{21} - 288009476937446546472960 s^{20} + 154290791216489221324800 s^{19} - 70893089036073152020480 s^{18} + 27914153807953803608064 s^{17} - 9399664037372199174144 s^{16} + 2698051714430909022208 s^{15} - 657140255194538311680 s^{14} + 134999465469312761856 s^{13} - 23214193797633146880 s^{12} + 3309461512472494080 s^{11} - 386494241345372160 s^{10} + 36425548539494400 s^{9} - 2718589720264704 s^{8} + 156841714630656 s^{7} - 6777111126016 s^{6} + 210192356352 s^{5} - 4407575040 s^{4} + 57135232 s^{3} - 394944 s^{2} + 1089 s$"
      ],
      "text/plain": [
       "<IPython.core.display.Markdown object>"
      ]
     },
     "metadata": {},
     "output_type": "display_data"
    },
    {
     "data": {
      "text/markdown": [
       "${S}_{34}$= $- 1156 s^{2} + 1156 s + 4294967296 \\left(- 4 s^{2} + 4 s\\right)^{17} - 36507222016 \\left(- 4 s^{2} + 4 s\\right)^{16} + 141465485312 \\left(- 4 s^{2} + 4 s\\right)^{15} - 330846699520 \\left(- 4 s^{2} + 4 s\\right)^{14} + 521083551744 \\left(- 4 s^{2} + 4 s\\right)^{13} - 583972945920 \\left(- 4 s^{2} + 4 s\\right)^{12} + 479692062720 \\left(- 4 s^{2} + 4 s\\right)^{11} - 293145149440 \\left(- 4 s^{2} + 4 s\\right)^{10} + 133888409600 \\left(- 4 s^{2} + 4 s\\right)^{9} - 45522059264 \\left(- 4 s^{2} + 4 s\\right)^{8} + 11380514816 \\left(- 4 s^{2} + 4 s\\right)^{7} - 2046693376 \\left(- 4 s^{2} + 4 s\\right)^{6} + 255836672 \\left(- 4 s^{2} + 4 s\\right)^{5} - 21085440 \\left(- 4 s^{2} + 4 s\\right)^{4} + 1054272 \\left(- 4 s^{2} + 4 s\\right)^{3} - 27744 \\left(- 4 s^{2} + 4 s\\right)^{2}$ = $- 73786976294838206464 s^{34} + 1254378597012249509888 s^{33} - 10191826100724527267840 s^{32} + 52683901074514479415296 s^{31} - 194580579945130626121728 s^{30} + 546678772226795568627712 s^{29} - 1214596788294211122233344 s^{28} + 2190256503481364318781440 s^{27} - 3264851100501908687683584 s^{26} + 4076452504016507457503232 s^{25} - 4304874411569156582277120 s^{24} + 3872327221889959030947840 s^{23} - 2982037704357222914457600 s^{22} + 1972732635190162851102720 s^{21} - 1123361639483287179100160 s^{20} + 551083068425763521822720 s^{19} - 232819349220740237885440 s^{18} + 84588344872587283660800 s^{17} - 26363367485289703407616 s^{16} + 7022680060528299081728 s^{15} - 1591075951213442760704 s^{14} + 304674118317467762688 s^{13} - 48922474532202086400 s^{12} + 6522996604293611520 s^{11} - 713452753594613760 s^{10} + 63049313108361216 s^{9} - 4416916165558272 s^{8} + 239399250165760 s^{7} - 9725594537984 s^{6} + 283770662912 s^{5} - 5600736768 s^{4} + 68361216 s^{3} - 445060 s^{2} + 1156 s$"
      ],
      "text/plain": [
       "<IPython.core.display.Markdown object>"
      ]
     },
     "metadata": {},
     "output_type": "display_data"
    },
    {
     "data": {
      "text/markdown": [
       "${S}_{35}$= $12544 s^{5} - 31360 s^{4} + 27440 s^{3} - 9800 s^{2} + 1225 s + 4096 \\left(256 s^{5} - 640 s^{4} + 560 s^{3} - 200 s^{2} + 25 s\\right)^{7} - 14336 \\left(256 s^{5} - 640 s^{4} + 560 s^{3} - 200 s^{2} + 25 s\\right)^{6} + 19712 \\left(256 s^{5} - 640 s^{4} + 560 s^{3} - 200 s^{2} + 25 s\\right)^{5} - 13440 \\left(256 s^{5} - 640 s^{4} + 560 s^{3} - 200 s^{2} + 25 s\\right)^{4} + 4704 \\left(256 s^{5} - 640 s^{4} + 560 s^{3} - 200 s^{2} + 25 s\\right)^{3} - 784 \\left(256 s^{5} - 640 s^{4} + 560 s^{3} - 200 s^{2} + 25 s\\right)^{2}$ = $295147905179352825856 s^{35} - 5165088340638674452480 s^{34} + 43257614852848898539520 s^{33} - 230814885222290764595200 s^{32} + 881293198121473828454400 s^{31} - 2563885288688780014780416 s^{30} + 5908954376274922690314240 s^{29} - 11074264834447219055656960 s^{28} + 17191903069605561840435200 s^{27} - 22405840885797412562534400 s^{26} + 24758454178806140881600512 s^{25} - 23366029560121357919846400 s^{24} + 18934541195270755555737600 s^{23} - 13223515612081802969088000 s^{22} + 7977962862901393883136000 s^{21} - 4163046075732181899018240 s^{20} + 1879152742517998773862400 s^{19} - 733098988895756458393600 s^{18} + 246716005878379577344000 s^{17} - 71417791175320403968000 s^{16} + 17711612211479460184064 s^{15} - 3743708120502218260480 s^{14} + 670038669294431109120 s^{13} - 100722741683945472000 s^{12} + 12590342710493184000 s^{11} - 1292608518277300224 s^{10} + 107340742339461120 s^{9} - 7072839611514880 s^{8} + 360859163852800 s^{7} - 13809160601600 s^{6} + 379751916544 s^{5} - 7067343360 s^{4} + 81367440 s^{3} - 499800 s^{2} + 1225 s$"
      ],
      "text/plain": [
       "<IPython.core.display.Markdown object>"
      ]
     },
     "metadata": {},
     "output_type": "display_data"
    },
    {
     "data": {
      "text/markdown": [
       "${S}_{36}$= $- 1296 s^{2} + 1296 s - 324 \\left(- 4 s^{2} + 4 s\\right)^{2} + 144 \\left(- 16 s^{2} + 16 s - 4 \\left(- 4 s^{2} + 4 s\\right)^{2}\\right)^{3} - 216 \\left(- 16 s^{2} + 16 s - 4 \\left(- 4 s^{2} + 4 s\\right)^{2}\\right)^{2} + 16 \\left(- 144 s^{2} + 144 s - 36 \\left(- 4 s^{2} + 4 s\\right)^{2} + 16 \\left(- 16 s^{2} + 16 s - 4 \\left(- 4 s^{2} + 4 s\\right)^{2}\\right)^{3} - 24 \\left(- 16 s^{2} + 16 s - 4 \\left(- 4 s^{2} + 4 s\\right)^{2}\\right)^{2}\\right)^{3} - 24 \\left(- 144 s^{2} + 144 s - 36 \\left(- 4 s^{2} + 4 s\\right)^{2} + 16 \\left(- 16 s^{2} + 16 s - 4 \\left(- 4 s^{2} + 4 s\\right)^{2}\\right)^{3} - 24 \\left(- 16 s^{2} + 16 s - 4 \\left(- 4 s^{2} + 4 s\\right)^{2}\\right)^{2}\\right)^{2}$ = $- 1180591620717411303424 s^{36} + 21250649172913403461632 s^{35} - 183286849116378104856576 s^{34} + 1008520391997848605949952 s^{33} - 3976610736829752315740160 s^{32} + 11965443649923553236615168 s^{31} - 28569007502532120164696064 s^{30} + 55568289318111926034628608 s^{29} - 89701545159022474350821376 s^{28} + 121816913178919409612226560 s^{27} - 140580647386317479963787264 s^{26} + 138904574094081205985083392 s^{25} - 118165349489756581480366080 s^{24} + 86890817616978763956879360 s^{23} - 55376844971411958556262400 s^{22} + 30635377393541352511242240 s^{21} - 14719341482053071714385920 s^{20} + 6139618372193259859476480 s^{19} - 2220242652084290988277760 s^{18} + 694514831585453486899200 s^{17} - 187318663711268945264640 s^{16} + 43375376844439494328320 s^{15} - 8576494966968718196736 s^{14} + 1438294187007176343552 s^{13} - 202884379677661593600 s^{12} + 23828122889801957376 s^{11} - 2301127252317831168 s^{10} + 179923530016620544 s^{9} - 11172199712882688 s^{8} + 537555719946240 s^{7} - 19411734331392 s^{6} + 504002543616 s^{5} - 8859419712 s^{4} + 96372864 s^{3} - 559440 s^{2} + 1296 s$"
      ],
      "text/plain": [
       "<IPython.core.display.Markdown object>"
      ]
     },
     "metadata": {},
     "output_type": "display_data"
    },
    {
     "data": {
      "text/markdown": [
       "${S}_{37}$= $4722366482869645213696 s^{37} - 87363779933088436453376 s^{36} + 775353546906159873523712 s^{35} - 4395490177883511959060480 s^{34} + 17880226116461857576321024 s^{33} - 55584181188131426813345792 s^{32} + 137325624111854113303560192 s^{31} - 276847286988823164453126144 s^{30} + 464033804896038826782228480 s^{29} - 655596478199275368094892032 s^{28} + 788764512833503177239166976 s^{27} - 814373750263162371305373696 s^{26} + 725712091968382597010030592 s^{25} - 560527939887306860868403200 s^{24} + 376354473924334606583070720 s^{23} - 220071683904907524188405760 s^{22} + 112170157852393597996892160 s^{21} - 49834110377147000967659520 s^{20} + 19281054610205684898201600 s^{19} - 6485445641614639465758720 s^{18} + 1891588312137603177512960 s^{17} - 476721043624975463874560 s^{16} + 103345121345274401259520 s^{15} - 19162458561463923507200 s^{14} + 3018087223430567952384 s^{13} - 400358509230585544704 s^{12} + 44270412078382055424 s^{11} - 4029340106424844288 s^{10} + 297195116545310720 s^{9} - 17421782694035456 s^{8} + 791899213365248 s^{7} - 27030318235648 s^{6} + 663690849536 s^{5} - 11036987520 s^{4} + 113616048 s^{3} - 624264 s^{2} + 1369 s$ = $4722366482869645213696 s^{37} - 87363779933088436453376 s^{36} + 775353546906159873523712 s^{35} - 4395490177883511959060480 s^{34} + 17880226116461857576321024 s^{33} - 55584181188131426813345792 s^{32} + 137325624111854113303560192 s^{31} - 276847286988823164453126144 s^{30} + 464033804896038826782228480 s^{29} - 655596478199275368094892032 s^{28} + 788764512833503177239166976 s^{27} - 814373750263162371305373696 s^{26} + 725712091968382597010030592 s^{25} - 560527939887306860868403200 s^{24} + 376354473924334606583070720 s^{23} - 220071683904907524188405760 s^{22} + 112170157852393597996892160 s^{21} - 49834110377147000967659520 s^{20} + 19281054610205684898201600 s^{19} - 6485445641614639465758720 s^{18} + 1891588312137603177512960 s^{17} - 476721043624975463874560 s^{16} + 103345121345274401259520 s^{15} - 19162458561463923507200 s^{14} + 3018087223430567952384 s^{13} - 400358509230585544704 s^{12} + 44270412078382055424 s^{11} - 4029340106424844288 s^{10} + 297195116545310720 s^{9} - 17421782694035456 s^{8} + 791899213365248 s^{7} - 27030318235648 s^{6} + 663690849536 s^{5} - 11036987520 s^{4} + 113616048 s^{3} - 624264 s^{2} + 1369 s$"
      ],
      "text/plain": [
       "<IPython.core.display.Markdown object>"
      ]
     },
     "metadata": {},
     "output_type": "display_data"
    },
    {
     "data": {
      "text/markdown": [
       "${S}_{38}$= $- 1444 s^{2} + 1444 s + 68719476736 \\left(- 4 s^{2} + 4 s\\right)^{19} - 652835028992 \\left(- 4 s^{2} + 4 s\\right)^{18} + 2856153251840 \\left(- 4 s^{2} + 4 s\\right)^{17} - 7630009401344 \\left(- 4 s^{2} + 4 s\\right)^{16} + 13913546555392 \\left(- 4 s^{2} + 4 s\\right)^{15} - 18340584095744 \\left(- 4 s^{2} + 4 s\\right)^{14} + 18054012469248 \\left(- 4 s^{2} + 4 s\\right)^{13} - 13519709798400 \\left(- 4 s^{2} + 4 s\\right)^{12} + 7773833134080 \\left(- 4 s^{2} + 4 s\\right)^{11} - 3440144547840 \\left(- 4 s^{2} + 4 s\\right)^{10} + 1167191900160 \\left(- 4 s^{2} + 4 s\\right)^{9} - 300640337920 \\left(- 4 s^{2} + 4 s\\right)^{8} + 57815449600 \\left(- 4 s^{2} + 4 s\\right)^{7} - 8094162944 \\left(- 4 s^{2} + 4 s\\right)^{6} + 794962432 \\left(- 4 s^{2} + 4 s\\right)^{5} - 51845376 \\left(- 4 s^{2} + 4 s\\right)^{4} + 2062032 \\left(- 4 s^{2} + 4 s\\right)^{3} - 43320 \\left(- 4 s^{2} + 4 s\\right)^{2}$ = $- 18889465931478580854784 s^{38} + 358899852698093036240896 s^{37} - 3274961155870098955698176 s^{36} + 19111417156173454179827712 s^{35} - 80128597972498076118548480 s^{34} + 257088656593451573800075264 s^{33} - 656494248086849554525192192 s^{32} + 1370074952529077331183009792 s^{31} - 2381260786059269515870470144 s^{30} + 3494885233271067199909396480 s^{29} - 4376549462573540970795630592 s^{28} + 4713207113540736430087602176 s^{27} - 4391015221013537650687082496 s^{26} + 3554631369391911431508590592 s^{25} - 2508308425982195566588723200 s^{24} + 1546104865851320545962885120 s^{23} - 833447154247977481808117760 s^{22} + 393041379819833847353180160 s^{21} - 162073097713063669813739520 s^{20} + 58364273414676667799961600 s^{19} - 18317001879695400653291520 s^{18} + 4995545967189654723624960 s^{17} - 1179503908919779587522560 s^{16} + 239964700091965002219520 s^{15} - 41820771049681400627200 s^{14} + 6199314296776301740032 s^{13} - 774914287097037717504 s^{12} + 80830061692661530624 s^{11} - 6946333426713100288 s^{10} + 484153833850142720 s^{9} - 26838962528649216 s^{8} + 1154363979726848 s^{7} - 37303665538048 s^{6} + 867527105536 s^{5} - 13669019520 s^{4} + 133356288 s^{3} - 694564 s^{2} + 1444 s$"
      ],
      "text/plain": [
       "<IPython.core.display.Markdown object>"
      ]
     },
     "metadata": {},
     "output_type": "display_data"
    },
    {
     "data": {
      "text/markdown": [
       "${S}_{39}$= $2704 s^{3} - 4056 s^{2} + 1521 s + 16777216 \\left(16 s^{3} - 24 s^{2} + 9 s\\right)^{13} - 109051904 \\left(16 s^{3} - 24 s^{2} + 9 s\\right)^{12} + 313524224 \\left(16 s^{3} - 24 s^{2} + 9 s\\right)^{11} - 524812288 \\left(16 s^{3} - 24 s^{2} + 9 s\\right)^{10} + 566558720 \\left(16 s^{3} - 24 s^{2} + 9 s\\right)^{9} - 412778496 \\left(16 s^{3} - 24 s^{2} + 9 s\\right)^{8} + 206389248 \\left(16 s^{3} - 24 s^{2} + 9 s\\right)^{7} - 70606848 \\left(16 s^{3} - 24 s^{2} + 9 s\\right)^{6} + 16180736 \\left(16 s^{3} - 24 s^{2} + 9 s\\right)^{5} - 2379520 \\left(16 s^{3} - 24 s^{2} + 9 s\\right)^{4} + 208208 \\left(16 s^{3} - 24 s^{2} + 9 s\\right)^{3} - 9464 \\left(16 s^{3} - 24 s^{2} + 9 s\\right)^{2}$ = $75557863725914323419136 s^{39} - 1473378342655329306673152 s^{38} + 13812921962393712250060800 s^{37} - 82908227156500926194253824 s^{36} + 357961872655433052960325632 s^{35} - 1184216332140918935478337536 s^{34} + 3122274079417839508124598272 s^{33} - 6737704125101877006969077760 s^{32} + 12127867425183378612544339968 s^{31} - 18465215218213984666925400064 s^{30} + 24031934511940259456219086848 s^{29} - 26950330901110752293846777856 s^{28} + 26201710598302120285684367360 s^{27} - 22186182169331558656103153664 s^{26} + 16416784350744222532362043392 s^{25} - 10640508375482366456160583680 s^{24} + 6049643874770216412575170560 s^{23} - 3018988143870382828840550400 s^{22} + 1322204992639528775964426240 s^{21} - 507769178707687009859665920 s^{20} + 170715499737929253314887680 s^{19} - 50130741986534780735324160 s^{18} + 12817519257920824619827200 s^{17} - 2842145574582443720048640 s^{16} + 543867363037381205688320 s^{15} - 89276340725004084707328 s^{14} + 12480198518510186397696 s^{13} - 1472790311734136012800 s^{12} + 145175045013793406976 s^{11} - 11799942082401927168 s^{10} + 778468401269571584 s^{9} - 40873598282170368 s^{8} + 1666043408240640 s^{7} - 51047121262592 s^{6} + 1126039439616 s^{5} - 16834476672 s^{4} + 155874784 s^{3} - 770640 s^{2} + 1521 s$"
      ],
      "text/plain": [
       "<IPython.core.display.Markdown object>"
      ]
     },
     "metadata": {},
     "output_type": "display_data"
    },
    {
     "data": {
      "text/markdown": [
       "${S}_{40}$= $- 1600 s^{2} + 1600 s - 400 \\left(- 4 s^{2} + 4 s\\right)^{2} - 100 \\left(- 16 s^{2} + 16 s - 4 \\left(- 4 s^{2} + 4 s\\right)^{2}\\right)^{2} + 256 \\left(- 64 s^{2} + 64 s - 16 \\left(- 4 s^{2} + 4 s\\right)^{2} - 4 \\left(- 16 s^{2} + 16 s - 4 \\left(- 4 s^{2} + 4 s\\right)^{2}\\right)^{2}\\right)^{5} - 640 \\left(- 64 s^{2} + 64 s - 16 \\left(- 4 s^{2} + 4 s\\right)^{2} - 4 \\left(- 16 s^{2} + 16 s - 4 \\left(- 4 s^{2} + 4 s\\right)^{2}\\right)^{2}\\right)^{4} + 560 \\left(- 64 s^{2} + 64 s - 16 \\left(- 4 s^{2} + 4 s\\right)^{2} - 4 \\left(- 16 s^{2} + 16 s - 4 \\left(- 4 s^{2} + 4 s\\right)^{2}\\right)^{2}\\right)^{3} - 200 \\left(- 64 s^{2} + 64 s - 16 \\left(- 4 s^{2} + 4 s\\right)^{2} - 4 \\left(- 16 s^{2} + 16 s - 4 \\left(- 4 s^{2} + 4 s\\right)^{2}\\right)^{2}\\right)^{2}$ = $- 302231454903657293676544 s^{40} + 6044629098073145873530880 s^{39} - 58179555068954029032734720 s^{38} + 358899852698093036240896000 s^{37} - 1594388983778863965274112000 s^{36} + 5433677656718368393654173696 s^{35} - 14777400383980697827336519680 s^{34} + 32938276002649735470325432320 s^{33} - 61330383702850418909590323200 s^{32} + 96746520770693618561607270400 s^{31} - 130676907698129737642856677376 s^{30} + 152370307395052460887915888640 s^{29} - 154330954732856444759635394560 s^{28} + 136434942760389738765693747200 s^{27} - 105648486520626469790967398400 s^{26} + 71840970834025999457857830912 s^{25} - 42971283824063402996033126400 s^{24} + 22629135459170643594549657600 s^{23} - 10493349104050903279730688000 s^{22} + 4282445320289971744014336000 s^{21} - 1536327258654027363165143040 s^{20} + 483589694007320961771110400 s^{19} - 133214559125057459296665600 s^{18} + 32008074846981769396224000 s^{17} - 6680256692394632675328000 s^{16} + 1204875388882813747986432 s^{15} - 186652704474367514378240 s^{14} + 24652243987180615106560 s^{13} - 2751366516426407936000 s^{12} + 256719796664532992000 s^{11} - 19767424343169040384 s^{10} + 1236277361817681920 s^{9} - 61572407668654080 s^{8} + 2381911321804800 s^{7} - 69294734745600 s^{6} + 1451889680384 s^{5} - 20623432960 s^{4} + 181475840 s^{3} - 852800 s^{2} + 1600 s$"
      ],
      "text/plain": [
       "<IPython.core.display.Markdown object>"
      ]
     },
     "metadata": {},
     "output_type": "display_data"
    },
    {
     "data": {
      "text/markdown": [
       "${S}_{41}$= $1208925819614629174706176 s^{41} - 24782979302099898081476608 s^{40} + 244731920608236493554581504 s^{39} - 1550485142587624873722380288 s^{38} + 7081542718549248221328179200 s^{37} - 24840580367274700578970664960 s^{36} + 69618994976704095043694100480 s^{35} - 160123688446419418600496431104 s^{34} + 308075812737283307070887559168 s^{33} - 502909146363373435058640650240 s^{32} + 704072804908722809082096910336 s^{31} - 852369829758255334170451509248 s^{30} + 898032499209590441358154268672 s^{29} - 827451349606161092288199000064 s^{28} + 669262121004983236409572720640 s^{27} - 476474674208025378757262966784 s^{26} + 299150292613561388367486124032 s^{25} - 165818601109327013914104299520 s^{24} + 81182023459774683895446896640 s^{23} - 35097491345391310706678169600 s^{22} + 13387994682556524164724817920 s^{21} - 4499244114629651563555061760 s^{20} + 1329322124776942507413995520 s^{19} - 344330675651507215442903040 s^{18} + 77919657205621244873932800 s^{17} - 15337869365738076622553088 s^{16} + 2612494232625716347797504 s^{15} - 382638044172453404475392 s^{14} + 47829755521556675559424 s^{13} - 5056821907776811827200 s^{12} + 447334245687948738560 s^{11} - 32680016051206881280 s^{10} + 1940375953040408576 s^{9} - 91798862342356992 s^{8} + 3374958174351360 s^{7} - 93349906950144 s^{6} + 1860233652992 s^{5} - 25138292608 s^{4} + 210488096 s^{3} - 941360 s^{2} + 1681 s$ = $1208925819614629174706176 s^{41} - 24782979302099898081476608 s^{40} + 244731920608236493554581504 s^{39} - 1550485142587624873722380288 s^{38} + 7081542718549248221328179200 s^{37} - 24840580367274700578970664960 s^{36} + 69618994976704095043694100480 s^{35} - 160123688446419418600496431104 s^{34} + 308075812737283307070887559168 s^{33} - 502909146363373435058640650240 s^{32} + 704072804908722809082096910336 s^{31} - 852369829758255334170451509248 s^{30} + 898032499209590441358154268672 s^{29} - 827451349606161092288199000064 s^{28} + 669262121004983236409572720640 s^{27} - 476474674208025378757262966784 s^{26} + 299150292613561388367486124032 s^{25} - 165818601109327013914104299520 s^{24} + 81182023459774683895446896640 s^{23} - 35097491345391310706678169600 s^{22} + 13387994682556524164724817920 s^{21} - 4499244114629651563555061760 s^{20} + 1329322124776942507413995520 s^{19} - 344330675651507215442903040 s^{18} + 77919657205621244873932800 s^{17} - 15337869365738076622553088 s^{16} + 2612494232625716347797504 s^{15} - 382638044172453404475392 s^{14} + 47829755521556675559424 s^{13} - 5056821907776811827200 s^{12} + 447334245687948738560 s^{11} - 32680016051206881280 s^{10} + 1940375953040408576 s^{9} - 91798862342356992 s^{8} + 3374958174351360 s^{7} - 93349906950144 s^{6} + 1860233652992 s^{5} - 25138292608 s^{4} + 210488096 s^{3} - 941360 s^{2} + 1681 s$"
      ],
      "text/plain": [
       "<IPython.core.display.Markdown object>"
      ]
     },
     "metadata": {},
     "output_type": "display_data"
    },
    {
     "data": {
      "text/markdown": [
       "${S}_{42}$= $- 1764 s^{2} + 1764 s + 784 \\left(- 4 s^{2} + 4 s\\right)^{3} - 1176 \\left(- 4 s^{2} + 4 s\\right)^{2} + 4096 \\left(- 36 s^{2} + 36 s + 16 \\left(- 4 s^{2} + 4 s\\right)^{3} - 24 \\left(- 4 s^{2} + 4 s\\right)^{2}\\right)^{7} - 14336 \\left(- 36 s^{2} + 36 s + 16 \\left(- 4 s^{2} + 4 s\\right)^{3} - 24 \\left(- 4 s^{2} + 4 s\\right)^{2}\\right)^{6} + 19712 \\left(- 36 s^{2} + 36 s + 16 \\left(- 4 s^{2} + 4 s\\right)^{3} - 24 \\left(- 4 s^{2} + 4 s\\right)^{2}\\right)^{5} - 13440 \\left(- 36 s^{2} + 36 s + 16 \\left(- 4 s^{2} + 4 s\\right)^{3} - 24 \\left(- 4 s^{2} + 4 s\\right)^{2}\\right)^{4} + 4704 \\left(- 36 s^{2} + 36 s + 16 \\left(- 4 s^{2} + 4 s\\right)^{3} - 24 \\left(- 4 s^{2} + 4 s\\right)^{2}\\right)^{3} - 784 \\left(- 36 s^{2} + 36 s + 16 \\left(- 4 s^{2} + 4 s\\right)^{3} - 24 \\left(- 4 s^{2} + 4 s\\right)^{2}\\right)^{2}$ = $- 4835703278458516698824704 s^{42} + 101549768847628850675318784 s^{41} - 1028191409582242113087602688 s^{40} + 6685359782468899336125153280 s^{39} - 31368961604303288603724742656 s^{38} + 113166507053499205722298122240 s^{37} - 326562751657586917367443619840 s^{36} + 774299066082367496095719751680 s^{35} - 1537773227457991367657206579200 s^{34} + 2594849934925410618906012286976 s^{33} - 3760779128658787687536078618624 s^{32} + 4720878408079773336284392587264 s^{31} - 5166192748656742696130663415808 s^{30} + 4953500089448772790981188648960 s^{29} - 4177620228499398685455053488128 s^{28} + 3107987996081678249082503561216 s^{27} - 2043902032349669841193503031296 s^{26} + 1189734018830404832933531615232 s^{25} - 613394012233689360413963059200 s^{24} + 280124876841943967023056814080 s^{23} - 113253612316957814792524922880 s^{22} + 40490520503341682839655546880 s^{21} - 12779449469713045793600962560 s^{20} + 3552377258152592914828492800 s^{19} - 867125421000441951084871680 s^{18} + 185182717027213026841853952 s^{17} - 34445458969584385960968192 s^{16} + 5550665253058432565510144 s^{15} - 769942405956765996810240 s^{14} + 91234554687039983321088 s^{13} - 9151614281879010672640 s^{12} + 768668758916192010240 s^{11} - 53354111571406356480 s^{10} + 3011669993632563200 s^{9} - 135525149713465344 s^{8} + 4741404654698496 s^{7} - 124846013766656 s^{6} + 2369130796032 s^{5} - 30495104640 s^{4} + 243265792 s^{3} - 1036644 s^{2} + 1764 s$"
      ],
      "text/plain": [
       "<IPython.core.display.Markdown object>"
      ]
     },
     "metadata": {},
     "output_type": "display_data"
    },
    {
     "data": {
      "text/markdown": [
       "${S}_{43}$= $19342813113834066795298816 s^{43} - 415870481947432436098924544 s^{42} + 4314656250204611524526342144 s^{41} - 28773038969737981672594341888 s^{40} + 138601834061542716593594695680 s^{39} - 513853466280015775222919593984 s^{38} + 1525502478018796832693042544640 s^{37} - 3725481187277369118538795581440 s^{36} + 7630072047019996367776571719680 s^{35} - 13294822506171205792337965875200 s^{34} + 19924740571748688680885451489280 s^{33} - 25902162743273295285151086936064 s^{32} + 29402455005877794648009341927424 s^{31} - 29294016025350321222015629918208 s^{30} + 25719448593685549882424436981760 s^{29} - 19959741091719349274951922221056 s^{28} + 13722322000557052626529446526976 s^{27} - 8370265465812933635363869556736 s^{26} + 4533893793982005719155429343232 s^{25} - 2181468930725827575006049075200 s^{24} + 932082179491944509320766423040 s^{23} - 353371815301891050236993863680 s^{22} + 118710844202979024688990126080 s^{21} - 35269163857406811682960834560 s^{20} + 9243934075530011126582476800 s^{19} - 2130651034458228794094256128 s^{18} + 430227612727142352653647872 s^{17} - 75755709585664425561423872 s^{16} + 11568605897318212770463744 s^{15} - 1522184986489238522429440 s^{14} + 171245810980039333773312 s^{13} - 16321081691645977559040 s^{12} + 1303419718430060707840 s^{11} - 86074887066136084480 s^{10} + 4625064633078579200 s^{9} - 198217055703367680 s^{8} + 6607235190112256 s^{7} - 165818643767296 s^{6} + 3000008357632 s^{5} - 36824979840 s^{4} + 280190064 s^{3} - 1138984 s^{2} + 1849 s$ = $19342813113834066795298816 s^{43} - 415870481947432436098924544 s^{42} + 4314656250204611524526342144 s^{41} - 28773038969737981672594341888 s^{40} + 138601834061542716593594695680 s^{39} - 513853466280015775222919593984 s^{38} + 1525502478018796832693042544640 s^{37} - 3725481187277369118538795581440 s^{36} + 7630072047019996367776571719680 s^{35} - 13294822506171205792337965875200 s^{34} + 19924740571748688680885451489280 s^{33} - 25902162743273295285151086936064 s^{32} + 29402455005877794648009341927424 s^{31} - 29294016025350321222015629918208 s^{30} + 25719448593685549882424436981760 s^{29} - 19959741091719349274951922221056 s^{28} + 13722322000557052626529446526976 s^{27} - 8370265465812933635363869556736 s^{26} + 4533893793982005719155429343232 s^{25} - 2181468930725827575006049075200 s^{24} + 932082179491944509320766423040 s^{23} - 353371815301891050236993863680 s^{22} + 118710844202979024688990126080 s^{21} - 35269163857406811682960834560 s^{20} + 9243934075530011126582476800 s^{19} - 2130651034458228794094256128 s^{18} + 430227612727142352653647872 s^{17} - 75755709585664425561423872 s^{16} + 11568605897318212770463744 s^{15} - 1522184986489238522429440 s^{14} + 171245810980039333773312 s^{13} - 16321081691645977559040 s^{12} + 1303419718430060707840 s^{11} - 86074887066136084480 s^{10} + 4625064633078579200 s^{9} - 198217055703367680 s^{8} + 6607235190112256 s^{7} - 165818643767296 s^{6} + 3000008357632 s^{5} - 36824979840 s^{4} + 280190064 s^{3} - 1138984 s^{2} + 1849 s$"
      ],
      "text/plain": [
       "<IPython.core.display.Markdown object>"
      ]
     },
     "metadata": {},
     "output_type": "display_data"
    },
    {
     "data": {
      "text/markdown": [
       "${S}_{44}$= $- 1936 s^{2} + 1936 s - 484 \\left(- 4 s^{2} + 4 s\\right)^{2} + 1048576 \\left(- 16 s^{2} + 16 s - 4 \\left(- 4 s^{2} + 4 s\\right)^{2}\\right)^{11} - 5767168 \\left(- 16 s^{2} + 16 s - 4 \\left(- 4 s^{2} + 4 s\\right)^{2}\\right)^{10} + 13697024 \\left(- 16 s^{2} + 16 s - 4 \\left(- 4 s^{2} + 4 s\\right)^{2}\\right)^{9} - 18382848 \\left(- 16 s^{2} + 16 s - 4 \\left(- 4 s^{2} + 4 s\\right)^{2}\\right)^{8} + 15319040 \\left(- 16 s^{2} + 16 s - 4 \\left(- 4 s^{2} + 4 s\\right)^{2}\\right)^{7} - 8200192 \\left(- 16 s^{2} + 16 s - 4 \\left(- 4 s^{2} + 4 s\\right)^{2}\\right)^{6} + 2818816 \\left(- 16 s^{2} + 16 s - 4 \\left(- 4 s^{2} + 4 s\\right)^{2}\\right)^{5} - 604032 \\left(- 16 s^{2} + 16 s - 4 \\left(- 4 s^{2} + 4 s\\right)^{2}\\right)^{4} + 75504 \\left(- 16 s^{2} + 16 s - 4 \\left(- 4 s^{2} + 4 s\\right)^{2}\\right)^{3} - 4840 \\left(- 16 s^{2} + 16 s - 4 \\left(- 4 s^{2} + 4 s\\right)^{2}\\right)^{2}$ = $- 77371252455336267181195264 s^{44} + 1702167554017397877986295808 s^{43} - 18085530261434852453604392960 s^{42} + 123619918610513520888754733056 s^{41} - 610925222776064587606479863808 s^{40} + 2325932173460679634742742614016 s^{39} - 7098347883030915592614284623872 s^{38} + 17839763198093570933818969292800 s^{37} - 37644687810977136790816434421760 s^{36} + 67665135052642448408809287188480 s^{35} - 104750834071879174940560531128320 s^{34} + 140863282181665147883469238435840 s^{33} - 165653366381398981474803462963200 s^{32} + 171260095705077100847796810940416 s^{31} - 156299633676786099277598344347648 s^{30} + 126324361464799724073675374198784 s^{29} - 90631149957167510370566577061888 s^{28} + 57817717868284161545431867719680 s^{27} - 32832204075204220306155953455104 s^{26} + 16603929292036916905401523372032 s^{25} - 7477872567185743826881200783360 s^{24} + 2997526743349509252566451486720 s^{23} - 1068333395098740384437423308800 s^{22} + 338007823332243613270168043520 s^{21} - 94734614547220622078650613760 s^{20} + 23458095030740344514713485312 s^{19} - 5115087098824585047718232064 s^{18} + 978295346769729380711137280 s^{17} - 163340383791017316243734528 s^{16} + 23675286487534947065135104 s^{15} - 2959410810941868383141888 s^{14} + 316541394039622594461696 s^{13} - 28704227975133187276800 s^{12} + 2182470226208473743360 s^{11} - 137295921093180129280 s^{10} + 7031327495338065920 s^{9} - 287337902453719040 s^{8} + 9136340300595200 s^{7} - 218791307198464 s^{6} + 3778185838592 s^{5} - 44275615296 s^{4} + 321670272 s^{3} - 1248720 s^{2} + 1936 s$"
      ],
      "text/plain": [
       "<IPython.core.display.Markdown object>"
      ]
     },
     "metadata": {},
     "output_type": "display_data"
    },
    {
     "data": {
      "text/markdown": [
       "${S}_{45}$= $3600 s^{3} - 5400 s^{2} + 2025 s + 400 \\left(16 s^{3} - 24 s^{2} + 9 s\\right)^{3} - 600 \\left(16 s^{3} - 24 s^{2} + 9 s\\right)^{2} + 256 \\left(144 s^{3} - 216 s^{2} + 81 s + 16 \\left(16 s^{3} - 24 s^{2} + 9 s\\right)^{3} - 24 \\left(16 s^{3} - 24 s^{2} + 9 s\\right)^{2}\\right)^{5} - 640 \\left(144 s^{3} - 216 s^{2} + 81 s + 16 \\left(16 s^{3} - 24 s^{2} + 9 s\\right)^{3} - 24 \\left(16 s^{3} - 24 s^{2} + 9 s\\right)^{2}\\right)^{4} + 560 \\left(144 s^{3} - 216 s^{2} + 81 s + 16 \\left(16 s^{3} - 24 s^{2} + 9 s\\right)^{3} - 24 \\left(16 s^{3} - 24 s^{2} + 9 s\\right)^{2}\\right)^{3} - 200 \\left(144 s^{3} - 216 s^{2} + 81 s + 16 \\left(16 s^{3} - 24 s^{2} + 9 s\\right)^{3} - 24 \\left(16 s^{3} - 24 s^{2} + 9 s\\right)^{2}\\right)^{2}$ = $309485009821345068724781056 s^{45} - 6963412720980264046307573760 s^{44} + 75727113340660371503594864640 s^{43} - 530234864482976356026128793600 s^{42} + 2686626072075080780678902579200 s^{41} - 10496806100425109732511335841792 s^{40} + 32906654044983478923349029027840 s^{39} - 85041895092156099145281526824960 s^{38} + 184732775162076892198210633728000 s^{37} - 342224434645246698098331222016000 s^{36} + 546703534345781600212084127170560 s^{35} - 759659974364247735622660050124800 s^{34} + 924415289317177532985266877235200 s^{33} - 990444952839833071055643082752000 s^{32} + 938316271111420804157977657344000 s^{31} - 788602697187420773627882555572224 s^{30} + 589453874164583939747192619663360 s^{29} - 392573430295752317647908702781440 s^{28} + 233241930036828151688958102732800 s^{27} - 123709859852743174598554130841600 s^{26} + 58585455058834803399172420534272 s^{25} - 24764383177043697089022158438400 s^{24} + 9336304887602035533561829785600 s^{23} - 3135326268224564171718524928000 s^{22} + 936243260650390690165948416000 s^{21} - 248032445359995810533194334208 s^{20} + 58132604381249018093717422080 s^{19} - 12012704550269858824186757120 s^{18} + 2179724615976385673743564800 s^{17} - 345626203946509995186585600 s^{16} + 47619610321519154892374016 s^{15} - 5662802211552988621701120 s^{14} + 576653888999738604257280 s^{13} - 49817255163454291968000 s^{12} + 3610704418359607296000 s^{11} - 216642265101576437760 s^{10} + 10586941967412428800 s^{9} - 413004110406451200 s^{8} + 12540610639872000 s^{7} - 286876713984000 s^{6} + 4733465780736 s^{5} - 53012931840 s^{4} + 368145360 s^{3} - 1366200 s^{2} + 2025 s$"
      ],
      "text/plain": [
       "<IPython.core.display.Markdown object>"
      ]
     },
     "metadata": {},
     "output_type": "display_data"
    },
    {
     "data": {
      "text/markdown": [
       "${S}_{46}$= $- 2116 s^{2} + 2116 s + 17592186044416 \\left(- 4 s^{2} + 4 s\\right)^{23} - 202310139510784 \\left(- 4 s^{2} + 4 s\\right)^{22} + 1087416999870464 \\left(- 4 s^{2} + 4 s\\right)^{21} - 3628938127474688 \\left(- 4 s^{2} + 4 s\\right)^{20} + 8424320653066240 \\left(- 4 s^{2} + 4 s\\right)^{19} - 14444627851476992 \\left(- 4 s^{2} + 4 s\\right)^{18} + 18958574055063552 \\left(- 4 s^{2} + 4 s\\right)^{17} - 19479414001631232 \\left(- 4 s^{2} + 4 s\\right)^{16} + 15891100896067584 \\left(- 4 s^{2} + 4 s\\right)^{15} - 10379322657341440 \\left(- 4 s^{2} + 4 s\\right)^{14} + 5449144395104256 \\left(- 4 s^{2} + 4 s\\right)^{13} - 2299963543388160 \\left(- 4 s^{2} + 4 s\\right)^{12} + 777928845557760 \\left(- 4 s^{2} + 4 s\\right)^{11} - 209442381496320 \\left(- 4 s^{2} + 4 s\\right)^{10} + 44413005004800 \\left(- 4 s^{2} + 4 s\\right)^{9} - 7306655662080 \\left(- 4 s^{2} + 4 s\\right)^{8} + 913331957760 \\left(- 4 s^{2} + 4 s\\right)^{7} - 84293314560 \\left(- 4 s^{2} + 4 s\\right)^{6} + 5519205120 \\left(- 4 s^{2} + 4 s\\right)^{5} - 242070400 \\left(- 4 s^{2} + 4 s\\right)^{4} + 6517280 \\left(- 4 s^{2} + 4 s\\right)^{3} - 93104 \\left(- 4 s^{2} + 4 s\\right)^{2}$ = $- 1237940039285380274899124224 s^{46} + 28472620903563746322679857152 s^{45} - 316757907552146677839813410816 s^{44} + 2270691517059208769233718607872 s^{43} - 11788888487004840982314263511040 s^{42} + 47236856627240086970514393792512 s^{41} - 152009303158008070570812307931136 s^{40} + 403654956285130674793081422741504 s^{39} - 901916542949588851490791303938048 s^{38} + 1720523525707047005855927186227200 s^{37} - 2833618318862642660254182518292480 s^{36} + 4064381831095911694505999167651840 s^{35} - 5112230271925326428245827078062080 s^{34} + 5669747107812022202309636847042560 s^{33} - 5568501623743950377268393331916800 s^{32} + 4859783235267447601979688726036480 s^{31} - 3778721257356391206966937245450240 s^{30} + 2622877108047377426012344676253696 s^{29} - 1627483430781649731681083239432192 s^{28} + 903505581616344840226700861112320 s^{27} - 448929335865621342487641990365184 s^{26} + 199624513533807478249031951450112 s^{25} - 79396113337309792485410435235840 s^{24} + 28216388104752818501431307796480 s^{23} - 8947292183951950719663420211200 s^{22} + 2526608479408521009194506125312 s^{21} - 633860693697767071362607742976 s^{20} + 140857931932837126969468387328 s^{19} - 27629220465620675295629541376 s^{18} + 4763658700969081947522334720 s^{17} - 718390465388079293698932736 s^{16} + 94215143001715317206417408 s^{15} - 10672809168163063277289472 s^{14} + 1036035404613671781924864 s^{13} - 85373100025213825843200 s^{12} + 5905507670917046599680 s^{11} - 338336376979622461440 s^{10} + 15794572881112596480 s^{9} - 588832760918671360 s^{8} + 17092387835084800 s^{7} - 373895983892480 s^{6} + 5900797450240 s^{5} - 63222829824 s^{4} + 420085248 s^{3} - 1491780 s^{2} + 2116 s$"
      ],
      "text/plain": [
       "<IPython.core.display.Markdown object>"
      ]
     },
     "metadata": {},
     "output_type": "display_data"
    },
    {
     "data": {
      "text/markdown": [
       "${S}_{47}$= $4951760157141521099596496896 s^{47} - 116366363692825745840517677056 s^{46} + 1323667387005892858935888576512 s^{45} - 9709318470620148168568193679360 s^{44} + 51621209868797121096220896395264 s^{43} - 211994968618487053490659973398528 s^{42} + 699824299814437375443599116730368 s^{41} - 1908141625356113730581438970986496 s^{40} + 4382069430323633276625979032207360 s^{39} - 8600885293635209627260009825959936 s^{38} + 14590787551702587760530373811896320 s^{37} - 21582539527463685400434030485176320 s^{36} + 28030981215547347501783222520381440 s^{35} - 32143789000734493930107541494169600 s^{34} + 32689085421282668380707580144517120 s^{33} - 29585691235717858091399898485227520 s^{32} + 23896135228849039227669148776529920 s^{31} - 17260348249714871344355370640343040 s^{30} + 11166234065056769839001829690572800 s^{29} - 6476415757732926506621061220532224 s^{28} + 3369486576658346898715011580952576 s^{27} - 1572646866013729423372857655689216 s^{26} + 658248025358019323040533223309312 s^{25} - 246893395916587161887523943219200 s^{24} + 82885640057711404347954466652160 s^{23} - 24865692017313421304386339995648 s^{22} + 6652416472957719613673494806528 s^{21} - 1583120669766886840069894701056 s^{20} + 334100141346907937027737518080 s^{19} - 62300371184847819557161664512 s^{18} + 10221154647514095396096835584 s^{17} - 1468015298836509861036949504 s^{16} + 183501912354563732629618688 s^{15} - 19826957743227825060577280 s^{14} + 1836909320328460262965248 s^{13} - 144550975570641546117120 s^{12} + 9553656431392975749120 s^{11} - 523208780382118871040 s^{10} + 23357534838487449600 s^{9} - 833030962771230720 s^{8} + 23139748965867520 s^{7} - 484518443601920 s^{6} + 7321020439040 s^{5} - 75113068800 s^{4} + 477992256 s^{3} - 1625824 s^{2} + 2209 s$ = $4951760157141521099596496896 s^{47} - 116366363692825745840517677056 s^{46} + 1323667387005892858935888576512 s^{45} - 9709318470620148168568193679360 s^{44} + 51621209868797121096220896395264 s^{43} - 211994968618487053490659973398528 s^{42} + 699824299814437375443599116730368 s^{41} - 1908141625356113730581438970986496 s^{40} + 4382069430323633276625979032207360 s^{39} - 8600885293635209627260009825959936 s^{38} + 14590787551702587760530373811896320 s^{37} - 21582539527463685400434030485176320 s^{36} + 28030981215547347501783222520381440 s^{35} - 32143789000734493930107541494169600 s^{34} + 32689085421282668380707580144517120 s^{33} - 29585691235717858091399898485227520 s^{32} + 23896135228849039227669148776529920 s^{31} - 17260348249714871344355370640343040 s^{30} + 11166234065056769839001829690572800 s^{29} - 6476415757732926506621061220532224 s^{28} + 3369486576658346898715011580952576 s^{27} - 1572646866013729423372857655689216 s^{26} + 658248025358019323040533223309312 s^{25} - 246893395916587161887523943219200 s^{24} + 82885640057711404347954466652160 s^{23} - 24865692017313421304386339995648 s^{22} + 6652416472957719613673494806528 s^{21} - 1583120669766886840069894701056 s^{20} + 334100141346907937027737518080 s^{19} - 62300371184847819557161664512 s^{18} + 10221154647514095396096835584 s^{17} - 1468015298836509861036949504 s^{16} + 183501912354563732629618688 s^{15} - 19826957743227825060577280 s^{14} + 1836909320328460262965248 s^{13} - 144550975570641546117120 s^{12} + 9553656431392975749120 s^{11} - 523208780382118871040 s^{10} + 23357534838487449600 s^{9} - 833030962771230720 s^{8} + 23139748965867520 s^{7} - 484518443601920 s^{6} + 7321020439040 s^{5} - 75113068800 s^{4} + 477992256 s^{3} - 1625824 s^{2} + 2209 s$"
      ],
      "text/plain": [
       "<IPython.core.display.Markdown object>"
      ]
     },
     "metadata": {},
     "output_type": "display_data"
    },
    {
     "data": {
      "text/markdown": [
       "${S}_{48}$= $- 2304 s^{2} + 2304 s - 576 \\left(- 4 s^{2} + 4 s\\right)^{2} - 144 \\left(- 16 s^{2} + 16 s - 4 \\left(- 4 s^{2} + 4 s\\right)^{2}\\right)^{2} - 36 \\left(- 64 s^{2} + 64 s - 16 \\left(- 4 s^{2} + 4 s\\right)^{2} - 4 \\left(- 16 s^{2} + 16 s - 4 \\left(- 4 s^{2} + 4 s\\right)^{2}\\right)^{2}\\right)^{2} + 16 \\left(- 256 s^{2} + 256 s - 64 \\left(- 4 s^{2} + 4 s\\right)^{2} - 16 \\left(- 16 s^{2} + 16 s - 4 \\left(- 4 s^{2} + 4 s\\right)^{2}\\right)^{2} - 4 \\left(- 64 s^{2} + 64 s - 16 \\left(- 4 s^{2} + 4 s\\right)^{2} - 4 \\left(- 16 s^{2} + 16 s - 4 \\left(- 4 s^{2} + 4 s\\right)^{2}\\right)^{2}\\right)^{2}\\right)^{3} - 24 \\left(- 256 s^{2} + 256 s - 64 \\left(- 4 s^{2} + 4 s\\right)^{2} - 16 \\left(- 16 s^{2} + 16 s - 4 \\left(- 4 s^{2} + 4 s\\right)^{2}\\right)^{2} - 4 \\left(- 64 s^{2} + 64 s - 16 \\left(- 4 s^{2} + 4 s\\right)^{2} - 4 \\left(- 16 s^{2} + 16 s - 4 \\left(- 4 s^{2} + 4 s\\right)^{2}\\right)^{2}\\right)^{2}\\right)^{2}$ = $- 19807040628566084398385987584 s^{48} + 475368975085586025561263702016 s^{47} - 5526164335369937547149690535936 s^{46} + 41456136035588814645821872013312 s^{45} - 225586718508876634044180159528960 s^{44} + 948951602694483247385847967776768 s^{43} - 3211498248007718767773402150207488 s^{42} + 8984978244426089586242439723614208 s^{41} - 21192551668848752497095981762871296 s^{40} + 42764025078902974387498915945512960 s^{39} - 74663004251131181445150723595567104 s^{38} + 113791209687552870116940942378270720 s^{37} - 152455385598254118147746768533585920 s^{36} + 180572736602936759029490611849789440 s^{35} - 189931689414674334954799576488345600 s^{34} + 178051188677624746924705117382901760 s^{33} - 149187421763087922716207998744657920 s^{32} + 111973880221290116230780091388395520 s^{31} - 75406911502300430837751122797527040 s^{30} + 45615254052997868278475559587020800 s^{29} - 24803294391317590876421085525442560 s^{28} + 12126055035755266650694752923549696 s^{27} - 5329356497593914796420206214250496 s^{26} + 2104445120848579815382130268045312 s^{25} - 745933238726710148681455317811200 s^{24} + 237017660079923675412022985490432 s^{23} - 67393757742505770343803239006208 s^{22} + 17110707145574465578432062291968 s^{21} - 3868781211223638356888131731456 s^{20} + 776543835500370025314653306880 s^{19} - 137856140494131345403081129984 s^{18} + 21550711789405148288819134464 s^{17} - 2951647781703195358893441024 s^{16} + 352096512680323448295129088 s^{15} - 36328743599606427895726080 s^{14} + 3215987138325814928474112 s^{13} - 241943476841641169387520 s^{12} + 15294640313397380382720 s^{11} - 801511323138565079040 s^{10} + 34252620646947225600 s^{9} - 1169788160487260160 s^{8} + 31125183871057920 s^{7} - 624424985067520 s^{6} + 9041695703040 s^{5} - 88915276800 s^{4} + 542402560 s^{3} - 1768704 s^{2} + 2304 s$"
      ],
      "text/plain": [
       "<IPython.core.display.Markdown object>"
      ]
     },
     "metadata": {},
     "output_type": "display_data"
    },
    {
     "data": {
      "text/markdown": [
       "${S}_{49}$= $200704 s^{7} - 702464 s^{6} + 965888 s^{5} - 658560 s^{4} + 230496 s^{3} - 38416 s^{2} + 2401 s + 4096 \\left(4096 s^{7} - 14336 s^{6} + 19712 s^{5} - 13440 s^{4} + 4704 s^{3} - 784 s^{2} + 49 s\\right)^{7} - 14336 \\left(4096 s^{7} - 14336 s^{6} + 19712 s^{5} - 13440 s^{4} + 4704 s^{3} - 784 s^{2} + 49 s\\right)^{6} + 19712 \\left(4096 s^{7} - 14336 s^{6} + 19712 s^{5} - 13440 s^{4} + 4704 s^{3} - 784 s^{2} + 49 s\\right)^{5} - 13440 \\left(4096 s^{7} - 14336 s^{6} + 19712 s^{5} - 13440 s^{4} + 4704 s^{3} - 784 s^{2} + 49 s\\right)^{4} + 4704 \\left(4096 s^{7} - 14336 s^{6} + 19712 s^{5} - 13440 s^{4} + 4704 s^{3} - 784 s^{2} + 49 s\\right)^{3} - 784 \\left(4096 s^{7} - 14336 s^{6} + 19712 s^{5} - 13440 s^{4} + 4704 s^{3} - 784 s^{2} + 49 s\\right)^{2}$ = $79228162514264337593543950336 s^{49} - 1941089981599476271041826783232 s^{48} + 23050443531493780718621693050880 s^{47} - 176760506449402307931746351448064 s^{46} + 983935478719678272609428493565952 s^{45} - 4237270529325066109463183996485632 s^{44} + 14692274987551044444769083639988224 s^{43} - 42150914505101308827025903221473280 s^{42} + 102040338864432751785425207381983232 s^{41} - 211533062027953288813606188336807936 s^{40} + 379797997732007041278974747241086976 s^{39} - 595889961958838633730805206878257152 s^{38} + 822813174216419625064338585078988800 s^{37} - 1005619178080791587013021953981153280 s^{36} + 1092841249649023510376396307132579840 s^{35} - 1059924344539113163678312081014128640 s^{34} + 920162978986318516333534649599918080 s^{33} - 716684673175618452264136464557670400 s^{32} + 501679271222932916584895525190369280 s^{31} - 316014490966877463445049113302794240 s^{30} + 179277451606209330223633631585239040 s^{29} - 91634393167923321849000121524551680 s^{28} + 42200049485227845588355319123148800 s^{27} - 17503846612568419430996075844993024 s^{26} + 6534375171245980902449548584026112 s^{25} - 2193043721856527837123478634364928 s^{24} + 660724711072159027851304460353536 s^{23} - 178364652049995981696948387184640 s^{22} + 43044122663085764970743156703232 s^{21} - 9260617094681869974964981989376 s^{20} + 1770412091630357495213893615616 s^{19} - 299614756961035464404277133312 s^{18} + 44686860058108982617115197440 s^{17} - 5843666315291174649930448896 s^{16} + 666006087404508875543543808 s^{15} - 65694478009288290444771328 s^{14} + 5562838863689734271533056 s^{13} - 400514539366230314188800 s^{12} + 24241669487956045332480 s^{11} - 1216824348482800189440 s^{10} + 49826859097356042240 s^{9} - 1631046093687521280 s^{8} + 41608318716518400 s^{7} - 800498309345280 s^{6} + 11118032074240 s^{5} - 104887095040 s^{4} + 613887680 s^{3} - 1920800 s^{2} + 2401 s$"
      ],
      "text/plain": [
       "<IPython.core.display.Markdown object>"
      ]
     },
     "metadata": {},
     "output_type": "display_data"
    }
   ],
   "source": [
    "def Spread(n):\n",
    "    s=Symbol('s')\n",
    "    p=0\n",
    "    for k in range(1,n+1):\n",
    "        p += 2 * n * (-4)**(k-1) * binomial(n+k,2*k)/(n+k) * s**k\n",
    "    return  p\n",
    "\n",
    "\n",
    "\n",
    "def CompositeSpread(n):\n",
    "    nfactors = factorint(n)\n",
    "    p = Symbol('s')\n",
    "    for b in sorted(nfactors, reverse=True):\n",
    "        for i in range(nfactors[b]):\n",
    "            p = p.subs(Symbol('s'),Spread(b))\n",
    "    return p\n",
    "\n",
    "for n in range(1,50):\n",
    "    spread = CompositeSpread(n)\n",
    "    display(\n",
    "            Markdown(\n",
    "                    '{}'.format(latex(Indexed('S',n), mode='inline'))+\\\n",
    "                    '= {}'.format(latex(spread, mode='inline'))+\\\n",
    "                    ' = {}'.format(latex(spread.expand(), mode='inline')))\n",
    "            )\n",
    "            "
   ]
  },
  {
   "cell_type": "code",
   "execution_count": null,
   "id": "80236d1b",
   "metadata": {},
   "outputs": [],
   "source": []
  }
 ],
 "metadata": {
  "kernelspec": {
   "display_name": "Python 3 (ipykernel)",
   "language": "python",
   "name": "python3"
  },
  "language_info": {
   "codemirror_mode": {
    "name": "ipython",
    "version": 3
   },
   "file_extension": ".py",
   "mimetype": "text/x-python",
   "name": "python",
   "nbconvert_exporter": "python",
   "pygments_lexer": "ipython3",
   "version": "3.9.7"
  }
 },
 "nbformat": 4,
 "nbformat_minor": 5
}
